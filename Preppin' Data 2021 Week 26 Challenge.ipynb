{
 "cells": [
  {
   "cell_type": "markdown",
   "id": "c97c4e5e",
   "metadata": {},
   "source": [
    "## 2021: Week 26 Rolling Weekly Revenue\n",
    "\n",
    "For any analyst, you are likely to get asked to use some complex calculations. For me, rolling or moving calculations are one that I've always preferred to do in the data preparation step rather than when trying to visualise the data if possible. It's saved me from some mistakes! \n",
    "\n",
    "This week's challenge is looking at creating moving calculations. By this let's use the example below, where on 5th January (yes British date format), if we wanted to understand a rolling week's values, you can include 3 days before the 5th (ie the 2nd, 3rd and 4th) as well as 3 days after the 5th (ie the 6th, 7th and 8th). \n",
    "\n",
    "![img](https://1.bp.blogspot.com/-MoKLMsFheJg/YNGknU47ZfI/AAAAAAAACNg/vnU1FF_3TDMZaulc0jLrkm8iE8zkR1ceACLcBGAsYHQ/s320/Screenshot%2B2021-06-22%2Bat%2B09.51.16.png)\n",
    "\n",
    "Clearly you need to define what your rolling period should include or not. A rolling week could look backwards for 6 days inclusive of the current date or 7 days if you don't use the current date. You could look the same period forward but ultimately you have to articulate what you are covering to your audience. The nature of the data might also influence the decision you are taking. \n",
    "\n",
    "### Challenge\n",
    "\n",
    "Create a rolling weekly total and average for each Prep Air destination and an overall number for all destinations. The rolling week is as detailed above, 3 days before and 3 days after a date as well as that day itself. \n",
    "\n",
    "### Input\n",
    "![img](https://1.bp.blogspot.com/-2VNBiBM-aU4/YNGys3bL8aI/AAAAAAAACNo/_eZm3QyNKWcjA-c644nnWIoe7y6cLWPUQCLcBGAsYHQ/w400-h251/Screenshot%2B2021-06-22%2Bat%2B10.51.33.png)\n",
    "\n",
    "### Requirment\n",
    "- Input data\n",
    "- Create a data set that gives 7 rows per date (unless those dates aren't included in the data set). \n",
    "    - ie 1st Jan only has 4 rows of data (1st, 2nd, 3rd & 4th)\n",
    "- Remove any additional fields you don't need \n",
    "- Create the Rolling Week Total and Rolling Week Average per destination\n",
    "    - Records that have less than 7 days data should remain included in the output\n",
    "- Create the Rolling Week Total and Rolling Week Average for the whole data set\n",
    "- Pull the data together for the previous two requirements\n",
    "- Output the data\n",
    "\n",
    "### Output\n",
    "![img](https://1.bp.blogspot.com/-0-VO01JEnew/YNGy3KFpaSI/AAAAAAAACNs/8cCDJ8226hInO7sbhjVBj2md2eD0LQEbQCLcBGAsYHQ/w400-h169/Screenshot%2B2021-06-22%2Bat%2B10.52.12.png)\n",
    "\n",
    "One table:\n",
    "\n",
    "Four data fields:\n",
    "- Destination\n",
    "- Date\n",
    "- Rolling Week Avg\n",
    "- Rolling Week Total\n",
    "\n",
    "\n",
    "360 rows (361 including headers)"
   ]
  },
  {
   "cell_type": "code",
   "execution_count": 1,
   "id": "08733143",
   "metadata": {},
   "outputs": [],
   "source": [
    "import pandas as pd\n",
    "import numpy as np\n",
    "import matplotlib.pyplot as plt\n",
    "import seaborn as sns"
   ]
  },
  {
   "cell_type": "code",
   "execution_count": 2,
   "id": "f5cddf7a",
   "metadata": {},
   "outputs": [],
   "source": [
    "df = pd.read_csv(\"./data/PD 2021 Wk 26 Input - Sheet1.csv\")"
   ]
  },
  {
   "cell_type": "code",
   "execution_count": 7,
   "id": "a2f765af",
   "metadata": {},
   "outputs": [
    {
     "data": {
      "text/plain": [
       "0      01/01/2021\n",
       "90     01/01/2021\n",
       "180    01/01/2021\n",
       "211    01/02/2021\n",
       "31     01/02/2021\n",
       "          ...    \n",
       "210    31/01/2021\n",
       "120    31/01/2021\n",
       "179    31/03/2021\n",
       "89     31/03/2021\n",
       "269    31/03/2021\n",
       "Name: Date, Length: 270, dtype: object"
      ]
     },
     "execution_count": 7,
     "metadata": {},
     "output_type": "execute_result"
    }
   ],
   "source": [
    "df[\"Date\"].sort_values()"
   ]
  },
  {
   "cell_type": "code",
   "execution_count": null,
   "id": "80ba16e6",
   "metadata": {},
   "outputs": [],
   "source": []
  }
 ],
 "metadata": {
  "kernelspec": {
   "display_name": "Python 3 (ipykernel)",
   "language": "python",
   "name": "python3"
  },
  "language_info": {
   "codemirror_mode": {
    "name": "ipython",
    "version": 3
   },
   "file_extension": ".py",
   "mimetype": "text/x-python",
   "name": "python",
   "nbconvert_exporter": "python",
   "pygments_lexer": "ipython3",
   "version": "3.7.2"
  }
 },
 "nbformat": 4,
 "nbformat_minor": 5
}
