{
 "cells": [
  {
   "cell_type": "code",
   "execution_count": 72,
   "id": "9af96517",
   "metadata": {},
   "outputs": [],
   "source": [
    "import pandas as pd\n",
    "import numpy as np\n",
    "import plotly.graph_objects as go\n",
    "import plotly.subplots as make_subplots\n",
    "import matplotlib.pyplot as plt\n",
    "import seaborn as sns\n",
    "import dash\n",
    "from dash import dcc\n",
    "from dash import html\n",
    "from dash.dependencies import Input, Output, State\n",
    "from dash import Dash, dash_table"
   ]
  },
  {
   "cell_type": "code",
   "execution_count": 73,
   "id": "83944327",
   "metadata": {},
   "outputs": [],
   "source": [
    "data = pd.read_excel(\"./data/InternationalPenalties.xlsx\", sheet_name=[\"WorldCup\", \"Euros\"])\n",
    "output = pd.read_excel(\"./output/Week28_output.xlsx\", sheet_name=[\"Win %\", \"Penalty Position\", \"Score %\"])"
   ]
  },
  {
   "cell_type": "code",
   "execution_count": 74,
   "id": "50d5b6d7",
   "metadata": {},
   "outputs": [],
   "source": [
    "world_cup = data[\"WorldCup\"].copy()\n",
    "euros = data[\"Euros\"].copy()"
   ]
  },
  {
   "cell_type": "markdown",
   "id": "e2deaea7",
   "metadata": {},
   "source": [
    "### Data Preprocessing"
   ]
  },
  {
   "cell_type": "code",
   "execution_count": 75,
   "id": "9e0fa8d4",
   "metadata": {},
   "outputs": [],
   "source": [
    "def find_penalty_type(string):\n",
    "    import re\n",
    "    regex = re.compile(\"scored\")\n",
    "    if string == \"Unknown\":\n",
    "        return np.nan\n",
    "    match_obj = regex.search(string)\n",
    "    if match_obj != None:\n",
    "        return match_obj.group()\n",
    "    else:\n",
    "        return \"missed\""
   ]
  },
  {
   "cell_type": "code",
   "execution_count": 76,
   "id": "fe469fb1",
   "metadata": {},
   "outputs": [],
   "source": [
    "# world cup data\n",
    "world_cup[\"Winning team Taker\"] = world_cup[\"Winning team Taker\"].fillna(\"Unknown\")\n",
    "world_cup[\"Losing team Taker\"] = world_cup[\"Losing team Taker\"].fillna(\"Unknown\")\n",
    "\n",
    "winner_penalty = world_cup[\"Winning team Taker\"].map(lambda x: find_penalty_type(x))\n",
    "loser_penalty = world_cup[\"Losing team Taker\"].map(lambda x: find_penalty_type(x))\n",
    "\n",
    "world_cup[\"Winner Penalty type\"] = winner_penalty\n",
    "world_cup[\"Loser Penalty type\"] = loser_penalty"
   ]
  },
  {
   "cell_type": "code",
   "execution_count": 77,
   "id": "34e778b3",
   "metadata": {},
   "outputs": [
    {
     "data": {
      "text/plain": [
       "scored    120\n",
       "missed     21\n",
       "Name: Winning team Taker, dtype: int64"
      ]
     },
     "execution_count": 77,
     "metadata": {},
     "output_type": "execute_result"
    }
   ],
   "source": [
    "winner_penalty.value_counts()"
   ]
  },
  {
   "cell_type": "code",
   "execution_count": 78,
   "id": "11b11956",
   "metadata": {},
   "outputs": [
    {
     "data": {
      "text/plain": [
       "scored    76\n",
       "missed    62\n",
       "Name: Losing team Taker, dtype: int64"
      ]
     },
     "execution_count": 78,
     "metadata": {},
     "output_type": "execute_result"
    }
   ],
   "source": [
    "loser_penalty.value_counts()"
   ]
  },
  {
   "cell_type": "code",
   "execution_count": 79,
   "id": "05e10947",
   "metadata": {},
   "outputs": [],
   "source": [
    "# euro data\n",
    "euros[\"Winning team Taker\"] = euros[\"Winning team Taker\"].fillna(\"Unknown\")\n",
    "euros[\"Losing team Taker\"] = euros[\"Losing team Taker\"].fillna(\"Unknown\")\n",
    "\n",
    "euros_winner_penalty = euros[\"Winning team Taker\"].map(lambda x: find_penalty_type(x))\n",
    "euros_loser_penalty = euros[\"Losing team Taker\"].map(lambda x: find_penalty_type(x))\n",
    "\n",
    "euros[\"Winner Penalty type\"] = euros_winner_penalty\n",
    "euros[\"Loser Penalty type\"] = euros_loser_penalty"
   ]
  },
  {
   "cell_type": "code",
   "execution_count": 80,
   "id": "c9d72634",
   "metadata": {},
   "outputs": [
    {
     "data": {
      "text/plain": [
       "scored    105\n",
       "missed     14\n",
       "Name: Winning team Taker, dtype: int64"
      ]
     },
     "execution_count": 80,
     "metadata": {},
     "output_type": "execute_result"
    }
   ],
   "source": [
    "euros_winner_penalty.value_counts()"
   ]
  },
  {
   "cell_type": "code",
   "execution_count": 81,
   "id": "51b8866e",
   "metadata": {},
   "outputs": [
    {
     "data": {
      "text/plain": [
       "scored    73\n",
       "missed    40\n",
       "Name: Losing team Taker, dtype: int64"
      ]
     },
     "execution_count": 81,
     "metadata": {},
     "output_type": "execute_result"
    }
   ],
   "source": [
    "euros_loser_penalty.value_counts()"
   ]
  },
  {
   "cell_type": "markdown",
   "id": "ba9d1e5e",
   "metadata": {},
   "source": [
    "#### Clean any fields, correctly format the date the penalty was taken, & group the two German countries (eg, West Germany & Germany)"
   ]
  },
  {
   "cell_type": "code",
   "execution_count": 82,
   "id": "b26a2349",
   "metadata": {},
   "outputs": [
    {
     "name": "stdout",
     "output_type": "stream",
     "text": [
      "<class 'pandas.core.frame.DataFrame'>\n",
      "RangeIndex: 146 entries, 0 to 145\n",
      "Data columns (total 14 columns):\n",
      " #   Column               Non-Null Count  Dtype         \n",
      "---  ------               --------------  -----         \n",
      " 0   No.                  146 non-null    int64         \n",
      " 1   Penalty Number       146 non-null    int64         \n",
      " 2   Event Year           146 non-null    object        \n",
      " 3   Winner               146 non-null    object        \n",
      " 4   Full Time Score      146 non-null    object        \n",
      " 5   Loser                146 non-null    object        \n",
      " 6   Winning Team GK      146 non-null    object        \n",
      " 7   Winning team Taker   146 non-null    object        \n",
      " 8   Losing team Taker    146 non-null    object        \n",
      " 9   Losing Team GK       146 non-null    object        \n",
      " 10  Round                146 non-null    object        \n",
      " 11  Date                 146 non-null    datetime64[ns]\n",
      " 12  Winner Penalty type  141 non-null    object        \n",
      " 13  Loser Penalty type   138 non-null    object        \n",
      "dtypes: datetime64[ns](1), int64(2), object(11)\n",
      "memory usage: 16.1+ KB\n"
     ]
    }
   ],
   "source": [
    "world_cup.info()"
   ]
  },
  {
   "cell_type": "code",
   "execution_count": 83,
   "id": "b27d45d5",
   "metadata": {},
   "outputs": [],
   "source": [
    "# world cup data\n",
    "world_cup[\"Event Year\"] = pd.to_datetime(world_cup[\"Event Year\"].str.replace(\",\", \"\"))\n",
    "world_cup[\"Event Year\"] = world_cup[\"Event Year\"].map(lambda x: x.year)\n",
    "\n",
    "world_cup[\"Winner\"] = world_cup[\"Winner\"].str.strip()\n",
    "world_cup[\"Loser\"] = world_cup[\"Loser\"].str.strip()"
   ]
  },
  {
   "cell_type": "code",
   "execution_count": 84,
   "id": "7c128817",
   "metadata": {},
   "outputs": [
    {
     "data": {
      "text/plain": [
       "(19, 14)"
      ]
     },
     "execution_count": 84,
     "metadata": {},
     "output_type": "execute_result"
    }
   ],
   "source": [
    "world_cup.loc[world_cup[\"Winner\"] == \"West Germany\", \"Winner\"] = \"Germany\"\n",
    "world_cup[world_cup[\"Winner\"] == \"Germany\"].shape"
   ]
  },
  {
   "cell_type": "code",
   "execution_count": 85,
   "id": "9506c424",
   "metadata": {},
   "outputs": [],
   "source": [
    "# euro data\n",
    "euros[\"Event Year\"] = pd.to_datetime(euros[\"Event Year\"].str.replace(\",\", \"\"))\n",
    "euros[\"Event Year\"] = euros[\"Event Year\"].map(lambda x: x.year)\n",
    "\n",
    "euros[\"Winner\"] = euros[\"Winner\"].str.strip()\n",
    "euros[\"Loser\"] = euros[\"Loser\"].str.strip()"
   ]
  },
  {
   "cell_type": "code",
   "execution_count": 86,
   "id": "7ffc8f36",
   "metadata": {},
   "outputs": [
    {
     "data": {
      "text/plain": [
       "(15, 14)"
      ]
     },
     "execution_count": 86,
     "metadata": {},
     "output_type": "execute_result"
    }
   ],
   "source": [
    "euros.loc[euros[\"Loser\"] == \"West Germany\", \"Loser\"] = \"Germany\"\n",
    "euros[euros[\"Winner\"] == \"Germany\"].shape"
   ]
  },
  {
   "cell_type": "code",
   "execution_count": 87,
   "id": "a622f739",
   "metadata": {},
   "outputs": [
    {
     "data": {
      "text/html": [
       "<div>\n",
       "<style scoped>\n",
       "    .dataframe tbody tr th:only-of-type {\n",
       "        vertical-align: middle;\n",
       "    }\n",
       "\n",
       "    .dataframe tbody tr th {\n",
       "        vertical-align: top;\n",
       "    }\n",
       "\n",
       "    .dataframe thead th {\n",
       "        text-align: right;\n",
       "    }\n",
       "</style>\n",
       "<table border=\"1\" class=\"dataframe\">\n",
       "  <thead>\n",
       "    <tr style=\"text-align: right;\">\n",
       "      <th></th>\n",
       "      <th>No.</th>\n",
       "      <th>Penalty Number</th>\n",
       "      <th>Event Year</th>\n",
       "      <th>Winner</th>\n",
       "      <th>Full Time Score</th>\n",
       "      <th>Loser</th>\n",
       "      <th>Winning Team GK</th>\n",
       "      <th>Winning team Taker</th>\n",
       "      <th>Losing team Taker</th>\n",
       "      <th>Losing Team GK</th>\n",
       "      <th>Round</th>\n",
       "      <th>Date</th>\n",
       "      <th>Winner Penalty type</th>\n",
       "      <th>Loser Penalty type</th>\n",
       "    </tr>\n",
       "  </thead>\n",
       "  <tbody>\n",
       "    <tr>\n",
       "      <th>0</th>\n",
       "      <td>1</td>\n",
       "      <td>1</td>\n",
       "      <td>1982</td>\n",
       "      <td>Germany</td>\n",
       "      <td>3–3</td>\n",
       "      <td>France</td>\n",
       "      <td>Schumacher</td>\n",
       "      <td>Kaltz Penalty scored</td>\n",
       "      <td>Penalty scored Giresse</td>\n",
       "      <td>Ettori</td>\n",
       "      <td>Semi-finals</td>\n",
       "      <td>2021-07-08</td>\n",
       "      <td>scored</td>\n",
       "      <td>scored</td>\n",
       "    </tr>\n",
       "    <tr>\n",
       "      <th>1</th>\n",
       "      <td>1</td>\n",
       "      <td>2</td>\n",
       "      <td>1982</td>\n",
       "      <td>Germany</td>\n",
       "      <td>3–3</td>\n",
       "      <td>France</td>\n",
       "      <td>Schumacher</td>\n",
       "      <td>Breitner Penalty scored</td>\n",
       "      <td>Penalty scored Amoros</td>\n",
       "      <td>Ettori</td>\n",
       "      <td>Semi-finals</td>\n",
       "      <td>2021-07-08</td>\n",
       "      <td>scored</td>\n",
       "      <td>scored</td>\n",
       "    </tr>\n",
       "    <tr>\n",
       "      <th>2</th>\n",
       "      <td>1</td>\n",
       "      <td>3</td>\n",
       "      <td>1982</td>\n",
       "      <td>Germany</td>\n",
       "      <td>3–3</td>\n",
       "      <td>France</td>\n",
       "      <td>Schumacher</td>\n",
       "      <td>Stielike Penalty missed</td>\n",
       "      <td>Penalty scored Rocheteau</td>\n",
       "      <td>Ettori</td>\n",
       "      <td>Semi-finals</td>\n",
       "      <td>2021-07-08</td>\n",
       "      <td>missed</td>\n",
       "      <td>scored</td>\n",
       "    </tr>\n",
       "    <tr>\n",
       "      <th>3</th>\n",
       "      <td>1</td>\n",
       "      <td>4</td>\n",
       "      <td>1982</td>\n",
       "      <td>Germany</td>\n",
       "      <td>3–3</td>\n",
       "      <td>France</td>\n",
       "      <td>Schumacher</td>\n",
       "      <td>Littbarski Penalty scored</td>\n",
       "      <td>Penalty missed Six</td>\n",
       "      <td>Ettori</td>\n",
       "      <td>Semi-finals</td>\n",
       "      <td>2021-07-08</td>\n",
       "      <td>scored</td>\n",
       "      <td>missed</td>\n",
       "    </tr>\n",
       "    <tr>\n",
       "      <th>4</th>\n",
       "      <td>1</td>\n",
       "      <td>5</td>\n",
       "      <td>1982</td>\n",
       "      <td>Germany</td>\n",
       "      <td>3–3</td>\n",
       "      <td>France</td>\n",
       "      <td>Schumacher</td>\n",
       "      <td>Rummenigge Penalty scored</td>\n",
       "      <td>Penalty scored Platini</td>\n",
       "      <td>Ettori</td>\n",
       "      <td>Semi-finals</td>\n",
       "      <td>2021-07-08</td>\n",
       "      <td>scored</td>\n",
       "      <td>scored</td>\n",
       "    </tr>\n",
       "  </tbody>\n",
       "</table>\n",
       "</div>"
      ],
      "text/plain": [
       "   No.  Penalty Number   Event Year   Winner Full Time Score   Loser  \\\n",
       "0    1                1        1982  Germany             3–3  France   \n",
       "1    1                2        1982  Germany             3–3  France   \n",
       "2    1                3        1982  Germany             3–3  France   \n",
       "3    1                4        1982  Germany             3–3  France   \n",
       "4    1                5        1982  Germany             3–3  France   \n",
       "\n",
       "  Winning Team GK         Winning team Taker         Losing team Taker  \\\n",
       "0      Schumacher       Kaltz Penalty scored    Penalty scored Giresse   \n",
       "1      Schumacher    Breitner Penalty scored     Penalty scored Amoros   \n",
       "2      Schumacher    Stielike Penalty missed  Penalty scored Rocheteau   \n",
       "3      Schumacher  Littbarski Penalty scored        Penalty missed Six   \n",
       "4      Schumacher  Rummenigge Penalty scored    Penalty scored Platini   \n",
       "\n",
       "  Losing Team GK        Round       Date Winner Penalty type  \\\n",
       "0         Ettori  Semi-finals 2021-07-08              scored   \n",
       "1         Ettori  Semi-finals 2021-07-08              scored   \n",
       "2         Ettori  Semi-finals 2021-07-08              missed   \n",
       "3         Ettori  Semi-finals 2021-07-08              scored   \n",
       "4         Ettori  Semi-finals 2021-07-08              scored   \n",
       "\n",
       "  Loser Penalty type  \n",
       "0             scored  \n",
       "1             scored  \n",
       "2             scored  \n",
       "3             missed  \n",
       "4             scored  "
      ]
     },
     "execution_count": 87,
     "metadata": {},
     "output_type": "execute_result"
    }
   ],
   "source": [
    "world_cup.head()"
   ]
  },
  {
   "cell_type": "code",
   "execution_count": 88,
   "id": "d66b4ab4",
   "metadata": {},
   "outputs": [
    {
     "data": {
      "text/html": [
       "<div>\n",
       "<style scoped>\n",
       "    .dataframe tbody tr th:only-of-type {\n",
       "        vertical-align: middle;\n",
       "    }\n",
       "\n",
       "    .dataframe tbody tr th {\n",
       "        vertical-align: top;\n",
       "    }\n",
       "\n",
       "    .dataframe thead th {\n",
       "        text-align: right;\n",
       "    }\n",
       "</style>\n",
       "<table border=\"1\" class=\"dataframe\">\n",
       "  <thead>\n",
       "    <tr style=\"text-align: right;\">\n",
       "      <th></th>\n",
       "      <th>No.</th>\n",
       "      <th>Penalty Number</th>\n",
       "      <th>Event Year</th>\n",
       "      <th>Winner</th>\n",
       "      <th>Full Time Score</th>\n",
       "      <th>Loser</th>\n",
       "      <th>Winning team GK</th>\n",
       "      <th>Winning team Taker</th>\n",
       "      <th>Losing team Taker</th>\n",
       "      <th>Losing team GK</th>\n",
       "      <th>Round</th>\n",
       "      <th>Date</th>\n",
       "      <th>Winner Penalty type</th>\n",
       "      <th>Loser Penalty type</th>\n",
       "    </tr>\n",
       "  </thead>\n",
       "  <tbody>\n",
       "    <tr>\n",
       "      <th>0</th>\n",
       "      <td>1</td>\n",
       "      <td>1</td>\n",
       "      <td>1976</td>\n",
       "      <td>Czechoslovakia</td>\n",
       "      <td>2–2</td>\n",
       "      <td>Germany</td>\n",
       "      <td>Viktor</td>\n",
       "      <td>Masný Penalty scored</td>\n",
       "      <td>Penalty scored Bonhof</td>\n",
       "      <td>Maier</td>\n",
       "      <td>Final</td>\n",
       "      <td>2021-06-20</td>\n",
       "      <td>scored</td>\n",
       "      <td>scored</td>\n",
       "    </tr>\n",
       "    <tr>\n",
       "      <th>1</th>\n",
       "      <td>1</td>\n",
       "      <td>2</td>\n",
       "      <td>1976</td>\n",
       "      <td>Czechoslovakia</td>\n",
       "      <td>2–2</td>\n",
       "      <td>Germany</td>\n",
       "      <td>Viktor</td>\n",
       "      <td>Nehoda Penalty scored</td>\n",
       "      <td>Penalty scored Flohe</td>\n",
       "      <td>Maier</td>\n",
       "      <td>Final</td>\n",
       "      <td>2021-06-20</td>\n",
       "      <td>scored</td>\n",
       "      <td>scored</td>\n",
       "    </tr>\n",
       "    <tr>\n",
       "      <th>2</th>\n",
       "      <td>1</td>\n",
       "      <td>3</td>\n",
       "      <td>1976</td>\n",
       "      <td>Czechoslovakia</td>\n",
       "      <td>2–2</td>\n",
       "      <td>Germany</td>\n",
       "      <td>Viktor</td>\n",
       "      <td>Ondruš Penalty scored</td>\n",
       "      <td>Penalty scored Bongartz</td>\n",
       "      <td>Maier</td>\n",
       "      <td>Final</td>\n",
       "      <td>2021-06-20</td>\n",
       "      <td>scored</td>\n",
       "      <td>scored</td>\n",
       "    </tr>\n",
       "    <tr>\n",
       "      <th>3</th>\n",
       "      <td>1</td>\n",
       "      <td>4</td>\n",
       "      <td>1976</td>\n",
       "      <td>Czechoslovakia</td>\n",
       "      <td>2–2</td>\n",
       "      <td>Germany</td>\n",
       "      <td>Viktor</td>\n",
       "      <td>Jurkemik Penalty scored</td>\n",
       "      <td>Penalty missed Hoeneß</td>\n",
       "      <td>Maier</td>\n",
       "      <td>Final</td>\n",
       "      <td>2021-06-20</td>\n",
       "      <td>scored</td>\n",
       "      <td>missed</td>\n",
       "    </tr>\n",
       "    <tr>\n",
       "      <th>4</th>\n",
       "      <td>1</td>\n",
       "      <td>5</td>\n",
       "      <td>1976</td>\n",
       "      <td>Czechoslovakia</td>\n",
       "      <td>2–2</td>\n",
       "      <td>Germany</td>\n",
       "      <td>Viktor</td>\n",
       "      <td>Panenka Penalty scored</td>\n",
       "      <td>Unknown</td>\n",
       "      <td>Maier</td>\n",
       "      <td>Final</td>\n",
       "      <td>2021-06-20</td>\n",
       "      <td>scored</td>\n",
       "      <td>NaN</td>\n",
       "    </tr>\n",
       "  </tbody>\n",
       "</table>\n",
       "</div>"
      ],
      "text/plain": [
       "   No.  Penalty Number  Event Year          Winner Full Time Score    Loser  \\\n",
       "0    1               1        1976  Czechoslovakia             2–2  Germany   \n",
       "1    1               2        1976  Czechoslovakia             2–2  Germany   \n",
       "2    1               3        1976  Czechoslovakia             2–2  Germany   \n",
       "3    1               4        1976  Czechoslovakia             2–2  Germany   \n",
       "4    1               5        1976  Czechoslovakia             2–2  Germany   \n",
       "\n",
       "  Winning team GK       Winning team Taker        Losing team Taker  \\\n",
       "0          Viktor     Masný Penalty scored    Penalty scored Bonhof   \n",
       "1          Viktor    Nehoda Penalty scored     Penalty scored Flohe   \n",
       "2          Viktor    Ondruš Penalty scored  Penalty scored Bongartz   \n",
       "3          Viktor  Jurkemik Penalty scored    Penalty missed Hoeneß   \n",
       "4          Viktor   Panenka Penalty scored                  Unknown   \n",
       "\n",
       "  Losing team GK  Round       Date Winner Penalty type Loser Penalty type  \n",
       "0          Maier  Final 2021-06-20              scored             scored  \n",
       "1          Maier  Final 2021-06-20              scored             scored  \n",
       "2          Maier  Final 2021-06-20              scored             scored  \n",
       "3          Maier  Final 2021-06-20              scored             missed  \n",
       "4          Maier  Final 2021-06-20              scored                NaN  "
      ]
     },
     "execution_count": 88,
     "metadata": {},
     "output_type": "execute_result"
    }
   ],
   "source": [
    "euros.head()"
   ]
  },
  {
   "cell_type": "code",
   "execution_count": 89,
   "id": "c171b2aa",
   "metadata": {
    "scrolled": true
   },
   "outputs": [],
   "source": [
    "world_cup[\"Winning team Kicker\"] = world_cup[\"Winning team Taker\"].str.split(\"Penalty\").apply(pd.Series)[0]\n",
    "world_cup[\"Winning team Kicker\"] = world_cup[\"Winning team Kicker\"].str.strip()"
   ]
  },
  {
   "cell_type": "code",
   "execution_count": 90,
   "id": "8b22c65c",
   "metadata": {},
   "outputs": [],
   "source": [
    "world_cup[\"Losing team Kicker\"] = world_cup[\"Losing team Taker\"].str.replace(\"Penalty\", \"\").str.replace(\"scored\", \"\").str.replace(\"missed\", \"\")\n",
    "world_cup[\"Losing team Kicker\"] = world_cup[\"Losing team Kicker\"].str.strip()"
   ]
  },
  {
   "cell_type": "code",
   "execution_count": 91,
   "id": "fd7c17b7",
   "metadata": {},
   "outputs": [
    {
     "data": {
      "text/html": [
       "<div>\n",
       "<style scoped>\n",
       "    .dataframe tbody tr th:only-of-type {\n",
       "        vertical-align: middle;\n",
       "    }\n",
       "\n",
       "    .dataframe tbody tr th {\n",
       "        vertical-align: top;\n",
       "    }\n",
       "\n",
       "    .dataframe thead th {\n",
       "        text-align: right;\n",
       "    }\n",
       "</style>\n",
       "<table border=\"1\" class=\"dataframe\">\n",
       "  <thead>\n",
       "    <tr style=\"text-align: right;\">\n",
       "      <th></th>\n",
       "      <th>No.</th>\n",
       "      <th>Penalty Number</th>\n",
       "      <th>Event Year</th>\n",
       "      <th>Winner</th>\n",
       "      <th>Full Time Score</th>\n",
       "      <th>Loser</th>\n",
       "      <th>Winning Team GK</th>\n",
       "      <th>Winning team Taker</th>\n",
       "      <th>Losing team Taker</th>\n",
       "      <th>Losing Team GK</th>\n",
       "      <th>Round</th>\n",
       "      <th>Date</th>\n",
       "      <th>Winner Penalty type</th>\n",
       "      <th>Loser Penalty type</th>\n",
       "      <th>Winning team Kicker</th>\n",
       "      <th>Losing team Kicker</th>\n",
       "    </tr>\n",
       "  </thead>\n",
       "  <tbody>\n",
       "    <tr>\n",
       "      <th>0</th>\n",
       "      <td>1</td>\n",
       "      <td>1</td>\n",
       "      <td>1982</td>\n",
       "      <td>Germany</td>\n",
       "      <td>3–3</td>\n",
       "      <td>France</td>\n",
       "      <td>Schumacher</td>\n",
       "      <td>Kaltz Penalty scored</td>\n",
       "      <td>Penalty scored Giresse</td>\n",
       "      <td>Ettori</td>\n",
       "      <td>Semi-finals</td>\n",
       "      <td>2021-07-08</td>\n",
       "      <td>scored</td>\n",
       "      <td>scored</td>\n",
       "      <td>Kaltz</td>\n",
       "      <td>Giresse</td>\n",
       "    </tr>\n",
       "    <tr>\n",
       "      <th>1</th>\n",
       "      <td>1</td>\n",
       "      <td>2</td>\n",
       "      <td>1982</td>\n",
       "      <td>Germany</td>\n",
       "      <td>3–3</td>\n",
       "      <td>France</td>\n",
       "      <td>Schumacher</td>\n",
       "      <td>Breitner Penalty scored</td>\n",
       "      <td>Penalty scored Amoros</td>\n",
       "      <td>Ettori</td>\n",
       "      <td>Semi-finals</td>\n",
       "      <td>2021-07-08</td>\n",
       "      <td>scored</td>\n",
       "      <td>scored</td>\n",
       "      <td>Breitner</td>\n",
       "      <td>Amoros</td>\n",
       "    </tr>\n",
       "    <tr>\n",
       "      <th>2</th>\n",
       "      <td>1</td>\n",
       "      <td>3</td>\n",
       "      <td>1982</td>\n",
       "      <td>Germany</td>\n",
       "      <td>3–3</td>\n",
       "      <td>France</td>\n",
       "      <td>Schumacher</td>\n",
       "      <td>Stielike Penalty missed</td>\n",
       "      <td>Penalty scored Rocheteau</td>\n",
       "      <td>Ettori</td>\n",
       "      <td>Semi-finals</td>\n",
       "      <td>2021-07-08</td>\n",
       "      <td>missed</td>\n",
       "      <td>scored</td>\n",
       "      <td>Stielike</td>\n",
       "      <td>Rocheteau</td>\n",
       "    </tr>\n",
       "    <tr>\n",
       "      <th>3</th>\n",
       "      <td>1</td>\n",
       "      <td>4</td>\n",
       "      <td>1982</td>\n",
       "      <td>Germany</td>\n",
       "      <td>3–3</td>\n",
       "      <td>France</td>\n",
       "      <td>Schumacher</td>\n",
       "      <td>Littbarski Penalty scored</td>\n",
       "      <td>Penalty missed Six</td>\n",
       "      <td>Ettori</td>\n",
       "      <td>Semi-finals</td>\n",
       "      <td>2021-07-08</td>\n",
       "      <td>scored</td>\n",
       "      <td>missed</td>\n",
       "      <td>Littbarski</td>\n",
       "      <td>Six</td>\n",
       "    </tr>\n",
       "    <tr>\n",
       "      <th>4</th>\n",
       "      <td>1</td>\n",
       "      <td>5</td>\n",
       "      <td>1982</td>\n",
       "      <td>Germany</td>\n",
       "      <td>3–3</td>\n",
       "      <td>France</td>\n",
       "      <td>Schumacher</td>\n",
       "      <td>Rummenigge Penalty scored</td>\n",
       "      <td>Penalty scored Platini</td>\n",
       "      <td>Ettori</td>\n",
       "      <td>Semi-finals</td>\n",
       "      <td>2021-07-08</td>\n",
       "      <td>scored</td>\n",
       "      <td>scored</td>\n",
       "      <td>Rummenigge</td>\n",
       "      <td>Platini</td>\n",
       "    </tr>\n",
       "  </tbody>\n",
       "</table>\n",
       "</div>"
      ],
      "text/plain": [
       "   No.  Penalty Number   Event Year   Winner Full Time Score   Loser  \\\n",
       "0    1                1        1982  Germany             3–3  France   \n",
       "1    1                2        1982  Germany             3–3  France   \n",
       "2    1                3        1982  Germany             3–3  France   \n",
       "3    1                4        1982  Germany             3–3  France   \n",
       "4    1                5        1982  Germany             3–3  France   \n",
       "\n",
       "  Winning Team GK         Winning team Taker         Losing team Taker  \\\n",
       "0      Schumacher       Kaltz Penalty scored    Penalty scored Giresse   \n",
       "1      Schumacher    Breitner Penalty scored     Penalty scored Amoros   \n",
       "2      Schumacher    Stielike Penalty missed  Penalty scored Rocheteau   \n",
       "3      Schumacher  Littbarski Penalty scored        Penalty missed Six   \n",
       "4      Schumacher  Rummenigge Penalty scored    Penalty scored Platini   \n",
       "\n",
       "  Losing Team GK        Round       Date Winner Penalty type  \\\n",
       "0         Ettori  Semi-finals 2021-07-08              scored   \n",
       "1         Ettori  Semi-finals 2021-07-08              scored   \n",
       "2         Ettori  Semi-finals 2021-07-08              missed   \n",
       "3         Ettori  Semi-finals 2021-07-08              scored   \n",
       "4         Ettori  Semi-finals 2021-07-08              scored   \n",
       "\n",
       "  Loser Penalty type Winning team Kicker Losing team Kicker  \n",
       "0             scored               Kaltz            Giresse  \n",
       "1             scored            Breitner             Amoros  \n",
       "2             scored            Stielike          Rocheteau  \n",
       "3             missed          Littbarski                Six  \n",
       "4             scored          Rummenigge            Platini  "
      ]
     },
     "execution_count": 91,
     "metadata": {},
     "output_type": "execute_result"
    }
   ],
   "source": [
    "world_cup.head()"
   ]
  },
  {
   "cell_type": "code",
   "execution_count": 92,
   "id": "5714a250",
   "metadata": {},
   "outputs": [],
   "source": [
    "euros[\"Winning team Kicker\"] = euros[\"Winning team Taker\"].str.split(\"Penalty\").apply(pd.Series)[0]\n",
    "euros[\"Winning team Kicker\"] = euros[\"Winning team Kicker\"].str.strip()\n",
    "\n",
    "euros[\"Losing team Kicker\"] = euros[\"Losing team Taker\"].str.replace(\"Penalty\", \"\").str.replace(\"scored\", \"\").str.replace(\"missed\", \"\")\n",
    "euros[\"Losing team Kicker\"] = euros[\"Losing team Kicker\"].str.strip()"
   ]
  },
  {
   "cell_type": "code",
   "execution_count": 93,
   "id": "e4a3cf8d",
   "metadata": {},
   "outputs": [
    {
     "data": {
      "text/html": [
       "<div>\n",
       "<style scoped>\n",
       "    .dataframe tbody tr th:only-of-type {\n",
       "        vertical-align: middle;\n",
       "    }\n",
       "\n",
       "    .dataframe tbody tr th {\n",
       "        vertical-align: top;\n",
       "    }\n",
       "\n",
       "    .dataframe thead th {\n",
       "        text-align: right;\n",
       "    }\n",
       "</style>\n",
       "<table border=\"1\" class=\"dataframe\">\n",
       "  <thead>\n",
       "    <tr style=\"text-align: right;\">\n",
       "      <th></th>\n",
       "      <th>No.</th>\n",
       "      <th>Penalty Number</th>\n",
       "      <th>Event Year</th>\n",
       "      <th>Winner</th>\n",
       "      <th>Full Time Score</th>\n",
       "      <th>Loser</th>\n",
       "      <th>Winning team GK</th>\n",
       "      <th>Winning team Taker</th>\n",
       "      <th>Losing team Taker</th>\n",
       "      <th>Losing team GK</th>\n",
       "      <th>Round</th>\n",
       "      <th>Date</th>\n",
       "      <th>Winner Penalty type</th>\n",
       "      <th>Loser Penalty type</th>\n",
       "      <th>Winning team Kicker</th>\n",
       "      <th>Losing team Kicker</th>\n",
       "    </tr>\n",
       "  </thead>\n",
       "  <tbody>\n",
       "    <tr>\n",
       "      <th>0</th>\n",
       "      <td>1</td>\n",
       "      <td>1</td>\n",
       "      <td>1976</td>\n",
       "      <td>Czechoslovakia</td>\n",
       "      <td>2–2</td>\n",
       "      <td>Germany</td>\n",
       "      <td>Viktor</td>\n",
       "      <td>Masný Penalty scored</td>\n",
       "      <td>Penalty scored Bonhof</td>\n",
       "      <td>Maier</td>\n",
       "      <td>Final</td>\n",
       "      <td>2021-06-20</td>\n",
       "      <td>scored</td>\n",
       "      <td>scored</td>\n",
       "      <td>Masný</td>\n",
       "      <td>Bonhof</td>\n",
       "    </tr>\n",
       "    <tr>\n",
       "      <th>1</th>\n",
       "      <td>1</td>\n",
       "      <td>2</td>\n",
       "      <td>1976</td>\n",
       "      <td>Czechoslovakia</td>\n",
       "      <td>2–2</td>\n",
       "      <td>Germany</td>\n",
       "      <td>Viktor</td>\n",
       "      <td>Nehoda Penalty scored</td>\n",
       "      <td>Penalty scored Flohe</td>\n",
       "      <td>Maier</td>\n",
       "      <td>Final</td>\n",
       "      <td>2021-06-20</td>\n",
       "      <td>scored</td>\n",
       "      <td>scored</td>\n",
       "      <td>Nehoda</td>\n",
       "      <td>Flohe</td>\n",
       "    </tr>\n",
       "    <tr>\n",
       "      <th>2</th>\n",
       "      <td>1</td>\n",
       "      <td>3</td>\n",
       "      <td>1976</td>\n",
       "      <td>Czechoslovakia</td>\n",
       "      <td>2–2</td>\n",
       "      <td>Germany</td>\n",
       "      <td>Viktor</td>\n",
       "      <td>Ondruš Penalty scored</td>\n",
       "      <td>Penalty scored Bongartz</td>\n",
       "      <td>Maier</td>\n",
       "      <td>Final</td>\n",
       "      <td>2021-06-20</td>\n",
       "      <td>scored</td>\n",
       "      <td>scored</td>\n",
       "      <td>Ondruš</td>\n",
       "      <td>Bongartz</td>\n",
       "    </tr>\n",
       "    <tr>\n",
       "      <th>3</th>\n",
       "      <td>1</td>\n",
       "      <td>4</td>\n",
       "      <td>1976</td>\n",
       "      <td>Czechoslovakia</td>\n",
       "      <td>2–2</td>\n",
       "      <td>Germany</td>\n",
       "      <td>Viktor</td>\n",
       "      <td>Jurkemik Penalty scored</td>\n",
       "      <td>Penalty missed Hoeneß</td>\n",
       "      <td>Maier</td>\n",
       "      <td>Final</td>\n",
       "      <td>2021-06-20</td>\n",
       "      <td>scored</td>\n",
       "      <td>missed</td>\n",
       "      <td>Jurkemik</td>\n",
       "      <td>Hoeneß</td>\n",
       "    </tr>\n",
       "    <tr>\n",
       "      <th>4</th>\n",
       "      <td>1</td>\n",
       "      <td>5</td>\n",
       "      <td>1976</td>\n",
       "      <td>Czechoslovakia</td>\n",
       "      <td>2–2</td>\n",
       "      <td>Germany</td>\n",
       "      <td>Viktor</td>\n",
       "      <td>Panenka Penalty scored</td>\n",
       "      <td>Unknown</td>\n",
       "      <td>Maier</td>\n",
       "      <td>Final</td>\n",
       "      <td>2021-06-20</td>\n",
       "      <td>scored</td>\n",
       "      <td>NaN</td>\n",
       "      <td>Panenka</td>\n",
       "      <td>Unknown</td>\n",
       "    </tr>\n",
       "  </tbody>\n",
       "</table>\n",
       "</div>"
      ],
      "text/plain": [
       "   No.  Penalty Number  Event Year          Winner Full Time Score    Loser  \\\n",
       "0    1               1        1976  Czechoslovakia             2–2  Germany   \n",
       "1    1               2        1976  Czechoslovakia             2–2  Germany   \n",
       "2    1               3        1976  Czechoslovakia             2–2  Germany   \n",
       "3    1               4        1976  Czechoslovakia             2–2  Germany   \n",
       "4    1               5        1976  Czechoslovakia             2–2  Germany   \n",
       "\n",
       "  Winning team GK       Winning team Taker        Losing team Taker  \\\n",
       "0          Viktor     Masný Penalty scored    Penalty scored Bonhof   \n",
       "1          Viktor    Nehoda Penalty scored     Penalty scored Flohe   \n",
       "2          Viktor    Ondruš Penalty scored  Penalty scored Bongartz   \n",
       "3          Viktor  Jurkemik Penalty scored    Penalty missed Hoeneß   \n",
       "4          Viktor   Panenka Penalty scored                  Unknown   \n",
       "\n",
       "  Losing team GK  Round       Date Winner Penalty type Loser Penalty type  \\\n",
       "0          Maier  Final 2021-06-20              scored             scored   \n",
       "1          Maier  Final 2021-06-20              scored             scored   \n",
       "2          Maier  Final 2021-06-20              scored             scored   \n",
       "3          Maier  Final 2021-06-20              scored             missed   \n",
       "4          Maier  Final 2021-06-20              scored                NaN   \n",
       "\n",
       "  Winning team Kicker Losing team Kicker  \n",
       "0               Masný             Bonhof  \n",
       "1              Nehoda              Flohe  \n",
       "2              Ondruš           Bongartz  \n",
       "3            Jurkemik             Hoeneß  \n",
       "4             Panenka            Unknown  "
      ]
     },
     "execution_count": 93,
     "metadata": {},
     "output_type": "execute_result"
    }
   ],
   "source": [
    "euros.head()"
   ]
  },
  {
   "cell_type": "markdown",
   "id": "147fc1d4",
   "metadata": {},
   "source": [
    "#### Null value replacement"
   ]
  },
  {
   "cell_type": "code",
   "execution_count": 94,
   "id": "96a7932d",
   "metadata": {},
   "outputs": [],
   "source": [
    "world_cup.loc[world_cup[\"Winner\"] == \"South Korea\", \"Winner Penalty type\"] = \"scored\"\n",
    "world_cup.loc[19, \"Winner Penalty type\"] = \"scored\"\n",
    "world_cup.loc[[45, 48, 94, 95, 107, 117], \"Winner Penalty type\"] = \"scored\"\n",
    "world_cup.loc[105, \"Winner Penalty type\"] = \"missed\""
   ]
  },
  {
   "cell_type": "code",
   "execution_count": 95,
   "id": "3ae33e67",
   "metadata": {},
   "outputs": [],
   "source": [
    "world_cup = world_cup.drop([\"Winning team Taker\", \"Losing team Taker\", \"Date\"], axis=1)\n",
    "euros = euros.drop([\"Winning team Taker\", \"Losing team Taker\", \"Date\"], axis=1)"
   ]
  },
  {
   "cell_type": "code",
   "execution_count": 96,
   "id": "de68956b",
   "metadata": {},
   "outputs": [
    {
     "name": "stdout",
     "output_type": "stream",
     "text": [
      "<class 'pandas.core.frame.DataFrame'>\n",
      "RangeIndex: 146 entries, 0 to 145\n",
      "Data columns (total 13 columns):\n",
      " #   Column               Non-Null Count  Dtype \n",
      "---  ------               --------------  ----- \n",
      " 0   No.                  146 non-null    int64 \n",
      " 1   Penalty Number       146 non-null    int64 \n",
      " 2   Event Year           146 non-null    int64 \n",
      " 3   Winner               146 non-null    object\n",
      " 4   Full Time Score      146 non-null    object\n",
      " 5   Loser                146 non-null    object\n",
      " 6   Winning Team GK      146 non-null    object\n",
      " 7   Losing Team GK       146 non-null    object\n",
      " 8   Round                146 non-null    object\n",
      " 9   Winner Penalty type  141 non-null    object\n",
      " 10  Loser Penalty type   138 non-null    object\n",
      " 11  Winning team Kicker  146 non-null    object\n",
      " 12  Losing team Kicker   146 non-null    object\n",
      "dtypes: int64(3), object(10)\n",
      "memory usage: 15.0+ KB\n"
     ]
    }
   ],
   "source": [
    "world_cup.info()"
   ]
  },
  {
   "cell_type": "code",
   "execution_count": 97,
   "id": "ec3cc30d",
   "metadata": {},
   "outputs": [
    {
     "name": "stdout",
     "output_type": "stream",
     "text": [
      "<class 'pandas.core.frame.DataFrame'>\n",
      "RangeIndex: 120 entries, 0 to 119\n",
      "Data columns (total 13 columns):\n",
      " #   Column               Non-Null Count  Dtype \n",
      "---  ------               --------------  ----- \n",
      " 0   No.                  120 non-null    int64 \n",
      " 1   Penalty Number       120 non-null    int64 \n",
      " 2   Event Year           120 non-null    int64 \n",
      " 3   Winner               120 non-null    object\n",
      " 4   Full Time Score      120 non-null    object\n",
      " 5   Loser                120 non-null    object\n",
      " 6   Winning team GK      120 non-null    object\n",
      " 7   Losing team GK       120 non-null    object\n",
      " 8   Round                120 non-null    object\n",
      " 9   Winner Penalty type  119 non-null    object\n",
      " 10  Loser Penalty type   113 non-null    object\n",
      " 11  Winning team Kicker  120 non-null    object\n",
      " 12  Losing team Kicker   120 non-null    object\n",
      "dtypes: int64(3), object(10)\n",
      "memory usage: 12.3+ KB\n"
     ]
    }
   ],
   "source": [
    "euros.info()"
   ]
  },
  {
   "cell_type": "code",
   "execution_count": 98,
   "id": "824141e2",
   "metadata": {},
   "outputs": [
    {
     "data": {
      "text/html": [
       "<div>\n",
       "<style scoped>\n",
       "    .dataframe tbody tr th:only-of-type {\n",
       "        vertical-align: middle;\n",
       "    }\n",
       "\n",
       "    .dataframe tbody tr th {\n",
       "        vertical-align: top;\n",
       "    }\n",
       "\n",
       "    .dataframe thead th {\n",
       "        text-align: right;\n",
       "    }\n",
       "</style>\n",
       "<table border=\"1\" class=\"dataframe\">\n",
       "  <thead>\n",
       "    <tr style=\"text-align: right;\">\n",
       "      <th></th>\n",
       "      <th>No.</th>\n",
       "      <th>Penalty Number</th>\n",
       "      <th>Event Year</th>\n",
       "      <th>Winner</th>\n",
       "      <th>Full Time Score</th>\n",
       "      <th>Loser</th>\n",
       "      <th>Winning Team GK</th>\n",
       "      <th>Losing Team GK</th>\n",
       "      <th>Round</th>\n",
       "      <th>Winner Penalty type</th>\n",
       "      <th>Loser Penalty type</th>\n",
       "      <th>Winning team Kicker</th>\n",
       "      <th>Losing team Kicker</th>\n",
       "    </tr>\n",
       "  </thead>\n",
       "  <tbody>\n",
       "    <tr>\n",
       "      <th>0</th>\n",
       "      <td>1</td>\n",
       "      <td>1</td>\n",
       "      <td>1982</td>\n",
       "      <td>Germany</td>\n",
       "      <td>3–3</td>\n",
       "      <td>France</td>\n",
       "      <td>Schumacher</td>\n",
       "      <td>Ettori</td>\n",
       "      <td>Semi-finals</td>\n",
       "      <td>scored</td>\n",
       "      <td>scored</td>\n",
       "      <td>Kaltz</td>\n",
       "      <td>Giresse</td>\n",
       "    </tr>\n",
       "    <tr>\n",
       "      <th>1</th>\n",
       "      <td>1</td>\n",
       "      <td>2</td>\n",
       "      <td>1982</td>\n",
       "      <td>Germany</td>\n",
       "      <td>3–3</td>\n",
       "      <td>France</td>\n",
       "      <td>Schumacher</td>\n",
       "      <td>Ettori</td>\n",
       "      <td>Semi-finals</td>\n",
       "      <td>scored</td>\n",
       "      <td>scored</td>\n",
       "      <td>Breitner</td>\n",
       "      <td>Amoros</td>\n",
       "    </tr>\n",
       "    <tr>\n",
       "      <th>2</th>\n",
       "      <td>1</td>\n",
       "      <td>3</td>\n",
       "      <td>1982</td>\n",
       "      <td>Germany</td>\n",
       "      <td>3–3</td>\n",
       "      <td>France</td>\n",
       "      <td>Schumacher</td>\n",
       "      <td>Ettori</td>\n",
       "      <td>Semi-finals</td>\n",
       "      <td>missed</td>\n",
       "      <td>scored</td>\n",
       "      <td>Stielike</td>\n",
       "      <td>Rocheteau</td>\n",
       "    </tr>\n",
       "    <tr>\n",
       "      <th>3</th>\n",
       "      <td>1</td>\n",
       "      <td>4</td>\n",
       "      <td>1982</td>\n",
       "      <td>Germany</td>\n",
       "      <td>3–3</td>\n",
       "      <td>France</td>\n",
       "      <td>Schumacher</td>\n",
       "      <td>Ettori</td>\n",
       "      <td>Semi-finals</td>\n",
       "      <td>scored</td>\n",
       "      <td>missed</td>\n",
       "      <td>Littbarski</td>\n",
       "      <td>Six</td>\n",
       "    </tr>\n",
       "    <tr>\n",
       "      <th>4</th>\n",
       "      <td>1</td>\n",
       "      <td>5</td>\n",
       "      <td>1982</td>\n",
       "      <td>Germany</td>\n",
       "      <td>3–3</td>\n",
       "      <td>France</td>\n",
       "      <td>Schumacher</td>\n",
       "      <td>Ettori</td>\n",
       "      <td>Semi-finals</td>\n",
       "      <td>scored</td>\n",
       "      <td>scored</td>\n",
       "      <td>Rummenigge</td>\n",
       "      <td>Platini</td>\n",
       "    </tr>\n",
       "    <tr>\n",
       "      <th>...</th>\n",
       "      <td>...</td>\n",
       "      <td>...</td>\n",
       "      <td>...</td>\n",
       "      <td>...</td>\n",
       "      <td>...</td>\n",
       "      <td>...</td>\n",
       "      <td>...</td>\n",
       "      <td>...</td>\n",
       "      <td>...</td>\n",
       "      <td>...</td>\n",
       "      <td>...</td>\n",
       "      <td>...</td>\n",
       "      <td>...</td>\n",
       "    </tr>\n",
       "    <tr>\n",
       "      <th>141</th>\n",
       "      <td>30</td>\n",
       "      <td>1</td>\n",
       "      <td>2018</td>\n",
       "      <td>Croatia</td>\n",
       "      <td>2–2</td>\n",
       "      <td>Russia</td>\n",
       "      <td>Subašić</td>\n",
       "      <td>Akinfeev</td>\n",
       "      <td>Quarter-finals</td>\n",
       "      <td>scored</td>\n",
       "      <td>missed</td>\n",
       "      <td>Brozović</td>\n",
       "      <td>Smolov</td>\n",
       "    </tr>\n",
       "    <tr>\n",
       "      <th>142</th>\n",
       "      <td>30</td>\n",
       "      <td>2</td>\n",
       "      <td>2018</td>\n",
       "      <td>Croatia</td>\n",
       "      <td>2–2</td>\n",
       "      <td>Russia</td>\n",
       "      <td>Subašić</td>\n",
       "      <td>Akinfeev</td>\n",
       "      <td>Quarter-finals</td>\n",
       "      <td>missed</td>\n",
       "      <td>scored</td>\n",
       "      <td>Kovačić</td>\n",
       "      <td>Dzagoev</td>\n",
       "    </tr>\n",
       "    <tr>\n",
       "      <th>143</th>\n",
       "      <td>30</td>\n",
       "      <td>3</td>\n",
       "      <td>2018</td>\n",
       "      <td>Croatia</td>\n",
       "      <td>2–2</td>\n",
       "      <td>Russia</td>\n",
       "      <td>Subašić</td>\n",
       "      <td>Akinfeev</td>\n",
       "      <td>Quarter-finals</td>\n",
       "      <td>scored</td>\n",
       "      <td>missed</td>\n",
       "      <td>Modrić</td>\n",
       "      <td>Fernandes</td>\n",
       "    </tr>\n",
       "    <tr>\n",
       "      <th>144</th>\n",
       "      <td>30</td>\n",
       "      <td>4</td>\n",
       "      <td>2018</td>\n",
       "      <td>Croatia</td>\n",
       "      <td>2–2</td>\n",
       "      <td>Russia</td>\n",
       "      <td>Subašić</td>\n",
       "      <td>Akinfeev</td>\n",
       "      <td>Quarter-finals</td>\n",
       "      <td>scored</td>\n",
       "      <td>scored</td>\n",
       "      <td>Vida</td>\n",
       "      <td>Ignashevich</td>\n",
       "    </tr>\n",
       "    <tr>\n",
       "      <th>145</th>\n",
       "      <td>30</td>\n",
       "      <td>5</td>\n",
       "      <td>2018</td>\n",
       "      <td>Croatia</td>\n",
       "      <td>2–2</td>\n",
       "      <td>Russia</td>\n",
       "      <td>Subašić</td>\n",
       "      <td>Akinfeev</td>\n",
       "      <td>Quarter-finals</td>\n",
       "      <td>scored</td>\n",
       "      <td>scored</td>\n",
       "      <td>Rakitić</td>\n",
       "      <td>Kuzyayev</td>\n",
       "    </tr>\n",
       "  </tbody>\n",
       "</table>\n",
       "<p>146 rows × 13 columns</p>\n",
       "</div>"
      ],
      "text/plain": [
       "     No.  Penalty Number   Event Year   Winner Full Time Score   Loser  \\\n",
       "0      1                1        1982  Germany             3–3  France   \n",
       "1      1                2        1982  Germany             3–3  France   \n",
       "2      1                3        1982  Germany             3–3  France   \n",
       "3      1                4        1982  Germany             3–3  France   \n",
       "4      1                5        1982  Germany             3–3  France   \n",
       "..   ...              ...         ...      ...             ...     ...   \n",
       "141   30                1        2018  Croatia             2–2  Russia   \n",
       "142   30                2        2018  Croatia             2–2  Russia   \n",
       "143   30                3        2018  Croatia             2–2  Russia   \n",
       "144   30                4        2018  Croatia             2–2  Russia   \n",
       "145   30                5        2018  Croatia             2–2  Russia   \n",
       "\n",
       "    Winning Team GK Losing Team GK           Round Winner Penalty type  \\\n",
       "0        Schumacher         Ettori     Semi-finals              scored   \n",
       "1        Schumacher         Ettori     Semi-finals              scored   \n",
       "2        Schumacher         Ettori     Semi-finals              missed   \n",
       "3        Schumacher         Ettori     Semi-finals              scored   \n",
       "4        Schumacher         Ettori     Semi-finals              scored   \n",
       "..              ...            ...             ...                 ...   \n",
       "141         Subašić       Akinfeev  Quarter-finals              scored   \n",
       "142         Subašić       Akinfeev  Quarter-finals              missed   \n",
       "143         Subašić       Akinfeev  Quarter-finals              scored   \n",
       "144         Subašić       Akinfeev  Quarter-finals              scored   \n",
       "145         Subašić       Akinfeev  Quarter-finals              scored   \n",
       "\n",
       "    Loser Penalty type Winning team Kicker Losing team Kicker  \n",
       "0               scored               Kaltz            Giresse  \n",
       "1               scored            Breitner             Amoros  \n",
       "2               scored            Stielike          Rocheteau  \n",
       "3               missed          Littbarski                Six  \n",
       "4               scored          Rummenigge            Platini  \n",
       "..                 ...                 ...                ...  \n",
       "141             missed            Brozović             Smolov  \n",
       "142             scored             Kovačić            Dzagoev  \n",
       "143             missed              Modrić          Fernandes  \n",
       "144             scored                Vida        Ignashevich  \n",
       "145             scored             Rakitić           Kuzyayev  \n",
       "\n",
       "[146 rows x 13 columns]"
      ]
     },
     "execution_count": 98,
     "metadata": {},
     "output_type": "execute_result"
    }
   ],
   "source": [
    "world_cup"
   ]
  },
  {
   "cell_type": "code",
   "execution_count": 99,
   "id": "b616a666",
   "metadata": {},
   "outputs": [],
   "source": [
    "win_pct = output[\"Win %\"].copy()\n",
    "score_pct = output[\"Score %\"].copy()"
   ]
  },
  {
   "cell_type": "code",
   "execution_count": 100,
   "id": "813c0643",
   "metadata": {},
   "outputs": [],
   "source": [
    "win_pct = win_pct.drop(\"Unnamed: 0\", axis=1)\n",
    "score_pct = score_pct.drop(\"Unnamed: 0\", axis=1)"
   ]
  },
  {
   "cell_type": "code",
   "execution_count": 101,
   "id": "c7614c06",
   "metadata": {},
   "outputs": [
    {
     "data": {
      "text/html": [
       "<div>\n",
       "<style scoped>\n",
       "    .dataframe tbody tr th:only-of-type {\n",
       "        vertical-align: middle;\n",
       "    }\n",
       "\n",
       "    .dataframe tbody tr th {\n",
       "        vertical-align: top;\n",
       "    }\n",
       "\n",
       "    .dataframe thead th {\n",
       "        text-align: right;\n",
       "    }\n",
       "</style>\n",
       "<table border=\"1\" class=\"dataframe\">\n",
       "  <thead>\n",
       "    <tr style=\"text-align: right;\">\n",
       "      <th></th>\n",
       "      <th>Win % Rank</th>\n",
       "      <th>Shootout Win %</th>\n",
       "      <th>Total Shootouts</th>\n",
       "      <th>Shootouts</th>\n",
       "      <th>Team</th>\n",
       "    </tr>\n",
       "  </thead>\n",
       "  <tbody>\n",
       "    <tr>\n",
       "      <th>0</th>\n",
       "      <td>1</td>\n",
       "      <td>100</td>\n",
       "      <td>1</td>\n",
       "      <td>1</td>\n",
       "      <td>Turkey</td>\n",
       "    </tr>\n",
       "    <tr>\n",
       "      <th>1</th>\n",
       "      <td>1</td>\n",
       "      <td>100</td>\n",
       "      <td>1</td>\n",
       "      <td>1</td>\n",
       "      <td>Czech Republic</td>\n",
       "    </tr>\n",
       "    <tr>\n",
       "      <th>2</th>\n",
       "      <td>1</td>\n",
       "      <td>100</td>\n",
       "      <td>2</td>\n",
       "      <td>2</td>\n",
       "      <td>Czechoslovakia</td>\n",
       "    </tr>\n",
       "    <tr>\n",
       "      <th>3</th>\n",
       "      <td>1</td>\n",
       "      <td>100</td>\n",
       "      <td>1</td>\n",
       "      <td>1</td>\n",
       "      <td>Belgium</td>\n",
       "    </tr>\n",
       "    <tr>\n",
       "      <th>4</th>\n",
       "      <td>1</td>\n",
       "      <td>100</td>\n",
       "      <td>1</td>\n",
       "      <td>1</td>\n",
       "      <td>Uruguay</td>\n",
       "    </tr>\n",
       "    <tr>\n",
       "      <th>5</th>\n",
       "      <td>1</td>\n",
       "      <td>100</td>\n",
       "      <td>1</td>\n",
       "      <td>1</td>\n",
       "      <td>Paraguay</td>\n",
       "    </tr>\n",
       "    <tr>\n",
       "      <th>6</th>\n",
       "      <td>1</td>\n",
       "      <td>100</td>\n",
       "      <td>1</td>\n",
       "      <td>1</td>\n",
       "      <td>Ukraine</td>\n",
       "    </tr>\n",
       "    <tr>\n",
       "      <th>7</th>\n",
       "      <td>1</td>\n",
       "      <td>100</td>\n",
       "      <td>1</td>\n",
       "      <td>1</td>\n",
       "      <td>South Korea</td>\n",
       "    </tr>\n",
       "    <tr>\n",
       "      <th>8</th>\n",
       "      <td>1</td>\n",
       "      <td>100</td>\n",
       "      <td>1</td>\n",
       "      <td>1</td>\n",
       "      <td>Bulgaria</td>\n",
       "    </tr>\n",
       "    <tr>\n",
       "      <th>9</th>\n",
       "      <td>2</td>\n",
       "      <td>86</td>\n",
       "      <td>7</td>\n",
       "      <td>6</td>\n",
       "      <td>Germany</td>\n",
       "    </tr>\n",
       "    <tr>\n",
       "      <th>10</th>\n",
       "      <td>3</td>\n",
       "      <td>80</td>\n",
       "      <td>5</td>\n",
       "      <td>4</td>\n",
       "      <td>Argentina</td>\n",
       "    </tr>\n",
       "    <tr>\n",
       "      <th>11</th>\n",
       "      <td>4</td>\n",
       "      <td>75</td>\n",
       "      <td>4</td>\n",
       "      <td>3</td>\n",
       "      <td>Brazil</td>\n",
       "    </tr>\n",
       "    <tr>\n",
       "      <th>12</th>\n",
       "      <td>4</td>\n",
       "      <td>75</td>\n",
       "      <td>4</td>\n",
       "      <td>3</td>\n",
       "      <td>Portugal</td>\n",
       "    </tr>\n",
       "    <tr>\n",
       "      <th>13</th>\n",
       "      <td>5</td>\n",
       "      <td>67</td>\n",
       "      <td>3</td>\n",
       "      <td>2</td>\n",
       "      <td>Croatia</td>\n",
       "    </tr>\n",
       "    <tr>\n",
       "      <th>14</th>\n",
       "      <td>6</td>\n",
       "      <td>50</td>\n",
       "      <td>2</td>\n",
       "      <td>1</td>\n",
       "      <td>Sweden</td>\n",
       "    </tr>\n",
       "    <tr>\n",
       "      <th>15</th>\n",
       "      <td>6</td>\n",
       "      <td>50</td>\n",
       "      <td>2</td>\n",
       "      <td>1</td>\n",
       "      <td>Republic of Ireland</td>\n",
       "    </tr>\n",
       "    <tr>\n",
       "      <th>16</th>\n",
       "      <td>6</td>\n",
       "      <td>50</td>\n",
       "      <td>10</td>\n",
       "      <td>5</td>\n",
       "      <td>Spain</td>\n",
       "    </tr>\n",
       "    <tr>\n",
       "      <th>17</th>\n",
       "      <td>6</td>\n",
       "      <td>50</td>\n",
       "      <td>2</td>\n",
       "      <td>1</td>\n",
       "      <td>Costa Rica</td>\n",
       "    </tr>\n",
       "    <tr>\n",
       "      <th>18</th>\n",
       "      <td>6</td>\n",
       "      <td>50</td>\n",
       "      <td>2</td>\n",
       "      <td>1</td>\n",
       "      <td>Russia</td>\n",
       "    </tr>\n",
       "    <tr>\n",
       "      <th>19</th>\n",
       "      <td>6</td>\n",
       "      <td>50</td>\n",
       "      <td>2</td>\n",
       "      <td>1</td>\n",
       "      <td>Poland</td>\n",
       "    </tr>\n",
       "    <tr>\n",
       "      <th>20</th>\n",
       "      <td>7</td>\n",
       "      <td>45</td>\n",
       "      <td>11</td>\n",
       "      <td>5</td>\n",
       "      <td>Italy</td>\n",
       "    </tr>\n",
       "    <tr>\n",
       "      <th>21</th>\n",
       "      <td>8</td>\n",
       "      <td>43</td>\n",
       "      <td>7</td>\n",
       "      <td>3</td>\n",
       "      <td>France</td>\n",
       "    </tr>\n",
       "    <tr>\n",
       "      <th>22</th>\n",
       "      <td>9</td>\n",
       "      <td>33</td>\n",
       "      <td>3</td>\n",
       "      <td>1</td>\n",
       "      <td>Denmark</td>\n",
       "    </tr>\n",
       "    <tr>\n",
       "      <th>23</th>\n",
       "      <td>10</td>\n",
       "      <td>29</td>\n",
       "      <td>7</td>\n",
       "      <td>2</td>\n",
       "      <td>Netherlands</td>\n",
       "    </tr>\n",
       "    <tr>\n",
       "      <th>24</th>\n",
       "      <td>11</td>\n",
       "      <td>25</td>\n",
       "      <td>4</td>\n",
       "      <td>1</td>\n",
       "      <td>Switzerland</td>\n",
       "    </tr>\n",
       "    <tr>\n",
       "      <th>25</th>\n",
       "      <td>12</td>\n",
       "      <td>22</td>\n",
       "      <td>9</td>\n",
       "      <td>2</td>\n",
       "      <td>England</td>\n",
       "    </tr>\n",
       "  </tbody>\n",
       "</table>\n",
       "</div>"
      ],
      "text/plain": [
       "    Win % Rank  Shootout Win %  Total Shootouts  Shootouts  \\\n",
       "0            1             100                1          1   \n",
       "1            1             100                1          1   \n",
       "2            1             100                2          2   \n",
       "3            1             100                1          1   \n",
       "4            1             100                1          1   \n",
       "5            1             100                1          1   \n",
       "6            1             100                1          1   \n",
       "7            1             100                1          1   \n",
       "8            1             100                1          1   \n",
       "9            2              86                7          6   \n",
       "10           3              80                5          4   \n",
       "11           4              75                4          3   \n",
       "12           4              75                4          3   \n",
       "13           5              67                3          2   \n",
       "14           6              50                2          1   \n",
       "15           6              50                2          1   \n",
       "16           6              50               10          5   \n",
       "17           6              50                2          1   \n",
       "18           6              50                2          1   \n",
       "19           6              50                2          1   \n",
       "20           7              45               11          5   \n",
       "21           8              43                7          3   \n",
       "22           9              33                3          1   \n",
       "23          10              29                7          2   \n",
       "24          11              25                4          1   \n",
       "25          12              22                9          2   \n",
       "\n",
       "                   Team  \n",
       "0                Turkey  \n",
       "1        Czech Republic  \n",
       "2        Czechoslovakia  \n",
       "3               Belgium  \n",
       "4               Uruguay  \n",
       "5              Paraguay  \n",
       "6               Ukraine  \n",
       "7           South Korea  \n",
       "8              Bulgaria  \n",
       "9               Germany  \n",
       "10            Argentina  \n",
       "11               Brazil  \n",
       "12             Portugal  \n",
       "13              Croatia  \n",
       "14               Sweden  \n",
       "15  Republic of Ireland  \n",
       "16                Spain  \n",
       "17           Costa Rica  \n",
       "18               Russia  \n",
       "19               Poland  \n",
       "20                Italy  \n",
       "21               France  \n",
       "22              Denmark  \n",
       "23          Netherlands  \n",
       "24          Switzerland  \n",
       "25              England  "
      ]
     },
     "execution_count": 101,
     "metadata": {},
     "output_type": "execute_result"
    }
   ],
   "source": [
    "win_pct"
   ]
  },
  {
   "cell_type": "code",
   "execution_count": 102,
   "id": "6779c959",
   "metadata": {},
   "outputs": [
    {
     "data": {
      "text/html": [
       "<div>\n",
       "<style scoped>\n",
       "    .dataframe tbody tr th:only-of-type {\n",
       "        vertical-align: middle;\n",
       "    }\n",
       "\n",
       "    .dataframe tbody tr th {\n",
       "        vertical-align: top;\n",
       "    }\n",
       "\n",
       "    .dataframe thead th {\n",
       "        text-align: right;\n",
       "    }\n",
       "</style>\n",
       "<table border=\"1\" class=\"dataframe\">\n",
       "  <thead>\n",
       "    <tr style=\"text-align: right;\">\n",
       "      <th></th>\n",
       "      <th>Penalties Scored %Rank</th>\n",
       "      <th>% Total Penalties Scored</th>\n",
       "      <th>Penalties Missed</th>\n",
       "      <th>Penalties Scored</th>\n",
       "      <th>Team</th>\n",
       "      <th>text</th>\n",
       "    </tr>\n",
       "  </thead>\n",
       "  <tbody>\n",
       "    <tr>\n",
       "      <th>0</th>\n",
       "      <td>1</td>\n",
       "      <td>100</td>\n",
       "      <td>0</td>\n",
       "      <td>5</td>\n",
       "      <td>Belgium</td>\n",
       "      <td>100%</td>\n",
       "    </tr>\n",
       "    <tr>\n",
       "      <th>1</th>\n",
       "      <td>1</td>\n",
       "      <td>100</td>\n",
       "      <td>0</td>\n",
       "      <td>6</td>\n",
       "      <td>Czech Republic</td>\n",
       "      <td>100%</td>\n",
       "    </tr>\n",
       "    <tr>\n",
       "      <th>2</th>\n",
       "      <td>1</td>\n",
       "      <td>100</td>\n",
       "      <td>0</td>\n",
       "      <td>14</td>\n",
       "      <td>Czechoslovakia</td>\n",
       "      <td>100%</td>\n",
       "    </tr>\n",
       "    <tr>\n",
       "      <th>3</th>\n",
       "      <td>1</td>\n",
       "      <td>100</td>\n",
       "      <td>0</td>\n",
       "      <td>5</td>\n",
       "      <td>Paraguay</td>\n",
       "      <td>100%</td>\n",
       "    </tr>\n",
       "    <tr>\n",
       "      <th>4</th>\n",
       "      <td>1</td>\n",
       "      <td>100</td>\n",
       "      <td>0</td>\n",
       "      <td>5</td>\n",
       "      <td>South Korea</td>\n",
       "      <td>100%</td>\n",
       "    </tr>\n",
       "    <tr>\n",
       "      <th>5</th>\n",
       "      <td>1</td>\n",
       "      <td>100</td>\n",
       "      <td>0</td>\n",
       "      <td>3</td>\n",
       "      <td>Turkey</td>\n",
       "      <td>100%</td>\n",
       "    </tr>\n",
       "    <tr>\n",
       "      <th>6</th>\n",
       "      <td>2</td>\n",
       "      <td>89</td>\n",
       "      <td>1</td>\n",
       "      <td>8</td>\n",
       "      <td>Poland</td>\n",
       "      <td>89%</td>\n",
       "    </tr>\n",
       "    <tr>\n",
       "      <th>7</th>\n",
       "      <td>3</td>\n",
       "      <td>86</td>\n",
       "      <td>5</td>\n",
       "      <td>32</td>\n",
       "      <td>Germany</td>\n",
       "      <td>86%</td>\n",
       "    </tr>\n",
       "    <tr>\n",
       "      <th>8</th>\n",
       "      <td>4</td>\n",
       "      <td>81</td>\n",
       "      <td>7</td>\n",
       "      <td>29</td>\n",
       "      <td>France</td>\n",
       "      <td>81%</td>\n",
       "    </tr>\n",
       "    <tr>\n",
       "      <th>9</th>\n",
       "      <td>5</td>\n",
       "      <td>80</td>\n",
       "      <td>2</td>\n",
       "      <td>8</td>\n",
       "      <td>Costa Rica</td>\n",
       "      <td>80%</td>\n",
       "    </tr>\n",
       "    <tr>\n",
       "      <th>10</th>\n",
       "      <td>5</td>\n",
       "      <td>80</td>\n",
       "      <td>1</td>\n",
       "      <td>4</td>\n",
       "      <td>Uruguay</td>\n",
       "      <td>80%</td>\n",
       "    </tr>\n",
       "    <tr>\n",
       "      <th>11</th>\n",
       "      <td>6</td>\n",
       "      <td>78</td>\n",
       "      <td>2</td>\n",
       "      <td>7</td>\n",
       "      <td>Russia</td>\n",
       "      <td>78%</td>\n",
       "    </tr>\n",
       "    <tr>\n",
       "      <th>12</th>\n",
       "      <td>7</td>\n",
       "      <td>77</td>\n",
       "      <td>5</td>\n",
       "      <td>17</td>\n",
       "      <td>Argentina</td>\n",
       "      <td>77%</td>\n",
       "    </tr>\n",
       "    <tr>\n",
       "      <th>13</th>\n",
       "      <td>8</td>\n",
       "      <td>76</td>\n",
       "      <td>5</td>\n",
       "      <td>16</td>\n",
       "      <td>Portugal</td>\n",
       "      <td>76%</td>\n",
       "    </tr>\n",
       "    <tr>\n",
       "      <th>14</th>\n",
       "      <td>9</td>\n",
       "      <td>75</td>\n",
       "      <td>1</td>\n",
       "      <td>3</td>\n",
       "      <td>Bulgaria</td>\n",
       "      <td>75%</td>\n",
       "    </tr>\n",
       "    <tr>\n",
       "      <th>15</th>\n",
       "      <td>9</td>\n",
       "      <td>75</td>\n",
       "      <td>1</td>\n",
       "      <td>3</td>\n",
       "      <td>Greece</td>\n",
       "      <td>75%</td>\n",
       "    </tr>\n",
       "    <tr>\n",
       "      <th>16</th>\n",
       "      <td>9</td>\n",
       "      <td>75</td>\n",
       "      <td>1</td>\n",
       "      <td>3</td>\n",
       "      <td>Japan</td>\n",
       "      <td>75%</td>\n",
       "    </tr>\n",
       "    <tr>\n",
       "      <th>17</th>\n",
       "      <td>9</td>\n",
       "      <td>75</td>\n",
       "      <td>3</td>\n",
       "      <td>9</td>\n",
       "      <td>Sweden</td>\n",
       "      <td>75%</td>\n",
       "    </tr>\n",
       "    <tr>\n",
       "      <th>18</th>\n",
       "      <td>9</td>\n",
       "      <td>75</td>\n",
       "      <td>1</td>\n",
       "      <td>3</td>\n",
       "      <td>Ukraine</td>\n",
       "      <td>75%</td>\n",
       "    </tr>\n",
       "    <tr>\n",
       "      <th>19</th>\n",
       "      <td>10</td>\n",
       "      <td>73</td>\n",
       "      <td>4</td>\n",
       "      <td>11</td>\n",
       "      <td>Denmark</td>\n",
       "      <td>73%</td>\n",
       "    </tr>\n",
       "    <tr>\n",
       "      <th>20</th>\n",
       "      <td>10</td>\n",
       "      <td>73</td>\n",
       "      <td>3</td>\n",
       "      <td>8</td>\n",
       "      <td>Romania</td>\n",
       "      <td>73%</td>\n",
       "    </tr>\n",
       "    <tr>\n",
       "      <th>21</th>\n",
       "      <td>11</td>\n",
       "      <td>72</td>\n",
       "      <td>5</td>\n",
       "      <td>13</td>\n",
       "      <td>Brazil</td>\n",
       "      <td>72%</td>\n",
       "    </tr>\n",
       "    <tr>\n",
       "      <th>22</th>\n",
       "      <td>12</td>\n",
       "      <td>70</td>\n",
       "      <td>3</td>\n",
       "      <td>7</td>\n",
       "      <td>Republic of Ireland</td>\n",
       "      <td>70%</td>\n",
       "    </tr>\n",
       "    <tr>\n",
       "      <th>23</th>\n",
       "      <td>12</td>\n",
       "      <td>70</td>\n",
       "      <td>14</td>\n",
       "      <td>33</td>\n",
       "      <td>Spain</td>\n",
       "      <td>70%</td>\n",
       "    </tr>\n",
       "    <tr>\n",
       "      <th>24</th>\n",
       "      <td>13</td>\n",
       "      <td>69</td>\n",
       "      <td>19</td>\n",
       "      <td>42</td>\n",
       "      <td>Italy</td>\n",
       "      <td>69%</td>\n",
       "    </tr>\n",
       "    <tr>\n",
       "      <th>25</th>\n",
       "      <td>13</td>\n",
       "      <td>69</td>\n",
       "      <td>10</td>\n",
       "      <td>22</td>\n",
       "      <td>Netherlands</td>\n",
       "      <td>69%</td>\n",
       "    </tr>\n",
       "    <tr>\n",
       "      <th>26</th>\n",
       "      <td>14</td>\n",
       "      <td>64</td>\n",
       "      <td>16</td>\n",
       "      <td>29</td>\n",
       "      <td>England</td>\n",
       "      <td>64%</td>\n",
       "    </tr>\n",
       "    <tr>\n",
       "      <th>27</th>\n",
       "      <td>15</td>\n",
       "      <td>60</td>\n",
       "      <td>2</td>\n",
       "      <td>3</td>\n",
       "      <td>Colombia</td>\n",
       "      <td>60%</td>\n",
       "    </tr>\n",
       "    <tr>\n",
       "      <th>28</th>\n",
       "      <td>16</td>\n",
       "      <td>59</td>\n",
       "      <td>7</td>\n",
       "      <td>10</td>\n",
       "      <td>Switzerland</td>\n",
       "      <td>59%</td>\n",
       "    </tr>\n",
       "    <tr>\n",
       "      <th>29</th>\n",
       "      <td>17</td>\n",
       "      <td>57</td>\n",
       "      <td>6</td>\n",
       "      <td>8</td>\n",
       "      <td>Croatia</td>\n",
       "      <td>57%</td>\n",
       "    </tr>\n",
       "    <tr>\n",
       "      <th>30</th>\n",
       "      <td>18</td>\n",
       "      <td>50</td>\n",
       "      <td>2</td>\n",
       "      <td>2</td>\n",
       "      <td>Ghana</td>\n",
       "      <td>50%</td>\n",
       "    </tr>\n",
       "    <tr>\n",
       "      <th>31</th>\n",
       "      <td>19</td>\n",
       "      <td>40</td>\n",
       "      <td>3</td>\n",
       "      <td>2</td>\n",
       "      <td>Chile</td>\n",
       "      <td>40%</td>\n",
       "    </tr>\n",
       "    <tr>\n",
       "      <th>32</th>\n",
       "      <td>19</td>\n",
       "      <td>40</td>\n",
       "      <td>3</td>\n",
       "      <td>2</td>\n",
       "      <td>Yugoslavia</td>\n",
       "      <td>40%</td>\n",
       "    </tr>\n",
       "    <tr>\n",
       "      <th>33</th>\n",
       "      <td>20</td>\n",
       "      <td>29</td>\n",
       "      <td>5</td>\n",
       "      <td>2</td>\n",
       "      <td>Mexico</td>\n",
       "      <td>29%</td>\n",
       "    </tr>\n",
       "  </tbody>\n",
       "</table>\n",
       "</div>"
      ],
      "text/plain": [
       "    Penalties Scored %Rank  % Total Penalties Scored  Penalties Missed  \\\n",
       "0                        1                       100                 0   \n",
       "1                        1                       100                 0   \n",
       "2                        1                       100                 0   \n",
       "3                        1                       100                 0   \n",
       "4                        1                       100                 0   \n",
       "5                        1                       100                 0   \n",
       "6                        2                        89                 1   \n",
       "7                        3                        86                 5   \n",
       "8                        4                        81                 7   \n",
       "9                        5                        80                 2   \n",
       "10                       5                        80                 1   \n",
       "11                       6                        78                 2   \n",
       "12                       7                        77                 5   \n",
       "13                       8                        76                 5   \n",
       "14                       9                        75                 1   \n",
       "15                       9                        75                 1   \n",
       "16                       9                        75                 1   \n",
       "17                       9                        75                 3   \n",
       "18                       9                        75                 1   \n",
       "19                      10                        73                 4   \n",
       "20                      10                        73                 3   \n",
       "21                      11                        72                 5   \n",
       "22                      12                        70                 3   \n",
       "23                      12                        70                14   \n",
       "24                      13                        69                19   \n",
       "25                      13                        69                10   \n",
       "26                      14                        64                16   \n",
       "27                      15                        60                 2   \n",
       "28                      16                        59                 7   \n",
       "29                      17                        57                 6   \n",
       "30                      18                        50                 2   \n",
       "31                      19                        40                 3   \n",
       "32                      19                        40                 3   \n",
       "33                      20                        29                 5   \n",
       "\n",
       "    Penalties Scored                 Team  text  \n",
       "0                  5              Belgium  100%  \n",
       "1                  6       Czech Republic  100%  \n",
       "2                 14       Czechoslovakia  100%  \n",
       "3                  5             Paraguay  100%  \n",
       "4                  5          South Korea  100%  \n",
       "5                  3               Turkey  100%  \n",
       "6                  8               Poland   89%  \n",
       "7                 32              Germany   86%  \n",
       "8                 29               France   81%  \n",
       "9                  8           Costa Rica   80%  \n",
       "10                 4              Uruguay   80%  \n",
       "11                 7               Russia   78%  \n",
       "12                17            Argentina   77%  \n",
       "13                16             Portugal   76%  \n",
       "14                 3             Bulgaria   75%  \n",
       "15                 3               Greece   75%  \n",
       "16                 3                Japan   75%  \n",
       "17                 9               Sweden   75%  \n",
       "18                 3              Ukraine   75%  \n",
       "19                11              Denmark   73%  \n",
       "20                 8              Romania   73%  \n",
       "21                13               Brazil   72%  \n",
       "22                 7  Republic of Ireland   70%  \n",
       "23                33                Spain   70%  \n",
       "24                42                Italy   69%  \n",
       "25                22          Netherlands   69%  \n",
       "26                29              England   64%  \n",
       "27                 3             Colombia   60%  \n",
       "28                10          Switzerland   59%  \n",
       "29                 8              Croatia   57%  \n",
       "30                 2                Ghana   50%  \n",
       "31                 2                Chile   40%  \n",
       "32                 2           Yugoslavia   40%  \n",
       "33                 2               Mexico   29%  "
      ]
     },
     "execution_count": 102,
     "metadata": {},
     "output_type": "execute_result"
    }
   ],
   "source": [
    "score_pct[\"text\"] = score_pct[\"% Total Penalties Scored\"].astype(str)\n",
    "score_pct[\"text\"] = score_pct[\"text\"].map(lambda x: x + \"%\")\n",
    "score_pct"
   ]
  },
  {
   "cell_type": "code",
   "execution_count": 112,
   "id": "82d0603d",
   "metadata": {},
   "outputs": [
    {
     "data": {
      "application/vnd.plotly.v1+json": {
       "config": {
        "plotlyServerURL": "https://plot.ly"
       },
       "data": [
        {
         "hoverinfo": "y+text",
         "orientation": "h",
         "text": [
          "100%",
          "100%",
          "100%",
          "100%",
          "100%",
          "100%",
          "89%",
          "86%",
          "81%",
          "80%",
          "80%",
          "78%",
          "77%",
          "76%",
          "75%",
          "75%",
          "75%",
          "75%",
          "75%",
          "73%",
          "73%",
          "72%",
          "70%",
          "70%",
          "69%",
          "69%",
          "64%",
          "60%",
          "59%",
          "57%",
          "50%",
          "40%",
          "40%",
          "29%"
         ],
         "textposition": "outside",
         "type": "bar",
         "x": [
          100,
          100,
          100,
          100,
          100,
          100,
          89,
          86,
          81,
          80,
          80,
          78,
          77,
          76,
          75,
          75,
          75,
          75,
          75,
          73,
          73,
          72,
          70,
          70,
          69,
          69,
          64,
          60,
          59,
          57,
          50,
          40,
          40,
          29
         ],
         "y": [
          "Belgium",
          "Czech Republic",
          "Czechoslovakia",
          "Paraguay",
          "South Korea",
          "Turkey",
          "Poland",
          "Germany",
          "France",
          "Costa Rica",
          "Uruguay",
          "Russia",
          "Argentina",
          "Portugal",
          "Bulgaria",
          "Greece",
          "Japan",
          "Sweden",
          "Ukraine",
          "Denmark",
          "Romania",
          "Brazil",
          "Republic of Ireland",
          "Spain",
          "Italy",
          "Netherlands",
          "England",
          "Colombia",
          "Switzerland",
          "Croatia",
          "Ghana",
          "Chile",
          "Yugoslavia",
          "Mexico"
         ]
        }
       ],
       "layout": {
        "template": {
         "data": {
          "bar": [
           {
            "error_x": {
             "color": "#2a3f5f"
            },
            "error_y": {
             "color": "#2a3f5f"
            },
            "marker": {
             "line": {
              "color": "#E5ECF6",
              "width": 0.5
             },
             "pattern": {
              "fillmode": "overlay",
              "size": 10,
              "solidity": 0.2
             }
            },
            "type": "bar"
           }
          ],
          "barpolar": [
           {
            "marker": {
             "line": {
              "color": "#E5ECF6",
              "width": 0.5
             },
             "pattern": {
              "fillmode": "overlay",
              "size": 10,
              "solidity": 0.2
             }
            },
            "type": "barpolar"
           }
          ],
          "carpet": [
           {
            "aaxis": {
             "endlinecolor": "#2a3f5f",
             "gridcolor": "white",
             "linecolor": "white",
             "minorgridcolor": "white",
             "startlinecolor": "#2a3f5f"
            },
            "baxis": {
             "endlinecolor": "#2a3f5f",
             "gridcolor": "white",
             "linecolor": "white",
             "minorgridcolor": "white",
             "startlinecolor": "#2a3f5f"
            },
            "type": "carpet"
           }
          ],
          "choropleth": [
           {
            "colorbar": {
             "outlinewidth": 0,
             "ticks": ""
            },
            "type": "choropleth"
           }
          ],
          "contour": [
           {
            "colorbar": {
             "outlinewidth": 0,
             "ticks": ""
            },
            "colorscale": [
             [
              0,
              "#0d0887"
             ],
             [
              0.1111111111111111,
              "#46039f"
             ],
             [
              0.2222222222222222,
              "#7201a8"
             ],
             [
              0.3333333333333333,
              "#9c179e"
             ],
             [
              0.4444444444444444,
              "#bd3786"
             ],
             [
              0.5555555555555556,
              "#d8576b"
             ],
             [
              0.6666666666666666,
              "#ed7953"
             ],
             [
              0.7777777777777778,
              "#fb9f3a"
             ],
             [
              0.8888888888888888,
              "#fdca26"
             ],
             [
              1,
              "#f0f921"
             ]
            ],
            "type": "contour"
           }
          ],
          "contourcarpet": [
           {
            "colorbar": {
             "outlinewidth": 0,
             "ticks": ""
            },
            "type": "contourcarpet"
           }
          ],
          "heatmap": [
           {
            "colorbar": {
             "outlinewidth": 0,
             "ticks": ""
            },
            "colorscale": [
             [
              0,
              "#0d0887"
             ],
             [
              0.1111111111111111,
              "#46039f"
             ],
             [
              0.2222222222222222,
              "#7201a8"
             ],
             [
              0.3333333333333333,
              "#9c179e"
             ],
             [
              0.4444444444444444,
              "#bd3786"
             ],
             [
              0.5555555555555556,
              "#d8576b"
             ],
             [
              0.6666666666666666,
              "#ed7953"
             ],
             [
              0.7777777777777778,
              "#fb9f3a"
             ],
             [
              0.8888888888888888,
              "#fdca26"
             ],
             [
              1,
              "#f0f921"
             ]
            ],
            "type": "heatmap"
           }
          ],
          "heatmapgl": [
           {
            "colorbar": {
             "outlinewidth": 0,
             "ticks": ""
            },
            "colorscale": [
             [
              0,
              "#0d0887"
             ],
             [
              0.1111111111111111,
              "#46039f"
             ],
             [
              0.2222222222222222,
              "#7201a8"
             ],
             [
              0.3333333333333333,
              "#9c179e"
             ],
             [
              0.4444444444444444,
              "#bd3786"
             ],
             [
              0.5555555555555556,
              "#d8576b"
             ],
             [
              0.6666666666666666,
              "#ed7953"
             ],
             [
              0.7777777777777778,
              "#fb9f3a"
             ],
             [
              0.8888888888888888,
              "#fdca26"
             ],
             [
              1,
              "#f0f921"
             ]
            ],
            "type": "heatmapgl"
           }
          ],
          "histogram": [
           {
            "marker": {
             "pattern": {
              "fillmode": "overlay",
              "size": 10,
              "solidity": 0.2
             }
            },
            "type": "histogram"
           }
          ],
          "histogram2d": [
           {
            "colorbar": {
             "outlinewidth": 0,
             "ticks": ""
            },
            "colorscale": [
             [
              0,
              "#0d0887"
             ],
             [
              0.1111111111111111,
              "#46039f"
             ],
             [
              0.2222222222222222,
              "#7201a8"
             ],
             [
              0.3333333333333333,
              "#9c179e"
             ],
             [
              0.4444444444444444,
              "#bd3786"
             ],
             [
              0.5555555555555556,
              "#d8576b"
             ],
             [
              0.6666666666666666,
              "#ed7953"
             ],
             [
              0.7777777777777778,
              "#fb9f3a"
             ],
             [
              0.8888888888888888,
              "#fdca26"
             ],
             [
              1,
              "#f0f921"
             ]
            ],
            "type": "histogram2d"
           }
          ],
          "histogram2dcontour": [
           {
            "colorbar": {
             "outlinewidth": 0,
             "ticks": ""
            },
            "colorscale": [
             [
              0,
              "#0d0887"
             ],
             [
              0.1111111111111111,
              "#46039f"
             ],
             [
              0.2222222222222222,
              "#7201a8"
             ],
             [
              0.3333333333333333,
              "#9c179e"
             ],
             [
              0.4444444444444444,
              "#bd3786"
             ],
             [
              0.5555555555555556,
              "#d8576b"
             ],
             [
              0.6666666666666666,
              "#ed7953"
             ],
             [
              0.7777777777777778,
              "#fb9f3a"
             ],
             [
              0.8888888888888888,
              "#fdca26"
             ],
             [
              1,
              "#f0f921"
             ]
            ],
            "type": "histogram2dcontour"
           }
          ],
          "mesh3d": [
           {
            "colorbar": {
             "outlinewidth": 0,
             "ticks": ""
            },
            "type": "mesh3d"
           }
          ],
          "parcoords": [
           {
            "line": {
             "colorbar": {
              "outlinewidth": 0,
              "ticks": ""
             }
            },
            "type": "parcoords"
           }
          ],
          "pie": [
           {
            "automargin": true,
            "type": "pie"
           }
          ],
          "scatter": [
           {
            "fillpattern": {
             "fillmode": "overlay",
             "size": 10,
             "solidity": 0.2
            },
            "type": "scatter"
           }
          ],
          "scatter3d": [
           {
            "line": {
             "colorbar": {
              "outlinewidth": 0,
              "ticks": ""
             }
            },
            "marker": {
             "colorbar": {
              "outlinewidth": 0,
              "ticks": ""
             }
            },
            "type": "scatter3d"
           }
          ],
          "scattercarpet": [
           {
            "marker": {
             "colorbar": {
              "outlinewidth": 0,
              "ticks": ""
             }
            },
            "type": "scattercarpet"
           }
          ],
          "scattergeo": [
           {
            "marker": {
             "colorbar": {
              "outlinewidth": 0,
              "ticks": ""
             }
            },
            "type": "scattergeo"
           }
          ],
          "scattergl": [
           {
            "marker": {
             "colorbar": {
              "outlinewidth": 0,
              "ticks": ""
             }
            },
            "type": "scattergl"
           }
          ],
          "scattermapbox": [
           {
            "marker": {
             "colorbar": {
              "outlinewidth": 0,
              "ticks": ""
             }
            },
            "type": "scattermapbox"
           }
          ],
          "scatterpolar": [
           {
            "marker": {
             "colorbar": {
              "outlinewidth": 0,
              "ticks": ""
             }
            },
            "type": "scatterpolar"
           }
          ],
          "scatterpolargl": [
           {
            "marker": {
             "colorbar": {
              "outlinewidth": 0,
              "ticks": ""
             }
            },
            "type": "scatterpolargl"
           }
          ],
          "scatterternary": [
           {
            "marker": {
             "colorbar": {
              "outlinewidth": 0,
              "ticks": ""
             }
            },
            "type": "scatterternary"
           }
          ],
          "surface": [
           {
            "colorbar": {
             "outlinewidth": 0,
             "ticks": ""
            },
            "colorscale": [
             [
              0,
              "#0d0887"
             ],
             [
              0.1111111111111111,
              "#46039f"
             ],
             [
              0.2222222222222222,
              "#7201a8"
             ],
             [
              0.3333333333333333,
              "#9c179e"
             ],
             [
              0.4444444444444444,
              "#bd3786"
             ],
             [
              0.5555555555555556,
              "#d8576b"
             ],
             [
              0.6666666666666666,
              "#ed7953"
             ],
             [
              0.7777777777777778,
              "#fb9f3a"
             ],
             [
              0.8888888888888888,
              "#fdca26"
             ],
             [
              1,
              "#f0f921"
             ]
            ],
            "type": "surface"
           }
          ],
          "table": [
           {
            "cells": {
             "fill": {
              "color": "#EBF0F8"
             },
             "line": {
              "color": "white"
             }
            },
            "header": {
             "fill": {
              "color": "#C8D4E3"
             },
             "line": {
              "color": "white"
             }
            },
            "type": "table"
           }
          ]
         },
         "layout": {
          "annotationdefaults": {
           "arrowcolor": "#2a3f5f",
           "arrowhead": 0,
           "arrowwidth": 1
          },
          "autotypenumbers": "strict",
          "coloraxis": {
           "colorbar": {
            "outlinewidth": 0,
            "ticks": ""
           }
          },
          "colorscale": {
           "diverging": [
            [
             0,
             "#8e0152"
            ],
            [
             0.1,
             "#c51b7d"
            ],
            [
             0.2,
             "#de77ae"
            ],
            [
             0.3,
             "#f1b6da"
            ],
            [
             0.4,
             "#fde0ef"
            ],
            [
             0.5,
             "#f7f7f7"
            ],
            [
             0.6,
             "#e6f5d0"
            ],
            [
             0.7,
             "#b8e186"
            ],
            [
             0.8,
             "#7fbc41"
            ],
            [
             0.9,
             "#4d9221"
            ],
            [
             1,
             "#276419"
            ]
           ],
           "sequential": [
            [
             0,
             "#0d0887"
            ],
            [
             0.1111111111111111,
             "#46039f"
            ],
            [
             0.2222222222222222,
             "#7201a8"
            ],
            [
             0.3333333333333333,
             "#9c179e"
            ],
            [
             0.4444444444444444,
             "#bd3786"
            ],
            [
             0.5555555555555556,
             "#d8576b"
            ],
            [
             0.6666666666666666,
             "#ed7953"
            ],
            [
             0.7777777777777778,
             "#fb9f3a"
            ],
            [
             0.8888888888888888,
             "#fdca26"
            ],
            [
             1,
             "#f0f921"
            ]
           ],
           "sequentialminus": [
            [
             0,
             "#0d0887"
            ],
            [
             0.1111111111111111,
             "#46039f"
            ],
            [
             0.2222222222222222,
             "#7201a8"
            ],
            [
             0.3333333333333333,
             "#9c179e"
            ],
            [
             0.4444444444444444,
             "#bd3786"
            ],
            [
             0.5555555555555556,
             "#d8576b"
            ],
            [
             0.6666666666666666,
             "#ed7953"
            ],
            [
             0.7777777777777778,
             "#fb9f3a"
            ],
            [
             0.8888888888888888,
             "#fdca26"
            ],
            [
             1,
             "#f0f921"
            ]
           ]
          },
          "colorway": [
           "#636efa",
           "#EF553B",
           "#00cc96",
           "#ab63fa",
           "#FFA15A",
           "#19d3f3",
           "#FF6692",
           "#B6E880",
           "#FF97FF",
           "#FECB52"
          ],
          "font": {
           "color": "#2a3f5f"
          },
          "geo": {
           "bgcolor": "white",
           "lakecolor": "white",
           "landcolor": "#E5ECF6",
           "showlakes": true,
           "showland": true,
           "subunitcolor": "white"
          },
          "hoverlabel": {
           "align": "left"
          },
          "hovermode": "closest",
          "mapbox": {
           "style": "light"
          },
          "paper_bgcolor": "white",
          "plot_bgcolor": "#E5ECF6",
          "polar": {
           "angularaxis": {
            "gridcolor": "white",
            "linecolor": "white",
            "ticks": ""
           },
           "bgcolor": "#E5ECF6",
           "radialaxis": {
            "gridcolor": "white",
            "linecolor": "white",
            "ticks": ""
           }
          },
          "scene": {
           "xaxis": {
            "backgroundcolor": "#E5ECF6",
            "gridcolor": "white",
            "gridwidth": 2,
            "linecolor": "white",
            "showbackground": true,
            "ticks": "",
            "zerolinecolor": "white"
           },
           "yaxis": {
            "backgroundcolor": "#E5ECF6",
            "gridcolor": "white",
            "gridwidth": 2,
            "linecolor": "white",
            "showbackground": true,
            "ticks": "",
            "zerolinecolor": "white"
           },
           "zaxis": {
            "backgroundcolor": "#E5ECF6",
            "gridcolor": "white",
            "gridwidth": 2,
            "linecolor": "white",
            "showbackground": true,
            "ticks": "",
            "zerolinecolor": "white"
           }
          },
          "shapedefaults": {
           "line": {
            "color": "#2a3f5f"
           }
          },
          "ternary": {
           "aaxis": {
            "gridcolor": "white",
            "linecolor": "white",
            "ticks": ""
           },
           "baxis": {
            "gridcolor": "white",
            "linecolor": "white",
            "ticks": ""
           },
           "bgcolor": "#E5ECF6",
           "caxis": {
            "gridcolor": "white",
            "linecolor": "white",
            "ticks": ""
           }
          },
          "title": {
           "x": 0.05
          },
          "xaxis": {
           "automargin": true,
           "gridcolor": "white",
           "linecolor": "white",
           "ticks": "",
           "title": {
            "standoff": 15
           },
           "zerolinecolor": "white",
           "zerolinewidth": 2
          },
          "yaxis": {
           "automargin": true,
           "gridcolor": "white",
           "linecolor": "white",
           "ticks": "",
           "title": {
            "standoff": 15
           },
           "zerolinecolor": "white",
           "zerolinewidth": 2
          }
         }
        },
        "title": {
         "text": "Penalty Win %"
        },
        "yaxis": {
         "showgrid": false,
         "showline": false,
         "showticklabels": true
        }
       }
      },
      "text/html": [
       "<div>                            <div id=\"654a4379-3879-4b7c-96aa-f44b08a055c1\" class=\"plotly-graph-div\" style=\"height:525px; width:100%;\"></div>            <script type=\"text/javascript\">                require([\"plotly\"], function(Plotly) {                    window.PLOTLYENV=window.PLOTLYENV || {};                                    if (document.getElementById(\"654a4379-3879-4b7c-96aa-f44b08a055c1\")) {                    Plotly.newPlot(                        \"654a4379-3879-4b7c-96aa-f44b08a055c1\",                        [{\"hoverinfo\":\"y+text\",\"orientation\":\"h\",\"text\":[\"100%\",\"100%\",\"100%\",\"100%\",\"100%\",\"100%\",\"89%\",\"86%\",\"81%\",\"80%\",\"80%\",\"78%\",\"77%\",\"76%\",\"75%\",\"75%\",\"75%\",\"75%\",\"75%\",\"73%\",\"73%\",\"72%\",\"70%\",\"70%\",\"69%\",\"69%\",\"64%\",\"60%\",\"59%\",\"57%\",\"50%\",\"40%\",\"40%\",\"29%\"],\"textposition\":\"outside\",\"x\":[100,100,100,100,100,100,89,86,81,80,80,78,77,76,75,75,75,75,75,73,73,72,70,70,69,69,64,60,59,57,50,40,40,29],\"y\":[\"Belgium\",\"Czech Republic\",\"Czechoslovakia\",\"Paraguay\",\"South Korea\",\"Turkey\",\"Poland\",\"Germany\",\"France\",\"Costa Rica\",\"Uruguay\",\"Russia\",\"Argentina\",\"Portugal\",\"Bulgaria\",\"Greece\",\"Japan\",\"Sweden\",\"Ukraine\",\"Denmark\",\"Romania\",\"Brazil\",\"Republic of Ireland\",\"Spain\",\"Italy\",\"Netherlands\",\"England\",\"Colombia\",\"Switzerland\",\"Croatia\",\"Ghana\",\"Chile\",\"Yugoslavia\",\"Mexico\"],\"type\":\"bar\"}],                        {\"title\":{\"text\":\"Penalty Win %\"},\"template\":{\"data\":{\"histogram2dcontour\":[{\"type\":\"histogram2dcontour\",\"colorbar\":{\"outlinewidth\":0,\"ticks\":\"\"},\"colorscale\":[[0.0,\"#0d0887\"],[0.1111111111111111,\"#46039f\"],[0.2222222222222222,\"#7201a8\"],[0.3333333333333333,\"#9c179e\"],[0.4444444444444444,\"#bd3786\"],[0.5555555555555556,\"#d8576b\"],[0.6666666666666666,\"#ed7953\"],[0.7777777777777778,\"#fb9f3a\"],[0.8888888888888888,\"#fdca26\"],[1.0,\"#f0f921\"]]}],\"choropleth\":[{\"type\":\"choropleth\",\"colorbar\":{\"outlinewidth\":0,\"ticks\":\"\"}}],\"histogram2d\":[{\"type\":\"histogram2d\",\"colorbar\":{\"outlinewidth\":0,\"ticks\":\"\"},\"colorscale\":[[0.0,\"#0d0887\"],[0.1111111111111111,\"#46039f\"],[0.2222222222222222,\"#7201a8\"],[0.3333333333333333,\"#9c179e\"],[0.4444444444444444,\"#bd3786\"],[0.5555555555555556,\"#d8576b\"],[0.6666666666666666,\"#ed7953\"],[0.7777777777777778,\"#fb9f3a\"],[0.8888888888888888,\"#fdca26\"],[1.0,\"#f0f921\"]]}],\"heatmap\":[{\"type\":\"heatmap\",\"colorbar\":{\"outlinewidth\":0,\"ticks\":\"\"},\"colorscale\":[[0.0,\"#0d0887\"],[0.1111111111111111,\"#46039f\"],[0.2222222222222222,\"#7201a8\"],[0.3333333333333333,\"#9c179e\"],[0.4444444444444444,\"#bd3786\"],[0.5555555555555556,\"#d8576b\"],[0.6666666666666666,\"#ed7953\"],[0.7777777777777778,\"#fb9f3a\"],[0.8888888888888888,\"#fdca26\"],[1.0,\"#f0f921\"]]}],\"heatmapgl\":[{\"type\":\"heatmapgl\",\"colorbar\":{\"outlinewidth\":0,\"ticks\":\"\"},\"colorscale\":[[0.0,\"#0d0887\"],[0.1111111111111111,\"#46039f\"],[0.2222222222222222,\"#7201a8\"],[0.3333333333333333,\"#9c179e\"],[0.4444444444444444,\"#bd3786\"],[0.5555555555555556,\"#d8576b\"],[0.6666666666666666,\"#ed7953\"],[0.7777777777777778,\"#fb9f3a\"],[0.8888888888888888,\"#fdca26\"],[1.0,\"#f0f921\"]]}],\"contourcarpet\":[{\"type\":\"contourcarpet\",\"colorbar\":{\"outlinewidth\":0,\"ticks\":\"\"}}],\"contour\":[{\"type\":\"contour\",\"colorbar\":{\"outlinewidth\":0,\"ticks\":\"\"},\"colorscale\":[[0.0,\"#0d0887\"],[0.1111111111111111,\"#46039f\"],[0.2222222222222222,\"#7201a8\"],[0.3333333333333333,\"#9c179e\"],[0.4444444444444444,\"#bd3786\"],[0.5555555555555556,\"#d8576b\"],[0.6666666666666666,\"#ed7953\"],[0.7777777777777778,\"#fb9f3a\"],[0.8888888888888888,\"#fdca26\"],[1.0,\"#f0f921\"]]}],\"surface\":[{\"type\":\"surface\",\"colorbar\":{\"outlinewidth\":0,\"ticks\":\"\"},\"colorscale\":[[0.0,\"#0d0887\"],[0.1111111111111111,\"#46039f\"],[0.2222222222222222,\"#7201a8\"],[0.3333333333333333,\"#9c179e\"],[0.4444444444444444,\"#bd3786\"],[0.5555555555555556,\"#d8576b\"],[0.6666666666666666,\"#ed7953\"],[0.7777777777777778,\"#fb9f3a\"],[0.8888888888888888,\"#fdca26\"],[1.0,\"#f0f921\"]]}],\"mesh3d\":[{\"type\":\"mesh3d\",\"colorbar\":{\"outlinewidth\":0,\"ticks\":\"\"}}],\"scatter\":[{\"fillpattern\":{\"fillmode\":\"overlay\",\"size\":10,\"solidity\":0.2},\"type\":\"scatter\"}],\"parcoords\":[{\"type\":\"parcoords\",\"line\":{\"colorbar\":{\"outlinewidth\":0,\"ticks\":\"\"}}}],\"scatterpolargl\":[{\"type\":\"scatterpolargl\",\"marker\":{\"colorbar\":{\"outlinewidth\":0,\"ticks\":\"\"}}}],\"bar\":[{\"error_x\":{\"color\":\"#2a3f5f\"},\"error_y\":{\"color\":\"#2a3f5f\"},\"marker\":{\"line\":{\"color\":\"#E5ECF6\",\"width\":0.5},\"pattern\":{\"fillmode\":\"overlay\",\"size\":10,\"solidity\":0.2}},\"type\":\"bar\"}],\"scattergeo\":[{\"type\":\"scattergeo\",\"marker\":{\"colorbar\":{\"outlinewidth\":0,\"ticks\":\"\"}}}],\"scatterpolar\":[{\"type\":\"scatterpolar\",\"marker\":{\"colorbar\":{\"outlinewidth\":0,\"ticks\":\"\"}}}],\"histogram\":[{\"marker\":{\"pattern\":{\"fillmode\":\"overlay\",\"size\":10,\"solidity\":0.2}},\"type\":\"histogram\"}],\"scattergl\":[{\"type\":\"scattergl\",\"marker\":{\"colorbar\":{\"outlinewidth\":0,\"ticks\":\"\"}}}],\"scatter3d\":[{\"type\":\"scatter3d\",\"line\":{\"colorbar\":{\"outlinewidth\":0,\"ticks\":\"\"}},\"marker\":{\"colorbar\":{\"outlinewidth\":0,\"ticks\":\"\"}}}],\"scattermapbox\":[{\"type\":\"scattermapbox\",\"marker\":{\"colorbar\":{\"outlinewidth\":0,\"ticks\":\"\"}}}],\"scatterternary\":[{\"type\":\"scatterternary\",\"marker\":{\"colorbar\":{\"outlinewidth\":0,\"ticks\":\"\"}}}],\"scattercarpet\":[{\"type\":\"scattercarpet\",\"marker\":{\"colorbar\":{\"outlinewidth\":0,\"ticks\":\"\"}}}],\"carpet\":[{\"aaxis\":{\"endlinecolor\":\"#2a3f5f\",\"gridcolor\":\"white\",\"linecolor\":\"white\",\"minorgridcolor\":\"white\",\"startlinecolor\":\"#2a3f5f\"},\"baxis\":{\"endlinecolor\":\"#2a3f5f\",\"gridcolor\":\"white\",\"linecolor\":\"white\",\"minorgridcolor\":\"white\",\"startlinecolor\":\"#2a3f5f\"},\"type\":\"carpet\"}],\"table\":[{\"cells\":{\"fill\":{\"color\":\"#EBF0F8\"},\"line\":{\"color\":\"white\"}},\"header\":{\"fill\":{\"color\":\"#C8D4E3\"},\"line\":{\"color\":\"white\"}},\"type\":\"table\"}],\"barpolar\":[{\"marker\":{\"line\":{\"color\":\"#E5ECF6\",\"width\":0.5},\"pattern\":{\"fillmode\":\"overlay\",\"size\":10,\"solidity\":0.2}},\"type\":\"barpolar\"}],\"pie\":[{\"automargin\":true,\"type\":\"pie\"}]},\"layout\":{\"autotypenumbers\":\"strict\",\"colorway\":[\"#636efa\",\"#EF553B\",\"#00cc96\",\"#ab63fa\",\"#FFA15A\",\"#19d3f3\",\"#FF6692\",\"#B6E880\",\"#FF97FF\",\"#FECB52\"],\"font\":{\"color\":\"#2a3f5f\"},\"hovermode\":\"closest\",\"hoverlabel\":{\"align\":\"left\"},\"paper_bgcolor\":\"white\",\"plot_bgcolor\":\"#E5ECF6\",\"polar\":{\"bgcolor\":\"#E5ECF6\",\"angularaxis\":{\"gridcolor\":\"white\",\"linecolor\":\"white\",\"ticks\":\"\"},\"radialaxis\":{\"gridcolor\":\"white\",\"linecolor\":\"white\",\"ticks\":\"\"}},\"ternary\":{\"bgcolor\":\"#E5ECF6\",\"aaxis\":{\"gridcolor\":\"white\",\"linecolor\":\"white\",\"ticks\":\"\"},\"baxis\":{\"gridcolor\":\"white\",\"linecolor\":\"white\",\"ticks\":\"\"},\"caxis\":{\"gridcolor\":\"white\",\"linecolor\":\"white\",\"ticks\":\"\"}},\"coloraxis\":{\"colorbar\":{\"outlinewidth\":0,\"ticks\":\"\"}},\"colorscale\":{\"sequential\":[[0.0,\"#0d0887\"],[0.1111111111111111,\"#46039f\"],[0.2222222222222222,\"#7201a8\"],[0.3333333333333333,\"#9c179e\"],[0.4444444444444444,\"#bd3786\"],[0.5555555555555556,\"#d8576b\"],[0.6666666666666666,\"#ed7953\"],[0.7777777777777778,\"#fb9f3a\"],[0.8888888888888888,\"#fdca26\"],[1.0,\"#f0f921\"]],\"sequentialminus\":[[0.0,\"#0d0887\"],[0.1111111111111111,\"#46039f\"],[0.2222222222222222,\"#7201a8\"],[0.3333333333333333,\"#9c179e\"],[0.4444444444444444,\"#bd3786\"],[0.5555555555555556,\"#d8576b\"],[0.6666666666666666,\"#ed7953\"],[0.7777777777777778,\"#fb9f3a\"],[0.8888888888888888,\"#fdca26\"],[1.0,\"#f0f921\"]],\"diverging\":[[0,\"#8e0152\"],[0.1,\"#c51b7d\"],[0.2,\"#de77ae\"],[0.3,\"#f1b6da\"],[0.4,\"#fde0ef\"],[0.5,\"#f7f7f7\"],[0.6,\"#e6f5d0\"],[0.7,\"#b8e186\"],[0.8,\"#7fbc41\"],[0.9,\"#4d9221\"],[1,\"#276419\"]]},\"xaxis\":{\"gridcolor\":\"white\",\"linecolor\":\"white\",\"ticks\":\"\",\"title\":{\"standoff\":15},\"zerolinecolor\":\"white\",\"automargin\":true,\"zerolinewidth\":2},\"yaxis\":{\"gridcolor\":\"white\",\"linecolor\":\"white\",\"ticks\":\"\",\"title\":{\"standoff\":15},\"zerolinecolor\":\"white\",\"automargin\":true,\"zerolinewidth\":2},\"scene\":{\"xaxis\":{\"backgroundcolor\":\"#E5ECF6\",\"gridcolor\":\"white\",\"linecolor\":\"white\",\"showbackground\":true,\"ticks\":\"\",\"zerolinecolor\":\"white\",\"gridwidth\":2},\"yaxis\":{\"backgroundcolor\":\"#E5ECF6\",\"gridcolor\":\"white\",\"linecolor\":\"white\",\"showbackground\":true,\"ticks\":\"\",\"zerolinecolor\":\"white\",\"gridwidth\":2},\"zaxis\":{\"backgroundcolor\":\"#E5ECF6\",\"gridcolor\":\"white\",\"linecolor\":\"white\",\"showbackground\":true,\"ticks\":\"\",\"zerolinecolor\":\"white\",\"gridwidth\":2}},\"shapedefaults\":{\"line\":{\"color\":\"#2a3f5f\"}},\"annotationdefaults\":{\"arrowcolor\":\"#2a3f5f\",\"arrowhead\":0,\"arrowwidth\":1},\"geo\":{\"bgcolor\":\"white\",\"landcolor\":\"#E5ECF6\",\"subunitcolor\":\"white\",\"showland\":true,\"showlakes\":true,\"lakecolor\":\"white\"},\"title\":{\"x\":0.05},\"mapbox\":{\"style\":\"light\"}}},\"yaxis\":{\"showgrid\":false,\"showline\":false,\"showticklabels\":true}},                        {\"responsive\": true}                    ).then(function(){\n",
       "                            \n",
       "var gd = document.getElementById('654a4379-3879-4b7c-96aa-f44b08a055c1');\n",
       "var x = new MutationObserver(function (mutations, observer) {{\n",
       "        var display = window.getComputedStyle(gd).display;\n",
       "        if (!display || display === 'none') {{\n",
       "            console.log([gd, 'removed!']);\n",
       "            Plotly.purge(gd);\n",
       "            observer.disconnect();\n",
       "        }}\n",
       "}});\n",
       "\n",
       "// Listen for the removal of the full notebook cells\n",
       "var notebookContainer = gd.closest('#notebook-container');\n",
       "if (notebookContainer) {{\n",
       "    x.observe(notebookContainer, {childList: true});\n",
       "}}\n",
       "\n",
       "// Listen for the clearing of the current output cell\n",
       "var outputEl = gd.closest('.output');\n",
       "if (outputEl) {{\n",
       "    x.observe(outputEl, {childList: true});\n",
       "}}\n",
       "\n",
       "                        })                };                });            </script>        </div>"
      ]
     },
     "metadata": {},
     "output_type": "display_data"
    }
   ],
   "source": [
    "trace = go.Bar(\n",
    "    y=score_pct[\"Team\"],\n",
    "    x=score_pct[\"% Total Penalties Scored\"],\n",
    "    text=score_pct[\"text\"],\n",
    "    orientation=\"h\",\n",
    "    textposition=\"outside\",\n",
    "    hoverinfo=\"y + text\"\n",
    "    )\n",
    "data = [trace]\n",
    "layout = go.Layout(title=\"Penalty Win %\")\n",
    "fig = go.Figure(data, layout)\n",
    "fig.show()"
   ]
  },
  {
   "cell_type": "code",
   "execution_count": null,
   "id": "51bd1c70",
   "metadata": {},
   "outputs": [],
   "source": []
  },
  {
   "cell_type": "markdown",
   "id": "10bd4ff0",
   "metadata": {},
   "source": [
    "### Dash board layout"
   ]
  },
  {
   "cell_type": "code",
   "execution_count": 29,
   "id": "21333dc2",
   "metadata": {},
   "outputs": [
    {
     "data": {
      "text/plain": [
       "[{'name': 'No.', 'id': 'No.'},\n",
       " {'name': 'Penalty Number ', 'id': 'Penalty Number '},\n",
       " {'name': 'Event Year', 'id': 'Event Year'},\n",
       " {'name': 'Winner', 'id': 'Winner'},\n",
       " {'name': 'Full Time Score', 'id': 'Full Time Score'},\n",
       " {'name': 'Loser', 'id': 'Loser'},\n",
       " {'name': 'Winning Team GK', 'id': 'Winning Team GK'},\n",
       " {'name': 'Losing Team GK', 'id': 'Losing Team GK'},\n",
       " {'name': 'Round', 'id': 'Round'},\n",
       " {'name': 'Winner Penalty type', 'id': 'Winner Penalty type'},\n",
       " {'name': 'Loser Penalty type', 'id': 'Loser Penalty type'},\n",
       " {'name': 'Winning team Kicker', 'id': 'Winning team Kicker'},\n",
       " {'name': 'Losing team Kicker', 'id': 'Losing team Kicker'}]"
      ]
     },
     "execution_count": 29,
     "metadata": {},
     "output_type": "execute_result"
    }
   ],
   "source": [
    "[{\"name\": i, \"id\": i} for i in world_cup.columns]"
   ]
  },
  {
   "cell_type": "code",
   "execution_count": 31,
   "id": "328b956e",
   "metadata": {},
   "outputs": [],
   "source": [
    "app = Dash(__name__)\n",
    "app.layout = dash_table.DataTable(style_data={\"whiteSpace\": \"normal\", \"height\": \"auto\"},\n",
    "                                  data=world_cup.to_dict(\"records\"), columns=[{\"name\": i, \"id\": i} for i in world_cup.columns],\n",
    "                                  fixed_rows={\"headers\": True},\n",
    "                                  style_cell={\"minWidth\": 160, \"maxWidth\": 160, \"width\": 160, \"textAlign\": \"left\"},\n",
    "                                  style_as_list_view=True\n",
    "                                  )"
   ]
  },
  {
   "cell_type": "code",
   "execution_count": 32,
   "id": "31283618",
   "metadata": {},
   "outputs": [
    {
     "name": "stdout",
     "output_type": "stream",
     "text": [
      "Dash is running on http://127.0.0.1:8050/\n",
      "\n",
      " * Serving Flask app '__main__' (lazy loading)\n",
      " * Environment: production\n",
      "\u001b[31m   WARNING: This is a development server. Do not use it in a production deployment.\u001b[0m\n",
      "\u001b[2m   Use a production WSGI server instead.\u001b[0m\n",
      " * Debug mode: on\n"
     ]
    }
   ],
   "source": [
    "if __name__ == \"__main__\":\n",
    "    app.run_server(debug=\"True\", use_reloader=False)"
   ]
  }
 ],
 "metadata": {
  "kernelspec": {
   "display_name": "Python 3 (ipykernel)",
   "language": "python",
   "name": "python3"
  },
  "language_info": {
   "codemirror_mode": {
    "name": "ipython",
    "version": 3
   },
   "file_extension": ".py",
   "mimetype": "text/x-python",
   "name": "python",
   "nbconvert_exporter": "python",
   "pygments_lexer": "ipython3",
   "version": "3.7.2"
  }
 },
 "nbformat": 4,
 "nbformat_minor": 5
}
