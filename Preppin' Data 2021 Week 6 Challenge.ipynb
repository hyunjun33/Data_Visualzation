{
 "cells": [
  {
   "cell_type": "markdown",
   "id": "c91586c9",
   "metadata": {},
   "source": [
    "## 2021: Week 6 - Comparing Prize Money for Professional Golfers\n",
    "\n",
    "What's one of the benefits of preparing your own data?\n",
    "Being able to start your analysis sooner!\n",
    "\n",
    "Sometimes I can find opening Tableau Desktop to explore my data gets a little distracting by trying to visualise it before I've decided on the story. Starting my analysis of the dataset in Tableau Prep helps me, personally, to stay more focused! It's clear where the outliers are, what the distribution of the dataset is and therefore what the story should be.\n",
    "\n",
    "For this week's challenge we're looking at a dataset that was used in December 2020 for Sports Viz Sunday (thanks to Kate Brown for sharing!) This dataset comes from the PGA and LPGA 2019 Golf tours and lists the total prize money for the top 100 players. For those of us who aren't too familiar with golf, the PGA is the men's tour, whilst the LPGA is the women's tour.\n",
    "\n",
    "### Input\n",
    "\n",
    "![img](https://1.bp.blogspot.com/-n1nJAhjFwFE/YB1DtLB2OrI/AAAAAAAAAtc/okyuUbZ672006nCq_cenaAu_9SWa1HlBgCLcBGAsYHQ/w400-h223/2021W06%2BInput.png)\n",
    "\n",
    "### Requirments\n",
    "\n",
    "- Input the data\n",
    "- Answer these questions:\n",
    "    - What's the Total Prize Money earned by players for each tour?\n",
    "    - How many players are in this dataset for each tour?\n",
    "    - How many events in total did players participate in for each tour?\n",
    "    - How much do players win per event? What's the average of this for each tour?\n",
    "    - How do players rank by prize money for each tour? What about overall? What is the average difference between where they are ranked within their tour compared to the overall rankings where both tours are combined?\n",
    "        - Here we would like the difference to be positive as you would presume combining the tours would cause a player's ranking to increase\n",
    "- Combine the answers to these questions into one dataset\n",
    "- Pivot the data so that we have a column for each tour, with each row representing an answer to the above questions\n",
    "- Clean up the Measure field and create a new column showing the difference between the tours for each measure\n",
    "    - We're looking at the difference between the LPGA from the PGA, so in most instances this number will be negative\n",
    "- Output the data\n",
    "\n",
    "### Output\n",
    "\n",
    "![img2](https://1.bp.blogspot.com/-iKTMfxcBhx8/YCPot6fySAI/AAAAAAAAAvE/KqpS4RH8QQo_0HJMnXXwFfjLycQn_CQPwCLcBGAsYHQ/w400-h131/2021W06%2BOutput.png)\n",
    "\n",
    "4 fields\n",
    "- Measure\n",
    "- PGA\n",
    "- LPGA\n",
    "- Difference between tours\n",
    "\n",
    "5 rows (6 including headers)"
   ]
  },
  {
   "cell_type": "code",
   "execution_count": 180,
   "id": "4fafd44d",
   "metadata": {},
   "outputs": [],
   "source": [
    "import pandas as pd\n",
    "import numpy as np\n",
    "import matplotlib.pyplot as plt\n",
    "import seaborn as sns\n",
    "import plotly.express as px\n",
    "import plotly.graph_objects as go"
   ]
  },
  {
   "cell_type": "code",
   "execution_count": 181,
   "id": "1eb915cd",
   "metadata": {},
   "outputs": [],
   "source": [
    "df = pd.read_excel(\"./data/PGALPGAMoney2019.xlsx\")"
   ]
  },
  {
   "cell_type": "code",
   "execution_count": 182,
   "id": "ed89ab1d",
   "metadata": {},
   "outputs": [
    {
     "name": "stdout",
     "output_type": "stream",
     "text": [
      "<class 'pandas.core.frame.DataFrame'>\n",
      "RangeIndex: 200 entries, 0 to 199\n",
      "Data columns (total 4 columns):\n",
      " #   Column       Non-Null Count  Dtype \n",
      "---  ------       --------------  ----- \n",
      " 0   PLAYER NAME  200 non-null    object\n",
      " 1   MONEY        200 non-null    int64 \n",
      " 2   EVENTS       200 non-null    int64 \n",
      " 3   TOUR         200 non-null    object\n",
      "dtypes: int64(2), object(2)\n",
      "memory usage: 6.4+ KB\n"
     ]
    }
   ],
   "source": [
    "df.info()"
   ]
  },
  {
   "cell_type": "code",
   "execution_count": 183,
   "id": "29c815ed",
   "metadata": {},
   "outputs": [
    {
     "data": {
      "text/html": [
       "<div>\n",
       "<style scoped>\n",
       "    .dataframe tbody tr th:only-of-type {\n",
       "        vertical-align: middle;\n",
       "    }\n",
       "\n",
       "    .dataframe tbody tr th {\n",
       "        vertical-align: top;\n",
       "    }\n",
       "\n",
       "    .dataframe thead th {\n",
       "        text-align: right;\n",
       "    }\n",
       "</style>\n",
       "<table border=\"1\" class=\"dataframe\">\n",
       "  <thead>\n",
       "    <tr style=\"text-align: right;\">\n",
       "      <th></th>\n",
       "      <th>count</th>\n",
       "      <th>mean</th>\n",
       "      <th>std</th>\n",
       "      <th>min</th>\n",
       "      <th>25%</th>\n",
       "      <th>50%</th>\n",
       "      <th>75%</th>\n",
       "      <th>max</th>\n",
       "    </tr>\n",
       "  </thead>\n",
       "  <tbody>\n",
       "    <tr>\n",
       "      <th>MONEY</th>\n",
       "      <td>200.00</td>\n",
       "      <td>1575683.83</td>\n",
       "      <td>1515693.82</td>\n",
       "      <td>127365.00</td>\n",
       "      <td>407763.50</td>\n",
       "      <td>1249998.00</td>\n",
       "      <td>2168541.75</td>\n",
       "      <td>9684006.00</td>\n",
       "    </tr>\n",
       "    <tr>\n",
       "      <th>EVENTS</th>\n",
       "      <td>200.00</td>\n",
       "      <td>22.74</td>\n",
       "      <td>4.17</td>\n",
       "      <td>8.00</td>\n",
       "      <td>21.00</td>\n",
       "      <td>23.00</td>\n",
       "      <td>26.00</td>\n",
       "      <td>35.00</td>\n",
       "    </tr>\n",
       "  </tbody>\n",
       "</table>\n",
       "</div>"
      ],
      "text/plain": [
       "        count       mean        std       min       25%        50%        75%  \\\n",
       "MONEY  200.00 1575683.83 1515693.82 127365.00 407763.50 1249998.00 2168541.75   \n",
       "EVENTS 200.00      22.74       4.17      8.00     21.00      23.00      26.00   \n",
       "\n",
       "              max  \n",
       "MONEY  9684006.00  \n",
       "EVENTS      35.00  "
      ]
     },
     "execution_count": 183,
     "metadata": {},
     "output_type": "execute_result"
    }
   ],
   "source": [
    "df.describe(include=\"number\").T"
   ]
  },
  {
   "cell_type": "code",
   "execution_count": 184,
   "id": "b35820da",
   "metadata": {},
   "outputs": [
    {
     "data": {
      "text/html": [
       "<div>\n",
       "<style scoped>\n",
       "    .dataframe tbody tr th:only-of-type {\n",
       "        vertical-align: middle;\n",
       "    }\n",
       "\n",
       "    .dataframe tbody tr th {\n",
       "        vertical-align: top;\n",
       "    }\n",
       "\n",
       "    .dataframe thead th {\n",
       "        text-align: right;\n",
       "    }\n",
       "</style>\n",
       "<table border=\"1\" class=\"dataframe\">\n",
       "  <thead>\n",
       "    <tr style=\"text-align: right;\">\n",
       "      <th></th>\n",
       "      <th>count</th>\n",
       "      <th>unique</th>\n",
       "      <th>top</th>\n",
       "      <th>freq</th>\n",
       "    </tr>\n",
       "  </thead>\n",
       "  <tbody>\n",
       "    <tr>\n",
       "      <th>PLAYER NAME</th>\n",
       "      <td>200</td>\n",
       "      <td>200</td>\n",
       "      <td>Brooks Koepka</td>\n",
       "      <td>1</td>\n",
       "    </tr>\n",
       "    <tr>\n",
       "      <th>TOUR</th>\n",
       "      <td>200</td>\n",
       "      <td>2</td>\n",
       "      <td>PGA</td>\n",
       "      <td>100</td>\n",
       "    </tr>\n",
       "  </tbody>\n",
       "</table>\n",
       "</div>"
      ],
      "text/plain": [
       "            count unique            top freq\n",
       "PLAYER NAME   200    200  Brooks Koepka    1\n",
       "TOUR          200      2            PGA  100"
      ]
     },
     "execution_count": 184,
     "metadata": {},
     "output_type": "execute_result"
    }
   ],
   "source": [
    "df.describe(include=\"object\").T"
   ]
  },
  {
   "cell_type": "code",
   "execution_count": 185,
   "id": "a8f3b0b1",
   "metadata": {},
   "outputs": [
    {
     "data": {
      "text/html": [
       "<div>\n",
       "<style scoped>\n",
       "    .dataframe tbody tr th:only-of-type {\n",
       "        vertical-align: middle;\n",
       "    }\n",
       "\n",
       "    .dataframe tbody tr th {\n",
       "        vertical-align: top;\n",
       "    }\n",
       "\n",
       "    .dataframe thead th {\n",
       "        text-align: right;\n",
       "    }\n",
       "</style>\n",
       "<table border=\"1\" class=\"dataframe\">\n",
       "  <thead>\n",
       "    <tr style=\"text-align: right;\">\n",
       "      <th></th>\n",
       "      <th>PLAYER NAME</th>\n",
       "      <th>MONEY</th>\n",
       "      <th>EVENTS</th>\n",
       "      <th>TOUR</th>\n",
       "    </tr>\n",
       "  </thead>\n",
       "  <tbody>\n",
       "    <tr>\n",
       "      <th>0</th>\n",
       "      <td>Brooks Koepka</td>\n",
       "      <td>9684006</td>\n",
       "      <td>21</td>\n",
       "      <td>PGA</td>\n",
       "    </tr>\n",
       "    <tr>\n",
       "      <th>1</th>\n",
       "      <td>Rory McIlroy</td>\n",
       "      <td>7785286</td>\n",
       "      <td>19</td>\n",
       "      <td>PGA</td>\n",
       "    </tr>\n",
       "    <tr>\n",
       "      <th>2</th>\n",
       "      <td>Matt Kuchar</td>\n",
       "      <td>6294690</td>\n",
       "      <td>22</td>\n",
       "      <td>PGA</td>\n",
       "    </tr>\n",
       "    <tr>\n",
       "      <th>3</th>\n",
       "      <td>Patrick Cantlay</td>\n",
       "      <td>6121488</td>\n",
       "      <td>21</td>\n",
       "      <td>PGA</td>\n",
       "    </tr>\n",
       "    <tr>\n",
       "      <th>4</th>\n",
       "      <td>Gary Woodland</td>\n",
       "      <td>5690965</td>\n",
       "      <td>24</td>\n",
       "      <td>PGA</td>\n",
       "    </tr>\n",
       "  </tbody>\n",
       "</table>\n",
       "</div>"
      ],
      "text/plain": [
       "       PLAYER NAME    MONEY  EVENTS TOUR\n",
       "0    Brooks Koepka  9684006      21  PGA\n",
       "1     Rory McIlroy  7785286      19  PGA\n",
       "2      Matt Kuchar  6294690      22  PGA\n",
       "3  Patrick Cantlay  6121488      21  PGA\n",
       "4    Gary Woodland  5690965      24  PGA"
      ]
     },
     "execution_count": 185,
     "metadata": {},
     "output_type": "execute_result"
    }
   ],
   "source": [
    "df.head()"
   ]
  },
  {
   "cell_type": "markdown",
   "id": "b5022067",
   "metadata": {},
   "source": [
    "### What's the Total Prize Money earned by players for each tour?"
   ]
  },
  {
   "cell_type": "code",
   "execution_count": 186,
   "id": "f21c5880",
   "metadata": {},
   "outputs": [
    {
     "data": {
      "text/plain": [
       "TOUR\n",
       "LPGA     58410411\n",
       "PGA     256726356\n",
       "Name: MONEY, dtype: int64"
      ]
     },
     "execution_count": 186,
     "metadata": {},
     "output_type": "execute_result"
    }
   ],
   "source": [
    "total_prize = df.groupby([\"TOUR\"])[\"MONEY\"].sum()\n",
    "total_prize"
   ]
  },
  {
   "cell_type": "markdown",
   "id": "dfaaa26e",
   "metadata": {},
   "source": [
    "### How many players are in this dataset for each tour?"
   ]
  },
  {
   "cell_type": "code",
   "execution_count": 187,
   "id": "0b74f7a9",
   "metadata": {
    "scrolled": true
   },
   "outputs": [
    {
     "data": {
      "text/plain": [
       "TOUR\n",
       "LPGA    100\n",
       "PGA     100\n",
       "Name: PLAYER NAME, dtype: int64"
      ]
     },
     "execution_count": 187,
     "metadata": {},
     "output_type": "execute_result"
    }
   ],
   "source": [
    "player_num = df.groupby([\"TOUR\"])[\"PLAYER NAME\"].count()\n",
    "player_num"
   ]
  },
  {
   "cell_type": "markdown",
   "id": "68ff233c",
   "metadata": {},
   "source": [
    "### How many events in total did players participate in for each tour?"
   ]
  },
  {
   "cell_type": "code",
   "execution_count": 188,
   "id": "79f49e37",
   "metadata": {},
   "outputs": [
    {
     "data": {
      "text/plain": [
       "TOUR\n",
       "LPGA    2266\n",
       "PGA     2282\n",
       "Name: EVENTS, dtype: int64"
      ]
     },
     "execution_count": 188,
     "metadata": {},
     "output_type": "execute_result"
    }
   ],
   "source": [
    "total_events = df.groupby([\"TOUR\"])[\"EVENTS\"].sum()\n",
    "total_events"
   ]
  },
  {
   "cell_type": "markdown",
   "id": "24d00eb6",
   "metadata": {},
   "source": [
    "### How much do players win per event?"
   ]
  },
  {
   "cell_type": "code",
   "execution_count": 189,
   "id": "02a88ab7",
   "metadata": {
    "scrolled": true
   },
   "outputs": [
    {
     "data": {
      "text/html": [
       "<div>\n",
       "<style scoped>\n",
       "    .dataframe tbody tr th:only-of-type {\n",
       "        vertical-align: middle;\n",
       "    }\n",
       "\n",
       "    .dataframe tbody tr th {\n",
       "        vertical-align: top;\n",
       "    }\n",
       "\n",
       "    .dataframe thead th {\n",
       "        text-align: right;\n",
       "    }\n",
       "</style>\n",
       "<table border=\"1\" class=\"dataframe\">\n",
       "  <thead>\n",
       "    <tr style=\"text-align: right;\">\n",
       "      <th></th>\n",
       "      <th>PLAYER NAME</th>\n",
       "      <th>TOUR</th>\n",
       "      <th>Avg Money per Event</th>\n",
       "    </tr>\n",
       "  </thead>\n",
       "  <tbody>\n",
       "    <tr>\n",
       "      <th>195</th>\n",
       "      <td>Wei-Ling Hsu</td>\n",
       "      <td>LPGA</td>\n",
       "      <td>13343.25</td>\n",
       "    </tr>\n",
       "    <tr>\n",
       "      <th>61</th>\n",
       "      <td>Emiliano Grillo</td>\n",
       "      <td>PGA</td>\n",
       "      <td>76178.87</td>\n",
       "    </tr>\n",
       "    <tr>\n",
       "      <th>191</th>\n",
       "      <td>Troy Merritt</td>\n",
       "      <td>PGA</td>\n",
       "      <td>72911.57</td>\n",
       "    </tr>\n",
       "    <tr>\n",
       "      <th>112</th>\n",
       "      <td>Kiradech Aphibarnrat</td>\n",
       "      <td>PGA</td>\n",
       "      <td>81503.65</td>\n",
       "    </tr>\n",
       "    <tr>\n",
       "      <th>178</th>\n",
       "      <td>Si Woo Kim</td>\n",
       "      <td>PGA</td>\n",
       "      <td>78278.86</td>\n",
       "    </tr>\n",
       "    <tr>\n",
       "      <th>62</th>\n",
       "      <td>Eun-Hee Ji</td>\n",
       "      <td>LPGA</td>\n",
       "      <td>32903.96</td>\n",
       "    </tr>\n",
       "    <tr>\n",
       "      <th>134</th>\n",
       "      <td>Max Homa</td>\n",
       "      <td>PGA</td>\n",
       "      <td>82544.24</td>\n",
       "    </tr>\n",
       "    <tr>\n",
       "      <th>160</th>\n",
       "      <td>Rickie Fowler</td>\n",
       "      <td>PGA</td>\n",
       "      <td>197290.50</td>\n",
       "    </tr>\n",
       "    <tr>\n",
       "      <th>70</th>\n",
       "      <td>Hannah Green</td>\n",
       "      <td>LPGA</td>\n",
       "      <td>45371.17</td>\n",
       "    </tr>\n",
       "    <tr>\n",
       "      <th>98</th>\n",
       "      <td>Joaquin Niemann</td>\n",
       "      <td>PGA</td>\n",
       "      <td>51232.82</td>\n",
       "    </tr>\n",
       "  </tbody>\n",
       "</table>\n",
       "</div>"
      ],
      "text/plain": [
       "              PLAYER NAME  TOUR  Avg Money per Event\n",
       "195         Wei-Ling Hsu   LPGA             13343.25\n",
       "61        Emiliano Grillo   PGA             76178.87\n",
       "191          Troy Merritt   PGA             72911.57\n",
       "112  Kiradech Aphibarnrat   PGA             81503.65\n",
       "178            Si Woo Kim   PGA             78278.86\n",
       "62            Eun-Hee Ji   LPGA             32903.96\n",
       "134              Max Homa   PGA             82544.24\n",
       "160         Rickie Fowler   PGA            197290.50\n",
       "70          Hannah Green   LPGA             45371.17\n",
       "98        Joaquin Niemann   PGA             51232.82"
      ]
     },
     "execution_count": 189,
     "metadata": {},
     "output_type": "execute_result"
    }
   ],
   "source": [
    "grouped = df.groupby([\"PLAYER NAME\", \"TOUR\"]).apply(lambda df_: df_[\"MONEY\"] / df_[\"EVENTS\"]).reset_index().drop(\"level_2\", axis=1).rename(columns={0:\"Avg Money per Event\"})\n",
    "grouped.sample(10)"
   ]
  },
  {
   "cell_type": "markdown",
   "id": "d6e87394",
   "metadata": {},
   "source": [
    "### What's the average of this for each tour?"
   ]
  },
  {
   "cell_type": "code",
   "execution_count": 190,
   "id": "7ba6f41f",
   "metadata": {
    "scrolled": true
   },
   "outputs": [
    {
     "data": {
      "text/plain": [
       "TOUR\n",
       "LPGA     25525\n",
       "PGA     120282\n",
       "Name: Avg Money per Event, dtype: int32"
      ]
     },
     "execution_count": 190,
     "metadata": {},
     "output_type": "execute_result"
    }
   ],
   "source": [
    "avg_money_per_event = grouped.groupby([\"TOUR\"])[\"Avg Money per Event\"].mean().round(0).astype(int)\n",
    "avg_money_per_event"
   ]
  },
  {
   "cell_type": "markdown",
   "id": "b851796a",
   "metadata": {},
   "source": [
    "### How do players rank by prize money for each tour?"
   ]
  },
  {
   "cell_type": "code",
   "execution_count": 191,
   "id": "57310b38",
   "metadata": {
    "scrolled": true
   },
   "outputs": [
    {
     "data": {
      "text/html": [
       "<div>\n",
       "<style scoped>\n",
       "    .dataframe tbody tr th:only-of-type {\n",
       "        vertical-align: middle;\n",
       "    }\n",
       "\n",
       "    .dataframe tbody tr th {\n",
       "        vertical-align: top;\n",
       "    }\n",
       "\n",
       "    .dataframe thead th {\n",
       "        text-align: right;\n",
       "    }\n",
       "</style>\n",
       "<table border=\"1\" class=\"dataframe\">\n",
       "  <thead>\n",
       "    <tr style=\"text-align: right;\">\n",
       "      <th></th>\n",
       "      <th>PLAYER NAME</th>\n",
       "      <th>MONEY</th>\n",
       "      <th>EVENTS</th>\n",
       "      <th>TOUR</th>\n",
       "      <th>RANK_PER_TOUR</th>\n",
       "    </tr>\n",
       "  </thead>\n",
       "  <tbody>\n",
       "    <tr>\n",
       "      <th>0</th>\n",
       "      <td>Brooks Koepka</td>\n",
       "      <td>9684006</td>\n",
       "      <td>21</td>\n",
       "      <td>PGA</td>\n",
       "      <td>1.00</td>\n",
       "    </tr>\n",
       "    <tr>\n",
       "      <th>1</th>\n",
       "      <td>Rory McIlroy</td>\n",
       "      <td>7785286</td>\n",
       "      <td>19</td>\n",
       "      <td>PGA</td>\n",
       "      <td>2.00</td>\n",
       "    </tr>\n",
       "    <tr>\n",
       "      <th>2</th>\n",
       "      <td>Matt Kuchar</td>\n",
       "      <td>6294690</td>\n",
       "      <td>22</td>\n",
       "      <td>PGA</td>\n",
       "      <td>3.00</td>\n",
       "    </tr>\n",
       "    <tr>\n",
       "      <th>3</th>\n",
       "      <td>Patrick Cantlay</td>\n",
       "      <td>6121488</td>\n",
       "      <td>21</td>\n",
       "      <td>PGA</td>\n",
       "      <td>4.00</td>\n",
       "    </tr>\n",
       "    <tr>\n",
       "      <th>4</th>\n",
       "      <td>Gary Woodland</td>\n",
       "      <td>5690965</td>\n",
       "      <td>24</td>\n",
       "      <td>PGA</td>\n",
       "      <td>5.00</td>\n",
       "    </tr>\n",
       "  </tbody>\n",
       "</table>\n",
       "</div>"
      ],
      "text/plain": [
       "       PLAYER NAME    MONEY  EVENTS TOUR  RANK_PER_TOUR\n",
       "0    Brooks Koepka  9684006      21  PGA           1.00\n",
       "1     Rory McIlroy  7785286      19  PGA           2.00\n",
       "2      Matt Kuchar  6294690      22  PGA           3.00\n",
       "3  Patrick Cantlay  6121488      21  PGA           4.00\n",
       "4    Gary Woodland  5690965      24  PGA           5.00"
      ]
     },
     "execution_count": 191,
     "metadata": {},
     "output_type": "execute_result"
    }
   ],
   "source": [
    "ranking_per_tour = df.groupby([\"TOUR\"])[\"MONEY\"].rank(ascending=False).reset_index(drop=True)\n",
    "df[\"RANK_PER_TOUR\"] = ranking_per_tour\n",
    "df.head()"
   ]
  },
  {
   "cell_type": "markdown",
   "id": "5a9ba7c9",
   "metadata": {},
   "source": [
    "### What about overall ranking?"
   ]
  },
  {
   "cell_type": "code",
   "execution_count": 192,
   "id": "eaf46bdb",
   "metadata": {},
   "outputs": [
    {
     "data": {
      "text/html": [
       "<div>\n",
       "<style scoped>\n",
       "    .dataframe tbody tr th:only-of-type {\n",
       "        vertical-align: middle;\n",
       "    }\n",
       "\n",
       "    .dataframe tbody tr th {\n",
       "        vertical-align: top;\n",
       "    }\n",
       "\n",
       "    .dataframe thead th {\n",
       "        text-align: right;\n",
       "    }\n",
       "</style>\n",
       "<table border=\"1\" class=\"dataframe\">\n",
       "  <thead>\n",
       "    <tr style=\"text-align: right;\">\n",
       "      <th></th>\n",
       "      <th>PLAYER NAME</th>\n",
       "      <th>MONEY</th>\n",
       "      <th>EVENTS</th>\n",
       "      <th>TOUR</th>\n",
       "      <th>RANK_PER_TOUR</th>\n",
       "      <th>RANK_OVERALL</th>\n",
       "    </tr>\n",
       "  </thead>\n",
       "  <tbody>\n",
       "    <tr>\n",
       "      <th>0</th>\n",
       "      <td>Brooks Koepka</td>\n",
       "      <td>9684006</td>\n",
       "      <td>21</td>\n",
       "      <td>PGA</td>\n",
       "      <td>1.00</td>\n",
       "      <td>1.00</td>\n",
       "    </tr>\n",
       "    <tr>\n",
       "      <th>1</th>\n",
       "      <td>Rory McIlroy</td>\n",
       "      <td>7785286</td>\n",
       "      <td>19</td>\n",
       "      <td>PGA</td>\n",
       "      <td>2.00</td>\n",
       "      <td>2.00</td>\n",
       "    </tr>\n",
       "    <tr>\n",
       "      <th>2</th>\n",
       "      <td>Matt Kuchar</td>\n",
       "      <td>6294690</td>\n",
       "      <td>22</td>\n",
       "      <td>PGA</td>\n",
       "      <td>3.00</td>\n",
       "      <td>3.00</td>\n",
       "    </tr>\n",
       "    <tr>\n",
       "      <th>3</th>\n",
       "      <td>Patrick Cantlay</td>\n",
       "      <td>6121488</td>\n",
       "      <td>21</td>\n",
       "      <td>PGA</td>\n",
       "      <td>4.00</td>\n",
       "      <td>4.00</td>\n",
       "    </tr>\n",
       "    <tr>\n",
       "      <th>4</th>\n",
       "      <td>Gary Woodland</td>\n",
       "      <td>5690965</td>\n",
       "      <td>24</td>\n",
       "      <td>PGA</td>\n",
       "      <td>5.00</td>\n",
       "      <td>5.00</td>\n",
       "    </tr>\n",
       "  </tbody>\n",
       "</table>\n",
       "</div>"
      ],
      "text/plain": [
       "       PLAYER NAME    MONEY  EVENTS TOUR  RANK_PER_TOUR  RANK_OVERALL\n",
       "0    Brooks Koepka  9684006      21  PGA           1.00          1.00\n",
       "1     Rory McIlroy  7785286      19  PGA           2.00          2.00\n",
       "2      Matt Kuchar  6294690      22  PGA           3.00          3.00\n",
       "3  Patrick Cantlay  6121488      21  PGA           4.00          4.00\n",
       "4    Gary Woodland  5690965      24  PGA           5.00          5.00"
      ]
     },
     "execution_count": 192,
     "metadata": {},
     "output_type": "execute_result"
    }
   ],
   "source": [
    "ranking_overall = df[\"MONEY\"].rank(ascending=False)\n",
    "df[\"RANK_OVERALL\"] = ranking_overall\n",
    "df.head()"
   ]
  },
  {
   "cell_type": "markdown",
   "id": "bdf3b495",
   "metadata": {},
   "source": [
    "### What is the average difference between where they are ranked within their tour \n",
    "### compared to the overall rankings where both tours are combined?"
   ]
  },
  {
   "cell_type": "code",
   "execution_count": 193,
   "id": "d9e05897",
   "metadata": {},
   "outputs": [
    {
     "data": {
      "text/plain": [
       "TOUR\n",
       "LPGA   96.13\n",
       "PGA     3.87\n",
       "dtype: float64"
      ]
     },
     "execution_count": 193,
     "metadata": {},
     "output_type": "execute_result"
    }
   ],
   "source": [
    "avg_rank_per_tour = df.groupby([\"TOUR\"])[\"RANK_PER_TOUR\"].mean()\n",
    "avg_rank_overall = df.groupby([\"TOUR\"])[\"RANK_OVERALL\"].mean()\n",
    "avg_diff_btw_tours = abs(avg_rank_per_tour - avg_rank_overall)\n",
    "avg_diff_btw_tours"
   ]
  },
  {
   "cell_type": "code",
   "execution_count": 194,
   "id": "8ca5a6ae",
   "metadata": {
    "scrolled": true
   },
   "outputs": [
    {
     "data": {
      "text/html": [
       "<div>\n",
       "<style scoped>\n",
       "    .dataframe tbody tr th:only-of-type {\n",
       "        vertical-align: middle;\n",
       "    }\n",
       "\n",
       "    .dataframe tbody tr th {\n",
       "        vertical-align: top;\n",
       "    }\n",
       "\n",
       "    .dataframe thead th {\n",
       "        text-align: right;\n",
       "    }\n",
       "</style>\n",
       "<table border=\"1\" class=\"dataframe\">\n",
       "  <thead>\n",
       "    <tr style=\"text-align: right;\">\n",
       "      <th></th>\n",
       "      <th>Measure</th>\n",
       "      <th>PGA</th>\n",
       "      <th>LPGA</th>\n",
       "      <th>Difference between tours</th>\n",
       "    </tr>\n",
       "  </thead>\n",
       "  <tbody>\n",
       "    <tr>\n",
       "      <th>0</th>\n",
       "      <td>Total Prize Money</td>\n",
       "      <td>256726356.00</td>\n",
       "      <td>58410411.00</td>\n",
       "      <td>-198315945.00</td>\n",
       "    </tr>\n",
       "    <tr>\n",
       "      <th>1</th>\n",
       "      <td>Number of Events</td>\n",
       "      <td>2282.00</td>\n",
       "      <td>2266.00</td>\n",
       "      <td>-16.00</td>\n",
       "    </tr>\n",
       "    <tr>\n",
       "      <th>2</th>\n",
       "      <td>Number of Players</td>\n",
       "      <td>100.00</td>\n",
       "      <td>100.00</td>\n",
       "      <td>0.00</td>\n",
       "    </tr>\n",
       "    <tr>\n",
       "      <th>3</th>\n",
       "      <td>Avg Money per Event</td>\n",
       "      <td>120282.00</td>\n",
       "      <td>25525.00</td>\n",
       "      <td>-94757.00</td>\n",
       "    </tr>\n",
       "    <tr>\n",
       "      <th>4</th>\n",
       "      <td>Avg Difference in Ranking</td>\n",
       "      <td>3.87</td>\n",
       "      <td>96.13</td>\n",
       "      <td>92.26</td>\n",
       "    </tr>\n",
       "  </tbody>\n",
       "</table>\n",
       "</div>"
      ],
      "text/plain": [
       "                     Measure          PGA        LPGA  \\\n",
       "0          Total Prize Money 256726356.00 58410411.00   \n",
       "1           Number of Events      2282.00     2266.00   \n",
       "2          Number of Players       100.00      100.00   \n",
       "3        Avg Money per Event    120282.00    25525.00   \n",
       "4  Avg Difference in Ranking         3.87       96.13   \n",
       "\n",
       "   Difference between tours  \n",
       "0             -198315945.00  \n",
       "1                    -16.00  \n",
       "2                      0.00  \n",
       "3                 -94757.00  \n",
       "4                     92.26  "
      ]
     },
     "execution_count": 194,
     "metadata": {},
     "output_type": "execute_result"
    }
   ],
   "source": [
    "pd.options.display.float_format = \"{:.2f}\".format\n",
    "\n",
    "final_output = pd.concat([total_prize, total_events, \n",
    "                          player_num, avg_money_per_event, avg_diff_btw_tours, ], axis=1, join=\"inner\")\n",
    "\n",
    "final_output.columns=[\"Total Prize Money\", \"Number of Events\", \n",
    "                      \"Number of Players\", \"Avg Money per Event\", \"Avg Difference in Ranking\"]\n",
    "final_output = final_output.transpose()\n",
    "final_output = final_output.reset_index()\n",
    "final_output = final_output.rename(columns={\"index\": \"Measure\"})\n",
    "final_output.columns.name = None\n",
    "final_output = final_output.loc[: , [\"Measure\", \"PGA\", \"LPGA\"]]\n",
    "final_output[\"Difference between tours\"] = final_output[\"LPGA\"] - final_output[\"PGA\"]\n",
    "final_output"
   ]
  },
  {
   "cell_type": "code",
   "execution_count": 195,
   "id": "618b4681",
   "metadata": {},
   "outputs": [],
   "source": [
    "final_output.to_csv(\"./output/Week6_output.csv\")"
   ]
  }
 ],
 "metadata": {
  "kernelspec": {
   "display_name": "Python 3 (ipykernel)",
   "language": "python",
   "name": "python3"
  },
  "language_info": {
   "codemirror_mode": {
    "name": "ipython",
    "version": 3
   },
   "file_extension": ".py",
   "mimetype": "text/x-python",
   "name": "python",
   "nbconvert_exporter": "python",
   "pygments_lexer": "ipython3",
   "version": "3.7.2"
  }
 },
 "nbformat": 4,
 "nbformat_minor": 5
}
