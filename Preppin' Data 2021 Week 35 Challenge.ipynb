{
 "cells": [
  {
   "cell_type": "markdown",
   "id": "53aee464",
   "metadata": {},
   "source": [
    "## 2021: Week 35 - Picture Perfect\n",
    "\n",
    "Data preppin' ideas really are all around! I was hanging some pictures the other week and I had some weird and wonderful sizes, so working out the perfect frames was a bit tiresome. If only I could use a data preppin' tool to speed up the process... \n",
    "\n",
    "### Input\n",
    "We have 2 inputs this week:\n",
    "\n",
    "1. Picture sizes \n",
    "![img](https://lh3.googleusercontent.com/-G8_8TINw7TY/YS591OZq5aI/AAAAAAAAA6o/n2-yPvhv2jUs30JKS4f2IZZ0NgHUmiarACLcBGAsYHQ/image.png)\n",
    "\n",
    "2. Frame sizes\n",
    "![img](https://lh3.googleusercontent.com/-AvDNsXSd9Bk/YS9tMox-bbI/AAAAAAAAA7I/9AE5n6GB91QV5xJuafIV6-NBdq67hymegCLcBGAsYHQ/image.png)\n",
    "\n",
    "### Requirement\n",
    "- Input the data\n",
    "- Split up the sizes of the pictures and the frames into lengths and widths\n",
    "    - Remember an inch is 2.54cm\n",
    "- Frames can always be rotated, so make sure you know which is the min/max side\n",
    "- See which pictures fit into which frames\n",
    "- Work out the area of the frame vs the area of the picture and choose the frame with the smallest excess\n",
    "- Output the data\n",
    "\n",
    "### Output\n",
    "![img](https://lh3.googleusercontent.com/-ccVraoOGt-I/YS6L0ikCBLI/AAAAAAAAA64/6NunkLPc7ywjecilgrlCmf_TFhzREMtWgCLcBGAsYHQ/image.png)\n",
    "\n",
    "- 4 fields\n",
    "    - Picture\n",
    "    - Frame\n",
    "    - Max Side\n",
    "    - Min Side\n",
    "- 14 rows (15 including headers)"
   ]
  },
  {
   "cell_type": "code",
   "execution_count": 339,
   "id": "ca635fd7",
   "metadata": {},
   "outputs": [],
   "source": [
    "import pandas as pd\n",
    "import numpy as np\n",
    "import matplotlib.pyplot as plt\n",
    "import seaborn as sns"
   ]
  },
  {
   "cell_type": "markdown",
   "id": "5fd9d65a",
   "metadata": {},
   "source": [
    "### Input the data"
   ]
  },
  {
   "cell_type": "code",
   "execution_count": 340,
   "id": "8a8f6101",
   "metadata": {},
   "outputs": [],
   "source": [
    "data = pd.read_excel(\"./data/Pictures Input.xlsx\", sheet_name=[0, 1])"
   ]
  },
  {
   "cell_type": "code",
   "execution_count": 341,
   "id": "76332894",
   "metadata": {},
   "outputs": [],
   "source": [
    "pictures = data[0].copy()\n",
    "frames = data[1].copy()"
   ]
  },
  {
   "cell_type": "markdown",
   "id": "1254f54e",
   "metadata": {},
   "source": [
    "### Split up the sizes of the pictures and the frames into lengths and widths\n",
    "- Remember an inch is 2.54cm"
   ]
  },
  {
   "cell_type": "code",
   "execution_count": 342,
   "id": "d652cc5a",
   "metadata": {},
   "outputs": [
    {
     "data": {
      "text/html": [
       "<div>\n",
       "<style scoped>\n",
       "    .dataframe tbody tr th:only-of-type {\n",
       "        vertical-align: middle;\n",
       "    }\n",
       "\n",
       "    .dataframe tbody tr th {\n",
       "        vertical-align: top;\n",
       "    }\n",
       "\n",
       "    .dataframe thead th {\n",
       "        text-align: right;\n",
       "    }\n",
       "</style>\n",
       "<table border=\"1\" class=\"dataframe\">\n",
       "  <thead>\n",
       "    <tr style=\"text-align: right;\">\n",
       "      <th></th>\n",
       "      <th>Picture</th>\n",
       "      <th>Size</th>\n",
       "    </tr>\n",
       "  </thead>\n",
       "  <tbody>\n",
       "    <tr>\n",
       "      <th>0</th>\n",
       "      <td>A</td>\n",
       "      <td>26cm x 23cm</td>\n",
       "    </tr>\n",
       "    <tr>\n",
       "      <th>1</th>\n",
       "      <td>B</td>\n",
       "      <td>30cm x 26cm</td>\n",
       "    </tr>\n",
       "    <tr>\n",
       "      <th>2</th>\n",
       "      <td>C</td>\n",
       "      <td>24cm2</td>\n",
       "    </tr>\n",
       "    <tr>\n",
       "      <th>3</th>\n",
       "      <td>D</td>\n",
       "      <td>25cm x 23cm</td>\n",
       "    </tr>\n",
       "    <tr>\n",
       "      <th>4</th>\n",
       "      <td>E</td>\n",
       "      <td>22cm x 19cm</td>\n",
       "    </tr>\n",
       "    <tr>\n",
       "      <th>5</th>\n",
       "      <td>F</td>\n",
       "      <td>28cm x 20cm</td>\n",
       "    </tr>\n",
       "    <tr>\n",
       "      <th>6</th>\n",
       "      <td>G</td>\n",
       "      <td>33cm x 23cm</td>\n",
       "    </tr>\n",
       "    <tr>\n",
       "      <th>7</th>\n",
       "      <td>H</td>\n",
       "      <td>23cm x 21cm</td>\n",
       "    </tr>\n",
       "    <tr>\n",
       "      <th>8</th>\n",
       "      <td>I</td>\n",
       "      <td>36cm x 25cm</td>\n",
       "    </tr>\n",
       "    <tr>\n",
       "      <th>9</th>\n",
       "      <td>J</td>\n",
       "      <td>26cm x 20cm</td>\n",
       "    </tr>\n",
       "    <tr>\n",
       "      <th>10</th>\n",
       "      <td>K</td>\n",
       "      <td>26cm x 28cm</td>\n",
       "    </tr>\n",
       "    <tr>\n",
       "      <th>11</th>\n",
       "      <td>L</td>\n",
       "      <td>23cm x 32cm</td>\n",
       "    </tr>\n",
       "    <tr>\n",
       "      <th>12</th>\n",
       "      <td>M</td>\n",
       "      <td>25cm x 23cm</td>\n",
       "    </tr>\n",
       "    <tr>\n",
       "      <th>13</th>\n",
       "      <td>N</td>\n",
       "      <td>33cm x 24cm</td>\n",
       "    </tr>\n",
       "  </tbody>\n",
       "</table>\n",
       "</div>"
      ],
      "text/plain": [
       "   Picture          Size\n",
       "0        A   26cm x 23cm\n",
       "1        B   30cm x 26cm\n",
       "2        C         24cm2\n",
       "3        D   25cm x 23cm\n",
       "4        E   22cm x 19cm\n",
       "5        F   28cm x 20cm\n",
       "6        G   33cm x 23cm\n",
       "7        H   23cm x 21cm\n",
       "8        I   36cm x 25cm\n",
       "9        J   26cm x 20cm\n",
       "10       K  26cm x 28cm \n",
       "11       L   23cm x 32cm\n",
       "12       M   25cm x 23cm\n",
       "13       N   33cm x 24cm"
      ]
     },
     "execution_count": 342,
     "metadata": {},
     "output_type": "execute_result"
    }
   ],
   "source": [
    "pictures"
   ]
  },
  {
   "cell_type": "code",
   "execution_count": 343,
   "id": "49395347",
   "metadata": {},
   "outputs": [],
   "source": [
    "leng_wid = pictures[\"Size\"].str.split(\"x\").apply(pd.Series).fillna(\"24cm\").rename(columns={0:\"lengths\", 1:\"widths\"})\n",
    "leng_wid[\"lengths\"] = leng_wid[\"lengths\"].map(lambda x: x.split(\"c\")[0])\n",
    "leng_wid[\"widths\"] = leng_wid[\"widths\"].map(lambda x: x.split(\"c\")[0])"
   ]
  },
  {
   "cell_type": "code",
   "execution_count": 344,
   "id": "3973848d",
   "metadata": {},
   "outputs": [
    {
     "data": {
      "text/html": [
       "<div>\n",
       "<style scoped>\n",
       "    .dataframe tbody tr th:only-of-type {\n",
       "        vertical-align: middle;\n",
       "    }\n",
       "\n",
       "    .dataframe tbody tr th {\n",
       "        vertical-align: top;\n",
       "    }\n",
       "\n",
       "    .dataframe thead th {\n",
       "        text-align: right;\n",
       "    }\n",
       "</style>\n",
       "<table border=\"1\" class=\"dataframe\">\n",
       "  <thead>\n",
       "    <tr style=\"text-align: right;\">\n",
       "      <th></th>\n",
       "      <th>Picture</th>\n",
       "      <th>Size</th>\n",
       "      <th>lengths</th>\n",
       "      <th>widths</th>\n",
       "    </tr>\n",
       "  </thead>\n",
       "  <tbody>\n",
       "    <tr>\n",
       "      <th>0</th>\n",
       "      <td>A</td>\n",
       "      <td>26cm x 23cm</td>\n",
       "      <td>26</td>\n",
       "      <td>23</td>\n",
       "    </tr>\n",
       "    <tr>\n",
       "      <th>1</th>\n",
       "      <td>B</td>\n",
       "      <td>30cm x 26cm</td>\n",
       "      <td>30</td>\n",
       "      <td>26</td>\n",
       "    </tr>\n",
       "    <tr>\n",
       "      <th>2</th>\n",
       "      <td>C</td>\n",
       "      <td>24cm2</td>\n",
       "      <td>24</td>\n",
       "      <td>24</td>\n",
       "    </tr>\n",
       "    <tr>\n",
       "      <th>3</th>\n",
       "      <td>D</td>\n",
       "      <td>25cm x 23cm</td>\n",
       "      <td>25</td>\n",
       "      <td>23</td>\n",
       "    </tr>\n",
       "    <tr>\n",
       "      <th>4</th>\n",
       "      <td>E</td>\n",
       "      <td>22cm x 19cm</td>\n",
       "      <td>22</td>\n",
       "      <td>19</td>\n",
       "    </tr>\n",
       "    <tr>\n",
       "      <th>5</th>\n",
       "      <td>F</td>\n",
       "      <td>28cm x 20cm</td>\n",
       "      <td>28</td>\n",
       "      <td>20</td>\n",
       "    </tr>\n",
       "    <tr>\n",
       "      <th>6</th>\n",
       "      <td>G</td>\n",
       "      <td>33cm x 23cm</td>\n",
       "      <td>33</td>\n",
       "      <td>23</td>\n",
       "    </tr>\n",
       "    <tr>\n",
       "      <th>7</th>\n",
       "      <td>H</td>\n",
       "      <td>23cm x 21cm</td>\n",
       "      <td>23</td>\n",
       "      <td>21</td>\n",
       "    </tr>\n",
       "    <tr>\n",
       "      <th>8</th>\n",
       "      <td>I</td>\n",
       "      <td>36cm x 25cm</td>\n",
       "      <td>36</td>\n",
       "      <td>25</td>\n",
       "    </tr>\n",
       "    <tr>\n",
       "      <th>9</th>\n",
       "      <td>J</td>\n",
       "      <td>26cm x 20cm</td>\n",
       "      <td>26</td>\n",
       "      <td>20</td>\n",
       "    </tr>\n",
       "    <tr>\n",
       "      <th>10</th>\n",
       "      <td>K</td>\n",
       "      <td>26cm x 28cm</td>\n",
       "      <td>26</td>\n",
       "      <td>28</td>\n",
       "    </tr>\n",
       "    <tr>\n",
       "      <th>11</th>\n",
       "      <td>L</td>\n",
       "      <td>23cm x 32cm</td>\n",
       "      <td>23</td>\n",
       "      <td>32</td>\n",
       "    </tr>\n",
       "    <tr>\n",
       "      <th>12</th>\n",
       "      <td>M</td>\n",
       "      <td>25cm x 23cm</td>\n",
       "      <td>25</td>\n",
       "      <td>23</td>\n",
       "    </tr>\n",
       "    <tr>\n",
       "      <th>13</th>\n",
       "      <td>N</td>\n",
       "      <td>33cm x 24cm</td>\n",
       "      <td>33</td>\n",
       "      <td>24</td>\n",
       "    </tr>\n",
       "  </tbody>\n",
       "</table>\n",
       "</div>"
      ],
      "text/plain": [
       "   Picture          Size lengths widths\n",
       "0        A   26cm x 23cm      26     23\n",
       "1        B   30cm x 26cm      30     26\n",
       "2        C         24cm2      24     24\n",
       "3        D   25cm x 23cm      25     23\n",
       "4        E   22cm x 19cm      22     19\n",
       "5        F   28cm x 20cm      28     20\n",
       "6        G   33cm x 23cm      33     23\n",
       "7        H   23cm x 21cm      23     21\n",
       "8        I   36cm x 25cm      36     25\n",
       "9        J   26cm x 20cm      26     20\n",
       "10       K  26cm x 28cm       26     28\n",
       "11       L   23cm x 32cm      23     32\n",
       "12       M   25cm x 23cm      25     23\n",
       "13       N   33cm x 24cm      33     24"
      ]
     },
     "execution_count": 344,
     "metadata": {},
     "output_type": "execute_result"
    }
   ],
   "source": [
    "pictures = pd.concat([pictures, leng_wid], axis=1)\n",
    "pictures"
   ]
  },
  {
   "cell_type": "code",
   "execution_count": 345,
   "id": "f73909f4",
   "metadata": {
    "scrolled": true
   },
   "outputs": [
    {
     "name": "stderr",
     "output_type": "stream",
     "text": [
      "C:\\Users\\HYUNJUN\\anaconda3\\envs\\deep-learning-gpu\\lib\\site-packages\\ipykernel_launcher.py:3: SettingWithCopyWarning: \n",
      "A value is trying to be set on a copy of a slice from a DataFrame.\n",
      "Try using .loc[row_indexer,col_indexer] = value instead\n",
      "\n",
      "See the caveats in the documentation: https://pandas.pydata.org/pandas-docs/stable/user_guide/indexing.html#returning-a-view-versus-a-copy\n",
      "  This is separate from the ipykernel package so we can avoid doing imports until\n",
      "C:\\Users\\HYUNJUN\\anaconda3\\envs\\deep-learning-gpu\\lib\\site-packages\\ipykernel_launcher.py:4: SettingWithCopyWarning: \n",
      "A value is trying to be set on a copy of a slice from a DataFrame.\n",
      "Try using .loc[row_indexer,col_indexer] = value instead\n",
      "\n",
      "See the caveats in the documentation: https://pandas.pydata.org/pandas-docs/stable/user_guide/indexing.html#returning-a-view-versus-a-copy\n",
      "  after removing the cwd from sys.path.\n"
     ]
    }
   ],
   "source": [
    "leng_wid = frames[\"Size\"].str.split(\"x\").apply(pd.Series).fillna(method=\"ffill\", axis=1).rename(columns={0: \"lengths\", 1:\"widths\"})\n",
    "inches = leng_wid.iloc[:3]\n",
    "inches[\"lengths\"] = inches[\"lengths\"].map(lambda x: x.replace(\"\\\"\", \"\"))\n",
    "inches[\"widths\"] = inches[\"widths\"].map(lambda x: x.replace(\"\\\"\", \"\"))\n",
    "inches = inches.astype(int) * 2.54"
   ]
  },
  {
   "cell_type": "code",
   "execution_count": 346,
   "id": "d3f502fd",
   "metadata": {},
   "outputs": [],
   "source": [
    "leng_wid[\"lengths\"] = leng_wid[\"lengths\"].map(lambda x: x.split(\"c\")[0])\n",
    "leng_wid[\"widths\"] = leng_wid[\"widths\"].map(lambda x: x.split(\"c\")[0])"
   ]
  },
  {
   "cell_type": "code",
   "execution_count": 347,
   "id": "3c8a4834",
   "metadata": {},
   "outputs": [],
   "source": [
    "leng_wid.iloc[:3] = inches"
   ]
  },
  {
   "cell_type": "code",
   "execution_count": 348,
   "id": "183f8664",
   "metadata": {},
   "outputs": [],
   "source": [
    "leng_wid = leng_wid.astype(float)"
   ]
  },
  {
   "cell_type": "code",
   "execution_count": 349,
   "id": "a1227d5c",
   "metadata": {
    "scrolled": true
   },
   "outputs": [
    {
     "data": {
      "text/html": [
       "<div>\n",
       "<style scoped>\n",
       "    .dataframe tbody tr th:only-of-type {\n",
       "        vertical-align: middle;\n",
       "    }\n",
       "\n",
       "    .dataframe tbody tr th {\n",
       "        vertical-align: top;\n",
       "    }\n",
       "\n",
       "    .dataframe thead th {\n",
       "        text-align: right;\n",
       "    }\n",
       "</style>\n",
       "<table border=\"1\" class=\"dataframe\">\n",
       "  <thead>\n",
       "    <tr style=\"text-align: right;\">\n",
       "      <th></th>\n",
       "      <th>Size</th>\n",
       "      <th>lengths</th>\n",
       "      <th>widths</th>\n",
       "    </tr>\n",
       "  </thead>\n",
       "  <tbody>\n",
       "    <tr>\n",
       "      <th>0</th>\n",
       "      <td>8\" x 10\"</td>\n",
       "      <td>20.32</td>\n",
       "      <td>25.40</td>\n",
       "    </tr>\n",
       "    <tr>\n",
       "      <th>1</th>\n",
       "      <td>6\" x 4\"</td>\n",
       "      <td>15.24</td>\n",
       "      <td>10.16</td>\n",
       "    </tr>\n",
       "    <tr>\n",
       "      <th>2</th>\n",
       "      <td>8\" x 6\"</td>\n",
       "      <td>20.32</td>\n",
       "      <td>15.24</td>\n",
       "    </tr>\n",
       "    <tr>\n",
       "      <th>3</th>\n",
       "      <td>30cm x 21cm</td>\n",
       "      <td>30.00</td>\n",
       "      <td>21.00</td>\n",
       "    </tr>\n",
       "    <tr>\n",
       "      <th>4</th>\n",
       "      <td>31cm x 25cm</td>\n",
       "      <td>31.00</td>\n",
       "      <td>25.00</td>\n",
       "    </tr>\n",
       "    <tr>\n",
       "      <th>5</th>\n",
       "      <td>30cm2</td>\n",
       "      <td>30.00</td>\n",
       "      <td>30.00</td>\n",
       "    </tr>\n",
       "    <tr>\n",
       "      <th>6</th>\n",
       "      <td>25cm2</td>\n",
       "      <td>25.00</td>\n",
       "      <td>25.00</td>\n",
       "    </tr>\n",
       "    <tr>\n",
       "      <th>7</th>\n",
       "      <td>20cm x 25cm</td>\n",
       "      <td>20.00</td>\n",
       "      <td>25.00</td>\n",
       "    </tr>\n",
       "    <tr>\n",
       "      <th>8</th>\n",
       "      <td>28cm x 36cm</td>\n",
       "      <td>28.00</td>\n",
       "      <td>36.00</td>\n",
       "    </tr>\n",
       "  </tbody>\n",
       "</table>\n",
       "</div>"
      ],
      "text/plain": [
       "          Size  lengths  widths\n",
       "0     8\" x 10\"    20.32   25.40\n",
       "1      6\" x 4\"    15.24   10.16\n",
       "2      8\" x 6\"    20.32   15.24\n",
       "3  30cm x 21cm    30.00   21.00\n",
       "4  31cm x 25cm    31.00   25.00\n",
       "5        30cm2    30.00   30.00\n",
       "6        25cm2    25.00   25.00\n",
       "7  20cm x 25cm    20.00   25.00\n",
       "8  28cm x 36cm    28.00   36.00"
      ]
     },
     "execution_count": 349,
     "metadata": {},
     "output_type": "execute_result"
    }
   ],
   "source": [
    "frames = pd.concat([frames, leng_wid], axis=1)\n",
    "frames"
   ]
  },
  {
   "cell_type": "code",
   "execution_count": 350,
   "id": "1ce5245a",
   "metadata": {},
   "outputs": [],
   "source": [
    "pictures[\"lengths\"] = pictures[\"lengths\"].astype(int)\n",
    "pictures[\"widths\"] = pictures[\"widths\"].astype(int)"
   ]
  },
  {
   "cell_type": "code",
   "execution_count": 351,
   "id": "34682f54",
   "metadata": {},
   "outputs": [],
   "source": [
    "frames[\"Area\"] = frames[\"lengths\"] * frames[\"widths\"]\n",
    "pictures[\"Area\"] = pictures[\"lengths\"] * pictures[\"widths\"]"
   ]
  },
  {
   "cell_type": "code",
   "execution_count": 352,
   "id": "1810477b",
   "metadata": {},
   "outputs": [],
   "source": [
    "def max_slide(lengths_, widths_):\n",
    "    compare_ = []\n",
    "    compare_.append(lengths_)\n",
    "    compare_.append(widths_)\n",
    "    return np.max(compare_)"
   ]
  },
  {
   "cell_type": "code",
   "execution_count": 353,
   "id": "fb988390",
   "metadata": {},
   "outputs": [],
   "source": [
    "def min_slide(lengths_, widths_):\n",
    "    compare_ = []\n",
    "    compare_.append(lengths_)\n",
    "    compare_.append(widths_)\n",
    "    return np.min(compare_)"
   ]
  },
  {
   "cell_type": "code",
   "execution_count": 354,
   "id": "85daff23",
   "metadata": {},
   "outputs": [],
   "source": [
    "pictures[\"Max Slide\"] = pictures.apply(lambda x: max_slide(x[\"lengths\"], x[\"widths\"]), axis=1)\n",
    "pictures[\"Min Slide\"] = pictures.apply(lambda x: min_slide(x[\"lengths\"], x[\"widths\"]), axis=1)"
   ]
  },
  {
   "cell_type": "code",
   "execution_count": 355,
   "id": "cfa87009",
   "metadata": {},
   "outputs": [],
   "source": [
    "frames[\"Max Slide\"] = frames.apply(lambda x: max_slide(x[\"lengths\"], x[\"widths\"]), axis=1)\n",
    "frames[\"Min Slide\"] = frames.apply(lambda x: min_slide(x[\"lengths\"], x[\"widths\"]), axis=1)"
   ]
  },
  {
   "cell_type": "code",
   "execution_count": 356,
   "id": "6d0fa625",
   "metadata": {},
   "outputs": [],
   "source": [
    "def check_excess():\n",
    "    frames_min = frames[\"Min Slide\"].tolist()\n",
    "    frames_min_idx = frames[\"Min Slide\"].index.tolist()\n",
    "    frames_dict = dict(zip(frames_min_dix, frames_min))"
   ]
  },
  {
   "cell_type": "code",
   "execution_count": 357,
   "id": "e91c5f78",
   "metadata": {},
   "outputs": [],
   "source": [
    "frames_min = frames[\"Min Slide\"].tolist()\n",
    "frames_min_idx = frames[\"Min Slide\"].index.tolist()\n",
    "\n",
    "frames_max = frames[\"Max Slide\"].tolist()\n",
    "frames_max_idx = frames[\"Max Slide\"].index.tolist()"
   ]
  },
  {
   "cell_type": "code",
   "execution_count": 358,
   "id": "5cf8478a",
   "metadata": {},
   "outputs": [],
   "source": [
    "def check_min_smallest_excess(x):\n",
    "    result = 1000\n",
    "    for i in frames_min:\n",
    "        if (x <= i) & (i <= result):\n",
    "            result = i\n",
    "        else: pass\n",
    "    return result"
   ]
  },
  {
   "cell_type": "code",
   "execution_count": 359,
   "id": "e9df4e45",
   "metadata": {},
   "outputs": [],
   "source": [
    "def check_max_smallest_excess(x):\n",
    "    result = 1000\n",
    "    for i in frames_max:\n",
    "        if (x <= i) & (i <= result):\n",
    "            result = i\n",
    "        else: pass\n",
    "    return result"
   ]
  },
  {
   "cell_type": "code",
   "execution_count": 360,
   "id": "a581d58c",
   "metadata": {},
   "outputs": [],
   "source": [
    "pictures[\"Max Slide_compare\"] = pictures[\"Max Slide\"].map(lambda x: check_max_smallest_excess(x))\n",
    "pictures[\"Min Slide_compare\"] = pictures[\"Min Slide\"].map(lambda x: check_min_smallest_excess(x))"
   ]
  },
  {
   "cell_type": "code",
   "execution_count": 361,
   "id": "afcd4192",
   "metadata": {},
   "outputs": [],
   "source": [
    "pictures = pictures.drop([\"lengths\", \"widths\", \"Size\"], axis=1)\n",
    "frames = frames.drop([\"lengths\", \"widths\"], axis=1)"
   ]
  },
  {
   "cell_type": "code",
   "execution_count": 362,
   "id": "077ed40e",
   "metadata": {},
   "outputs": [],
   "source": [
    "def key_for_merge(max_slide, min_slide):\n",
    "    idx_ = None\n",
    "    max_slide_frame = 100\n",
    "    min_slide_frame = 100\n",
    "    for i, max_value, min_value in zip(frames_max_idx, frames_max, frames_min):\n",
    "        if (max_slide <= max_value) & (min_slide <= min_value):\n",
    "            if (max_value <= max_slide_frame) & (min_value <= min_slide_frame):\n",
    "                idx_ = i\n",
    "                max_slide_frame = max_value\n",
    "                min_slide_frame = min_value\n",
    "        else: pass\n",
    "    return idx_"
   ]
  },
  {
   "cell_type": "code",
   "execution_count": 363,
   "id": "fff8ab1e",
   "metadata": {},
   "outputs": [],
   "source": [
    "frames = frames.reset_index()"
   ]
  },
  {
   "cell_type": "code",
   "execution_count": 364,
   "id": "f218994d",
   "metadata": {},
   "outputs": [],
   "source": [
    "pictures[\"Merge_idx\"] = pictures.apply(lambda x: key_for_merge(x[\"Max Slide_compare\"], x[\"Min Slide_compare\"]), axis=1)"
   ]
  },
  {
   "cell_type": "code",
   "execution_count": 365,
   "id": "ddb386ea",
   "metadata": {},
   "outputs": [],
   "source": [
    "pictures = pictures.merge(frames, how=\"left\", left_on=\"Merge_idx\", right_on=\"index\")\n",
    "pictures = pictures.drop([\"Area_x\", \"Max Slide_compare\", \"Min Slide_compare\",\n",
    "                          \"Merge_idx\", \"index\", \"Area_y\", \"Max Slide_y\", \"Min Slide_y\"], axis=1)\n",
    "pictures.columns = [\"Picture\", \"Max Side\", \"Min Side\", \"Frame\"]\n",
    "pictures = pictures.loc[:, [\"Picture\", \"Frame\", \"Max Side\", \"Min Side\"]]"
   ]
  },
  {
   "cell_type": "code",
   "execution_count": 367,
   "id": "ca0fe6db",
   "metadata": {},
   "outputs": [],
   "source": [
    "pictures.to_csv(\"./output/Week35_output.csv\")"
   ]
  }
 ],
 "metadata": {
  "kernelspec": {
   "display_name": "Python 3 (ipykernel)",
   "language": "python",
   "name": "python3"
  },
  "language_info": {
   "codemirror_mode": {
    "name": "ipython",
    "version": 3
   },
   "file_extension": ".py",
   "mimetype": "text/x-python",
   "name": "python",
   "nbconvert_exporter": "python",
   "pygments_lexer": "ipython3",
   "version": "3.7.2"
  }
 },
 "nbformat": 4,
 "nbformat_minor": 5
}
