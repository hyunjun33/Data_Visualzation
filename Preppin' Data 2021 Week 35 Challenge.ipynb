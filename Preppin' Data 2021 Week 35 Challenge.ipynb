{
 "cells": [
  {
   "cell_type": "markdown",
   "id": "731ccb0d",
   "metadata": {},
   "source": [
    "## 2021: Week 35 - Picture Perfect\n",
    "\n",
    "Data preppin' ideas really are all around! I was hanging some pictures the other week and I had some weird and wonderful sizes, so working out the perfect frames was a bit tiresome. If only I could use a data preppin' tool to speed up the process... \n",
    "\n",
    "### Input\n",
    "We have 2 inputs this week:\n",
    "\n",
    "1. Picture sizes \n",
    "![img](https://lh3.googleusercontent.com/-G8_8TINw7TY/YS591OZq5aI/AAAAAAAAA6o/n2-yPvhv2jUs30JKS4f2IZZ0NgHUmiarACLcBGAsYHQ/image.png)\n",
    "\n",
    "2. Frame sizes\n",
    "![img](https://lh3.googleusercontent.com/-AvDNsXSd9Bk/YS9tMox-bbI/AAAAAAAAA7I/9AE5n6GB91QV5xJuafIV6-NBdq67hymegCLcBGAsYHQ/image.png)\n",
    "\n",
    "### Requirement\n",
    "- Input the data\n",
    "- Split up the sizes of the pictures and the frames into lengths and widths\n",
    "    - Remember an inch is 2.54cm\n",
    "- Frames can always be rotated, so make sure you know which is the min/max side\n",
    "- See which pictures fit into which frames\n",
    "- Work out the area of the frame vs the area of the picture and choose the frame with the smallest excess\n",
    "- Output the data\n",
    "\n",
    "### Output\n",
    "![img](https://lh3.googleusercontent.com/-ccVraoOGt-I/YS6L0ikCBLI/AAAAAAAAA64/6NunkLPc7ywjecilgrlCmf_TFhzREMtWgCLcBGAsYHQ/image.png)\n",
    "\n",
    "- 4 fields\n",
    "    - Picture\n",
    "    - Frame\n",
    "    - Max Side\n",
    "    - Min Side\n",
    "- 14 rows (15 including headers)"
   ]
  },
  {
   "cell_type": "code",
   "execution_count": 1,
   "id": "2da6b53d",
   "metadata": {},
   "outputs": [],
   "source": [
    "import pandas as pd\n",
    "import numpy as np\n",
    "import matplotlib.pyplot as plt\n",
    "import seaborn as sns"
   ]
  },
  {
   "cell_type": "code",
   "execution_count": 5,
   "id": "5c79f62f",
   "metadata": {},
   "outputs": [],
   "source": [
    "### Input the data"
   ]
  },
  {
   "cell_type": "code",
   "execution_count": 2,
   "id": "e3656be7",
   "metadata": {},
   "outputs": [],
   "source": [
    "data = pd.read_excel(\"./data/Pictures Input.xlsx\", sheet_name=[0, 1])"
   ]
  },
  {
   "cell_type": "code",
   "execution_count": 4,
   "id": "33ba2fda",
   "metadata": {},
   "outputs": [],
   "source": [
    "pictures = data[0].copy()\n",
    "frames = data[1].copy()"
   ]
  },
  {
   "cell_type": "code",
   "execution_count": null,
   "id": "a26f1960",
   "metadata": {},
   "outputs": [],
   "source": []
  }
 ],
 "metadata": {
  "kernelspec": {
   "display_name": "Python 3 (ipykernel)",
   "language": "python",
   "name": "python3"
  },
  "language_info": {
   "codemirror_mode": {
    "name": "ipython",
    "version": 3
   },
   "file_extension": ".py",
   "mimetype": "text/x-python",
   "name": "python",
   "nbconvert_exporter": "python",
   "pygments_lexer": "ipython3",
   "version": "3.7.2"
  }
 },
 "nbformat": 4,
 "nbformat_minor": 5
}
