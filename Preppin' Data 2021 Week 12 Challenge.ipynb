{
 "cells": [
  {
   "cell_type": "markdown",
   "id": "fbcd8c90",
   "metadata": {},
   "source": [
    "## 2021: Week 12 - Maldives Tourism\n",
    "\n",
    "One of the best things about being a Dr Prepper is that people are always bringing interesting datasets to your attention. A little while ago, Tableau Zen Master Lorna Brown showed me a dataset with all kinds of information on tourism in the Maldives. This database has a lot of data on different Key Economic Indicators, but as you can imagine, it also has a bit of a quirky structure! For inspiration as to why we might want to clean this data up, check out Lorna's viz below:\n",
    "\n",
    "![img](https://1.bp.blogspot.com/-U5TB6lC03pE/YCp2Mt1c7UI/AAAAAAAAAv8/_dEl3ETnJ5Exn6pagL2X6IuMbvp1Og21wCLcBGAsYHQ/w640-h512/%2523IronQuest%2BMaldives%2BTourism.png)\n",
    "\n",
    "### Input\n",
    "\n",
    "Our input is very wide this week, with 136 fields and only 28 rows. It covers tourism in the Maldives from 2010 to 2020. The source of this data is here but you can download it in the usual way from here.\n",
    "\n",
    "![img](https://1.bp.blogspot.com/-toKHiHeJINY/YCp3avdHi7I/AAAAAAAAAwI/9Npu2oRJK844Uva0b6u5qnb1PHx98322wCLcBGAsYHQ/w640-h216/2021W12.png)\n",
    "\n",
    "### Requirment\n",
    "\n",
    "- Input the data\n",
    "- Pivot all of the month fields into a single column \n",
    "- Rename the fields and ensure that each field has the correct data type\n",
    "- Filter out the nulls \n",
    "- Filter our dataset so our Values are referring to Number of Tourists\n",
    "- Our goal now is to remove all totals and subtotals from our dataset so that only the lowest level of granularity remains. Currently we have Total > Continents > Countries, but we don't have data for all countries in a continent, so it's not as simple as just filtering out the totals and subtotals. Plus in our Continents level of detail, we also have The Middle East and UN passport holders as categories. If you feel confident in your prep skills, this (plus the output) should be enough information to go on, but otherwise read on for a breakdown of the steps we need to take:\n",
    "    - Filter out Total tourist arrivals\n",
    "    - Split our workflow into 2 streams: Continents and Countries\n",
    "        - Hint: the hierarchy field will be useful here\n",
    "    - Split out the Continent and Country names from the relevant fields \n",
    "    - Aggregate our Country stream to the Continent level \n",
    "    - Join the two streams together and work out how many tourists arrivals there are that we don't know the country of \n",
    "    - Add in a Country field with the value \"Unknown\" \n",
    "    - Union this back to here we had our Country breakdown \n",
    "- Output the data\n",
    "\n",
    "### Output\n",
    "\n",
    "![img](https://1.bp.blogspot.com/-hTwC2KmKM7E/YCp-LMvoaiI/AAAAAAAAAwU/9vsg8JoArKAMA0GXEu6DWHsit3Kjc6Y8wCLcBGAsYHQ/w353-h400/2021W12%2BOut.png)\n",
    "\n",
    "4 fields\n",
    "- Month\n",
    "- Breakdown\n",
    "- Country\n",
    "- Number of Tourists\n",
    "\n",
    "1,826 rows (1,827 including headers)"
   ]
  },
  {
   "cell_type": "code",
   "execution_count": 447,
   "id": "b38cd4a5",
   "metadata": {},
   "outputs": [],
   "source": [
    "import pandas as pd\n",
    "import numpy as np\n",
    "import matplotlib.pyplot as plt\n",
    "import seaborn as sns"
   ]
  },
  {
   "cell_type": "markdown",
   "id": "a007eab5",
   "metadata": {},
   "source": [
    "### Input the data"
   ]
  },
  {
   "cell_type": "code",
   "execution_count": 448,
   "id": "b89fbdf1",
   "metadata": {},
   "outputs": [],
   "source": [
    "df = pd.read_csv(\"./data/Tourism Input.csv\")"
   ]
  },
  {
   "cell_type": "code",
   "execution_count": 449,
   "id": "92816f7d",
   "metadata": {
    "scrolled": true
   },
   "outputs": [
    {
     "data": {
      "text/html": [
       "<div>\n",
       "<style scoped>\n",
       "    .dataframe tbody tr th:only-of-type {\n",
       "        vertical-align: middle;\n",
       "    }\n",
       "\n",
       "    .dataframe tbody tr th {\n",
       "        vertical-align: top;\n",
       "    }\n",
       "\n",
       "    .dataframe thead th {\n",
       "        text-align: right;\n",
       "    }\n",
       "</style>\n",
       "<table border=\"1\" class=\"dataframe\">\n",
       "  <thead>\n",
       "    <tr style=\"text-align: right;\">\n",
       "      <th></th>\n",
       "      <th>id</th>\n",
       "      <th>Series-Measure</th>\n",
       "      <th>Hierarchy-Breakdown</th>\n",
       "      <th>Unit-Detail</th>\n",
       "      <th>Jan-10</th>\n",
       "      <th>Feb-10</th>\n",
       "      <th>Mar-10</th>\n",
       "      <th>Apr-10</th>\n",
       "      <th>May-10</th>\n",
       "      <th>Jun-10</th>\n",
       "      <th>...</th>\n",
       "      <th>Mar-20</th>\n",
       "      <th>Apr-20</th>\n",
       "      <th>May-20</th>\n",
       "      <th>Jun-20</th>\n",
       "      <th>Jul-20</th>\n",
       "      <th>Aug-20</th>\n",
       "      <th>Sep-20</th>\n",
       "      <th>Oct-20</th>\n",
       "      <th>Nov-20</th>\n",
       "      <th>Dec-20</th>\n",
       "    </tr>\n",
       "  </thead>\n",
       "  <tbody>\n",
       "    <tr>\n",
       "      <th>0</th>\n",
       "      <td>1103</td>\n",
       "      <td>Total tourist arrivals</td>\n",
       "      <td>Real Sector / Tourism</td>\n",
       "      <td>Tourists</td>\n",
       "      <td>67478</td>\n",
       "      <td>77063</td>\n",
       "      <td>74975</td>\n",
       "      <td>60742</td>\n",
       "      <td>58324</td>\n",
       "      <td>44050</td>\n",
       "      <td>...</td>\n",
       "      <td>59630</td>\n",
       "      <td>13</td>\n",
       "      <td>41</td>\n",
       "      <td>1</td>\n",
       "      <td>1752</td>\n",
       "      <td>7636</td>\n",
       "      <td>9605</td>\n",
       "      <td>21515</td>\n",
       "      <td>35757</td>\n",
       "      <td>96412</td>\n",
       "    </tr>\n",
       "    <tr>\n",
       "      <th>1</th>\n",
       "      <td>1104</td>\n",
       "      <td>Tourist bednights</td>\n",
       "      <td>Real Sector / Tourism</td>\n",
       "      <td>Bednights</td>\n",
       "      <td>552287</td>\n",
       "      <td>578472</td>\n",
       "      <td>581848</td>\n",
       "      <td>503007</td>\n",
       "      <td>443824</td>\n",
       "      <td>327385</td>\n",
       "      <td>...</td>\n",
       "      <td>562302.2051</td>\n",
       "      <td>8844.0203</td>\n",
       "      <td>4776.6212</td>\n",
       "      <td>2325.8012</td>\n",
       "      <td>24673.4247</td>\n",
       "      <td>71370.6948</td>\n",
       "      <td>75367.8621</td>\n",
       "      <td>169709.0807</td>\n",
       "      <td>279030.282</td>\n",
       "      <td>623284.397</td>\n",
       "    </tr>\n",
       "    <tr>\n",
       "      <th>2</th>\n",
       "      <td>1105</td>\n",
       "      <td>Average stay</td>\n",
       "      <td>Real Sector / Tourism</td>\n",
       "      <td>Days</td>\n",
       "      <td>8.184697</td>\n",
       "      <td>7.506481</td>\n",
       "      <td>7.76056</td>\n",
       "      <td>8.281041</td>\n",
       "      <td>7.609628</td>\n",
       "      <td>7.432122</td>\n",
       "      <td>...</td>\n",
       "      <td>9.4298541854713</td>\n",
       "      <td>9.428593030082</td>\n",
       "      <td>86.847657368888</td>\n",
       "      <td>42.287293761914</td>\n",
       "      <td>14.083004941515</td>\n",
       "      <td>9.3485538100132</td>\n",
       "      <td>9.4824196160074</td>\n",
       "      <td>9.6159959503923</td>\n",
       "      <td>8.877098540146</td>\n",
       "      <td>9.1055876952922</td>\n",
       "    </tr>\n",
       "    <tr>\n",
       "      <th>3</th>\n",
       "      <td>1106</td>\n",
       "      <td>Operational bed capacity</td>\n",
       "      <td>Real Sector / Tourism</td>\n",
       "      <td>Beds</td>\n",
       "      <td>22825</td>\n",
       "      <td>23472</td>\n",
       "      <td>23934</td>\n",
       "      <td>24124</td>\n",
       "      <td>23885</td>\n",
       "      <td>23585</td>\n",
       "      <td>...</td>\n",
       "      <td>51001</td>\n",
       "      <td>7690</td>\n",
       "      <td>2978</td>\n",
       "      <td>3078</td>\n",
       "      <td>9821</td>\n",
       "      <td>19263</td>\n",
       "      <td>25328</td>\n",
       "      <td>32600</td>\n",
       "      <td>37378</td>\n",
       "      <td>42194</td>\n",
       "    </tr>\n",
       "    <tr>\n",
       "      <th>4</th>\n",
       "      <td>1107</td>\n",
       "      <td>Bednight capacity</td>\n",
       "      <td>Real Sector / Tourism</td>\n",
       "      <td>Beds</td>\n",
       "      <td>707575</td>\n",
       "      <td>657216</td>\n",
       "      <td>741954</td>\n",
       "      <td>723720</td>\n",
       "      <td>740435</td>\n",
       "      <td>707550</td>\n",
       "      <td>...</td>\n",
       "      <td>1581031</td>\n",
       "      <td>230700</td>\n",
       "      <td>92318</td>\n",
       "      <td>92340</td>\n",
       "      <td>304451</td>\n",
       "      <td>597153</td>\n",
       "      <td>759840</td>\n",
       "      <td>1010600</td>\n",
       "      <td>1121340</td>\n",
       "      <td>1308014</td>\n",
       "    </tr>\n",
       "  </tbody>\n",
       "</table>\n",
       "<p>5 rows × 136 columns</p>\n",
       "</div>"
      ],
      "text/plain": [
       "     id            Series-Measure    Hierarchy-Breakdown Unit-Detail  \\\n",
       "0  1103    Total tourist arrivals  Real Sector / Tourism    Tourists   \n",
       "1  1104        Tourist bednights   Real Sector / Tourism   Bednights   \n",
       "2  1105              Average stay  Real Sector / Tourism        Days   \n",
       "3  1106  Operational bed capacity  Real Sector / Tourism        Beds   \n",
       "4  1107         Bednight capacity  Real Sector / Tourism        Beds   \n",
       "\n",
       "     Jan-10    Feb-10   Mar-10    Apr-10    May-10    Jun-10  ...  \\\n",
       "0     67478     77063    74975     60742     58324     44050  ...   \n",
       "1    552287    578472   581848    503007    443824    327385  ...   \n",
       "2  8.184697  7.506481  7.76056  8.281041  7.609628  7.432122  ...   \n",
       "3     22825     23472    23934     24124     23885     23585  ...   \n",
       "4    707575    657216   741954    723720    740435    707550  ...   \n",
       "\n",
       "            Mar-20          Apr-20           May-20           Jun-20  \\\n",
       "0            59630              13               41                1   \n",
       "1      562302.2051       8844.0203        4776.6212        2325.8012   \n",
       "2  9.4298541854713  9.428593030082  86.847657368888  42.287293761914   \n",
       "3            51001            7690             2978             3078   \n",
       "4          1581031          230700            92318            92340   \n",
       "\n",
       "            Jul-20           Aug-20           Sep-20           Oct-20  \\\n",
       "0             1752             7636             9605            21515   \n",
       "1       24673.4247       71370.6948       75367.8621      169709.0807   \n",
       "2  14.083004941515  9.3485538100132  9.4824196160074  9.6159959503923   \n",
       "3             9821            19263            25328            32600   \n",
       "4           304451           597153           759840          1010600   \n",
       "\n",
       "           Nov-20           Dec-20  \n",
       "0           35757            96412  \n",
       "1      279030.282       623284.397  \n",
       "2  8.877098540146  9.1055876952922  \n",
       "3           37378            42194  \n",
       "4         1121340          1308014  \n",
       "\n",
       "[5 rows x 136 columns]"
      ]
     },
     "execution_count": 449,
     "metadata": {},
     "output_type": "execute_result"
    }
   ],
   "source": [
    "df.head()"
   ]
  },
  {
   "cell_type": "markdown",
   "id": "098f6664",
   "metadata": {},
   "source": [
    "### Pivot all of the month fields into a single column\n",
    "- Rename the fields and ensure that each field has the correct data type\n",
    "- Filter out the nulls"
   ]
  },
  {
   "cell_type": "code",
   "execution_count": 450,
   "id": "7351ea4a",
   "metadata": {},
   "outputs": [
    {
     "data": {
      "text/plain": [
       "(3325, 6)"
      ]
     },
     "execution_count": 450,
     "metadata": {},
     "output_type": "execute_result"
    }
   ],
   "source": [
    "df = df.melt(id_vars=[\"id\", \"Series-Measure\", \"Hierarchy-Breakdown\", \"Unit-Detail\"],\n",
    "             var_name=\"Time\",\n",
    "             value_name=\"Tourists\")\n",
    "null_rows = df.loc[df[\"Tourists\"] == \"na\"].index\n",
    "df = df.drop(null_rows, axis=0)\n",
    "df.shape"
   ]
  },
  {
   "cell_type": "markdown",
   "id": "ed90f8dd",
   "metadata": {},
   "source": [
    "### Filter our dataset so our Values are referring to Number of Tourists\n",
    "- Our goal now is to remove all totals and subtotals from our dataset so that only the lowest level of granularity remains. \n",
    "- Currently we have Total > Continents > Countries, but we don't have data for all countries in a continent, so it's not as simple as just filtering out the totals and subtotals. \n",
    "- Plus in our Continents level of detail, we also have The Middle East and UN passport holders as categories. "
   ]
  },
  {
   "cell_type": "code",
   "execution_count": 451,
   "id": "bfe92caa",
   "metadata": {},
   "outputs": [
    {
     "data": {
      "text/plain": [
       "(1958, 7)"
      ]
     },
     "execution_count": 451,
     "metadata": {},
     "output_type": "execute_result"
    }
   ],
   "source": [
    "df = df.loc[df[\"Unit-Detail\"] == \"Tourists\"]\n",
    "df[\"Area\"] = df[\"Series-Measure\"].map(lambda x: x.split(\"from\")[-1])\n",
    "df = df.reset_index(drop=True)\n",
    "df.shape"
   ]
  },
  {
   "cell_type": "code",
   "execution_count": 452,
   "id": "8740fc47",
   "metadata": {},
   "outputs": [
    {
     "data": {
      "text/plain": [
       "0        39\n",
       "1         8\n",
       "23        7\n",
       "32        5\n",
       "17        5\n",
       "         ..\n",
       "2392      1\n",
       "49179     1\n",
       "35574     1\n",
       "92298     1\n",
       "3005      1\n",
       "Name: Tourists, Length: 1765, dtype: int64"
      ]
     },
     "execution_count": 452,
     "metadata": {},
     "output_type": "execute_result"
    }
   ],
   "source": [
    "df[\"Tourists\"].value_counts()"
   ]
  },
  {
   "cell_type": "code",
   "execution_count": 453,
   "id": "c99eed0f",
   "metadata": {},
   "outputs": [],
   "source": [
    "df[\"Tourists\"] = df[\"Tourists\"].astype(int)"
   ]
  },
  {
   "cell_type": "markdown",
   "id": "1469c234",
   "metadata": {},
   "source": [
    "### Split our workflow into 2 streams: Continents and Countries\n",
    "- Split out the Continent and Country names from the relevant fields"
   ]
  },
  {
   "cell_type": "code",
   "execution_count": 454,
   "id": "20872714",
   "metadata": {},
   "outputs": [
    {
     "data": {
      "text/plain": [
       "array(['Africa', 'Americas', 'Asia', 'Australia', 'China', 'Europe',\n",
       "       'France', 'Germany', 'India', 'Italy', 'Oceania', 'Russia',\n",
       "       'United States', 'the Middle East', 'the United Kingdom',\n",
       "       'Total tourist arrivals',\n",
       "       'Tourist arrivals - UN passport holders and others'], dtype=object)"
      ]
     },
     "execution_count": 454,
     "metadata": {},
     "output_type": "execute_result"
    }
   ],
   "source": [
    "list_of_area = pd.Series(df.groupby([\"Area\"])[\"Tourists\"].sum().index)\n",
    "list_of_area = list_of_area.str.strip()\n",
    "list_of_area.values"
   ]
  },
  {
   "cell_type": "code",
   "execution_count": 455,
   "id": "bb46a670",
   "metadata": {},
   "outputs": [
    {
     "data": {
      "text/html": [
       "<div>\n",
       "<style scoped>\n",
       "    .dataframe tbody tr th:only-of-type {\n",
       "        vertical-align: middle;\n",
       "    }\n",
       "\n",
       "    .dataframe tbody tr th {\n",
       "        vertical-align: top;\n",
       "    }\n",
       "\n",
       "    .dataframe thead th {\n",
       "        text-align: right;\n",
       "    }\n",
       "</style>\n",
       "<table border=\"1\" class=\"dataframe\">\n",
       "  <thead>\n",
       "    <tr style=\"text-align: right;\">\n",
       "      <th></th>\n",
       "      <th>Area</th>\n",
       "      <th>Time</th>\n",
       "      <th>Tourists</th>\n",
       "    </tr>\n",
       "  </thead>\n",
       "  <tbody>\n",
       "    <tr>\n",
       "      <th>0</th>\n",
       "      <td>Africa</td>\n",
       "      <td>Apr-10</td>\n",
       "      <td>550</td>\n",
       "    </tr>\n",
       "    <tr>\n",
       "      <th>1</th>\n",
       "      <td>Africa</td>\n",
       "      <td>Apr-11</td>\n",
       "      <td>773</td>\n",
       "    </tr>\n",
       "    <tr>\n",
       "      <th>2</th>\n",
       "      <td>Africa</td>\n",
       "      <td>Apr-12</td>\n",
       "      <td>740</td>\n",
       "    </tr>\n",
       "    <tr>\n",
       "      <th>3</th>\n",
       "      <td>Africa</td>\n",
       "      <td>Apr-13</td>\n",
       "      <td>752</td>\n",
       "    </tr>\n",
       "    <tr>\n",
       "      <th>4</th>\n",
       "      <td>Africa</td>\n",
       "      <td>Apr-14</td>\n",
       "      <td>820</td>\n",
       "    </tr>\n",
       "  </tbody>\n",
       "</table>\n",
       "</div>"
      ],
      "text/plain": [
       "     Area    Time  Tourists\n",
       "0  Africa  Apr-10       550\n",
       "1  Africa  Apr-11       773\n",
       "2  Africa  Apr-12       740\n",
       "3  Africa  Apr-13       752\n",
       "4  Africa  Apr-14       820"
      ]
     },
     "execution_count": 455,
     "metadata": {},
     "output_type": "execute_result"
    }
   ],
   "source": [
    "grouped = df.groupby([\"Area\",\"Time\"])[\"Tourists\"].sum().reset_index()\n",
    "grouped[\"Area\"] = grouped[\"Area\"].str.strip()\n",
    "grouped.head()"
   ]
  },
  {
   "cell_type": "code",
   "execution_count": 456,
   "id": "5ab8758e",
   "metadata": {},
   "outputs": [],
   "source": [
    "grouped.loc[grouped[\"Area\"] == \"Tourist arrivals - UN passport holders and others\", \"Area\"] = grouped.loc[grouped[\"Area\"] == \"Tourist arrivals - UN passport holders and others\", \"Area\"].map(lambda x: x.split(\"-\")[1])\n",
    "grouped[\"Area\"] = grouped[\"Area\"].map(lambda x: x.strip())"
   ]
  },
  {
   "cell_type": "code",
   "execution_count": 457,
   "id": "84569a98",
   "metadata": {},
   "outputs": [
    {
     "data": {
      "text/html": [
       "<div>\n",
       "<style scoped>\n",
       "    .dataframe tbody tr th:only-of-type {\n",
       "        vertical-align: middle;\n",
       "    }\n",
       "\n",
       "    .dataframe tbody tr th {\n",
       "        vertical-align: top;\n",
       "    }\n",
       "\n",
       "    .dataframe thead th {\n",
       "        text-align: right;\n",
       "    }\n",
       "</style>\n",
       "<table border=\"1\" class=\"dataframe\">\n",
       "  <thead>\n",
       "    <tr style=\"text-align: right;\">\n",
       "      <th></th>\n",
       "      <th>Area</th>\n",
       "      <th>Time</th>\n",
       "      <th>Tourists</th>\n",
       "    </tr>\n",
       "  </thead>\n",
       "  <tbody>\n",
       "    <tr>\n",
       "      <th>0</th>\n",
       "      <td>Africa</td>\n",
       "      <td>Apr-10</td>\n",
       "      <td>550</td>\n",
       "    </tr>\n",
       "    <tr>\n",
       "      <th>1</th>\n",
       "      <td>Africa</td>\n",
       "      <td>Apr-11</td>\n",
       "      <td>773</td>\n",
       "    </tr>\n",
       "    <tr>\n",
       "      <th>2</th>\n",
       "      <td>Africa</td>\n",
       "      <td>Apr-12</td>\n",
       "      <td>740</td>\n",
       "    </tr>\n",
       "    <tr>\n",
       "      <th>3</th>\n",
       "      <td>Africa</td>\n",
       "      <td>Apr-13</td>\n",
       "      <td>752</td>\n",
       "    </tr>\n",
       "    <tr>\n",
       "      <th>4</th>\n",
       "      <td>Africa</td>\n",
       "      <td>Apr-14</td>\n",
       "      <td>820</td>\n",
       "    </tr>\n",
       "    <tr>\n",
       "      <th>...</th>\n",
       "      <td>...</td>\n",
       "      <td>...</td>\n",
       "      <td>...</td>\n",
       "    </tr>\n",
       "    <tr>\n",
       "      <th>1953</th>\n",
       "      <td>UN passport holders and others</td>\n",
       "      <td>Sep-16</td>\n",
       "      <td>34</td>\n",
       "    </tr>\n",
       "    <tr>\n",
       "      <th>1954</th>\n",
       "      <td>UN passport holders and others</td>\n",
       "      <td>Sep-17</td>\n",
       "      <td>30</td>\n",
       "    </tr>\n",
       "    <tr>\n",
       "      <th>1955</th>\n",
       "      <td>UN passport holders and others</td>\n",
       "      <td>Sep-18</td>\n",
       "      <td>12</td>\n",
       "    </tr>\n",
       "    <tr>\n",
       "      <th>1956</th>\n",
       "      <td>UN passport holders and others</td>\n",
       "      <td>Sep-19</td>\n",
       "      <td>32</td>\n",
       "    </tr>\n",
       "    <tr>\n",
       "      <th>1957</th>\n",
       "      <td>UN passport holders and others</td>\n",
       "      <td>Sep-20</td>\n",
       "      <td>3</td>\n",
       "    </tr>\n",
       "  </tbody>\n",
       "</table>\n",
       "<p>880 rows × 3 columns</p>\n",
       "</div>"
      ],
      "text/plain": [
       "                                Area    Time  Tourists\n",
       "0                             Africa  Apr-10       550\n",
       "1                             Africa  Apr-11       773\n",
       "2                             Africa  Apr-12       740\n",
       "3                             Africa  Apr-13       752\n",
       "4                             Africa  Apr-14       820\n",
       "...                              ...     ...       ...\n",
       "1953  UN passport holders and others  Sep-16        34\n",
       "1954  UN passport holders and others  Sep-17        30\n",
       "1955  UN passport holders and others  Sep-18        12\n",
       "1956  UN passport holders and others  Sep-19        32\n",
       "1957  UN passport holders and others  Sep-20         3\n",
       "\n",
       "[880 rows x 3 columns]"
      ]
     },
     "execution_count": 457,
     "metadata": {},
     "output_type": "execute_result"
    }
   ],
   "source": [
    "list_of_continents = ['Africa', 'Americas', 'Asia', 'Europe','Oceania','the Middle East',\n",
    "                      \"UN passport holders and others\"]\n",
    "continents = grouped.loc[grouped[\"Area\"].isin(list_of_continents), :]\n",
    "continents"
   ]
  },
  {
   "cell_type": "markdown",
   "id": "4a844db7",
   "metadata": {},
   "source": [
    "### Aggregate our Country stream to the Continent level"
   ]
  },
  {
   "cell_type": "code",
   "execution_count": 458,
   "id": "342ef5f5",
   "metadata": {},
   "outputs": [
    {
     "data": {
      "text/html": [
       "<div>\n",
       "<style scoped>\n",
       "    .dataframe tbody tr th:only-of-type {\n",
       "        vertical-align: middle;\n",
       "    }\n",
       "\n",
       "    .dataframe tbody tr th {\n",
       "        vertical-align: top;\n",
       "    }\n",
       "\n",
       "    .dataframe thead th {\n",
       "        text-align: right;\n",
       "    }\n",
       "</style>\n",
       "<table border=\"1\" class=\"dataframe\">\n",
       "  <thead>\n",
       "    <tr style=\"text-align: right;\">\n",
       "      <th></th>\n",
       "      <th>Area</th>\n",
       "      <th>Time</th>\n",
       "      <th>Tourists</th>\n",
       "    </tr>\n",
       "  </thead>\n",
       "  <tbody>\n",
       "    <tr>\n",
       "      <th>396</th>\n",
       "      <td>Australia</td>\n",
       "      <td>Apr-20</td>\n",
       "      <td>0</td>\n",
       "    </tr>\n",
       "    <tr>\n",
       "      <th>397</th>\n",
       "      <td>Australia</td>\n",
       "      <td>Aug-20</td>\n",
       "      <td>49</td>\n",
       "    </tr>\n",
       "    <tr>\n",
       "      <th>398</th>\n",
       "      <td>Australia</td>\n",
       "      <td>Dec-20</td>\n",
       "      <td>607</td>\n",
       "    </tr>\n",
       "    <tr>\n",
       "      <th>399</th>\n",
       "      <td>Australia</td>\n",
       "      <td>Feb-20</td>\n",
       "      <td>2040</td>\n",
       "    </tr>\n",
       "    <tr>\n",
       "      <th>400</th>\n",
       "      <td>Australia</td>\n",
       "      <td>Jul-20</td>\n",
       "      <td>17</td>\n",
       "    </tr>\n",
       "    <tr>\n",
       "      <th>...</th>\n",
       "      <td>...</td>\n",
       "      <td>...</td>\n",
       "      <td>...</td>\n",
       "    </tr>\n",
       "    <tr>\n",
       "      <th>1733</th>\n",
       "      <td>the United Kingdom</td>\n",
       "      <td>Sep-16</td>\n",
       "      <td>7797</td>\n",
       "    </tr>\n",
       "    <tr>\n",
       "      <th>1734</th>\n",
       "      <td>the United Kingdom</td>\n",
       "      <td>Sep-17</td>\n",
       "      <td>7499</td>\n",
       "    </tr>\n",
       "    <tr>\n",
       "      <th>1735</th>\n",
       "      <td>the United Kingdom</td>\n",
       "      <td>Sep-18</td>\n",
       "      <td>8106</td>\n",
       "    </tr>\n",
       "    <tr>\n",
       "      <th>1736</th>\n",
       "      <td>the United Kingdom</td>\n",
       "      <td>Sep-19</td>\n",
       "      <td>7876</td>\n",
       "    </tr>\n",
       "    <tr>\n",
       "      <th>1737</th>\n",
       "      <td>the United Kingdom</td>\n",
       "      <td>Sep-20</td>\n",
       "      <td>628</td>\n",
       "    </tr>\n",
       "  </tbody>\n",
       "</table>\n",
       "<p>946 rows × 3 columns</p>\n",
       "</div>"
      ],
      "text/plain": [
       "                    Area    Time  Tourists\n",
       "396            Australia  Apr-20         0\n",
       "397            Australia  Aug-20        49\n",
       "398            Australia  Dec-20       607\n",
       "399            Australia  Feb-20      2040\n",
       "400            Australia  Jul-20        17\n",
       "...                  ...     ...       ...\n",
       "1733  the United Kingdom  Sep-16      7797\n",
       "1734  the United Kingdom  Sep-17      7499\n",
       "1735  the United Kingdom  Sep-18      8106\n",
       "1736  the United Kingdom  Sep-19      7876\n",
       "1737  the United Kingdom  Sep-20       628\n",
       "\n",
       "[946 rows x 3 columns]"
      ]
     },
     "execution_count": 458,
     "metadata": {},
     "output_type": "execute_result"
    }
   ],
   "source": [
    "list_of_countries = ['Australia', 'China','France', 'Germany', 'India', 'Italy', 'Russia',\n",
    "                     'United States','the United Kingdom']\n",
    "countries = grouped.loc[grouped[\"Area\"].isin(list_of_countries), :]\n",
    "countries"
   ]
  },
  {
   "cell_type": "code",
   "execution_count": 459,
   "id": "6410fc66",
   "metadata": {},
   "outputs": [
    {
     "name": "stderr",
     "output_type": "stream",
     "text": [
      "C:\\Users\\HYUNJUN\\anaconda3\\envs\\deep-learning-gpu\\lib\\site-packages\\pandas\\core\\indexing.py:1684: SettingWithCopyWarning: \n",
      "A value is trying to be set on a copy of a slice from a DataFrame.\n",
      "Try using .loc[row_indexer,col_indexer] = value instead\n",
      "\n",
      "See the caveats in the documentation: https://pandas.pydata.org/pandas-docs/stable/user_guide/indexing.html#returning-a-view-versus-a-copy\n",
      "  self.obj[key] = infer_fill_value(value)\n",
      "C:\\Users\\HYUNJUN\\anaconda3\\envs\\deep-learning-gpu\\lib\\site-packages\\pandas\\core\\indexing.py:1817: SettingWithCopyWarning: \n",
      "A value is trying to be set on a copy of a slice from a DataFrame.\n",
      "Try using .loc[row_indexer,col_indexer] = value instead\n",
      "\n",
      "See the caveats in the documentation: https://pandas.pydata.org/pandas-docs/stable/user_guide/indexing.html#returning-a-view-versus-a-copy\n",
      "  self._setitem_single_column(loc, value, pi)\n"
     ]
    }
   ],
   "source": [
    "countries.loc[countries[\"Area\"] == \"Australia\", \"Continent\"] = \"Oceania\"\n",
    "countries.loc[countries[\"Area\"].isin([\"China\", \"India\"]), \"Continent\"] = \"Asia\"\n",
    "countries.loc[countries[\"Area\"].isin([\"Italy\", \"Russia\", \"France\", \"Germany\", \"the United Kingdom\"]), \"Continent\"] = \"Europe\"\n",
    "countries.loc[countries[\"Area\"] == \"United States\", \"Continent\"] = \"Oceania\""
   ]
  },
  {
   "cell_type": "code",
   "execution_count": 460,
   "id": "2f732da6",
   "metadata": {},
   "outputs": [],
   "source": [
    "countries = countries.rename(columns={\"Area\": \"Country\", \"Time\": \"Month\", \"Tourists\": \"Number of Tourists\"})"
   ]
  },
  {
   "cell_type": "code",
   "execution_count": 461,
   "id": "c3ecb5ac",
   "metadata": {},
   "outputs": [
    {
     "name": "stderr",
     "output_type": "stream",
     "text": [
      "C:\\Users\\HYUNJUN\\anaconda3\\envs\\deep-learning-gpu\\lib\\site-packages\\pandas\\core\\indexing.py:1667: SettingWithCopyWarning: \n",
      "A value is trying to be set on a copy of a slice from a DataFrame.\n",
      "Try using .loc[row_indexer,col_indexer] = value instead\n",
      "\n",
      "See the caveats in the documentation: https://pandas.pydata.org/pandas-docs/stable/user_guide/indexing.html#returning-a-view-versus-a-copy\n",
      "  self.obj[key] = value\n"
     ]
    }
   ],
   "source": [
    "continents.loc[:, \"Country\"] = \"Unknown\"\n",
    "continents = continents.rename(columns={\"Area\": \"Continent\", \"Time\": \"Month\", \n",
    "                                        \"Tourists\": \"Number of Tourists\"})"
   ]
  },
  {
   "cell_type": "code",
   "execution_count": 462,
   "id": "5a7f8278",
   "metadata": {},
   "outputs": [],
   "source": [
    "countries = countries.loc[:, [\"Continent\", \"Month\", \"Number of Tourists\", \"Country\"]]"
   ]
  },
  {
   "cell_type": "markdown",
   "id": "719641f0",
   "metadata": {},
   "source": [
    "### Join the two streams together and work out how many tourists arrivals there are that we don't know the country of\n",
    "- Add in a Country field with the value \"Unknown\"\n",
    "- Union this back to here we had our Country breakdown"
   ]
  },
  {
   "cell_type": "code",
   "execution_count": 463,
   "id": "ace9e6a8",
   "metadata": {},
   "outputs": [],
   "source": [
    "final_output = pd.concat([continents, countries], axis=0)\n",
    "final_output = final_output.loc[:, [\"Month\", \"Continent\", \"Country\", \"Number of Tourists\"]]\n",
    "final_output = final_output.rename(columns={\"Continent\": \"Breakdown\"})\n",
    "final_output.loc[final_output[\"Country\"] == \"the United Kingdom\", \"Country\"] = \"United Kingdom\""
   ]
  },
  {
   "cell_type": "code",
   "execution_count": 465,
   "id": "bd66a08d",
   "metadata": {},
   "outputs": [],
   "source": [
    "final_output[\"Month\"] = pd.to_datetime(final_output[\"Month\"], format=\"%b-%y\")\n",
    "final_output[\"Month\"] = final_output[\"Month\"].map(lambda x: x.strftime(\"%d/%m/%Y\"))"
   ]
  },
  {
   "cell_type": "code",
   "execution_count": 466,
   "id": "e8ca95d7",
   "metadata": {},
   "outputs": [
    {
     "data": {
      "text/html": [
       "<div>\n",
       "<style scoped>\n",
       "    .dataframe tbody tr th:only-of-type {\n",
       "        vertical-align: middle;\n",
       "    }\n",
       "\n",
       "    .dataframe tbody tr th {\n",
       "        vertical-align: top;\n",
       "    }\n",
       "\n",
       "    .dataframe thead th {\n",
       "        text-align: right;\n",
       "    }\n",
       "</style>\n",
       "<table border=\"1\" class=\"dataframe\">\n",
       "  <thead>\n",
       "    <tr style=\"text-align: right;\">\n",
       "      <th></th>\n",
       "      <th>Month</th>\n",
       "      <th>Breakdown</th>\n",
       "      <th>Country</th>\n",
       "      <th>Number of Tourists</th>\n",
       "    </tr>\n",
       "  </thead>\n",
       "  <tbody>\n",
       "    <tr>\n",
       "      <th>0</th>\n",
       "      <td>01/04/2010</td>\n",
       "      <td>Africa</td>\n",
       "      <td>Unknown</td>\n",
       "      <td>550</td>\n",
       "    </tr>\n",
       "    <tr>\n",
       "      <th>1487</th>\n",
       "      <td>01/08/2012</td>\n",
       "      <td>the Middle East</td>\n",
       "      <td>Unknown</td>\n",
       "      <td>2712</td>\n",
       "    </tr>\n",
       "    <tr>\n",
       "      <th>1606</th>\n",
       "      <td>01/04/2010</td>\n",
       "      <td>Europe</td>\n",
       "      <td>United Kingdom</td>\n",
       "      <td>9529</td>\n",
       "    </tr>\n",
       "    <tr>\n",
       "      <th>1089</th>\n",
       "      <td>01/12/2010</td>\n",
       "      <td>Europe</td>\n",
       "      <td>Italy</td>\n",
       "      <td>9845</td>\n",
       "    </tr>\n",
       "    <tr>\n",
       "      <th>2</th>\n",
       "      <td>01/04/2012</td>\n",
       "      <td>Africa</td>\n",
       "      <td>Unknown</td>\n",
       "      <td>740</td>\n",
       "    </tr>\n",
       "    <tr>\n",
       "      <th>1532</th>\n",
       "      <td>01/07/2013</td>\n",
       "      <td>the Middle East</td>\n",
       "      <td>Unknown</td>\n",
       "      <td>1220</td>\n",
       "    </tr>\n",
       "    <tr>\n",
       "      <th>1094</th>\n",
       "      <td>01/12/2015</td>\n",
       "      <td>Europe</td>\n",
       "      <td>Italy</td>\n",
       "      <td>11280</td>\n",
       "    </tr>\n",
       "    <tr>\n",
       "      <th>528</th>\n",
       "      <td>01/09/2010</td>\n",
       "      <td>Asia</td>\n",
       "      <td>China</td>\n",
       "      <td>13028</td>\n",
       "    </tr>\n",
       "    <tr>\n",
       "      <th>824</th>\n",
       "      <td>01/08/2020</td>\n",
       "      <td>Europe</td>\n",
       "      <td>Germany</td>\n",
       "      <td>306</td>\n",
       "    </tr>\n",
       "    <tr>\n",
       "      <th>1141</th>\n",
       "      <td>01/06/2018</td>\n",
       "      <td>Europe</td>\n",
       "      <td>Italy</td>\n",
       "      <td>3236</td>\n",
       "    </tr>\n",
       "  </tbody>\n",
       "</table>\n",
       "</div>"
      ],
      "text/plain": [
       "           Month        Breakdown         Country  Number of Tourists\n",
       "0     01/04/2010           Africa         Unknown                 550\n",
       "1487  01/08/2012  the Middle East         Unknown                2712\n",
       "1606  01/04/2010           Europe  United Kingdom                9529\n",
       "1089  01/12/2010           Europe           Italy                9845\n",
       "2     01/04/2012           Africa         Unknown                 740\n",
       "1532  01/07/2013  the Middle East         Unknown                1220\n",
       "1094  01/12/2015           Europe           Italy               11280\n",
       "528   01/09/2010             Asia           China               13028\n",
       "824   01/08/2020           Europe         Germany                 306\n",
       "1141  01/06/2018           Europe           Italy                3236"
      ]
     },
     "execution_count": 466,
     "metadata": {},
     "output_type": "execute_result"
    }
   ],
   "source": [
    "final_output.sample(10)"
   ]
  },
  {
   "cell_type": "code",
   "execution_count": 467,
   "id": "a7230d63",
   "metadata": {},
   "outputs": [
    {
     "data": {
      "text/plain": [
       "(1826, 4)"
      ]
     },
     "execution_count": 467,
     "metadata": {},
     "output_type": "execute_result"
    }
   ],
   "source": [
    "final_output.shape"
   ]
  },
  {
   "cell_type": "code",
   "execution_count": 468,
   "id": "d1080749",
   "metadata": {},
   "outputs": [],
   "source": [
    "final_output.to_csv(\"./output/Week12_output.csv\")"
   ]
  }
 ],
 "metadata": {
  "kernelspec": {
   "display_name": "Python 3 (ipykernel)",
   "language": "python",
   "name": "python3"
  },
  "language_info": {
   "codemirror_mode": {
    "name": "ipython",
    "version": 3
   },
   "file_extension": ".py",
   "mimetype": "text/x-python",
   "name": "python",
   "nbconvert_exporter": "python",
   "pygments_lexer": "ipython3",
   "version": "3.7.2"
  }
 },
 "nbformat": 4,
 "nbformat_minor": 5
}
