{
 "cells": [
  {
   "cell_type": "markdown",
   "id": "3b01f3c7",
   "metadata": {},
   "source": [
    "## 2021: Week 37 - Re-looking at Phone Contract Revenue\n",
    "\n",
    "The latest version of Tableau Prep was released this week! This included a great new feature that allows you to generate new rows that aren't already available within your data set. If you want to know more then check out Carl's blog post where he has this covered!\n",
    "\n",
    "As there's a new feature that makes our lives that little bit easier, I thought it would be a great opportunity to revisit one of the older challenges to see how things have changed. Therefore this week we are nearly going all the way back to where Preppin' Data began... Challenge 2019 Week 3! \n",
    "\n",
    "If you haven't completed this challenge then you can find the original post here, but for the challenge we are going to calculate the recurring revenue based on a mobile phone contract length. This can be completed in the new version of Prep (2021.3 onwards) or an older version if you haven't had the opportunity to download it yet (better yet, why not try both!). \n",
    "\n",
    "### Scenario\n",
    "You work for a mobile / cell phone company. You boss asks you to pull together the revenue report of your current batch of contracts (sadly there are only four contracts!). They need to know how much revenue is generated each month from these contracts whilst they are 'live' (ie from their start date until 'x' months in the future when the contract runs out).\n",
    "\n",
    "### Requirement\n",
    "- Input the Data\n",
    "- Calculate the End Date for each contract\n",
    "- Create a Row for each month a person will hold the contract\n",
    "- Calculate the monthly cumulative cost of each person's contract\n",
    "- Output the Data\n",
    "\n",
    "### Output\n",
    "![img](https://1.bp.blogspot.com/-QLr15tWCcxQ/YUBuX_t2CRI/AAAAAAAAHZM/loe_8PMYy8kcofoEYXeC6f5EquPDKJmqACLcBGAsYHQ/s320/Output.png)"
   ]
  },
  {
   "cell_type": "code",
   "execution_count": 1,
   "id": "3238148a",
   "metadata": {},
   "outputs": [],
   "source": [
    "import pandas as pd\n",
    "import numpy as np\n",
    "import matplotlib.pyplot as plt\n",
    "import seaborn as sns"
   ]
  },
  {
   "cell_type": "markdown",
   "id": "81b75c3b",
   "metadata": {},
   "source": [
    "### Input the Data"
   ]
  },
  {
   "cell_type": "code",
   "execution_count": 3,
   "id": "d6487e08",
   "metadata": {},
   "outputs": [],
   "source": [
    "data = pd.read_excel(\"./data/2021 Week 37 Input.xlsx\", sheet_name=[0, 1])\n",
    "contract = data[0].copy()"
   ]
  },
  {
   "cell_type": "code",
   "execution_count": 4,
   "id": "5bca85a6",
   "metadata": {},
   "outputs": [
    {
     "data": {
      "text/html": [
       "<div>\n",
       "<style scoped>\n",
       "    .dataframe tbody tr th:only-of-type {\n",
       "        vertical-align: middle;\n",
       "    }\n",
       "\n",
       "    .dataframe tbody tr th {\n",
       "        vertical-align: top;\n",
       "    }\n",
       "\n",
       "    .dataframe thead th {\n",
       "        text-align: right;\n",
       "    }\n",
       "</style>\n",
       "<table border=\"1\" class=\"dataframe\">\n",
       "  <thead>\n",
       "    <tr style=\"text-align: right;\">\n",
       "      <th></th>\n",
       "      <th>Name</th>\n",
       "      <th>Monthly Cost</th>\n",
       "      <th>Contract Length (months)</th>\n",
       "      <th>Start Date</th>\n",
       "    </tr>\n",
       "  </thead>\n",
       "  <tbody>\n",
       "    <tr>\n",
       "      <th>0</th>\n",
       "      <td>Carl</td>\n",
       "      <td>20</td>\n",
       "      <td>24</td>\n",
       "      <td>2018-12-13</td>\n",
       "    </tr>\n",
       "    <tr>\n",
       "      <th>1</th>\n",
       "      <td>Jonathan</td>\n",
       "      <td>15</td>\n",
       "      <td>6</td>\n",
       "      <td>2019-02-22</td>\n",
       "    </tr>\n",
       "    <tr>\n",
       "      <th>2</th>\n",
       "      <td>Andy</td>\n",
       "      <td>45</td>\n",
       "      <td>12</td>\n",
       "      <td>2018-10-17</td>\n",
       "    </tr>\n",
       "    <tr>\n",
       "      <th>3</th>\n",
       "      <td>Sophie</td>\n",
       "      <td>30</td>\n",
       "      <td>12</td>\n",
       "      <td>2018-11-19</td>\n",
       "    </tr>\n",
       "  </tbody>\n",
       "</table>\n",
       "</div>"
      ],
      "text/plain": [
       "       Name  Monthly Cost  Contract Length (months) Start Date\n",
       "0      Carl            20                        24 2018-12-13\n",
       "1  Jonathan            15                         6 2019-02-22\n",
       "2      Andy            45                        12 2018-10-17\n",
       "3    Sophie            30                        12 2018-11-19"
      ]
     },
     "execution_count": 4,
     "metadata": {},
     "output_type": "execute_result"
    }
   ],
   "source": [
    "contract"
   ]
  },
  {
   "cell_type": "code",
   "execution_count": 5,
   "id": "2fb21030",
   "metadata": {},
   "outputs": [
    {
     "name": "stdout",
     "output_type": "stream",
     "text": [
      "<class 'pandas.core.frame.DataFrame'>\n",
      "RangeIndex: 4 entries, 0 to 3\n",
      "Data columns (total 4 columns):\n",
      " #   Column                    Non-Null Count  Dtype         \n",
      "---  ------                    --------------  -----         \n",
      " 0   Name                      4 non-null      object        \n",
      " 1   Monthly Cost              4 non-null      int64         \n",
      " 2   Contract Length (months)  4 non-null      int64         \n",
      " 3   Start Date                4 non-null      datetime64[ns]\n",
      "dtypes: datetime64[ns](1), int64(2), object(1)\n",
      "memory usage: 256.0+ bytes\n"
     ]
    }
   ],
   "source": [
    "contract.info()"
   ]
  },
  {
   "cell_type": "markdown",
   "id": "57c5d181",
   "metadata": {},
   "source": [
    "### Calculate the End Date for each contract"
   ]
  },
  {
   "cell_type": "code",
   "execution_count": 9,
   "id": "79f55582",
   "metadata": {},
   "outputs": [
    {
     "data": {
      "text/plain": [
       "Timestamp('2020-12-13 00:00:00')"
      ]
     },
     "execution_count": 9,
     "metadata": {},
     "output_type": "execute_result"
    }
   ],
   "source": [
    "dt = pd.Timestamp(contract[\"Start Date\"][0])\n",
    "dt + pd.DateOffset(months=24)"
   ]
  },
  {
   "cell_type": "code",
   "execution_count": 17,
   "id": "eb60d373",
   "metadata": {},
   "outputs": [
    {
     "data": {
      "text/plain": [
       "0   2020-12-13\n",
       "1   2019-08-22\n",
       "2   2019-10-17\n",
       "3   2019-11-19\n",
       "Name: End Date, dtype: datetime64[ns]"
      ]
     },
     "execution_count": 17,
     "metadata": {},
     "output_type": "execute_result"
    }
   ],
   "source": [
    "contract[\"End Date\"] = contract.apply(lambda x: x[\"Start Date\"] + pd.DateOffset(months=x[\"Contract Length (months)\"]), axis=1)\n",
    "contract[\"End Date\"]"
   ]
  },
  {
   "cell_type": "markdown",
   "id": "4ae1dc00",
   "metadata": {},
   "source": [
    "### Create a Row for each month a person will hold the contract"
   ]
  },
  {
   "cell_type": "code",
   "execution_count": null,
   "id": "8df8f905",
   "metadata": {},
   "outputs": [],
   "source": []
  }
 ],
 "metadata": {
  "kernelspec": {
   "display_name": "Python 3 (ipykernel)",
   "language": "python",
   "name": "python3"
  },
  "language_info": {
   "codemirror_mode": {
    "name": "ipython",
    "version": 3
   },
   "file_extension": ".py",
   "mimetype": "text/x-python",
   "name": "python",
   "nbconvert_exporter": "python",
   "pygments_lexer": "ipython3",
   "version": "3.7.2"
  }
 },
 "nbformat": 4,
 "nbformat_minor": 5
}
