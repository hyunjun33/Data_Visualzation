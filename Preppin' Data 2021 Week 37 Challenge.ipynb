{
 "cells": [
  {
   "cell_type": "markdown",
   "id": "1628c29d",
   "metadata": {},
   "source": [
    "## 2021: Week 37 - Re-looking at Phone Contract Revenue\n",
    "\n",
    "The latest version of Tableau Prep was released this week! This included a great new feature that allows you to generate new rows that aren't already available within your data set. If you want to know more then check out Carl's blog post where he has this covered!\n",
    "\n",
    "As there's a new feature that makes our lives that little bit easier, I thought it would be a great opportunity to revisit one of the older challenges to see how things have changed. Therefore this week we are nearly going all the way back to where Preppin' Data began... Challenge 2019 Week 3! \n",
    "\n",
    "If you haven't completed this challenge then you can find the original post here, but for the challenge we are going to calculate the recurring revenue based on a mobile phone contract length. This can be completed in the new version of Prep (2021.3 onwards) or an older version if you haven't had the opportunity to download it yet (better yet, why not try both!). \n",
    "\n",
    "### Scenario\n",
    "You work for a mobile / cell phone company. You boss asks you to pull together the revenue report of your current batch of contracts (sadly there are only four contracts!). They need to know how much revenue is generated each month from these contracts whilst they are 'live' (ie from their start date until 'x' months in the future when the contract runs out).\n",
    "\n",
    "### Requirement\n",
    "- Input the Data\n",
    "- Calculate the End Date for each contract\n",
    "- Create a Row for each month a person will hold the contract\n",
    "- Calculate the monthly cumulative cost of each person's contract\n",
    "- Output the Data\n",
    "\n",
    "### Output\n",
    "![img](https://1.bp.blogspot.com/-QLr15tWCcxQ/YUBuX_t2CRI/AAAAAAAAHZM/loe_8PMYy8kcofoEYXeC6f5EquPDKJmqACLcBGAsYHQ/s320/Output.png)"
   ]
  },
  {
   "cell_type": "code",
   "execution_count": 1,
   "id": "96153302",
   "metadata": {},
   "outputs": [],
   "source": [
    "import pandas as pd\n",
    "import numpy as np\n",
    "import matplotlib.pyplot as plt\n",
    "import seaborn as sns"
   ]
  },
  {
   "cell_type": "code",
   "execution_count": 3,
   "id": "ed5070a7",
   "metadata": {},
   "outputs": [],
   "source": [
    "data = pd.read_excel(\"./data/2021 Week 37 Input.xlsx\", sheet_name=[0, 1])\n",
    "contract = data[0].copy()"
   ]
  },
  {
   "cell_type": "code",
   "execution_count": null,
   "id": "04ed7c7d",
   "metadata": {},
   "outputs": [],
   "source": []
  }
 ],
 "metadata": {
  "kernelspec": {
   "display_name": "Python 3 (ipykernel)",
   "language": "python",
   "name": "python3"
  },
  "language_info": {
   "codemirror_mode": {
    "name": "ipython",
    "version": 3
   },
   "file_extension": ".py",
   "mimetype": "text/x-python",
   "name": "python",
   "nbconvert_exporter": "python",
   "pygments_lexer": "ipython3",
   "version": "3.7.2"
  }
 },
 "nbformat": 4,
 "nbformat_minor": 5
}
