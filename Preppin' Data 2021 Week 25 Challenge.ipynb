{
 "cells": [
  {
   "cell_type": "markdown",
   "id": "4413f1c0",
   "metadata": {},
   "source": [
    "## 2021: Week 25 - The Worst Pokémon\n",
    "\n",
    "Often our stakeholders can have very niche knowledge and their requests may baffle us. Luckily, as data preppers we have the tools to tackle any dataset, no matter how bizarre. Yes, Carl and Tom have allowed me to create another Pokémon challenge!\n",
    "\n",
    "The idea came from a YouTube video that I stumbled across: Who Is Pokemon’s LEAST Favorite Pokémon? The logical steps applied in the video felt like they were screaming out for a Preppin' Data challenge to verify the results! But be warned, the answer to this challenge will differ from the conclusion of the video, due to differing datasets.\n",
    "\n",
    "### Input\n",
    "We have multiple inputs for this challenge:\n",
    "1. Gen 1 Pokémon (from Pokémon Database)\n",
    "2. Evolution Group (from Bulbapedia - also see Preppin' Data 2021 week 10) \n",
    "3. Evolutions (Bulbapedia)\n",
    "4. Mega Evolutions (Pokémon DB)\n",
    "5. Alolan Pokémon (Pokémon DB)\n",
    "6. Galarian Pokémon (Pokémon DB)\n",
    "7. Gigantamax Pokémon (from IGN)\n",
    "8. Unattainable Pokémon in Sword & Shield (Pokémon DB)\n",
    "9. Anime appearances for Pokémon (First 116 episodes webscraped from Bulbapedia)\n",
    "\n",
    "### Challenge\n",
    "Remember: once a Pokémon meets a condition, their whole evolution group is excluded from consideration. For example, since there is a Mega Beedrill, Weedle and Kakuna cannot be the worst Pokémon since they all belong to the Weedle evolution group.\n",
    "\n",
    "- Input the data\n",
    "- Clean up the list of Gen 1 Pokémon so we have 1 row per Pokémon\n",
    "- Clean up the Evolution Group input so that we can join it to the Gen 1 list \n",
    "    - Filter out Starter and Legendary Pokémon\n",
    "- Using the Evolutions input, exclude any Pokémon that evolves from a Pokémon that is not part of Gen 1 or can evolve into a Pokémon outside of Gen 1\n",
    "- Exclude any Pokémon with a mega evolution, Alolan, Galarian or Gigantamax form\n",
    "- It's not possible to catch certain Pokémon in the most recent games. These are the only ones we will consider from this point on\n",
    "- We're left with 10 evolution groups. Rank them in ascending order of how many times they've appeared in the anime to see who the worst Pokémon is!\n",
    "- Output the data\n",
    "\n",
    "### Output\n",
    "![img](https://lh3.googleusercontent.com/-8kUZERJNZZY/YMzNoNRQwvI/AAAAAAAAA1M/pFn3S00eEoI2WeFPyEIJ17U2tvx-X4uYQCLcBGAsYHQ/image.png)\n",
    "\n",
    "3 fields\n",
    "   - Worst Pokémon\n",
    "   - Evolution Group\n",
    "   - Appearances\n",
    "\n",
    "10 rows (11 including headers)"
   ]
  },
  {
   "cell_type": "code",
   "execution_count": 1,
   "id": "08c935e9",
   "metadata": {},
   "outputs": [],
   "source": [
    "import pandas as pd\n",
    "import numpy as np\n",
    "import matplotlib.pyplot as plt\n",
    "import seaborn as sns"
   ]
  },
  {
   "cell_type": "markdown",
   "id": "43437897",
   "metadata": {},
   "source": [
    "### Input the data"
   ]
  },
  {
   "cell_type": "code",
   "execution_count": 5,
   "id": "5761f113",
   "metadata": {},
   "outputs": [],
   "source": [
    "data = pd.read_excel(\"./data/2021W25 Input.xlsx\", sheet_name=[\"Gen 1\", \"Evolution Group\", \"Evolutions\",\n",
    "                                                       \"Mega Evolutions\", \"Alolan\", \"Galarian\",\n",
    "                                                       \"Gigantamax\", \"Unattainable in Sword & Shield\",\n",
    "                                                       \"Anime Appearances\"])"
   ]
  },
  {
   "cell_type": "markdown",
   "id": "805dd7e7",
   "metadata": {},
   "source": [
    "### Clean up the list of Gen 1 Pokémon so we have 1 row per Pokémon"
   ]
  },
  {
   "cell_type": "code",
   "execution_count": 9,
   "id": "d98505d1",
   "metadata": {},
   "outputs": [
    {
     "data": {
      "text/plain": [
       "(218, 10)"
      ]
     },
     "execution_count": 9,
     "metadata": {},
     "output_type": "execute_result"
    }
   ],
   "source": [
    "gen_1 = data[\"Gen 1\"].copy()\n",
    "gen_1.shape"
   ]
  },
  {
   "cell_type": "code",
   "execution_count": 10,
   "id": "8563477c",
   "metadata": {},
   "outputs": [
    {
     "data": {
      "text/plain": [
       "(162, 10)"
      ]
     },
     "execution_count": 10,
     "metadata": {},
     "output_type": "execute_result"
    }
   ],
   "source": [
    "gen_1 = gen_1.drop_duplicates()\n",
    "gen_1.shape"
   ]
  },
  {
   "cell_type": "markdown",
   "id": "806a6536",
   "metadata": {},
   "source": [
    "### Clean up the Evolution Group input so that we can join it to the Gen 1 list\n",
    "- Filter out Starter and Legendary Pokémon"
   ]
  },
  {
   "cell_type": "code",
   "execution_count": 26,
   "id": "d7ed9c48",
   "metadata": {},
   "outputs": [
    {
     "data": {
      "text/plain": [
       "(158, 4)"
      ]
     },
     "execution_count": 26,
     "metadata": {},
     "output_type": "execute_result"
    }
   ],
   "source": [
    "evolution_group = data[\"Evolution Group\"].copy()\n",
    "evolution_group.shape"
   ]
  },
  {
   "cell_type": "code",
   "execution_count": 27,
   "id": "cd323875",
   "metadata": {},
   "outputs": [
    {
     "data": {
      "text/html": [
       "<div>\n",
       "<style scoped>\n",
       "    .dataframe tbody tr th:only-of-type {\n",
       "        vertical-align: middle;\n",
       "    }\n",
       "\n",
       "    .dataframe tbody tr th {\n",
       "        vertical-align: top;\n",
       "    }\n",
       "\n",
       "    .dataframe thead th {\n",
       "        text-align: right;\n",
       "    }\n",
       "</style>\n",
       "<table border=\"1\" class=\"dataframe\">\n",
       "  <thead>\n",
       "    <tr style=\"text-align: right;\">\n",
       "      <th></th>\n",
       "      <th>Evolution Group</th>\n",
       "      <th>#</th>\n",
       "      <th>Starter?</th>\n",
       "      <th>Legendary?</th>\n",
       "    </tr>\n",
       "  </thead>\n",
       "  <tbody>\n",
       "    <tr>\n",
       "      <th>0</th>\n",
       "      <td>Bulbasaur</td>\n",
       "      <td>001</td>\n",
       "      <td>1</td>\n",
       "      <td>0</td>\n",
       "    </tr>\n",
       "    <tr>\n",
       "      <th>1</th>\n",
       "      <td>Bulbasaur</td>\n",
       "      <td>002</td>\n",
       "      <td>1</td>\n",
       "      <td>0</td>\n",
       "    </tr>\n",
       "    <tr>\n",
       "      <th>2</th>\n",
       "      <td>Bulbasaur</td>\n",
       "      <td>003</td>\n",
       "      <td>1</td>\n",
       "      <td>0</td>\n",
       "    </tr>\n",
       "    <tr>\n",
       "      <th>3</th>\n",
       "      <td>Charmander</td>\n",
       "      <td>004</td>\n",
       "      <td>1</td>\n",
       "      <td>0</td>\n",
       "    </tr>\n",
       "    <tr>\n",
       "      <th>4</th>\n",
       "      <td>Charmander</td>\n",
       "      <td>005</td>\n",
       "      <td>1</td>\n",
       "      <td>0</td>\n",
       "    </tr>\n",
       "  </tbody>\n",
       "</table>\n",
       "</div>"
      ],
      "text/plain": [
       "  Evolution Group     #  Starter?  Legendary?\n",
       "0       Bulbasaur   001         1           0\n",
       "1       Bulbasaur   002         1           0\n",
       "2       Bulbasaur   003         1           0\n",
       "3      Charmander   004         1           0\n",
       "4      Charmander   005         1           0"
      ]
     },
     "execution_count": 27,
     "metadata": {},
     "output_type": "execute_result"
    }
   ],
   "source": [
    "evolution_group.head()"
   ]
  },
  {
   "cell_type": "code",
   "execution_count": 28,
   "id": "d3d624c0",
   "metadata": {},
   "outputs": [
    {
     "data": {
      "text/plain": [
       "(134, 4)"
      ]
     },
     "execution_count": 28,
     "metadata": {},
     "output_type": "execute_result"
    }
   ],
   "source": [
    "evolution_group = evolution_group[(evolution_group[\"Starter?\"] == 0) & (evolution_group[\"Legendary?\"] == 0)]\n",
    "evolution_group.shape"
   ]
  },
  {
   "cell_type": "code",
   "execution_count": 29,
   "id": "4e3ef352",
   "metadata": {},
   "outputs": [
    {
     "data": {
      "text/html": [
       "<div>\n",
       "<style scoped>\n",
       "    .dataframe tbody tr th:only-of-type {\n",
       "        vertical-align: middle;\n",
       "    }\n",
       "\n",
       "    .dataframe tbody tr th {\n",
       "        vertical-align: top;\n",
       "    }\n",
       "\n",
       "    .dataframe thead th {\n",
       "        text-align: right;\n",
       "    }\n",
       "</style>\n",
       "<table border=\"1\" class=\"dataframe\">\n",
       "  <thead>\n",
       "    <tr style=\"text-align: right;\">\n",
       "      <th></th>\n",
       "      <th>Evolution Group</th>\n",
       "      <th>#</th>\n",
       "      <th>Starter?</th>\n",
       "      <th>Legendary?</th>\n",
       "    </tr>\n",
       "  </thead>\n",
       "  <tbody>\n",
       "    <tr>\n",
       "      <th>27</th>\n",
       "      <td>Sandshrew</td>\n",
       "      <td>028</td>\n",
       "      <td>0</td>\n",
       "      <td>0</td>\n",
       "    </tr>\n",
       "    <tr>\n",
       "      <th>67</th>\n",
       "      <td>Machop</td>\n",
       "      <td>068</td>\n",
       "      <td>0</td>\n",
       "      <td>0</td>\n",
       "    </tr>\n",
       "    <tr>\n",
       "      <th>95</th>\n",
       "      <td>Drowzee</td>\n",
       "      <td>096</td>\n",
       "      <td>0</td>\n",
       "      <td>0</td>\n",
       "    </tr>\n",
       "    <tr>\n",
       "      <th>125</th>\n",
       "      <td>Magmar</td>\n",
       "      <td>126</td>\n",
       "      <td>0</td>\n",
       "      <td>0</td>\n",
       "    </tr>\n",
       "    <tr>\n",
       "      <th>62</th>\n",
       "      <td>Abra</td>\n",
       "      <td>063</td>\n",
       "      <td>0</td>\n",
       "      <td>0</td>\n",
       "    </tr>\n",
       "    <tr>\n",
       "      <th>71</th>\n",
       "      <td>Tentacool</td>\n",
       "      <td>072</td>\n",
       "      <td>0</td>\n",
       "      <td>0</td>\n",
       "    </tr>\n",
       "    <tr>\n",
       "      <th>106</th>\n",
       "      <td>Hitmonchan</td>\n",
       "      <td>107</td>\n",
       "      <td>0</td>\n",
       "      <td>0</td>\n",
       "    </tr>\n",
       "    <tr>\n",
       "      <th>119</th>\n",
       "      <td>Staryu</td>\n",
       "      <td>120</td>\n",
       "      <td>0</td>\n",
       "      <td>0</td>\n",
       "    </tr>\n",
       "    <tr>\n",
       "      <th>103</th>\n",
       "      <td>Cubone</td>\n",
       "      <td>104</td>\n",
       "      <td>0</td>\n",
       "      <td>0</td>\n",
       "    </tr>\n",
       "    <tr>\n",
       "      <th>107</th>\n",
       "      <td>Lickitung</td>\n",
       "      <td>108</td>\n",
       "      <td>0</td>\n",
       "      <td>0</td>\n",
       "    </tr>\n",
       "  </tbody>\n",
       "</table>\n",
       "</div>"
      ],
      "text/plain": [
       "    Evolution Group     #  Starter?  Legendary?\n",
       "27        Sandshrew   028         0           0\n",
       "67           Machop   068         0           0\n",
       "95          Drowzee   096         0           0\n",
       "125          Magmar   126         0           0\n",
       "62             Abra   063         0           0\n",
       "71        Tentacool   072         0           0\n",
       "106      Hitmonchan   107         0           0\n",
       "119          Staryu   120         0           0\n",
       "103          Cubone   104         0           0\n",
       "107       Lickitung   108         0           0"
      ]
     },
     "execution_count": 29,
     "metadata": {},
     "output_type": "execute_result"
    }
   ],
   "source": [
    "evolution_group.sample(10)"
   ]
  },
  {
   "cell_type": "markdown",
   "id": "6b9f16c9",
   "metadata": {},
   "source": [
    "### Using the Evolutions input, exclude any Pokémon that evolves from a Pokémon that is not part of Gen 1 or can evolve into a Pokémon outside of Gen 1"
   ]
  },
  {
   "cell_type": "code",
   "execution_count": 31,
   "id": "9f409c5b",
   "metadata": {},
   "outputs": [
    {
     "data": {
      "text/html": [
       "<div>\n",
       "<style scoped>\n",
       "    .dataframe tbody tr th:only-of-type {\n",
       "        vertical-align: middle;\n",
       "    }\n",
       "\n",
       "    .dataframe tbody tr th {\n",
       "        vertical-align: top;\n",
       "    }\n",
       "\n",
       "    .dataframe thead th {\n",
       "        text-align: right;\n",
       "    }\n",
       "</style>\n",
       "<table border=\"1\" class=\"dataframe\">\n",
       "  <thead>\n",
       "    <tr style=\"text-align: right;\">\n",
       "      <th></th>\n",
       "      <th>Evolving from</th>\n",
       "      <th>Evolving to</th>\n",
       "      <th>Level</th>\n",
       "      <th>Condition</th>\n",
       "      <th>Evolution Type</th>\n",
       "    </tr>\n",
       "  </thead>\n",
       "  <tbody>\n",
       "    <tr>\n",
       "      <th>0</th>\n",
       "      <td>Bulbasaur</td>\n",
       "      <td>Ivysaur</td>\n",
       "      <td>16.0</td>\n",
       "      <td>NaN</td>\n",
       "      <td>Level</td>\n",
       "    </tr>\n",
       "    <tr>\n",
       "      <th>1</th>\n",
       "      <td>Ivysaur</td>\n",
       "      <td>Venusaur</td>\n",
       "      <td>32.0</td>\n",
       "      <td>NaN</td>\n",
       "      <td>Level</td>\n",
       "    </tr>\n",
       "    <tr>\n",
       "      <th>2</th>\n",
       "      <td>Charmander</td>\n",
       "      <td>Charmeleon</td>\n",
       "      <td>16.0</td>\n",
       "      <td>NaN</td>\n",
       "      <td>Level</td>\n",
       "    </tr>\n",
       "    <tr>\n",
       "      <th>3</th>\n",
       "      <td>Charmeleon</td>\n",
       "      <td>Charizard</td>\n",
       "      <td>36.0</td>\n",
       "      <td>NaN</td>\n",
       "      <td>Level</td>\n",
       "    </tr>\n",
       "    <tr>\n",
       "      <th>4</th>\n",
       "      <td>Squirtle</td>\n",
       "      <td>Wartortle</td>\n",
       "      <td>16.0</td>\n",
       "      <td>NaN</td>\n",
       "      <td>Level</td>\n",
       "    </tr>\n",
       "    <tr>\n",
       "      <th>...</th>\n",
       "      <td>...</td>\n",
       "      <td>...</td>\n",
       "      <td>...</td>\n",
       "      <td>...</td>\n",
       "      <td>...</td>\n",
       "    </tr>\n",
       "    <tr>\n",
       "      <th>385</th>\n",
       "      <td>Chingling</td>\n",
       "      <td>Chimecho</td>\n",
       "      <td>NaN</td>\n",
       "      <td>Nighttime</td>\n",
       "      <td>Happiness</td>\n",
       "    </tr>\n",
       "    <tr>\n",
       "      <th>386</th>\n",
       "      <td>Buneary</td>\n",
       "      <td>Lopunny</td>\n",
       "      <td>NaN</td>\n",
       "      <td>NaN</td>\n",
       "      <td>Happiness</td>\n",
       "    </tr>\n",
       "    <tr>\n",
       "      <th>387</th>\n",
       "      <td>Riolu</td>\n",
       "      <td>Lucario</td>\n",
       "      <td>NaN</td>\n",
       "      <td>Daytime</td>\n",
       "      <td>Happiness</td>\n",
       "    </tr>\n",
       "    <tr>\n",
       "      <th>388</th>\n",
       "      <td>Woobat</td>\n",
       "      <td>Swoobat</td>\n",
       "      <td>NaN</td>\n",
       "      <td>NaN</td>\n",
       "      <td>Happiness</td>\n",
       "    </tr>\n",
       "    <tr>\n",
       "      <th>389</th>\n",
       "      <td>Swadloon</td>\n",
       "      <td>Leavanny</td>\n",
       "      <td>NaN</td>\n",
       "      <td>NaN</td>\n",
       "      <td>Happiness</td>\n",
       "    </tr>\n",
       "  </tbody>\n",
       "</table>\n",
       "<p>390 rows × 5 columns</p>\n",
       "</div>"
      ],
      "text/plain": [
       "    Evolving from Evolving to  Level  Condition Evolution Type\n",
       "0       Bulbasaur     Ivysaur   16.0        NaN          Level\n",
       "1         Ivysaur    Venusaur   32.0        NaN          Level\n",
       "2      Charmander  Charmeleon   16.0        NaN          Level\n",
       "3      Charmeleon   Charizard   36.0        NaN          Level\n",
       "4        Squirtle   Wartortle   16.0        NaN          Level\n",
       "..            ...         ...    ...        ...            ...\n",
       "385     Chingling    Chimecho    NaN  Nighttime      Happiness\n",
       "386       Buneary     Lopunny    NaN        NaN      Happiness\n",
       "387         Riolu     Lucario    NaN    Daytime      Happiness\n",
       "388        Woobat     Swoobat    NaN        NaN      Happiness\n",
       "389      Swadloon    Leavanny    NaN        NaN      Happiness\n",
       "\n",
       "[390 rows x 5 columns]"
      ]
     },
     "execution_count": 31,
     "metadata": {},
     "output_type": "execute_result"
    }
   ],
   "source": [
    "evolutions = data[\"Evolutions\"].copy()\n",
    "evolutions"
   ]
  },
  {
   "cell_type": "code",
   "execution_count": 35,
   "id": "e628d48c",
   "metadata": {},
   "outputs": [
    {
     "data": {
      "text/plain": [
       "0       Bulbasaur\n",
       "2         Ivysaur\n",
       "4        Venusaur\n",
       "6      Charmander\n",
       "7      Charmeleon\n",
       "          ...    \n",
       "212       Dratini\n",
       "213     Dragonair\n",
       "214     Dragonite\n",
       "216        Mewtwo\n",
       "217           Mew\n",
       "Name: Name, Length: 151, dtype: object"
      ]
     },
     "execution_count": 35,
     "metadata": {},
     "output_type": "execute_result"
    }
   ],
   "source": [
    "gen_1_pokemon = gen_1.Name.dropna()\n",
    "gen_1_pokemon"
   ]
  },
  {
   "cell_type": "code",
   "execution_count": 48,
   "id": "363ddf26",
   "metadata": {},
   "outputs": [],
   "source": [
    "# exclude any Pokémon that evolves from a Pokémon that is not part of Gen 1\n",
    "not_gen_1 = ~evolutions[\"Evolving from\"].isin(gen_1_pokemon)\n",
    "not_gen_1_idx = evolutions[not_gen_1].index"
   ]
  },
  {
   "cell_type": "code",
   "execution_count": 47,
   "id": "cebac718",
   "metadata": {},
   "outputs": [],
   "source": [
    "# can evolve into a Pokémon outside of Gen 1\n",
    "evolve_out_gen_1 = ~evolutions[\"Evolving to\"].isin(gen_1_pokemon)\n",
    "evolve_out_gen_1_idx = evolutions[evolve_out_gen_1].index"
   ]
  },
  {
   "cell_type": "code",
   "execution_count": 52,
   "id": "74625704",
   "metadata": {},
   "outputs": [
    {
     "data": {
      "text/plain": [
       "(72, 5)"
      ]
     },
     "execution_count": 52,
     "metadata": {},
     "output_type": "execute_result"
    }
   ],
   "source": [
    "exclude_idx = not_gen_1_idx.union(evolve_out_gen_1_idx)\n",
    "evolutions = evolutions.drop(exclude_idx, axis=0)\n",
    "evolutions.shape"
   ]
  },
  {
   "cell_type": "markdown",
   "id": "4ba9cf49",
   "metadata": {},
   "source": [
    "### Exclude any Pokémon with a mega evolution, Alolan, Galarian or Gigantamax form"
   ]
  },
  {
   "cell_type": "code",
   "execution_count": null,
   "id": "9ae61826",
   "metadata": {},
   "outputs": [],
   "source": [
    "\"Mega Evolutions\", \"Alolan\", \"Galarian\""
   ]
  },
  {
   "cell_type": "code",
   "execution_count": 59,
   "id": "727c6240",
   "metadata": {},
   "outputs": [],
   "source": [
    "mega = data[\"Mega Evolutions\"].copy()\n",
    "alolan = data[\"Alolan\"].copy()\n",
    "galarian = data[\"Galarian\"].copy()\n",
    "gigant = data[\"Gigantamax\"].copy()"
   ]
  },
  {
   "cell_type": "code",
   "execution_count": 61,
   "id": "2d79e5be",
   "metadata": {},
   "outputs": [
    {
     "data": {
      "text/plain": [
       "(75,)"
      ]
     },
     "execution_count": 61,
     "metadata": {},
     "output_type": "execute_result"
    }
   ],
   "source": [
    "four_types = pd.concat([mega, alolan, galarian, gigant], axis=0)[\"Name\"]\n",
    "four_types.shape"
   ]
  },
  {
   "cell_type": "code",
   "execution_count": 82,
   "id": "787dba3e",
   "metadata": {},
   "outputs": [
    {
     "data": {
      "text/plain": [
       "0            Mega Venusaur\n",
       "1         Mega Charizard X\n",
       "2         Mega Charizard Y\n",
       "3           Mega Blastoise\n",
       "4            Mega Beedrill\n",
       "              ...         \n",
       "26    Gigantamax Cinderace\n",
       "27    Gigantamax Rillaboom\n",
       "28      Gigantamax Urshifu\n",
       "29     Gigantamax Venusaur\n",
       "30    Gigantamax Blastoise\n",
       "Name: Name, Length: 75, dtype: object"
      ]
     },
     "execution_count": 82,
     "metadata": {},
     "output_type": "execute_result"
    }
   ],
   "source": [
    "four_types"
   ]
  },
  {
   "cell_type": "code",
   "execution_count": 76,
   "id": "cdf5ded8",
   "metadata": {},
   "outputs": [
    {
     "data": {
      "text/plain": [
       "0      False\n",
       "1      False\n",
       "2      False\n",
       "3      False\n",
       "4      False\n",
       "       ...  \n",
       "281    False\n",
       "308    False\n",
       "309    False\n",
       "310    False\n",
       "312    False\n",
       "Name: Evolving to, Length: 72, dtype: bool"
      ]
     },
     "execution_count": 76,
     "metadata": {},
     "output_type": "execute_result"
    }
   ],
   "source": [
    "evolutions[\"Evolving to\"].isin(four_types)"
   ]
  },
  {
   "cell_type": "code",
   "execution_count": null,
   "id": "f508349e",
   "metadata": {},
   "outputs": [],
   "source": []
  }
 ],
 "metadata": {
  "kernelspec": {
   "display_name": "Python 3 (ipykernel)",
   "language": "python",
   "name": "python3"
  },
  "language_info": {
   "codemirror_mode": {
    "name": "ipython",
    "version": 3
   },
   "file_extension": ".py",
   "mimetype": "text/x-python",
   "name": "python",
   "nbconvert_exporter": "python",
   "pygments_lexer": "ipython3",
   "version": "3.7.2"
  }
 },
 "nbformat": 4,
 "nbformat_minor": 5
}
