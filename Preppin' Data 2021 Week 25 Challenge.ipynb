{
 "cells": [
  {
   "cell_type": "markdown",
   "id": "2801e0e5",
   "metadata": {},
   "source": [
    "## 2021: Week 25 - The Worst Pokémon\n",
    "\n",
    "Often our stakeholders can have very niche knowledge and their requests may baffle us. Luckily, as data preppers we have the tools to tackle any dataset, no matter how bizarre. Yes, Carl and Tom have allowed me to create another Pokémon challenge!\n",
    "\n",
    "The idea came from a YouTube video that I stumbled across: Who Is Pokemon’s LEAST Favorite Pokémon? The logical steps applied in the video felt like they were screaming out for a Preppin' Data challenge to verify the results! But be warned, the answer to this challenge will differ from the conclusion of the video, due to differing datasets.\n",
    "\n",
    "### Input\n",
    "We have multiple inputs for this challenge:\n",
    "1. Gen 1 Pokémon (from Pokémon Database)\n",
    "2. Evolution Group (from Bulbapedia - also see Preppin' Data 2021 week 10) \n",
    "3. Evolutions (Bulbapedia)\n",
    "4. Mega Evolutions (Pokémon DB)\n",
    "5. Alolan Pokémon (Pokémon DB)\n",
    "6. Galarian Pokémon (Pokémon DB)\n",
    "7. Gigantamax Pokémon (from IGN)\n",
    "8. Unattainable Pokémon in Sword & Shield (Pokémon DB)\n",
    "9. Anime appearances for Pokémon (First 116 episodes webscraped from Bulbapedia)\n",
    "\n",
    "### Challenge\n",
    "Remember: once a Pokémon meets a condition, their whole evolution group is excluded from consideration. For example, since there is a Mega Beedrill, Weedle and Kakuna cannot be the worst Pokémon since they all belong to the Weedle evolution group.\n",
    "\n",
    "- Input the data\n",
    "- Clean up the list of Gen 1 Pokémon so we have 1 row per Pokémon\n",
    "- Clean up the Evolution Group input so that we can join it to the Gen 1 list \n",
    "    - Filter out Starter and Legendary Pokémon\n",
    "- Using the Evolutions input, exclude any Pokémon that evolves from a Pokémon that is not part of Gen 1 or can evolve into a Pokémon outside of Gen 1\n",
    "- Exclude any Pokémon with a mega evolution, Alolan, Galarian or Gigantamax form\n",
    "- It's not possible to catch certain Pokémon in the most recent games. These are the only ones we will consider from this point on\n",
    "- We're left with 10 evolution groups. Rank them in ascending order of how many times they've appeared in the anime to see who the worst Pokémon is!\n",
    "- Output the data\n",
    "\n",
    "### Output\n",
    "![img](https://lh3.googleusercontent.com/-8kUZERJNZZY/YMzNoNRQwvI/AAAAAAAAA1M/pFn3S00eEoI2WeFPyEIJ17U2tvx-X4uYQCLcBGAsYHQ/image.png)\n",
    "\n",
    "3 fields\n",
    "   - Worst Pokémon\n",
    "   - Evolution Group\n",
    "   - Appearances\n",
    "\n",
    "10 rows (11 including headers)"
   ]
  },
  {
   "cell_type": "code",
   "execution_count": 209,
   "id": "fa97170a",
   "metadata": {},
   "outputs": [],
   "source": [
    "import pandas as pd\n",
    "import numpy as np\n",
    "import matplotlib.pyplot as plt\n",
    "import seaborn as sns"
   ]
  },
  {
   "cell_type": "markdown",
   "id": "f7d0bc59",
   "metadata": {},
   "source": [
    "### Input the data"
   ]
  },
  {
   "cell_type": "code",
   "execution_count": 210,
   "id": "eeb16d0d",
   "metadata": {},
   "outputs": [],
   "source": [
    "data = pd.read_excel(\"./data/2021W25 Input.xlsx\", sheet_name=[\"Gen 1\", \"Evolution Group\", \"Evolutions\",\n",
    "                                                       \"Mega Evolutions\", \"Alolan\", \"Galarian\",\n",
    "                                                       \"Gigantamax\", \"Unattainable in Sword & Shield\",\n",
    "                                                       \"Anime Appearances\"])"
   ]
  },
  {
   "cell_type": "markdown",
   "id": "6683b8d8",
   "metadata": {},
   "source": [
    "### Clean up the list of Gen 1 Pokémon so we have 1 row per Pokémon"
   ]
  },
  {
   "cell_type": "code",
   "execution_count": 211,
   "id": "73b54fe5",
   "metadata": {},
   "outputs": [
    {
     "data": {
      "text/plain": [
       "(218, 10)"
      ]
     },
     "execution_count": 211,
     "metadata": {},
     "output_type": "execute_result"
    }
   ],
   "source": [
    "gen_1 = data[\"Gen 1\"].copy()\n",
    "gen_1.shape"
   ]
  },
  {
   "cell_type": "code",
   "execution_count": 212,
   "id": "39f035df",
   "metadata": {},
   "outputs": [
    {
     "data": {
      "text/plain": [
       "(162, 10)"
      ]
     },
     "execution_count": 212,
     "metadata": {},
     "output_type": "execute_result"
    }
   ],
   "source": [
    "gen_1 = gen_1.drop_duplicates()\n",
    "gen_1.shape"
   ]
  },
  {
   "cell_type": "markdown",
   "id": "380ab841",
   "metadata": {},
   "source": [
    "### Clean up the Evolution Group input so that we can join it to the Gen 1 list\n",
    "- Filter out Starter and Legendary Pokémon"
   ]
  },
  {
   "cell_type": "code",
   "execution_count": 213,
   "id": "0eb647a8",
   "metadata": {},
   "outputs": [
    {
     "data": {
      "text/plain": [
       "(158, 4)"
      ]
     },
     "execution_count": 213,
     "metadata": {},
     "output_type": "execute_result"
    }
   ],
   "source": [
    "evolution_group = data[\"Evolution Group\"].copy()\n",
    "evolution_group.shape"
   ]
  },
  {
   "cell_type": "code",
   "execution_count": 214,
   "id": "d0e64750",
   "metadata": {},
   "outputs": [
    {
     "data": {
      "text/html": [
       "<div>\n",
       "<style scoped>\n",
       "    .dataframe tbody tr th:only-of-type {\n",
       "        vertical-align: middle;\n",
       "    }\n",
       "\n",
       "    .dataframe tbody tr th {\n",
       "        vertical-align: top;\n",
       "    }\n",
       "\n",
       "    .dataframe thead th {\n",
       "        text-align: right;\n",
       "    }\n",
       "</style>\n",
       "<table border=\"1\" class=\"dataframe\">\n",
       "  <thead>\n",
       "    <tr style=\"text-align: right;\">\n",
       "      <th></th>\n",
       "      <th>Evolution Group</th>\n",
       "      <th>#</th>\n",
       "      <th>Starter?</th>\n",
       "      <th>Legendary?</th>\n",
       "    </tr>\n",
       "  </thead>\n",
       "  <tbody>\n",
       "    <tr>\n",
       "      <th>0</th>\n",
       "      <td>Bulbasaur</td>\n",
       "      <td>001</td>\n",
       "      <td>1</td>\n",
       "      <td>0</td>\n",
       "    </tr>\n",
       "    <tr>\n",
       "      <th>1</th>\n",
       "      <td>Bulbasaur</td>\n",
       "      <td>002</td>\n",
       "      <td>1</td>\n",
       "      <td>0</td>\n",
       "    </tr>\n",
       "    <tr>\n",
       "      <th>2</th>\n",
       "      <td>Bulbasaur</td>\n",
       "      <td>003</td>\n",
       "      <td>1</td>\n",
       "      <td>0</td>\n",
       "    </tr>\n",
       "    <tr>\n",
       "      <th>3</th>\n",
       "      <td>Charmander</td>\n",
       "      <td>004</td>\n",
       "      <td>1</td>\n",
       "      <td>0</td>\n",
       "    </tr>\n",
       "    <tr>\n",
       "      <th>4</th>\n",
       "      <td>Charmander</td>\n",
       "      <td>005</td>\n",
       "      <td>1</td>\n",
       "      <td>0</td>\n",
       "    </tr>\n",
       "  </tbody>\n",
       "</table>\n",
       "</div>"
      ],
      "text/plain": [
       "  Evolution Group     #  Starter?  Legendary?\n",
       "0       Bulbasaur   001         1           0\n",
       "1       Bulbasaur   002         1           0\n",
       "2       Bulbasaur   003         1           0\n",
       "3      Charmander   004         1           0\n",
       "4      Charmander   005         1           0"
      ]
     },
     "execution_count": 214,
     "metadata": {},
     "output_type": "execute_result"
    }
   ],
   "source": [
    "evolution_group.head()"
   ]
  },
  {
   "cell_type": "code",
   "execution_count": 215,
   "id": "f08e71da",
   "metadata": {},
   "outputs": [
    {
     "data": {
      "text/plain": [
       "(134, 4)"
      ]
     },
     "execution_count": 215,
     "metadata": {},
     "output_type": "execute_result"
    }
   ],
   "source": [
    "evolution_group = evolution_group[(evolution_group[\"Starter?\"] == 0) & (evolution_group[\"Legendary?\"] == 0)]\n",
    "evolution_group.shape"
   ]
  },
  {
   "cell_type": "code",
   "execution_count": 216,
   "id": "0d20d77b",
   "metadata": {},
   "outputs": [
    {
     "data": {
      "text/html": [
       "<div>\n",
       "<style scoped>\n",
       "    .dataframe tbody tr th:only-of-type {\n",
       "        vertical-align: middle;\n",
       "    }\n",
       "\n",
       "    .dataframe tbody tr th {\n",
       "        vertical-align: top;\n",
       "    }\n",
       "\n",
       "    .dataframe thead th {\n",
       "        text-align: right;\n",
       "    }\n",
       "</style>\n",
       "<table border=\"1\" class=\"dataframe\">\n",
       "  <thead>\n",
       "    <tr style=\"text-align: right;\">\n",
       "      <th></th>\n",
       "      <th>Evolution Group</th>\n",
       "      <th>#</th>\n",
       "      <th>Starter?</th>\n",
       "      <th>Legendary?</th>\n",
       "    </tr>\n",
       "  </thead>\n",
       "  <tbody>\n",
       "    <tr>\n",
       "      <th>36</th>\n",
       "      <td>Vulpix</td>\n",
       "      <td>037</td>\n",
       "      <td>0</td>\n",
       "      <td>0</td>\n",
       "    </tr>\n",
       "    <tr>\n",
       "      <th>107</th>\n",
       "      <td>Lickitung</td>\n",
       "      <td>108</td>\n",
       "      <td>0</td>\n",
       "      <td>0</td>\n",
       "    </tr>\n",
       "    <tr>\n",
       "      <th>67</th>\n",
       "      <td>Machop</td>\n",
       "      <td>068</td>\n",
       "      <td>0</td>\n",
       "      <td>0</td>\n",
       "    </tr>\n",
       "    <tr>\n",
       "      <th>83</th>\n",
       "      <td>Doduo</td>\n",
       "      <td>084</td>\n",
       "      <td>0</td>\n",
       "      <td>0</td>\n",
       "    </tr>\n",
       "    <tr>\n",
       "      <th>116</th>\n",
       "      <td>Horsea</td>\n",
       "      <td>117</td>\n",
       "      <td>0</td>\n",
       "      <td>0</td>\n",
       "    </tr>\n",
       "    <tr>\n",
       "      <th>82</th>\n",
       "      <td>Farfetch'd</td>\n",
       "      <td>083</td>\n",
       "      <td>0</td>\n",
       "      <td>0</td>\n",
       "    </tr>\n",
       "    <tr>\n",
       "      <th>49</th>\n",
       "      <td>Diglett</td>\n",
       "      <td>050</td>\n",
       "      <td>0</td>\n",
       "      <td>0</td>\n",
       "    </tr>\n",
       "    <tr>\n",
       "      <th>111</th>\n",
       "      <td>Rhyhorn</td>\n",
       "      <td>112</td>\n",
       "      <td>0</td>\n",
       "      <td>0</td>\n",
       "    </tr>\n",
       "    <tr>\n",
       "      <th>38</th>\n",
       "      <td>Jigglypuff</td>\n",
       "      <td>039</td>\n",
       "      <td>0</td>\n",
       "      <td>0</td>\n",
       "    </tr>\n",
       "    <tr>\n",
       "      <th>22</th>\n",
       "      <td>Ekans</td>\n",
       "      <td>023</td>\n",
       "      <td>0</td>\n",
       "      <td>0</td>\n",
       "    </tr>\n",
       "  </tbody>\n",
       "</table>\n",
       "</div>"
      ],
      "text/plain": [
       "    Evolution Group     #  Starter?  Legendary?\n",
       "36           Vulpix   037         0           0\n",
       "107       Lickitung   108         0           0\n",
       "67           Machop   068         0           0\n",
       "83            Doduo   084         0           0\n",
       "116          Horsea   117         0           0\n",
       "82       Farfetch'd   083         0           0\n",
       "49          Diglett   050         0           0\n",
       "111         Rhyhorn   112         0           0\n",
       "38       Jigglypuff   039         0           0\n",
       "22            Ekans   023         0           0"
      ]
     },
     "execution_count": 216,
     "metadata": {},
     "output_type": "execute_result"
    }
   ],
   "source": [
    "evolution_group.sample(10)"
   ]
  },
  {
   "cell_type": "markdown",
   "id": "b360c8b3",
   "metadata": {},
   "source": [
    "### Using the Evolutions input, exclude any Pokémon that evolves from a Pokémon that is not part of Gen 1 or can evolve into a Pokémon outside of Gen 1"
   ]
  },
  {
   "cell_type": "code",
   "execution_count": 217,
   "id": "68ca3f04",
   "metadata": {},
   "outputs": [
    {
     "data": {
      "text/html": [
       "<div>\n",
       "<style scoped>\n",
       "    .dataframe tbody tr th:only-of-type {\n",
       "        vertical-align: middle;\n",
       "    }\n",
       "\n",
       "    .dataframe tbody tr th {\n",
       "        vertical-align: top;\n",
       "    }\n",
       "\n",
       "    .dataframe thead th {\n",
       "        text-align: right;\n",
       "    }\n",
       "</style>\n",
       "<table border=\"1\" class=\"dataframe\">\n",
       "  <thead>\n",
       "    <tr style=\"text-align: right;\">\n",
       "      <th></th>\n",
       "      <th>Evolving from</th>\n",
       "      <th>Evolving to</th>\n",
       "      <th>Level</th>\n",
       "      <th>Condition</th>\n",
       "      <th>Evolution Type</th>\n",
       "    </tr>\n",
       "  </thead>\n",
       "  <tbody>\n",
       "    <tr>\n",
       "      <th>0</th>\n",
       "      <td>Bulbasaur</td>\n",
       "      <td>Ivysaur</td>\n",
       "      <td>16.0</td>\n",
       "      <td>NaN</td>\n",
       "      <td>Level</td>\n",
       "    </tr>\n",
       "    <tr>\n",
       "      <th>1</th>\n",
       "      <td>Ivysaur</td>\n",
       "      <td>Venusaur</td>\n",
       "      <td>32.0</td>\n",
       "      <td>NaN</td>\n",
       "      <td>Level</td>\n",
       "    </tr>\n",
       "    <tr>\n",
       "      <th>2</th>\n",
       "      <td>Charmander</td>\n",
       "      <td>Charmeleon</td>\n",
       "      <td>16.0</td>\n",
       "      <td>NaN</td>\n",
       "      <td>Level</td>\n",
       "    </tr>\n",
       "    <tr>\n",
       "      <th>3</th>\n",
       "      <td>Charmeleon</td>\n",
       "      <td>Charizard</td>\n",
       "      <td>36.0</td>\n",
       "      <td>NaN</td>\n",
       "      <td>Level</td>\n",
       "    </tr>\n",
       "    <tr>\n",
       "      <th>4</th>\n",
       "      <td>Squirtle</td>\n",
       "      <td>Wartortle</td>\n",
       "      <td>16.0</td>\n",
       "      <td>NaN</td>\n",
       "      <td>Level</td>\n",
       "    </tr>\n",
       "    <tr>\n",
       "      <th>...</th>\n",
       "      <td>...</td>\n",
       "      <td>...</td>\n",
       "      <td>...</td>\n",
       "      <td>...</td>\n",
       "      <td>...</td>\n",
       "    </tr>\n",
       "    <tr>\n",
       "      <th>385</th>\n",
       "      <td>Chingling</td>\n",
       "      <td>Chimecho</td>\n",
       "      <td>NaN</td>\n",
       "      <td>Nighttime</td>\n",
       "      <td>Happiness</td>\n",
       "    </tr>\n",
       "    <tr>\n",
       "      <th>386</th>\n",
       "      <td>Buneary</td>\n",
       "      <td>Lopunny</td>\n",
       "      <td>NaN</td>\n",
       "      <td>NaN</td>\n",
       "      <td>Happiness</td>\n",
       "    </tr>\n",
       "    <tr>\n",
       "      <th>387</th>\n",
       "      <td>Riolu</td>\n",
       "      <td>Lucario</td>\n",
       "      <td>NaN</td>\n",
       "      <td>Daytime</td>\n",
       "      <td>Happiness</td>\n",
       "    </tr>\n",
       "    <tr>\n",
       "      <th>388</th>\n",
       "      <td>Woobat</td>\n",
       "      <td>Swoobat</td>\n",
       "      <td>NaN</td>\n",
       "      <td>NaN</td>\n",
       "      <td>Happiness</td>\n",
       "    </tr>\n",
       "    <tr>\n",
       "      <th>389</th>\n",
       "      <td>Swadloon</td>\n",
       "      <td>Leavanny</td>\n",
       "      <td>NaN</td>\n",
       "      <td>NaN</td>\n",
       "      <td>Happiness</td>\n",
       "    </tr>\n",
       "  </tbody>\n",
       "</table>\n",
       "<p>390 rows × 5 columns</p>\n",
       "</div>"
      ],
      "text/plain": [
       "    Evolving from Evolving to  Level  Condition Evolution Type\n",
       "0       Bulbasaur     Ivysaur   16.0        NaN          Level\n",
       "1         Ivysaur    Venusaur   32.0        NaN          Level\n",
       "2      Charmander  Charmeleon   16.0        NaN          Level\n",
       "3      Charmeleon   Charizard   36.0        NaN          Level\n",
       "4        Squirtle   Wartortle   16.0        NaN          Level\n",
       "..            ...         ...    ...        ...            ...\n",
       "385     Chingling    Chimecho    NaN  Nighttime      Happiness\n",
       "386       Buneary     Lopunny    NaN        NaN      Happiness\n",
       "387         Riolu     Lucario    NaN    Daytime      Happiness\n",
       "388        Woobat     Swoobat    NaN        NaN      Happiness\n",
       "389      Swadloon    Leavanny    NaN        NaN      Happiness\n",
       "\n",
       "[390 rows x 5 columns]"
      ]
     },
     "execution_count": 217,
     "metadata": {},
     "output_type": "execute_result"
    }
   ],
   "source": [
    "evolutions = data[\"Evolutions\"].copy()\n",
    "evolutions"
   ]
  },
  {
   "cell_type": "code",
   "execution_count": 218,
   "id": "b67172b9",
   "metadata": {},
   "outputs": [
    {
     "data": {
      "text/plain": [
       "0       Bulbasaur\n",
       "2         Ivysaur\n",
       "4        Venusaur\n",
       "6      Charmander\n",
       "7      Charmeleon\n",
       "          ...    \n",
       "212       Dratini\n",
       "213     Dragonair\n",
       "214     Dragonite\n",
       "216        Mewtwo\n",
       "217           Mew\n",
       "Name: Name, Length: 151, dtype: object"
      ]
     },
     "execution_count": 218,
     "metadata": {},
     "output_type": "execute_result"
    }
   ],
   "source": [
    "gen_1_pokemon = gen_1.Name.dropna()\n",
    "gen_1_pokemon"
   ]
  },
  {
   "cell_type": "code",
   "execution_count": 219,
   "id": "1a3c0b54",
   "metadata": {},
   "outputs": [],
   "source": [
    "# exclude any Pokémon that evolves from a Pokémon that is not part of Gen 1\n",
    "not_gen_1 = ~evolutions[\"Evolving from\"].isin(gen_1_pokemon)\n",
    "not_gen_1_idx = evolutions[not_gen_1].index"
   ]
  },
  {
   "cell_type": "code",
   "execution_count": 220,
   "id": "785dd7a8",
   "metadata": {},
   "outputs": [],
   "source": [
    "# can evolve into a Pokémon outside of Gen 1\n",
    "evolve_out_gen_1 = ~evolutions[\"Evolving to\"].isin(gen_1_pokemon)\n",
    "evolve_out_gen_1_idx = evolutions[evolve_out_gen_1].index"
   ]
  },
  {
   "cell_type": "code",
   "execution_count": 221,
   "id": "37794b99",
   "metadata": {},
   "outputs": [
    {
     "data": {
      "text/plain": [
       "(72, 5)"
      ]
     },
     "execution_count": 221,
     "metadata": {},
     "output_type": "execute_result"
    }
   ],
   "source": [
    "exclude_idx = not_gen_1_idx.union(evolve_out_gen_1_idx)\n",
    "evolutions = evolutions.drop(exclude_idx, axis=0)\n",
    "evolutions.shape"
   ]
  },
  {
   "cell_type": "markdown",
   "id": "48993c6b",
   "metadata": {},
   "source": [
    "### Exclude any Pokémon with a mega evolution, Alolan, Galarian or Gigantamax form"
   ]
  },
  {
   "cell_type": "code",
   "execution_count": 222,
   "id": "1c3c0d47",
   "metadata": {},
   "outputs": [
    {
     "data": {
      "text/plain": [
       "('Mega Evolutions', 'Alolan', 'Galarian')"
      ]
     },
     "execution_count": 222,
     "metadata": {},
     "output_type": "execute_result"
    }
   ],
   "source": [
    "\"Mega Evolutions\", \"Alolan\", \"Galarian\""
   ]
  },
  {
   "cell_type": "code",
   "execution_count": 223,
   "id": "f579eaae",
   "metadata": {},
   "outputs": [],
   "source": [
    "mega = data[\"Mega Evolutions\"].copy()\n",
    "alolan = data[\"Alolan\"].copy()\n",
    "galarian = data[\"Galarian\"].copy()\n",
    "gigant = data[\"Gigantamax\"].copy()"
   ]
  },
  {
   "cell_type": "code",
   "execution_count": 224,
   "id": "d2fed925",
   "metadata": {},
   "outputs": [
    {
     "data": {
      "text/plain": [
       "(75,)"
      ]
     },
     "execution_count": 224,
     "metadata": {},
     "output_type": "execute_result"
    }
   ],
   "source": [
    "four_types = pd.concat([mega, alolan, galarian, gigant], axis=0)[\"Name\"]\n",
    "four_types.shape"
   ]
  },
  {
   "cell_type": "code",
   "execution_count": 225,
   "id": "5359d973",
   "metadata": {},
   "outputs": [],
   "source": [
    "four_types = four_types.map(lambda x: x.split(\" \")[1])"
   ]
  },
  {
   "cell_type": "code",
   "execution_count": 226,
   "id": "68992de2",
   "metadata": {},
   "outputs": [],
   "source": [
    "four_types_1_idx = evolutions[evolutions[\"Evolving to\"].isin(four_types)].index\n",
    "four_types_2_idx = evolutions[evolutions[\"Evolving from\"].isin(four_types)].index\n",
    "four_types_idx = four_types_1_idx.union(four_types_2_idx)"
   ]
  },
  {
   "cell_type": "code",
   "execution_count": 227,
   "id": "dadff455",
   "metadata": {},
   "outputs": [
    {
     "data": {
      "text/plain": [
       "(44, 5)"
      ]
     },
     "execution_count": 227,
     "metadata": {},
     "output_type": "execute_result"
    }
   ],
   "source": [
    "evolutions = evolutions.drop(four_types_idx, axis=0)\n",
    "evolutions.shape"
   ]
  },
  {
   "cell_type": "markdown",
   "id": "1d076e12",
   "metadata": {},
   "source": [
    "### It's not possible to catch certain Pokémon in the most recent games. These are the only ones we will consider from this point on"
   ]
  },
  {
   "cell_type": "code",
   "execution_count": 228,
   "id": "cec6292d",
   "metadata": {},
   "outputs": [
    {
     "data": {
      "text/plain": [
       "0         Weedle\n",
       "1         Pidgey\n",
       "2        Rattata\n",
       "3        Spearow\n",
       "4          Ekans\n",
       "5          Paras\n",
       "6        Venonat\n",
       "7         Mankey\n",
       "8     Bellsprout\n",
       "9        Geodude\n",
       "10         Doduo\n",
       "11          Seel\n",
       "12        Grimer\n",
       "13       Drowzee\n",
       "14       Voltorb\n",
       "Name: Name, dtype: object"
      ]
     },
     "execution_count": 228,
     "metadata": {},
     "output_type": "execute_result"
    }
   ],
   "source": [
    "unattainable = data[\"Unattainable in Sword & Shield\"].copy().Name\n",
    "unattainable"
   ]
  },
  {
   "cell_type": "code",
   "execution_count": 229,
   "id": "d3ad1228",
   "metadata": {},
   "outputs": [
    {
     "data": {
      "text/plain": [
       "(12, 5)"
      ]
     },
     "execution_count": 229,
     "metadata": {},
     "output_type": "execute_result"
    }
   ],
   "source": [
    "evolutions = evolutions[evolutions[\"Evolving from\"].isin(unattainable)]\n",
    "evolutions.shape"
   ]
  },
  {
   "cell_type": "markdown",
   "id": "42ccb180",
   "metadata": {},
   "source": [
    "### We're left with 10 evolution groups. Rank them in ascending order of how many times they've appeared in the anime to see who the worst Pokémon is!"
   ]
  },
  {
   "cell_type": "code",
   "execution_count": 230,
   "id": "868b49ed",
   "metadata": {},
   "outputs": [],
   "source": [
    "evolution_group = evolution_group.drop_duplicates(subset=\"Evolution Group\")"
   ]
  },
  {
   "cell_type": "code",
   "execution_count": 231,
   "id": "3d0a8fb3",
   "metadata": {},
   "outputs": [
    {
     "data": {
      "text/html": [
       "<div>\n",
       "<style scoped>\n",
       "    .dataframe tbody tr th:only-of-type {\n",
       "        vertical-align: middle;\n",
       "    }\n",
       "\n",
       "    .dataframe tbody tr th {\n",
       "        vertical-align: top;\n",
       "    }\n",
       "\n",
       "    .dataframe thead th {\n",
       "        text-align: right;\n",
       "    }\n",
       "</style>\n",
       "<table border=\"1\" class=\"dataframe\">\n",
       "  <thead>\n",
       "    <tr style=\"text-align: right;\">\n",
       "      <th></th>\n",
       "      <th>Evolving from</th>\n",
       "      <th>Evolving to</th>\n",
       "      <th>Level</th>\n",
       "      <th>Condition</th>\n",
       "      <th>Evolution Type</th>\n",
       "      <th>Evolution Group</th>\n",
       "      <th>#</th>\n",
       "      <th>Starter?</th>\n",
       "      <th>Legendary?</th>\n",
       "    </tr>\n",
       "  </thead>\n",
       "  <tbody>\n",
       "    <tr>\n",
       "      <th>0</th>\n",
       "      <td>Weedle</td>\n",
       "      <td>Kakuna</td>\n",
       "      <td>7.0</td>\n",
       "      <td>NaN</td>\n",
       "      <td>Level</td>\n",
       "      <td>Weedle</td>\n",
       "      <td>013</td>\n",
       "      <td>0</td>\n",
       "      <td>0</td>\n",
       "    </tr>\n",
       "    <tr>\n",
       "      <th>1</th>\n",
       "      <td>Pidgey</td>\n",
       "      <td>Pidgeotto</td>\n",
       "      <td>18.0</td>\n",
       "      <td>NaN</td>\n",
       "      <td>Level</td>\n",
       "      <td>Pidgey</td>\n",
       "      <td>016</td>\n",
       "      <td>0</td>\n",
       "      <td>0</td>\n",
       "    </tr>\n",
       "    <tr>\n",
       "      <th>2</th>\n",
       "      <td>Spearow</td>\n",
       "      <td>Fearow</td>\n",
       "      <td>20.0</td>\n",
       "      <td>NaN</td>\n",
       "      <td>Level</td>\n",
       "      <td>Spearow</td>\n",
       "      <td>021</td>\n",
       "      <td>0</td>\n",
       "      <td>0</td>\n",
       "    </tr>\n",
       "    <tr>\n",
       "      <th>3</th>\n",
       "      <td>Ekans</td>\n",
       "      <td>Arbok</td>\n",
       "      <td>22.0</td>\n",
       "      <td>NaN</td>\n",
       "      <td>Level</td>\n",
       "      <td>Ekans</td>\n",
       "      <td>023</td>\n",
       "      <td>0</td>\n",
       "      <td>0</td>\n",
       "    </tr>\n",
       "    <tr>\n",
       "      <th>4</th>\n",
       "      <td>Paras</td>\n",
       "      <td>Parasect</td>\n",
       "      <td>24.0</td>\n",
       "      <td>NaN</td>\n",
       "      <td>Level</td>\n",
       "      <td>Paras</td>\n",
       "      <td>046</td>\n",
       "      <td>0</td>\n",
       "      <td>0</td>\n",
       "    </tr>\n",
       "    <tr>\n",
       "      <th>5</th>\n",
       "      <td>Venonat</td>\n",
       "      <td>Venomoth</td>\n",
       "      <td>31.0</td>\n",
       "      <td>NaN</td>\n",
       "      <td>Level</td>\n",
       "      <td>Venonat</td>\n",
       "      <td>048</td>\n",
       "      <td>0</td>\n",
       "      <td>0</td>\n",
       "    </tr>\n",
       "    <tr>\n",
       "      <th>6</th>\n",
       "      <td>Mankey</td>\n",
       "      <td>Primeape</td>\n",
       "      <td>28.0</td>\n",
       "      <td>NaN</td>\n",
       "      <td>Level</td>\n",
       "      <td>Mankey</td>\n",
       "      <td>056</td>\n",
       "      <td>0</td>\n",
       "      <td>0</td>\n",
       "    </tr>\n",
       "    <tr>\n",
       "      <th>7</th>\n",
       "      <td>Bellsprout</td>\n",
       "      <td>Weepinbell</td>\n",
       "      <td>21.0</td>\n",
       "      <td>NaN</td>\n",
       "      <td>Level</td>\n",
       "      <td>Bellsprout</td>\n",
       "      <td>069</td>\n",
       "      <td>0</td>\n",
       "      <td>0</td>\n",
       "    </tr>\n",
       "    <tr>\n",
       "      <th>8</th>\n",
       "      <td>Doduo</td>\n",
       "      <td>Dodrio</td>\n",
       "      <td>31.0</td>\n",
       "      <td>NaN</td>\n",
       "      <td>Level</td>\n",
       "      <td>Doduo</td>\n",
       "      <td>084</td>\n",
       "      <td>0</td>\n",
       "      <td>0</td>\n",
       "    </tr>\n",
       "    <tr>\n",
       "      <th>9</th>\n",
       "      <td>Seel</td>\n",
       "      <td>Dewgong</td>\n",
       "      <td>34.0</td>\n",
       "      <td>NaN</td>\n",
       "      <td>Level</td>\n",
       "      <td>Seel</td>\n",
       "      <td>086</td>\n",
       "      <td>0</td>\n",
       "      <td>0</td>\n",
       "    </tr>\n",
       "    <tr>\n",
       "      <th>10</th>\n",
       "      <td>Drowzee</td>\n",
       "      <td>Hypno</td>\n",
       "      <td>26.0</td>\n",
       "      <td>NaN</td>\n",
       "      <td>Level</td>\n",
       "      <td>Drowzee</td>\n",
       "      <td>096</td>\n",
       "      <td>0</td>\n",
       "      <td>0</td>\n",
       "    </tr>\n",
       "    <tr>\n",
       "      <th>11</th>\n",
       "      <td>Voltorb</td>\n",
       "      <td>Electrode</td>\n",
       "      <td>30.0</td>\n",
       "      <td>NaN</td>\n",
       "      <td>Level</td>\n",
       "      <td>Voltorb</td>\n",
       "      <td>100</td>\n",
       "      <td>0</td>\n",
       "      <td>0</td>\n",
       "    </tr>\n",
       "  </tbody>\n",
       "</table>\n",
       "</div>"
      ],
      "text/plain": [
       "   Evolving from Evolving to  Level Condition Evolution Type Evolution Group  \\\n",
       "0         Weedle      Kakuna    7.0       NaN          Level          Weedle   \n",
       "1         Pidgey   Pidgeotto   18.0       NaN          Level          Pidgey   \n",
       "2        Spearow      Fearow   20.0       NaN          Level         Spearow   \n",
       "3          Ekans       Arbok   22.0       NaN          Level           Ekans   \n",
       "4          Paras    Parasect   24.0       NaN          Level           Paras   \n",
       "5        Venonat    Venomoth   31.0       NaN          Level         Venonat   \n",
       "6         Mankey    Primeape   28.0       NaN          Level          Mankey   \n",
       "7     Bellsprout  Weepinbell   21.0       NaN          Level      Bellsprout   \n",
       "8          Doduo      Dodrio   31.0       NaN          Level           Doduo   \n",
       "9           Seel     Dewgong   34.0       NaN          Level            Seel   \n",
       "10       Drowzee       Hypno   26.0       NaN          Level         Drowzee   \n",
       "11       Voltorb   Electrode   30.0       NaN          Level         Voltorb   \n",
       "\n",
       "       #  Starter?  Legendary?  \n",
       "0    013         0           0  \n",
       "1    016         0           0  \n",
       "2    021         0           0  \n",
       "3    023         0           0  \n",
       "4    046         0           0  \n",
       "5    048         0           0  \n",
       "6    056         0           0  \n",
       "7    069         0           0  \n",
       "8    084         0           0  \n",
       "9    086         0           0  \n",
       "10   096         0           0  \n",
       "11   100         0           0  "
      ]
     },
     "execution_count": 231,
     "metadata": {},
     "output_type": "execute_result"
    }
   ],
   "source": [
    "evolutions = evolutions.merge(evolution_group, how=\"left\", left_on=\"Evolving from\", right_on=\"Evolution Group\")\n",
    "evolutions"
   ]
  },
  {
   "cell_type": "code",
   "execution_count": 232,
   "id": "13ac4ed3",
   "metadata": {},
   "outputs": [
    {
     "data": {
      "text/html": [
       "<div>\n",
       "<style scoped>\n",
       "    .dataframe tbody tr th:only-of-type {\n",
       "        vertical-align: middle;\n",
       "    }\n",
       "\n",
       "    .dataframe tbody tr th {\n",
       "        vertical-align: top;\n",
       "    }\n",
       "\n",
       "    .dataframe thead th {\n",
       "        text-align: right;\n",
       "    }\n",
       "</style>\n",
       "<table border=\"1\" class=\"dataframe\">\n",
       "  <thead>\n",
       "    <tr style=\"text-align: right;\">\n",
       "      <th></th>\n",
       "      <th>Pokemon</th>\n",
       "      <th>Appearances</th>\n",
       "    </tr>\n",
       "  </thead>\n",
       "  <tbody>\n",
       "    <tr>\n",
       "      <th>0</th>\n",
       "      <td>Pikachu</td>\n",
       "      <td>128</td>\n",
       "    </tr>\n",
       "    <tr>\n",
       "      <th>1</th>\n",
       "      <td>Meowth</td>\n",
       "      <td>119</td>\n",
       "    </tr>\n",
       "    <tr>\n",
       "      <th>2</th>\n",
       "      <td>Togepi</td>\n",
       "      <td>66</td>\n",
       "    </tr>\n",
       "    <tr>\n",
       "      <th>3</th>\n",
       "      <td>Bulbasaur</td>\n",
       "      <td>66</td>\n",
       "    </tr>\n",
       "    <tr>\n",
       "      <th>4</th>\n",
       "      <td>Squirtle</td>\n",
       "      <td>66</td>\n",
       "    </tr>\n",
       "    <tr>\n",
       "      <th>...</th>\n",
       "      <td>...</td>\n",
       "      <td>...</td>\n",
       "    </tr>\n",
       "    <tr>\n",
       "      <th>148</th>\n",
       "      <td>Wigglytuff</td>\n",
       "      <td>1</td>\n",
       "    </tr>\n",
       "    <tr>\n",
       "      <th>149</th>\n",
       "      <td>Hypno</td>\n",
       "      <td>1</td>\n",
       "    </tr>\n",
       "    <tr>\n",
       "      <th>150</th>\n",
       "      <td>Omastar</td>\n",
       "      <td>1</td>\n",
       "    </tr>\n",
       "    <tr>\n",
       "      <th>151</th>\n",
       "      <td>Venustoise</td>\n",
       "      <td>1</td>\n",
       "    </tr>\n",
       "    <tr>\n",
       "      <th>152</th>\n",
       "      <td>Golduck</td>\n",
       "      <td>1</td>\n",
       "    </tr>\n",
       "  </tbody>\n",
       "</table>\n",
       "<p>153 rows × 2 columns</p>\n",
       "</div>"
      ],
      "text/plain": [
       "        Pokemon  Appearances\n",
       "0       Pikachu          128\n",
       "1        Meowth          119\n",
       "2        Togepi           66\n",
       "3     Bulbasaur           66\n",
       "4      Squirtle           66\n",
       "..          ...          ...\n",
       "148  Wigglytuff            1\n",
       "149       Hypno            1\n",
       "150     Omastar            1\n",
       "151  Venustoise            1\n",
       "152     Golduck            1\n",
       "\n",
       "[153 rows x 2 columns]"
      ]
     },
     "execution_count": 232,
     "metadata": {},
     "output_type": "execute_result"
    }
   ],
   "source": [
    "appearances = data[\"Anime Appearances\"].copy()\n",
    "appearances = appearances.groupby([\"Pokemon\"])[\"Episode\"].count().sort_values(ascending=False)\n",
    "appearances = appearances.reset_index().rename(columns={\"Episode\": \"Appearances\"})\n",
    "appearances"
   ]
  },
  {
   "cell_type": "code",
   "execution_count": 233,
   "id": "b5eba67f",
   "metadata": {},
   "outputs": [],
   "source": [
    "evolutions = (evolutions.merge(appearances, how=\"left\", left_on=\"Evolution Group\", right_on=\"Pokemon\")\n",
    "                        .drop([\"Evolving from\", \"Evolving to\", \"Level\", \"Condition\", \"Evolution Type\", \"#\",\n",
    "                               \"Starter?\", \"Legendary?\", \"Pokemon\"], axis=1)\n",
    "                        .sort_values(by=\"Appearances\", ascending=True))\n",
    "evolutions[\"The Worst Pokemon\"] = evolutions[\"Appearances\"].rank(method=\"min\").astype(int)\n",
    "evolutions = evolutions.set_index(\"The Worst Pokemon\")"
   ]
  },
  {
   "cell_type": "code",
   "execution_count": 236,
   "id": "759f7fc3",
   "metadata": {},
   "outputs": [
    {
     "data": {
      "text/html": [
       "<div>\n",
       "<style scoped>\n",
       "    .dataframe tbody tr th:only-of-type {\n",
       "        vertical-align: middle;\n",
       "    }\n",
       "\n",
       "    .dataframe tbody tr th {\n",
       "        vertical-align: top;\n",
       "    }\n",
       "\n",
       "    .dataframe thead th {\n",
       "        text-align: right;\n",
       "    }\n",
       "</style>\n",
       "<table border=\"1\" class=\"dataframe\">\n",
       "  <thead>\n",
       "    <tr style=\"text-align: right;\">\n",
       "      <th></th>\n",
       "      <th>Evolution Group</th>\n",
       "      <th>Appearances</th>\n",
       "    </tr>\n",
       "    <tr>\n",
       "      <th>The Worst Pokemon</th>\n",
       "      <th></th>\n",
       "      <th></th>\n",
       "    </tr>\n",
       "  </thead>\n",
       "  <tbody>\n",
       "    <tr>\n",
       "      <th>1</th>\n",
       "      <td>Doduo</td>\n",
       "      <td>3</td>\n",
       "    </tr>\n",
       "    <tr>\n",
       "      <th>1</th>\n",
       "      <td>Drowzee</td>\n",
       "      <td>3</td>\n",
       "    </tr>\n",
       "    <tr>\n",
       "      <th>3</th>\n",
       "      <td>Weedle</td>\n",
       "      <td>5</td>\n",
       "    </tr>\n",
       "    <tr>\n",
       "      <th>4</th>\n",
       "      <td>Seel</td>\n",
       "      <td>7</td>\n",
       "    </tr>\n",
       "    <tr>\n",
       "      <th>5</th>\n",
       "      <td>Paras</td>\n",
       "      <td>10</td>\n",
       "    </tr>\n",
       "    <tr>\n",
       "      <th>6</th>\n",
       "      <td>Ekans</td>\n",
       "      <td>11</td>\n",
       "    </tr>\n",
       "    <tr>\n",
       "      <th>7</th>\n",
       "      <td>Mankey</td>\n",
       "      <td>12</td>\n",
       "    </tr>\n",
       "    <tr>\n",
       "      <th>7</th>\n",
       "      <td>Bellsprout</td>\n",
       "      <td>12</td>\n",
       "    </tr>\n",
       "    <tr>\n",
       "      <th>7</th>\n",
       "      <td>Voltorb</td>\n",
       "      <td>12</td>\n",
       "    </tr>\n",
       "    <tr>\n",
       "      <th>10</th>\n",
       "      <td>Spearow</td>\n",
       "      <td>14</td>\n",
       "    </tr>\n",
       "    <tr>\n",
       "      <th>11</th>\n",
       "      <td>Venonat</td>\n",
       "      <td>15</td>\n",
       "    </tr>\n",
       "    <tr>\n",
       "      <th>12</th>\n",
       "      <td>Pidgey</td>\n",
       "      <td>17</td>\n",
       "    </tr>\n",
       "  </tbody>\n",
       "</table>\n",
       "</div>"
      ],
      "text/plain": [
       "                  Evolution Group  Appearances\n",
       "The Worst Pokemon                             \n",
       "1                           Doduo            3\n",
       "1                         Drowzee            3\n",
       "3                          Weedle            5\n",
       "4                            Seel            7\n",
       "5                           Paras           10\n",
       "6                           Ekans           11\n",
       "7                          Mankey           12\n",
       "7                      Bellsprout           12\n",
       "7                         Voltorb           12\n",
       "10                        Spearow           14\n",
       "11                        Venonat           15\n",
       "12                         Pidgey           17"
      ]
     },
     "execution_count": 236,
     "metadata": {},
     "output_type": "execute_result"
    }
   ],
   "source": [
    "evolutions"
   ]
  },
  {
   "cell_type": "code",
   "execution_count": 235,
   "id": "cc12aeb4",
   "metadata": {},
   "outputs": [],
   "source": [
    "evolutions.to_csv(\"./output/Week25_output.csv\")"
   ]
  }
 ],
 "metadata": {
  "kernelspec": {
   "display_name": "Python 3 (ipykernel)",
   "language": "python",
   "name": "python3"
  },
  "language_info": {
   "codemirror_mode": {
    "name": "ipython",
    "version": 3
   },
   "file_extension": ".py",
   "mimetype": "text/x-python",
   "name": "python",
   "nbconvert_exporter": "python",
   "pygments_lexer": "ipython3",
   "version": "3.7.2"
  }
 },
 "nbformat": 4,
 "nbformat_minor": 5
}
