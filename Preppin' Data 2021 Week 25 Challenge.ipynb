{
 "cells": [
  {
   "cell_type": "markdown",
   "id": "89b41754",
   "metadata": {},
   "source": [
    "## 2021: Week 25 - The Worst Pokémon\n",
    "\n",
    "Often our stakeholders can have very niche knowledge and their requests may baffle us. Luckily, as data preppers we have the tools to tackle any dataset, no matter how bizarre. Yes, Carl and Tom have allowed me to create another Pokémon challenge!\n",
    "\n",
    "The idea came from a YouTube video that I stumbled across: Who Is Pokemon’s LEAST Favorite Pokémon? The logical steps applied in the video felt like they were screaming out for a Preppin' Data challenge to verify the results! But be warned, the answer to this challenge will differ from the conclusion of the video, due to differing datasets.\n",
    "\n",
    "### Input\n",
    "We have multiple inputs for this challenge:\n",
    "1. Gen 1 Pokémon (from Pokémon Database)\n",
    "2. Evolution Group (from Bulbapedia - also see Preppin' Data 2021 week 10) \n",
    "3. Evolutions (Bulbapedia)\n",
    "4. Mega Evolutions (Pokémon DB)\n",
    "5. Alolan Pokémon (Pokémon DB)\n",
    "6. Galarian Pokémon (Pokémon DB)\n",
    "7. Gigantamax Pokémon (from IGN)\n",
    "8. Unattainable Pokémon in Sword & Shield (Pokémon DB)\n",
    "9. Anime appearances for Pokémon (First 116 episodes webscraped from Bulbapedia)\n",
    "\n",
    "### Challenge\n",
    "Remember: once a Pokémon meets a condition, their whole evolution group is excluded from consideration. For example, since there is a Mega Beedrill, Weedle and Kakuna cannot be the worst Pokémon since they all belong to the Weedle evolution group.\n",
    "\n",
    "- Input the data\n",
    "- Clean up the list of Gen 1 Pokémon so we have 1 row per Pokémon\n",
    "- Clean up the Evolution Group input so that we can join it to the Gen 1 list \n",
    "    - Filter out Starter and Legendary Pokémon\n",
    "- Using the Evolutions input, exclude any Pokémon that evolves from a Pokémon that is not part of Gen 1 or can evolve into a Pokémon outside of Gen 1\n",
    "- Exclude any Pokémon with a mega evolution, Alolan, Galarian or Gigantamax form\n",
    "- It's not possible to catch certain Pokémon in the most recent games. These are the only ones we will consider from this point on\n",
    "- We're left with 10 evolution groups. Rank them in ascending order of how many times they've appeared in the anime to see who the worst Pokémon is!\n",
    "- Output the data\n",
    "\n",
    "### Output\n",
    "![img](https://lh3.googleusercontent.com/-8kUZERJNZZY/YMzNoNRQwvI/AAAAAAAAA1M/pFn3S00eEoI2WeFPyEIJ17U2tvx-X4uYQCLcBGAsYHQ/image.png)\n",
    "\n",
    "3 fields\n",
    "   - Worst Pokémon\n",
    "   - Evolution Group\n",
    "   - Appearances\n",
    "\n",
    "10 rows (11 including headers)"
   ]
  },
  {
   "cell_type": "code",
   "execution_count": 1,
   "id": "894e7f7e",
   "metadata": {},
   "outputs": [],
   "source": [
    "import pandas as pd\n",
    "import numpy as np\n",
    "import matplotlib.pyplot as plt\n",
    "import seaborn as sns"
   ]
  },
  {
   "cell_type": "code",
   "execution_count": null,
   "id": "6a95c837",
   "metadata": {},
   "outputs": [],
   "source": [
    "### Input the data"
   ]
  },
  {
   "cell_type": "code",
   "execution_count": 5,
   "id": "e9735516",
   "metadata": {},
   "outputs": [],
   "source": [
    "data = pd.read_excel(\"./data/2021W25 Input.xlsx\", sheet_name=[\"Gen 1\", \"Evolution Group\", \"Evolutions\",\n",
    "                                                       \"Mega Evolutions\", \"Alolan\", \"Galarian\",\n",
    "                                                       \"Gigantamax\", \"Unattainable in Sword & Shield\",\n",
    "                                                       \"Anime Appearances\"])"
   ]
  },
  {
   "cell_type": "code",
   "execution_count": null,
   "id": "52ad31fd",
   "metadata": {},
   "outputs": [],
   "source": [
    "### Clean up the list of Gen 1 Pokémon so we have 1 row per Pokémon"
   ]
  },
  {
   "cell_type": "code",
   "execution_count": 9,
   "id": "7efe08c9",
   "metadata": {},
   "outputs": [
    {
     "data": {
      "text/plain": [
       "(218, 10)"
      ]
     },
     "execution_count": 9,
     "metadata": {},
     "output_type": "execute_result"
    }
   ],
   "source": [
    "gen_1 = data[\"Gen 1\"].copy()\n",
    "gen_1.shape"
   ]
  },
  {
   "cell_type": "code",
   "execution_count": 10,
   "id": "0b83bb59",
   "metadata": {},
   "outputs": [
    {
     "data": {
      "text/plain": [
       "(162, 10)"
      ]
     },
     "execution_count": 10,
     "metadata": {},
     "output_type": "execute_result"
    }
   ],
   "source": [
    "gen_1 = gen_1.drop_duplicates()\n",
    "gen_1.shape"
   ]
  },
  {
   "cell_type": "code",
   "execution_count": null,
   "id": "eee7cbf2",
   "metadata": {},
   "outputs": [],
   "source": [
    "### Clean up the Evolution Group input so that we can join it to the Gen 1 list\n",
    "### Filter out Starter and Legendary Pokémon"
   ]
  },
  {
   "cell_type": "code",
   "execution_count": 16,
   "id": "e24457db",
   "metadata": {},
   "outputs": [
    {
     "data": {
      "text/plain": [
       "(158, 4)"
      ]
     },
     "execution_count": 16,
     "metadata": {},
     "output_type": "execute_result"
    }
   ],
   "source": [
    "evolution_group = data[\"Evolution Group\"].copy()\n",
    "evolution_group.shape"
   ]
  },
  {
   "cell_type": "code",
   "execution_count": 17,
   "id": "8e5f11f3",
   "metadata": {},
   "outputs": [
    {
     "data": {
      "text/html": [
       "<div>\n",
       "<style scoped>\n",
       "    .dataframe tbody tr th:only-of-type {\n",
       "        vertical-align: middle;\n",
       "    }\n",
       "\n",
       "    .dataframe tbody tr th {\n",
       "        vertical-align: top;\n",
       "    }\n",
       "\n",
       "    .dataframe thead th {\n",
       "        text-align: right;\n",
       "    }\n",
       "</style>\n",
       "<table border=\"1\" class=\"dataframe\">\n",
       "  <thead>\n",
       "    <tr style=\"text-align: right;\">\n",
       "      <th></th>\n",
       "      <th>Evolution Group</th>\n",
       "      <th>#</th>\n",
       "      <th>Starter?</th>\n",
       "      <th>Legendary?</th>\n",
       "    </tr>\n",
       "  </thead>\n",
       "  <tbody>\n",
       "    <tr>\n",
       "      <th>0</th>\n",
       "      <td>Bulbasaur</td>\n",
       "      <td>001</td>\n",
       "      <td>1</td>\n",
       "      <td>0</td>\n",
       "    </tr>\n",
       "    <tr>\n",
       "      <th>1</th>\n",
       "      <td>Bulbasaur</td>\n",
       "      <td>002</td>\n",
       "      <td>1</td>\n",
       "      <td>0</td>\n",
       "    </tr>\n",
       "    <tr>\n",
       "      <th>2</th>\n",
       "      <td>Bulbasaur</td>\n",
       "      <td>003</td>\n",
       "      <td>1</td>\n",
       "      <td>0</td>\n",
       "    </tr>\n",
       "    <tr>\n",
       "      <th>3</th>\n",
       "      <td>Charmander</td>\n",
       "      <td>004</td>\n",
       "      <td>1</td>\n",
       "      <td>0</td>\n",
       "    </tr>\n",
       "    <tr>\n",
       "      <th>4</th>\n",
       "      <td>Charmander</td>\n",
       "      <td>005</td>\n",
       "      <td>1</td>\n",
       "      <td>0</td>\n",
       "    </tr>\n",
       "  </tbody>\n",
       "</table>\n",
       "</div>"
      ],
      "text/plain": [
       "  Evolution Group     #  Starter?  Legendary?\n",
       "0       Bulbasaur   001         1           0\n",
       "1       Bulbasaur   002         1           0\n",
       "2       Bulbasaur   003         1           0\n",
       "3      Charmander   004         1           0\n",
       "4      Charmander   005         1           0"
      ]
     },
     "execution_count": 17,
     "metadata": {},
     "output_type": "execute_result"
    }
   ],
   "source": [
    "evolution_group.head()"
   ]
  },
  {
   "cell_type": "code",
   "execution_count": 18,
   "id": "969b582a",
   "metadata": {},
   "outputs": [
    {
     "data": {
      "text/plain": [
       "(24, 4)"
      ]
     },
     "execution_count": 18,
     "metadata": {},
     "output_type": "execute_result"
    }
   ],
   "source": [
    "evolution_group = evolution_group[(evolution_group[\"Starter?\"] == 1) | (evolution_group[\"Legendary?\"] == 1)]\n",
    "evolution_group.shape"
   ]
  },
  {
   "cell_type": "code",
   "execution_count": 21,
   "id": "e554068f",
   "metadata": {},
   "outputs": [
    {
     "data": {
      "text/html": [
       "<div>\n",
       "<style scoped>\n",
       "    .dataframe tbody tr th:only-of-type {\n",
       "        vertical-align: middle;\n",
       "    }\n",
       "\n",
       "    .dataframe tbody tr th {\n",
       "        vertical-align: top;\n",
       "    }\n",
       "\n",
       "    .dataframe thead th {\n",
       "        text-align: right;\n",
       "    }\n",
       "</style>\n",
       "<table border=\"1\" class=\"dataframe\">\n",
       "  <thead>\n",
       "    <tr style=\"text-align: right;\">\n",
       "      <th></th>\n",
       "      <th>Evolution Group</th>\n",
       "      <th>#</th>\n",
       "      <th>Starter?</th>\n",
       "      <th>Legendary?</th>\n",
       "    </tr>\n",
       "  </thead>\n",
       "  <tbody>\n",
       "    <tr>\n",
       "      <th>1</th>\n",
       "      <td>Bulbasaur</td>\n",
       "      <td>002</td>\n",
       "      <td>1</td>\n",
       "      <td>0</td>\n",
       "    </tr>\n",
       "    <tr>\n",
       "      <th>3</th>\n",
       "      <td>Charmander</td>\n",
       "      <td>004</td>\n",
       "      <td>1</td>\n",
       "      <td>0</td>\n",
       "    </tr>\n",
       "    <tr>\n",
       "      <th>6</th>\n",
       "      <td>Squirtle</td>\n",
       "      <td>007</td>\n",
       "      <td>1</td>\n",
       "      <td>0</td>\n",
       "    </tr>\n",
       "    <tr>\n",
       "      <th>5</th>\n",
       "      <td>Charmander</td>\n",
       "      <td>006</td>\n",
       "      <td>1</td>\n",
       "      <td>0</td>\n",
       "    </tr>\n",
       "    <tr>\n",
       "      <th>137</th>\n",
       "      <td>Eevee</td>\n",
       "      <td>136</td>\n",
       "      <td>1</td>\n",
       "      <td>0</td>\n",
       "    </tr>\n",
       "    <tr>\n",
       "      <th>157</th>\n",
       "      <td>Mew</td>\n",
       "      <td>151</td>\n",
       "      <td>0</td>\n",
       "      <td>1</td>\n",
       "    </tr>\n",
       "    <tr>\n",
       "      <th>132</th>\n",
       "      <td>Eevee</td>\n",
       "      <td>133</td>\n",
       "      <td>1</td>\n",
       "      <td>0</td>\n",
       "    </tr>\n",
       "    <tr>\n",
       "      <th>133</th>\n",
       "      <td>Eevee</td>\n",
       "      <td>133</td>\n",
       "      <td>1</td>\n",
       "      <td>0</td>\n",
       "    </tr>\n",
       "    <tr>\n",
       "      <th>154</th>\n",
       "      <td>Mewtwo</td>\n",
       "      <td>150</td>\n",
       "      <td>0</td>\n",
       "      <td>1</td>\n",
       "    </tr>\n",
       "    <tr>\n",
       "      <th>155</th>\n",
       "      <td>Mewtwo</td>\n",
       "      <td>150</td>\n",
       "      <td>0</td>\n",
       "      <td>1</td>\n",
       "    </tr>\n",
       "  </tbody>\n",
       "</table>\n",
       "</div>"
      ],
      "text/plain": [
       "    Evolution Group     #  Starter?  Legendary?\n",
       "1         Bulbasaur   002         1           0\n",
       "3        Charmander   004         1           0\n",
       "6          Squirtle   007         1           0\n",
       "5        Charmander   006         1           0\n",
       "137           Eevee   136         1           0\n",
       "157             Mew   151         0           1\n",
       "132           Eevee   133         1           0\n",
       "133           Eevee   133         1           0\n",
       "154          Mewtwo   150         0           1\n",
       "155          Mewtwo   150         0           1"
      ]
     },
     "execution_count": 21,
     "metadata": {},
     "output_type": "execute_result"
    }
   ],
   "source": [
    "evolution_group.sample(10)"
   ]
  },
  {
   "cell_type": "code",
   "execution_count": null,
   "id": "a02d3649",
   "metadata": {},
   "outputs": [],
   "source": []
  }
 ],
 "metadata": {
  "kernelspec": {
   "display_name": "Python 3 (ipykernel)",
   "language": "python",
   "name": "python3"
  },
  "language_info": {
   "codemirror_mode": {
    "name": "ipython",
    "version": 3
   },
   "file_extension": ".py",
   "mimetype": "text/x-python",
   "name": "python",
   "nbconvert_exporter": "python",
   "pygments_lexer": "ipython3",
   "version": "3.7.2"
  }
 },
 "nbformat": 4,
 "nbformat_minor": 5
}
