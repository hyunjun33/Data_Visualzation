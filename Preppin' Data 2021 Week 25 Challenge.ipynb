{
 "cells": [
  {
   "cell_type": "markdown",
   "id": "a39e12cf",
   "metadata": {},
   "source": [
    "## 2021: Week 25 - The Worst Pokémon\n",
    "\n",
    "Often our stakeholders can have very niche knowledge and their requests may baffle us. Luckily, as data preppers we have the tools to tackle any dataset, no matter how bizarre. Yes, Carl and Tom have allowed me to create another Pokémon challenge!\n",
    "\n",
    "The idea came from a YouTube video that I stumbled across: Who Is Pokemon’s LEAST Favorite Pokémon? The logical steps applied in the video felt like they were screaming out for a Preppin' Data challenge to verify the results! But be warned, the answer to this challenge will differ from the conclusion of the video, due to differing datasets.\n",
    "\n",
    "### Input\n",
    "We have multiple inputs for this challenge:\n",
    "1. Gen 1 Pokémon (from Pokémon Database)\n",
    "2. Evolution Group (from Bulbapedia - also see Preppin' Data 2021 week 10) \n",
    "3. Evolutions (Bulbapedia)\n",
    "4. Mega Evolutions (Pokémon DB)\n",
    "5. Alolan Pokémon (Pokémon DB)\n",
    "6. Galarian Pokémon (Pokémon DB)\n",
    "7. Gigantamax Pokémon (from IGN)\n",
    "8. Unattainable Pokémon in Sword & Shield (Pokémon DB)\n",
    "9. Anime appearances for Pokémon (First 116 episodes webscraped from Bulbapedia)\n",
    "\n",
    "### Challenge\n",
    "Remember: once a Pokémon meets a condition, their whole evolution group is excluded from consideration. For example, since there is a Mega Beedrill, Weedle and Kakuna cannot be the worst Pokémon since they all belong to the Weedle evolution group.\n",
    "\n",
    "- Input the data\n",
    "- Clean up the list of Gen 1 Pokémon so we have 1 row per Pokémon\n",
    "- Clean up the Evolution Group input so that we can join it to the Gen 1 list \n",
    "    - Filter out Starter and Legendary Pokémon\n",
    "- Using the Evolutions input, exclude any Pokémon that evolves from a Pokémon that is not part of Gen 1 or can evolve into a Pokémon outside of Gen 1\n",
    "- Exclude any Pokémon with a mega evolution, Alolan, Galarian or Gigantamax form\n",
    "- It's not possible to catch certain Pokémon in the most recent games. These are the only ones we will consider from this point on\n",
    "- We're left with 10 evolution groups. Rank them in ascending order of how many times they've appeared in the anime to see who the worst Pokémon is!\n",
    "- Output the data\n",
    "\n",
    "### Output\n",
    "![img](https://lh3.googleusercontent.com/-8kUZERJNZZY/YMzNoNRQwvI/AAAAAAAAA1M/pFn3S00eEoI2WeFPyEIJ17U2tvx-X4uYQCLcBGAsYHQ/image.png)\n",
    "\n",
    "3 fields\n",
    "   - Worst Pokémon\n",
    "   - Evolution Group\n",
    "   - Appearances\n",
    "\n",
    "10 rows (11 including headers)"
   ]
  },
  {
   "cell_type": "code",
   "execution_count": 1,
   "id": "d684bfb3",
   "metadata": {},
   "outputs": [],
   "source": [
    "import pandas as pd\n",
    "import numpy as np\n",
    "import matplotlib.pyplot as plt\n",
    "import seaborn as sns"
   ]
  },
  {
   "cell_type": "code",
   "execution_count": 5,
   "id": "60d7fa28",
   "metadata": {},
   "outputs": [],
   "source": [
    "data = pd.read_excel(\"./data/2021W25 Input.xlsx\", sheet_name=[\"Gen 1\", \"Evolution Group\", \"Evolutions\",\n",
    "                                                       \"Mega Evolutions\", \"Alolan\", \"Galarian\",\n",
    "                                                       \"Gigantamax\", \"Unattainable in Sword & Shield\",\n",
    "                                                       \"Anime Appearances\"])"
   ]
  },
  {
   "cell_type": "code",
   "execution_count": null,
   "id": "402f7599",
   "metadata": {},
   "outputs": [],
   "source": []
  }
 ],
 "metadata": {
  "kernelspec": {
   "display_name": "Python 3 (ipykernel)",
   "language": "python",
   "name": "python3"
  },
  "language_info": {
   "codemirror_mode": {
    "name": "ipython",
    "version": 3
   },
   "file_extension": ".py",
   "mimetype": "text/x-python",
   "name": "python",
   "nbconvert_exporter": "python",
   "pygments_lexer": "ipython3",
   "version": "3.7.2"
  }
 },
 "nbformat": 4,
 "nbformat_minor": 5
}
