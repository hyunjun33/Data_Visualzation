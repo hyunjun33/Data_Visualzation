{
 "cells": [
  {
   "cell_type": "markdown",
   "id": "39edaa37",
   "metadata": {},
   "source": [
    "## 2021: Week 38 - Trilogy\n",
    "\n",
    "Recently, I've been playing with data about the best movie trilogies of all time, according to IMDb. So I thought I'd create a Preppin' Data challenge to allow you all to do the same!\n",
    "\n",
    "![img](https://1.bp.blogspot.com/--LsfG5paGCA/YUnvc86nCYI/AAAAAAAAA9A/2yvgv7PjYvUlZoIbzNoamdhy___L18nFQCLcBGAsYHQ/w361-h400/IMDb%2BTrilogies%2B%25282%2529.png)\n",
    "\n",
    "### Input\n",
    "There are 2 inputs for this challenge:\n",
    "1. Top 30 Trilogies\n",
    "![img](https://lh3.googleusercontent.com/-9oMAAJIswNM/YUnw0zlu8pI/AAAAAAAAA9I/2UhWz5WL1SIXtFdeJwALe1Y80FmldZHUwCLcBGAsYHQ/image.png)\n",
    "\n",
    "2. Films\n",
    "![img](https://lh3.googleusercontent.com/-Ug52cT9O70Y/YUnxDEi_nTI/AAAAAAAAA9M/F2udZ_-nVMMEW31UBlPrNq40oLq0G5lnwCLcBGAsYHQ/w400-h95/image.png)\n",
    "\n",
    "### Requirement\n",
    "- Input the data\n",
    "- Split out the Number in Series field into Film Order and Total Films in Series\n",
    "- Work out the average rating for each trilogy\n",
    "- Work out the highest ranking for each trilogy\n",
    "- Rank the trilogies based on the average rating and use the highest ranking metric to break ties (make sure you haven't rounded the numeric fields yet!)\n",
    "    - We have noticed a slight error in the way that Tableau Prep is calculating this rank, so don't worry if your output is different to ours, we are investigating!\n",
    "- Remove the word trilogy from the Trilogy field\n",
    "- Bring the 2 datasets together by the ranking fields\n",
    "- Output the data\n",
    "\n",
    "### Output\n",
    "![img](https://lh3.googleusercontent.com/-1h_wQ7twRnY/YUnz-XfcXNI/AAAAAAAAA9Y/3j7LZD5aEIICn3ZWWpceTicFuAI--RZUwCLcBGAsYHQ/w640-h128/image.png)\n",
    "\n",
    "- 7 fields\n",
    "    - Trilogy Ranking\n",
    "    - Trilogy\n",
    "    - Trilogy Average\n",
    "    - Film Order\n",
    "    - Title\n",
    "    - Rating\n",
    "    - Total Films in Series\n",
    "- 90 rows (91 including headers)"
   ]
  },
  {
   "cell_type": "code",
   "execution_count": null,
   "id": "1c8a51b8",
   "metadata": {},
   "outputs": [],
   "source": []
  }
 ],
 "metadata": {
  "kernelspec": {
   "display_name": "Python 3 (ipykernel)",
   "language": "python",
   "name": "python3"
  },
  "language_info": {
   "codemirror_mode": {
    "name": "ipython",
    "version": 3
   },
   "file_extension": ".py",
   "mimetype": "text/x-python",
   "name": "python",
   "nbconvert_exporter": "python",
   "pygments_lexer": "ipython3",
   "version": "3.7.2"
  }
 },
 "nbformat": 4,
 "nbformat_minor": 5
}
