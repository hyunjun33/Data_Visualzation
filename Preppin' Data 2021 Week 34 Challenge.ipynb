{
 "cells": [
  {
   "cell_type": "markdown",
   "id": "fdd6adab",
   "metadata": {},
   "source": [
    "## 2021: Week 34 - Excelling with lookups\n",
    "\n",
    "As we come to the end of our excel challenges month, it seems only right to think about vlookups and index matches. In Excel, these are great functions for bringing together data from different worksheets without having to manually copy and paste. \n",
    "\n",
    "Our scenario this week is looking at Employee Sales at Allchains for each month of the year so far and we want to compare this to their Monthly Targets, stored on another sheet.\n",
    "\n",
    "### Input\n",
    "We have 2 inputs this week:\n",
    "- Employee Sales\n",
    "![img](https://lh3.googleusercontent.com/-YLkCUIZ-ewo/YSX2-_sNHkI/AAAAAAAAA5Y/LLKXwtA3zskTzUUNZORq8GSCo0TeI_pywCLcBGAsYHQ/w640-h150/image.png)\n",
    "\n",
    "- Employee Targets\n",
    "![img](https://lh3.googleusercontent.com/-dDch-RN5_KM/YSX3KZuKw5I/AAAAAAAAA5c/Uw76vgyf1gY4bQusHo0LCGSsN6FjsmBnQCLcBGAsYHQ/image.png)\n",
    "\n",
    "### Requirement\n",
    "- Input data\n",
    "- Calculate the Average Monthly Sales for each employee\n",
    "- In the Targets sheet the Store Name needs cleaning up\n",
    "- Filter the data so that only employees who are below 90% of their target on average remain\n",
    "- For these employees, we also want to know the % of months that they met/exceeded their target\n",
    "- Output the data\n",
    "\n",
    "### Output\n",
    "![img](https://lh3.googleusercontent.com/-eztfs2p3UiU/YSX476gCsyI/AAAAAAAAA5o/KFMDSQML980A4JNi1KtJWL_XJi_YmPPjACLcBGAsYHQ/image.png)\n",
    "\n",
    "- 5 fields\n",
    "    - Store\n",
    "    - Employee\n",
    "    - Avg monthly Sales\n",
    "    - % of months target met\n",
    "    - Monthly Target\n",
    "- 4 rows (5 including headers)"
   ]
  },
  {
   "cell_type": "code",
   "execution_count": 1,
   "id": "4b3ef5e1",
   "metadata": {},
   "outputs": [],
   "source": [
    "import pandas as pd\n",
    "import numpy as np\n",
    "import matplotlib.pyplot as plt\n",
    "import seaborn as sns"
   ]
  },
  {
   "cell_type": "markdown",
   "id": "c92f32ce",
   "metadata": {},
   "source": [
    "### Input data"
   ]
  },
  {
   "cell_type": "code",
   "execution_count": 2,
   "id": "15e6f3f0",
   "metadata": {},
   "outputs": [],
   "source": [
    "data = pd.read_excel(\"./data/2021 Week 34 Input.xlsx\", sheet_name=[0, 1])"
   ]
  },
  {
   "cell_type": "code",
   "execution_count": 3,
   "id": "728aac2d",
   "metadata": {},
   "outputs": [],
   "source": [
    "employee_sales = data[0].copy()\n",
    "employee_targets = data[1].copy()"
   ]
  },
  {
   "cell_type": "code",
   "execution_count": 4,
   "id": "b0a6e154",
   "metadata": {},
   "outputs": [],
   "source": [
    "### Calculate the Average Monthly Sales for each employee"
   ]
  },
  {
   "cell_type": "code",
   "execution_count": null,
   "id": "1dbb4995",
   "metadata": {},
   "outputs": [],
   "source": []
  }
 ],
 "metadata": {
  "kernelspec": {
   "display_name": "Python 3 (ipykernel)",
   "language": "python",
   "name": "python3"
  },
  "language_info": {
   "codemirror_mode": {
    "name": "ipython",
    "version": 3
   },
   "file_extension": ".py",
   "mimetype": "text/x-python",
   "name": "python",
   "nbconvert_exporter": "python",
   "pygments_lexer": "ipython3",
   "version": "3.7.2"
  }
 },
 "nbformat": 4,
 "nbformat_minor": 5
}
