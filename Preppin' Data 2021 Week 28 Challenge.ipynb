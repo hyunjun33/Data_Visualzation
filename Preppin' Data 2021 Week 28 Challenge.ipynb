{
 "cells": [
  {
   "cell_type": "markdown",
   "id": "84fa93f2",
   "metadata": {},
   "source": [
    "## 2021: Week 28 - It's Coming Rome\n",
    "\n",
    "'55 years of hurt, Never stopped me dreaming!'\n",
    "\n",
    "It was another night of pain for England fans on Sunday evening when they lost yet another penalty shootout in the European Football Championship final. This seems like it has been a common outcome for a lot of the tournaments that England have taken part in over the years, but what does the data agree? \n",
    "\n",
    "The challenge this week is to analyse the all of the penalty shootouts in the World Cup and European Championships (Euro's) since 1976.\n",
    "\n",
    "### Input\n",
    "Data is from Wikipedia (World Cup & Euro's) and is two sheets\n",
    "\n",
    "### Requirements\n",
    "- Input Data\n",
    "- Determine what competition each penalty was taken in\n",
    "- Clean any fields, correctly format the date the penalty was taken, & group the two German countries (eg, West Germany & Germany)\n",
    "- Rank the countries on the following: \n",
    "    - Shootout win % (exclude teams who have never won a shootout)\n",
    "    - Penalties scored %\n",
    "- What is the most and least successful time to take a penalty? (What penalty number are you most likely to score or miss?)\n",
    "- Output the Data\n",
    "\n",
    "### Outputs\n",
    "3 Outputs:\n",
    "1. Win % Rankings (5 fields, 26 rows)\n",
    "2. Scored % Rankings (5 fields, 34 rows)\n",
    "3. Penalty Position Rankings (6 fields, 9 rows)"
   ]
  },
  {
   "cell_type": "code",
   "execution_count": 1,
   "id": "dbaf1151",
   "metadata": {},
   "outputs": [],
   "source": [
    "import pandas as pd\n",
    "import numpy as np\n",
    "import matplotlib.pyplot as plt\n",
    "import seaborn as sns"
   ]
  },
  {
   "cell_type": "markdown",
   "id": "75613b1c",
   "metadata": {},
   "source": [
    "### Input Data"
   ]
  },
  {
   "cell_type": "code",
   "execution_count": 3,
   "id": "02c49c51",
   "metadata": {},
   "outputs": [],
   "source": [
    "data = pd.read_excel(\"./data/InternationalPenalties.xlsx\", sheet_name=[\"WorldCup\", \"Euros\"])"
   ]
  },
  {
   "cell_type": "code",
   "execution_count": 4,
   "id": "59fa28a0",
   "metadata": {},
   "outputs": [],
   "source": [
    "world_cup = data[\"WorldCup\"].copy()\n",
    "euros = data[\"Euros\"].copy()"
   ]
  },
  {
   "cell_type": "markdown",
   "id": "308d8788",
   "metadata": {},
   "source": [
    "### Determine what competition each penalty was taken in"
   ]
  },
  {
   "cell_type": "code",
   "execution_count": 9,
   "id": "d5c68691",
   "metadata": {},
   "outputs": [
    {
     "data": {
      "text/plain": [
       "Index(['No.', 'Penalty Number ', 'Event Year', 'Winner', 'Full Time Score',\n",
       "       'Loser', 'Winning Team GK', 'Winning team Taker', 'Losing team Taker',\n",
       "       'Losing Team GK', 'Round', 'Date'],\n",
       "      dtype='object')"
      ]
     },
     "execution_count": 9,
     "metadata": {},
     "output_type": "execute_result"
    }
   ],
   "source": [
    "world_cup.columns"
   ]
  },
  {
   "cell_type": "code",
   "execution_count": 11,
   "id": "af1e3787",
   "metadata": {},
   "outputs": [
    {
     "data": {
      "text/plain": [
       "1    30\n",
       "2    30\n",
       "3    30\n",
       "4    30\n",
       "5    24\n",
       "6     2\n",
       "Name: Penalty Number , dtype: int64"
      ]
     },
     "execution_count": 11,
     "metadata": {},
     "output_type": "execute_result"
    }
   ],
   "source": [
    "world_cup[\"Penalty Number \"].value_counts()"
   ]
  },
  {
   "cell_type": "code",
   "execution_count": 12,
   "id": "6275bcd0",
   "metadata": {},
   "outputs": [
    {
     "data": {
      "text/html": [
       "<div>\n",
       "<style scoped>\n",
       "    .dataframe tbody tr th:only-of-type {\n",
       "        vertical-align: middle;\n",
       "    }\n",
       "\n",
       "    .dataframe tbody tr th {\n",
       "        vertical-align: top;\n",
       "    }\n",
       "\n",
       "    .dataframe thead th {\n",
       "        text-align: right;\n",
       "    }\n",
       "</style>\n",
       "<table border=\"1\" class=\"dataframe\">\n",
       "  <thead>\n",
       "    <tr style=\"text-align: right;\">\n",
       "      <th></th>\n",
       "      <th>No.</th>\n",
       "      <th>Penalty Number</th>\n",
       "      <th>Event Year</th>\n",
       "      <th>Winner</th>\n",
       "      <th>Full Time Score</th>\n",
       "      <th>Loser</th>\n",
       "      <th>Winning Team GK</th>\n",
       "      <th>Winning team Taker</th>\n",
       "      <th>Losing team Taker</th>\n",
       "      <th>Losing Team GK</th>\n",
       "      <th>Round</th>\n",
       "      <th>Date</th>\n",
       "    </tr>\n",
       "  </thead>\n",
       "  <tbody>\n",
       "    <tr>\n",
       "      <th>0</th>\n",
       "      <td>1</td>\n",
       "      <td>1</td>\n",
       "      <td>1982,</td>\n",
       "      <td>West Germany</td>\n",
       "      <td>3–3</td>\n",
       "      <td>France</td>\n",
       "      <td>Schumacher</td>\n",
       "      <td>Kaltz Penalty scored</td>\n",
       "      <td>Penalty scored Giresse</td>\n",
       "      <td>Ettori</td>\n",
       "      <td>Semi-finals</td>\n",
       "      <td>2021-07-08</td>\n",
       "    </tr>\n",
       "    <tr>\n",
       "      <th>1</th>\n",
       "      <td>1</td>\n",
       "      <td>2</td>\n",
       "      <td>1982,</td>\n",
       "      <td>West Germany</td>\n",
       "      <td>3–3</td>\n",
       "      <td>France</td>\n",
       "      <td>Schumacher</td>\n",
       "      <td>Breitner Penalty scored</td>\n",
       "      <td>Penalty scored Amoros</td>\n",
       "      <td>Ettori</td>\n",
       "      <td>Semi-finals</td>\n",
       "      <td>2021-07-08</td>\n",
       "    </tr>\n",
       "    <tr>\n",
       "      <th>2</th>\n",
       "      <td>1</td>\n",
       "      <td>3</td>\n",
       "      <td>1982,</td>\n",
       "      <td>West Germany</td>\n",
       "      <td>3–3</td>\n",
       "      <td>France</td>\n",
       "      <td>Schumacher</td>\n",
       "      <td>Stielike Penalty missed</td>\n",
       "      <td>Penalty scored Rocheteau</td>\n",
       "      <td>Ettori</td>\n",
       "      <td>Semi-finals</td>\n",
       "      <td>2021-07-08</td>\n",
       "    </tr>\n",
       "    <tr>\n",
       "      <th>3</th>\n",
       "      <td>1</td>\n",
       "      <td>4</td>\n",
       "      <td>1982,</td>\n",
       "      <td>West Germany</td>\n",
       "      <td>3–3</td>\n",
       "      <td>France</td>\n",
       "      <td>Schumacher</td>\n",
       "      <td>Littbarski Penalty scored</td>\n",
       "      <td>Penalty missed Six</td>\n",
       "      <td>Ettori</td>\n",
       "      <td>Semi-finals</td>\n",
       "      <td>2021-07-08</td>\n",
       "    </tr>\n",
       "    <tr>\n",
       "      <th>4</th>\n",
       "      <td>1</td>\n",
       "      <td>5</td>\n",
       "      <td>1982,</td>\n",
       "      <td>West Germany</td>\n",
       "      <td>3–3</td>\n",
       "      <td>France</td>\n",
       "      <td>Schumacher</td>\n",
       "      <td>Rummenigge Penalty scored</td>\n",
       "      <td>Penalty scored Platini</td>\n",
       "      <td>Ettori</td>\n",
       "      <td>Semi-finals</td>\n",
       "      <td>2021-07-08</td>\n",
       "    </tr>\n",
       "  </tbody>\n",
       "</table>\n",
       "</div>"
      ],
      "text/plain": [
       "   No.  Penalty Number  Event Year         Winner Full Time Score    Loser  \\\n",
       "0    1                1      1982,   West Germany             3–3   France   \n",
       "1    1                2      1982,   West Germany             3–3   France   \n",
       "2    1                3      1982,   West Germany             3–3   France   \n",
       "3    1                4      1982,   West Germany             3–3   France   \n",
       "4    1                5      1982,   West Germany             3–3   France   \n",
       "\n",
       "  Winning Team GK         Winning team Taker         Losing team Taker  \\\n",
       "0      Schumacher       Kaltz Penalty scored    Penalty scored Giresse   \n",
       "1      Schumacher    Breitner Penalty scored     Penalty scored Amoros   \n",
       "2      Schumacher    Stielike Penalty missed  Penalty scored Rocheteau   \n",
       "3      Schumacher  Littbarski Penalty scored        Penalty missed Six   \n",
       "4      Schumacher  Rummenigge Penalty scored    Penalty scored Platini   \n",
       "\n",
       "  Losing Team GK        Round       Date  \n",
       "0         Ettori  Semi-finals 2021-07-08  \n",
       "1         Ettori  Semi-finals 2021-07-08  \n",
       "2         Ettori  Semi-finals 2021-07-08  \n",
       "3         Ettori  Semi-finals 2021-07-08  \n",
       "4         Ettori  Semi-finals 2021-07-08  "
      ]
     },
     "execution_count": 12,
     "metadata": {},
     "output_type": "execute_result"
    }
   ],
   "source": [
    "world_cup.head()"
   ]
  },
  {
   "cell_type": "code",
   "execution_count": 15,
   "id": "d248c58d",
   "metadata": {},
   "outputs": [
    {
     "data": {
      "text/plain": [
       "Index(['No.', 'Penalty Number', 'Event Year', 'Winner', 'Full Time Score',\n",
       "       'Loser', 'Winning team GK', 'Winning team Taker', 'Losing team Taker',\n",
       "       'Losing team GK', 'Round', 'Date'],\n",
       "      dtype='object')"
      ]
     },
     "execution_count": 15,
     "metadata": {},
     "output_type": "execute_result"
    }
   ],
   "source": [
    "euros.columns"
   ]
  },
  {
   "cell_type": "code",
   "execution_count": 17,
   "id": "c9f51b02",
   "metadata": {},
   "outputs": [
    {
     "data": {
      "text/plain": [
       "1    22\n",
       "2    22\n",
       "3    22\n",
       "4    22\n",
       "5    19\n",
       "6     6\n",
       "7     3\n",
       "8     2\n",
       "9     2\n",
       "Name: Penalty Number, dtype: int64"
      ]
     },
     "execution_count": 17,
     "metadata": {},
     "output_type": "execute_result"
    }
   ],
   "source": [
    "euros[\"Penalty Number\"].value_counts()"
   ]
  }
 ],
 "metadata": {
  "kernelspec": {
   "display_name": "Python 3 (ipykernel)",
   "language": "python",
   "name": "python3"
  },
  "language_info": {
   "codemirror_mode": {
    "name": "ipython",
    "version": 3
   },
   "file_extension": ".py",
   "mimetype": "text/x-python",
   "name": "python",
   "nbconvert_exporter": "python",
   "pygments_lexer": "ipython3",
   "version": "3.7.2"
  }
 },
 "nbformat": 4,
 "nbformat_minor": 5
}
