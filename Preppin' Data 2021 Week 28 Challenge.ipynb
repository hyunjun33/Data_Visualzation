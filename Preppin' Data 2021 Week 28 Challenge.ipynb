{
 "cells": [
  {
   "cell_type": "markdown",
   "id": "c9c783ff",
   "metadata": {},
   "source": [
    "## 2021: Week 28 - It's Coming Rome\n",
    "\n",
    "'55 years of hurt, Never stopped me dreaming!'\n",
    "\n",
    "It was another night of pain for England fans on Sunday evening when they lost yet another penalty shootout in the European Football Championship final. This seems like it has been a common outcome for a lot of the tournaments that England have taken part in over the years, but what does the data agree? \n",
    "\n",
    "The challenge this week is to analyse the all of the penalty shootouts in the World Cup and European Championships (Euro's) since 1976.\n",
    "\n",
    "### Input\n",
    "Data is from Wikipedia (World Cup & Euro's) and is two sheets\n",
    "\n",
    "### Requirements\n",
    "- Input Data\n",
    "- Determine what competition each penalty was taken in\n",
    "- Clean any fields, correctly format the date the penalty was taken, & group the two German countries (eg, West Germany & Germany)\n",
    "- Rank the countries on the following: \n",
    "    - Shootout win % (exclude teams who have never won a shootout)\n",
    "    - Penalties scored %\n",
    "- What is the most and least successful time to take a penalty? (What penalty number are you most likely to score or miss?)\n",
    "- Output the Data\n",
    "\n",
    "### Outputs\n",
    "3 Outputs:\n",
    "1. Win % Rankings (5 fields, 26 rows)\n",
    "2. Scored % Rankings (5 fields, 34 rows)\n",
    "3. Penalty Position Rankings (6 fields, 9 rows)"
   ]
  },
  {
   "cell_type": "code",
   "execution_count": 1,
   "id": "99ddc0ec",
   "metadata": {},
   "outputs": [],
   "source": [
    "import pandas as pd\n",
    "import numpy as np\n",
    "import matplotlib.pyplot as plt\n",
    "import seaborn as sns"
   ]
  },
  {
   "cell_type": "code",
   "execution_count": 3,
   "id": "e7e541c4",
   "metadata": {},
   "outputs": [],
   "source": [
    "data = pd.read_excel(\"./data/InternationalPenalties.xlsx\", sheet_name=[\"WorldCup\", \"Euros\"])"
   ]
  },
  {
   "cell_type": "code",
   "execution_count": null,
   "id": "72469f1a",
   "metadata": {},
   "outputs": [],
   "source": []
  }
 ],
 "metadata": {
  "kernelspec": {
   "display_name": "Python 3 (ipykernel)",
   "language": "python",
   "name": "python3"
  },
  "language_info": {
   "codemirror_mode": {
    "name": "ipython",
    "version": 3
   },
   "file_extension": ".py",
   "mimetype": "text/x-python",
   "name": "python",
   "nbconvert_exporter": "python",
   "pygments_lexer": "ipython3",
   "version": "3.7.2"
  }
 },
 "nbformat": 4,
 "nbformat_minor": 5
}
