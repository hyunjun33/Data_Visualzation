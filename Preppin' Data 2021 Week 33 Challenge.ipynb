{
 "cells": [
  {
   "cell_type": "markdown",
   "id": "8f001daf",
   "metadata": {},
   "source": [
    "## 2021: Week 33 Excelling at adding one more row\n",
    "\n",
    "If you've spent as long as I have in the data world, you will inevitably have had moments when your sophisticated tools are actually a lot harder to solve a challenge with than Excel. The people you work with are likely to describe challenges to you in Excel terms and expect your solutions to be able to follow the same process as their logic. It's not always that easy though. \n",
    "\n",
    "Last week when working with some client data (I've converted this to an Allchains example), my team was challenged to look at Orders captured in a weekly snapshot that was then exported into Excel. \n",
    "\n",
    "Each week the file would show any order that was still opened that hadn't been fulfilled (ie delivered to the customer). The challenge is to classify when an order is new (the first report it has appeared in), unfulfilled (when it appears in any subsequent reports) or completed (the week after the order last appears in a report). But what if we needed to know whether the order was fulfilled and when? \n",
    "\n",
    "In Excel, we'd stack of those rows of data on top of each other and just INSERT an extra row for each order after the last time it appears in a weekly snapshot. We don't have that ability to right-click and add the additional row in Prep so we need to think of some alternate logic. \n",
    "\n",
    "### Input\n",
    "5 worksheets in one Excel file with the same format\n",
    "![img](https://1.bp.blogspot.com/-ciSacUA9Css/YRLDuvVsyxI/AAAAAAAACPY/9htDlXATbpojtlX4mNHQmqgdBbaYvBKiwCLcBGAsYHQ/s320/Screenshot%2B2021-08-10%2Bat%2B19.18.54.png)\n",
    "\n",
    "### Requirement\n",
    "- Input the data\n",
    "- Create one complete data set\n",
    "- Use the Table Names field to create the Reporting Date\n",
    "- Find the Minimum and Maximum date where an order appeared in the reports\n",
    "- Add one week on to the maximum date to show when an order was fulfilled by\n",
    "- Apply this logic:\n",
    "    - The first time an order appears it should be classified as a 'New Order'\n",
    "    - The week after the last time an order appears in a report (the maximum date) is when the order is classed as 'Fulfilled' \n",
    "    - Any week between 'New Order' and 'Fulfilled' status is classed as an 'Unfulfilled Order' \n",
    "- Pull of the data sets together \n",
    "- Remove any unnecessary fields\n",
    "- Output the data\n",
    "\n",
    "### Output\n",
    "![img](https://1.bp.blogspot.com/-QAVqr4bOUQk/YRLTJYSNtyI/AAAAAAAACPg/uPmCoQale7cXWUbBzAdHveNsQ8Fxz4uQACLcBGAsYHQ/w640-h472/Screenshot%2B2021-08-10%2Bat%2B20.27.21.png)\n",
    "\n",
    "4 data fields:\n",
    "- Order status\n",
    "- Orders\n",
    "- Sales Date\n",
    "- Reporting Date\n",
    "35 Rows (36 rows including headers)"
   ]
  },
  {
   "cell_type": "code",
   "execution_count": null,
   "id": "78cc5b86",
   "metadata": {},
   "outputs": [],
   "source": []
  }
 ],
 "metadata": {
  "kernelspec": {
   "display_name": "Python 3 (ipykernel)",
   "language": "python",
   "name": "python3"
  },
  "language_info": {
   "codemirror_mode": {
    "name": "ipython",
    "version": 3
   },
   "file_extension": ".py",
   "mimetype": "text/x-python",
   "name": "python",
   "nbconvert_exporter": "python",
   "pygments_lexer": "ipython3",
   "version": "3.7.2"
  }
 },
 "nbformat": 4,
 "nbformat_minor": 5
}
