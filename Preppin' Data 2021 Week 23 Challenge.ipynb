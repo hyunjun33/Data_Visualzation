{
 "cells": [
  {
   "cell_type": "markdown",
   "id": "e5943c8a",
   "metadata": {},
   "source": [
    "## 2021: Week 23 - NPS for Airlines\n",
    "\n",
    "This week Prep Air are looking into their Net Promoter Score (NPS) and how this compares with a variety of other new airlines. NPS usually takes the form of asking customers \"How likely are you to recommend this company on a scale of 0-10?\" You then subtract the detractors of your company from the promoters and end up with a score between -100 and +100. The higher the NPS, the better!\n",
    "\n",
    "However, like most metrics, on its own it doesn't tell you a lot. Do customers feel strongly one way or the other about any airlines? So it would be good to compare Prep Air's NPS with other airline's Net Promoter Scores too! In this challenge we'll use Z-Scores to standardise the scores and see whether Prep Air is above or below average.\n",
    "\n",
    "### Input\n",
    "1. Prep Air's customer ratings:\n",
    "\n",
    "![img](https://lh3.googleusercontent.com/-ADGamsiZ3x8/YKFA_jX_tUI/AAAAAAAAA0M/bLB5P05KjqYqlnYFXMRcUfBcrW_gm9sdwCLcBGAsYHQ/image.png)\n",
    "\n",
    "2. Other Airlines customer ratings\n",
    "\n",
    "### Requirement\n",
    "- Input the data\n",
    "- Combine Prep Air dataset with other airlines\n",
    "- Exclude any airlines who have had less than 50 customers respond\n",
    "- Classify customer responses to the question in the following way:\n",
    "    - 0-6 = Detractors\n",
    "    - 7-8 = Passive\n",
    "    - 9-10 = Promoters\n",
    "- Calculate the NPS for each airline\n",
    "    - NPS = % Promoters - % Detractors\n",
    "        - Note: I rounded the %s down to the nearest whole number, so if your answer differs slightly from mine then this could be why! \n",
    "- Calculate the average and standard deviation of the dataset\n",
    "- Take each airline's NPS and subtract the average, then divide this by the standard deviation\n",
    "- Filter to just show Prep Air's NPS along with their Z-Score\n",
    "- Output the data\n",
    "\n",
    "### Output\n",
    "![img](https://lh3.googleusercontent.com/-d9BUQRa31c4/YKFB3mZbWTI/AAAAAAAAA0U/cA2n_CNs34I_zLqvdBWOFRSkiMZ6WyqXgCLcBGAsYHQ/w200-h64/image.png)\n",
    "\n",
    "3 fields\n",
    "- Airline\n",
    "- NPS\n",
    "- Z-Score\n",
    "\n",
    "1 row (2 including headers)"
   ]
  },
  {
   "cell_type": "code",
   "execution_count": 1,
   "id": "fb6991d4",
   "metadata": {},
   "outputs": [],
   "source": [
    "import pandas as pd\n",
    "import numpy as np\n",
    "import matplotlib.pyplot as plt\n",
    "import seaborn as sns"
   ]
  },
  {
   "cell_type": "markdown",
   "id": "e7d4b1b9",
   "metadata": {},
   "source": [
    "### Input the data"
   ]
  },
  {
   "cell_type": "code",
   "execution_count": 3,
   "id": "be2dadd2",
   "metadata": {},
   "outputs": [],
   "source": [
    "data = pd.read_excel(\"./data/NPS Input.xlsx\", sheet_name=[\"Airlines\", \"Prep Air\"])\n",
    "airlines = data[\"Airlines\"].copy()\n",
    "prep = data[\"Prep Air\"].copy()"
   ]
  },
  {
   "cell_type": "code",
   "execution_count": 8,
   "id": "eee38826",
   "metadata": {},
   "outputs": [
    {
     "data": {
      "text/html": [
       "<div>\n",
       "<style scoped>\n",
       "    .dataframe tbody tr th:only-of-type {\n",
       "        vertical-align: middle;\n",
       "    }\n",
       "\n",
       "    .dataframe tbody tr th {\n",
       "        vertical-align: top;\n",
       "    }\n",
       "\n",
       "    .dataframe thead th {\n",
       "        text-align: right;\n",
       "    }\n",
       "</style>\n",
       "<table border=\"1\" class=\"dataframe\">\n",
       "  <thead>\n",
       "    <tr style=\"text-align: right;\">\n",
       "      <th></th>\n",
       "      <th>Airline</th>\n",
       "      <th>CustomerID</th>\n",
       "      <th>How likely are you to recommend this airline?</th>\n",
       "    </tr>\n",
       "  </thead>\n",
       "  <tbody>\n",
       "    <tr>\n",
       "      <th>0</th>\n",
       "      <td>Schmeler, Schimmel and Collier</td>\n",
       "      <td>013d950</td>\n",
       "      <td>6</td>\n",
       "    </tr>\n",
       "    <tr>\n",
       "      <th>1</th>\n",
       "      <td>Schmeler, Schimmel and Collier</td>\n",
       "      <td>0d25185</td>\n",
       "      <td>10</td>\n",
       "    </tr>\n",
       "    <tr>\n",
       "      <th>2</th>\n",
       "      <td>Schmeler, Schimmel and Collier</td>\n",
       "      <td>a1b541d</td>\n",
       "      <td>10</td>\n",
       "    </tr>\n",
       "    <tr>\n",
       "      <th>3</th>\n",
       "      <td>Schmeler, Schimmel and Collier</td>\n",
       "      <td>6b24ea8</td>\n",
       "      <td>9</td>\n",
       "    </tr>\n",
       "    <tr>\n",
       "      <th>4</th>\n",
       "      <td>Schmeler, Schimmel and Collier</td>\n",
       "      <td>d5f96ab</td>\n",
       "      <td>7</td>\n",
       "    </tr>\n",
       "  </tbody>\n",
       "</table>\n",
       "</div>"
      ],
      "text/plain": [
       "                          Airline CustomerID  \\\n",
       "0  Schmeler, Schimmel and Collier    013d950   \n",
       "1  Schmeler, Schimmel and Collier    0d25185   \n",
       "2  Schmeler, Schimmel and Collier    a1b541d   \n",
       "3  Schmeler, Schimmel and Collier    6b24ea8   \n",
       "4  Schmeler, Schimmel and Collier    d5f96ab   \n",
       "\n",
       "   How likely are you to recommend this airline?  \n",
       "0                                              6  \n",
       "1                                             10  \n",
       "2                                             10  \n",
       "3                                              9  \n",
       "4                                              7  "
      ]
     },
     "execution_count": 8,
     "metadata": {},
     "output_type": "execute_result"
    }
   ],
   "source": [
    "airlines.head()"
   ]
  },
  {
   "cell_type": "code",
   "execution_count": 6,
   "id": "128abda4",
   "metadata": {},
   "outputs": [],
   "source": [
    "### Combine Prep Air dataset with other airlines"
   ]
  },
  {
   "cell_type": "code",
   "execution_count": 10,
   "id": "752500bb",
   "metadata": {},
   "outputs": [
    {
     "data": {
      "text/plain": [
       "(5907, 3)"
      ]
     },
     "execution_count": 10,
     "metadata": {},
     "output_type": "execute_result"
    }
   ],
   "source": [
    "airlines = pd.concat([airlines, prep], axis=0)\n",
    "airlines.shape"
   ]
  },
  {
   "cell_type": "code",
   "execution_count": null,
   "id": "03b5647c",
   "metadata": {},
   "outputs": [],
   "source": [
    "### Exclude any airlines who have had less than 50 customers respond"
   ]
  },
  {
   "cell_type": "code",
   "execution_count": 28,
   "id": "4ab00518",
   "metadata": {},
   "outputs": [
    {
     "data": {
      "text/plain": [
       "Toy, Bartell and Williamson    52\n",
       "Satterfield Inc                52\n",
       "Hamill, Koepp and Robel        52\n",
       "Simonis Inc                    51\n",
       "Walsh LLC                      50\n",
       "Name: Airline, dtype: int64"
      ]
     },
     "execution_count": 28,
     "metadata": {},
     "output_type": "execute_result"
    }
   ],
   "source": [
    "grouped = airlines.groupby([\"Airline\"])[\"CustomerID\"].count()\n",
    "less_than_50 = list(grouped[grouped < 50].index)\n",
    "airlines = airlines.loc[~airlines[\"Airline\"].isin(less_than_50), :]\n",
    "airlines[\"Airline\"].value_counts().tail()"
   ]
  },
  {
   "cell_type": "code",
   "execution_count": null,
   "id": "43a93022",
   "metadata": {},
   "outputs": [],
   "source": [
    "### Classify customer responses to the question in the following way:"
   ]
  },
  {
   "cell_type": "code",
   "execution_count": 51,
   "id": "e7054ad2",
   "metadata": {},
   "outputs": [],
   "source": [
    "def nps_classification(x):\n",
    "    if x <= 6:\n",
    "        return \"Detractors\"\n",
    "    elif (x >=7) & (x <= 8):\n",
    "        return \"Passive\"\n",
    "    else:\n",
    "        return \"Promoters\""
   ]
  },
  {
   "cell_type": "code",
   "execution_count": 52,
   "id": "5fe3b745",
   "metadata": {},
   "outputs": [
    {
     "data": {
      "text/plain": [
       "Passive       1770\n",
       "Promoters     1739\n",
       "Detractors    1253\n",
       "Name: NPS, dtype: int64"
      ]
     },
     "execution_count": 52,
     "metadata": {},
     "output_type": "execute_result"
    }
   ],
   "source": [
    "airlines = airlines.rename(columns={\"How likely are you to recommend this airline?\": \"Score\"})\n",
    "airlines[\"NPS\"] = airlines[\"Score\"].map(lambda x: nps_classification(x))\n",
    "airlines[\"NPS\"].value_counts()"
   ]
  },
  {
   "cell_type": "markdown",
   "id": "56c5d2a3",
   "metadata": {},
   "source": [
    "### Calculate the NPS for each airline\n",
    "- NPS = % Promoters - % Detractors\n",
    "- Note: I rounded the %s down to the nearest whole number, so if your answer differs slightly from mine then this could be why! "
   ]
  },
  {
   "cell_type": "code",
   "execution_count": 61,
   "id": "e736f33e",
   "metadata": {},
   "outputs": [
    {
     "data": {
      "text/plain": [
       "Passive       75\n",
       "Promoters     74\n",
       "Detractors    35\n",
       "Name: NPS, dtype: int64"
      ]
     },
     "execution_count": 61,
     "metadata": {},
     "output_type": "execute_result"
    }
   ],
   "source": [
    "grouped = airlines.groupby([\"Airline\"])"
   ]
  },
  {
   "cell_type": "code",
   "execution_count": 73,
   "id": "0a8fa20a",
   "metadata": {},
   "outputs": [
    {
     "data": {
      "text/plain": [
       "21.0"
      ]
     },
     "execution_count": 73,
     "metadata": {},
     "output_type": "execute_result"
    }
   ],
   "source": [
    "detractors = grouped.get_group(\"Prep Air\")[\"NPS\"].value_counts().sort_index()[0]\n",
    "promoters = grouped.get_group(\"Prep Air\")[\"NPS\"].value_counts().sort_index()[2]\n",
    "total = grouped.get_group(\"Prep Air\")[\"NPS\"].value_counts().sum()\n",
    "np.round((promoters / total) - (detractors / total), 2) * 100"
   ]
  },
  {
   "cell_type": "code",
   "execution_count": 76,
   "id": "b62ee2a0",
   "metadata": {},
   "outputs": [],
   "source": [
    "def calculate_NPS_airline(df_):\n",
    "    list_airline = list(df_[\"Airline\"].value_counts().index)\n",
    "    name_nps = {}\n",
    "    group = df_.groupby([\"Airline\"])\n",
    "    for name in list_airline:\n",
    "        detractors = group.get_group(name)[\"NPS\"].value_counts().sort_index()[0]\n",
    "        promoters = group.get_group(name)[\"NPS\"].value_counts().sort_index()[2]\n",
    "        total = group.get_group(name)[\"NPS\"].value_counts().sum()\n",
    "        nps = np.round((promoters / total) - (detractors / total), 2) * 100\n",
    "        name_nps[name] = nps\n",
    "    return name_nps"
   ]
  },
  {
   "cell_type": "code",
   "execution_count": 87,
   "id": "4db83132",
   "metadata": {
    "scrolled": true
   },
   "outputs": [
    {
     "data": {
      "text/plain": [
       "Maggio Group                      39.0\n",
       "Kautzer-Langworth                 33.0\n",
       "Mueller Group                     28.0\n",
       "Stracke and Sons                  25.0\n",
       "Farrell and Sons                  25.0\n",
       "Crist Group                       22.0\n",
       "Schmeler, Schimmel and Collier    22.0\n",
       "Prep Air                          21.0\n",
       "Von, Brown and Frami              20.0\n",
       "Goyette Inc                       20.0\n",
       "dtype: float64"
      ]
     },
     "execution_count": 87,
     "metadata": {},
     "output_type": "execute_result"
    }
   ],
   "source": [
    "name_nps = calculate_NPS_airline(airlines)\n",
    "name_nps = pd.Series(name_nps).sort_values(ascending=False)\n",
    "name_nps.head(10)"
   ]
  },
  {
   "cell_type": "code",
   "execution_count": 89,
   "id": "fff05e32",
   "metadata": {},
   "outputs": [],
   "source": [
    "### Calculate the average and standard deviation of the dataset"
   ]
  },
  {
   "cell_type": "code",
   "execution_count": 92,
   "id": "cac3b878",
   "metadata": {},
   "outputs": [],
   "source": [
    "nps_mean = name_nps.mean()\n",
    "nps_std = name_nps.std()"
   ]
  },
  {
   "cell_type": "code",
   "execution_count": 94,
   "id": "39cf5b7d",
   "metadata": {},
   "outputs": [],
   "source": [
    "### Take each airline's NPS and subtract the average, then divide this by the standard deviation"
   ]
  },
  {
   "cell_type": "code",
   "execution_count": 109,
   "id": "530aeae2",
   "metadata": {},
   "outputs": [
    {
     "data": {
      "text/html": [
       "<div>\n",
       "<style scoped>\n",
       "    .dataframe tbody tr th:only-of-type {\n",
       "        vertical-align: middle;\n",
       "    }\n",
       "\n",
       "    .dataframe tbody tr th {\n",
       "        vertical-align: top;\n",
       "    }\n",
       "\n",
       "    .dataframe thead th {\n",
       "        text-align: right;\n",
       "    }\n",
       "</style>\n",
       "<table border=\"1\" class=\"dataframe\">\n",
       "  <thead>\n",
       "    <tr style=\"text-align: right;\">\n",
       "      <th></th>\n",
       "      <th>Airline</th>\n",
       "      <th>NPS</th>\n",
       "      <th>Z-Score</th>\n",
       "    </tr>\n",
       "  </thead>\n",
       "  <tbody>\n",
       "    <tr>\n",
       "      <th>0</th>\n",
       "      <td>Maggio Group</td>\n",
       "      <td>39.0</td>\n",
       "      <td>2.956</td>\n",
       "    </tr>\n",
       "    <tr>\n",
       "      <th>1</th>\n",
       "      <td>Kautzer-Langworth</td>\n",
       "      <td>33.0</td>\n",
       "      <td>2.339</td>\n",
       "    </tr>\n",
       "    <tr>\n",
       "      <th>2</th>\n",
       "      <td>Mueller Group</td>\n",
       "      <td>28.0</td>\n",
       "      <td>1.825</td>\n",
       "    </tr>\n",
       "    <tr>\n",
       "      <th>3</th>\n",
       "      <td>Stracke and Sons</td>\n",
       "      <td>25.0</td>\n",
       "      <td>1.517</td>\n",
       "    </tr>\n",
       "    <tr>\n",
       "      <th>4</th>\n",
       "      <td>Farrell and Sons</td>\n",
       "      <td>25.0</td>\n",
       "      <td>1.517</td>\n",
       "    </tr>\n",
       "  </tbody>\n",
       "</table>\n",
       "</div>"
      ],
      "text/plain": [
       "             Airline   NPS  Z-Score\n",
       "0       Maggio Group  39.0    2.956\n",
       "1  Kautzer-Langworth  33.0    2.339\n",
       "2      Mueller Group  28.0    1.825\n",
       "3   Stracke and Sons  25.0    1.517\n",
       "4   Farrell and Sons  25.0    1.517"
      ]
     },
     "execution_count": 109,
     "metadata": {},
     "output_type": "execute_result"
    }
   ],
   "source": [
    "z_score = (name_nps - nps_mean).div(nps_std).round(3)\n",
    "output = pd.concat([name_nps, z_score], axis=1).reset_index().rename(columns={\"index\": \"Airline\", 0: \"NPS\",\n",
    "                                                                     1: \"Z-Score\"})\n",
    "output.head()"
   ]
  },
  {
   "cell_type": "code",
   "execution_count": null,
   "id": "198cc9f3",
   "metadata": {},
   "outputs": [],
   "source": [
    "### Filter to just show Prep Air's NPS along with their Z-Score"
   ]
  },
  {
   "cell_type": "code",
   "execution_count": 116,
   "id": "1b172bb6",
   "metadata": {},
   "outputs": [
    {
     "data": {
      "text/html": [
       "<div>\n",
       "<style scoped>\n",
       "    .dataframe tbody tr th:only-of-type {\n",
       "        vertical-align: middle;\n",
       "    }\n",
       "\n",
       "    .dataframe tbody tr th {\n",
       "        vertical-align: top;\n",
       "    }\n",
       "\n",
       "    .dataframe thead th {\n",
       "        text-align: right;\n",
       "    }\n",
       "</style>\n",
       "<table border=\"1\" class=\"dataframe\">\n",
       "  <thead>\n",
       "    <tr style=\"text-align: right;\">\n",
       "      <th></th>\n",
       "      <th>Airline</th>\n",
       "      <th>NPS</th>\n",
       "      <th>Z-Score</th>\n",
       "    </tr>\n",
       "  </thead>\n",
       "  <tbody>\n",
       "    <tr>\n",
       "      <th>7</th>\n",
       "      <td>Prep Air</td>\n",
       "      <td>21.0</td>\n",
       "      <td>1.106</td>\n",
       "    </tr>\n",
       "  </tbody>\n",
       "</table>\n",
       "</div>"
      ],
      "text/plain": [
       "    Airline   NPS  Z-Score\n",
       "7  Prep Air  21.0    1.106"
      ]
     },
     "execution_count": 116,
     "metadata": {},
     "output_type": "execute_result"
    }
   ],
   "source": [
    "prep_air = output.loc[output[\"Airline\"] == \"Prep Air\", :]\n",
    "prep_air"
   ]
  },
  {
   "cell_type": "code",
   "execution_count": null,
   "id": "3d192b42",
   "metadata": {},
   "outputs": [],
   "source": [
    "### Output the data"
   ]
  },
  {
   "cell_type": "code",
   "execution_count": null,
   "id": "4ba9526e",
   "metadata": {},
   "outputs": [],
   "source": [
    "prer_air.to_csv(\"./\")"
   ]
  }
 ],
 "metadata": {
  "kernelspec": {
   "display_name": "Python 3 (ipykernel)",
   "language": "python",
   "name": "python3"
  },
  "language_info": {
   "codemirror_mode": {
    "name": "ipython",
    "version": 3
   },
   "file_extension": ".py",
   "mimetype": "text/x-python",
   "name": "python",
   "nbconvert_exporter": "python",
   "pygments_lexer": "ipython3",
   "version": "3.7.2"
  }
 },
 "nbformat": 4,
 "nbformat_minor": 5
}
