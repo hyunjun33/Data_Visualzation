{
 "cells": [
  {
   "cell_type": "markdown",
   "id": "58916a78",
   "metadata": {},
   "source": [
    "## 2021: Week 10 - Pokémon Hierarchies\n",
    "\n",
    "I can hear the hesitancy already surrounding this challenge. \"I know nothing about Pokémon, how can I participate?\" Well, rest assured, you don't need to understand the data in order to work with it and complete this challenge. In fact, I believe this challenge could help with most hierarchical data. \n",
    "\n",
    "The aim of this challenge is to group Pokémon into Evolution Groups. Why? So that when we select any Pokémon, we can see all the information about what they evolved from, what they will evolve to etc. In the example below, Bulbasaur evolves into Ivysaur, who then evolves into Venusaur. Choose another Pokémon like Flareon and we can see it evolves from Eevee, who has multiple evolution possibilities.\n",
    "\n",
    "How is this applicable to other hierarchical data? Well imagine that a Pokémon that has a null in the Evolves From field is similar to an employee at Work Level 1 in an organisation. Their manager would then sit in the Evolves To field. Our Evolution Group in this instance would be the Team the employee belongs to and it would give us the ability to type in any employee name and return information about which team they belong to and the structure of that team.\n",
    "\n",
    "Sure, I could have chosen to design this challenge to be working with employees, but I believe it's useful to work with data outside of your comfort zone every now and then to prove to yourself that your prep skills are applicable no matter what the dataset. Plus it's just more fun to work with Pokémon!\n",
    "\n",
    "### Input\n",
    "We have 2 inputs this week:\n",
    "1. Pokemon\n",
    "![img](https://1.bp.blogspot.com/-6yOamFdTm1o/YCVAm0FbdtI/AAAAAAAAAvY/zQNLQy8hjAAiGj0Od3q1d1b27Mxnkml8ACLcBGAsYHQ/w400-h188/2021W10%2BInput1.png)\n",
    "\n",
    "2. Evolution\n",
    "![img2](https://1.bp.blogspot.com/-G9styqz2ZcI/YCVAaVD6E9I/AAAAAAAAAvU/O7pXXAZJsnQ3uXp2sgkSsUW8py1p6GieACLcBGAsYHQ/s320/2021W10%2BInput2.png)\n",
    "\n",
    "### Requirment\n",
    "\n",
    "- Input the data\n",
    "- Our Pokémon dataset actually contains too many Pokémon: \n",
    "    - We're only interested in Pokémon up to Generation III, which is up to (and including) number 386\n",
    "    - This means we're also not interested in mega evolutions so we can filter Pokémon whose name start with \"Mega\"\n",
    "- Some Pokémon have more than one Type. We aren't interested in Types for this challenge so remove this field and ensure we have one row per Pokémon \n",
    "- Now we want to bring in information about what our Pokémon evolve to \n",
    "    - Warning!  In our Evolution dataset, we still have Pokémon beyond Gen III. You'll need to filter these out too, from both the evolved from and evolved to fields \n",
    "- Bring in information about what a Pokémon evolves from \n",
    "    - Ensure that we have all 386 of our Pokémon, with nulls if they don't have a pre-evolved form or if they don't evolve\n",
    "- Finally, for Pokémon that have 3 evolutions, we want to know what the First Evolution is in their Evolution Group\n",
    "- Some duplication may have occurred with all our joins, ensure no 2 rows are exactly the same\n",
    "- Create a calculation for our Evolution Group\n",
    "    - The Evolution Group will be named after the First Evolution e.g. in the above example, Bulbasaur is the name of the Evolution Group\n",
    "- Output the data\n",
    "\n",
    "### Output\n",
    "![img3](https://1.bp.blogspot.com/-GXFwV1UpiX4/YCVijXraHSI/AAAAAAAAAvs/b9oxjFsWaucSvhHncE64YWynxWiBIe9tACLcBGAsYHQ/w640-h158/2021W%25600%2BOujt.png)"
   ]
  },
  {
   "cell_type": "code",
   "execution_count": 28,
   "id": "d553e145",
   "metadata": {},
   "outputs": [],
   "source": [
    "import pandas as pd\n",
    "import numpy as np\n",
    "import matplotlib.pyplot as plt\n",
    "import seaborn as sns"
   ]
  },
  {
   "cell_type": "markdown",
   "id": "a5d5b99f",
   "metadata": {},
   "source": [
    "### Input the data"
   ]
  },
  {
   "cell_type": "code",
   "execution_count": 29,
   "id": "e74366bf",
   "metadata": {},
   "outputs": [],
   "source": [
    "data = pd.read_excel(\"./data/Pokemon Input.xlsx\", sheet_name=[\"Pokemon\", \"Evolution\"], dtype=\"object\")"
   ]
  },
  {
   "cell_type": "code",
   "execution_count": 30,
   "id": "5b983d96",
   "metadata": {},
   "outputs": [],
   "source": [
    "pokemon = data[\"Pokemon\"].copy()\n",
    "evolution = data[\"Evolution\"].copy()"
   ]
  },
  {
   "cell_type": "markdown",
   "id": "3126a28a",
   "metadata": {},
   "source": [
    "### Our Pokémon dataset actually contains too many Pokémon:\n",
    " - We're only interested in Pokémon up to Generation III, which is up to (and including) number 386\n",
    " - This means we're also not interested in mega evolutions so we can filter Pokémon whose name start with \"Mega"
   ]
  },
  {
   "cell_type": "code",
   "execution_count": 31,
   "id": "db51e313",
   "metadata": {},
   "outputs": [
    {
     "data": {
      "text/plain": [
       "(570, 10)"
      ]
     },
     "execution_count": 31,
     "metadata": {},
     "output_type": "execute_result"
    }
   ],
   "source": [
    "pokemon = pokemon.rename(columns={\"#\": \"Number\"})\n",
    "pokemon.Number = pokemon.Number.astype(float).astype(int)\n",
    "pokemon = pokemon.sort_values(by=\"Number\")\n",
    "pokemon = pokemon.loc[(pokemon[\"Number\"] <= 386)]\n",
    "\n",
    "mega = pokemon[\"Name\"].map(lambda x: x.startswith(\"Mega\"))\n",
    "pokemon = pokemon.loc[~mega, :]\n",
    "pokemon.shape"
   ]
  },
  {
   "cell_type": "markdown",
   "id": "bdf3a0cd",
   "metadata": {},
   "source": [
    "### Some Pokémon have more than one Type. We aren't interested in Types for this challenge so remove this field and ensure we have one row per Pokémon"
   ]
  },
  {
   "cell_type": "code",
   "execution_count": 32,
   "id": "07dac6ee",
   "metadata": {},
   "outputs": [
    {
     "data": {
      "text/plain": [
       "(385, 10)"
      ]
     },
     "execution_count": 32,
     "metadata": {},
     "output_type": "execute_result"
    }
   ],
   "source": [
    "pokemon = pokemon.drop_duplicates(subset=[\"Number\"])\n",
    "pokemon.shape"
   ]
  },
  {
   "cell_type": "markdown",
   "id": "1be4d5c4",
   "metadata": {},
   "source": [
    "### Now we want to bring in information about what our Pokémon evolve to\n",
    "- Warning!  In our Evolution dataset, we still have Pokémon beyond Gen III. \n",
    "- You'll need to filter these out too, from both the evolved from and evolved to fields"
   ]
  },
  {
   "cell_type": "code",
   "execution_count": 33,
   "id": "6d38cc22",
   "metadata": {},
   "outputs": [
    {
     "data": {
      "text/html": [
       "<div>\n",
       "<style scoped>\n",
       "    .dataframe tbody tr th:only-of-type {\n",
       "        vertical-align: middle;\n",
       "    }\n",
       "\n",
       "    .dataframe tbody tr th {\n",
       "        vertical-align: top;\n",
       "    }\n",
       "\n",
       "    .dataframe thead th {\n",
       "        text-align: right;\n",
       "    }\n",
       "</style>\n",
       "<table border=\"1\" class=\"dataframe\">\n",
       "  <thead>\n",
       "    <tr style=\"text-align: right;\">\n",
       "      <th></th>\n",
       "      <th>Evolving from</th>\n",
       "      <th>Evolving to</th>\n",
       "      <th>Level</th>\n",
       "      <th>Condition</th>\n",
       "      <th>Evolution Type</th>\n",
       "    </tr>\n",
       "  </thead>\n",
       "  <tbody>\n",
       "    <tr>\n",
       "      <th>0</th>\n",
       "      <td>Bulbasaur</td>\n",
       "      <td>Ivysaur</td>\n",
       "      <td>16</td>\n",
       "      <td>NaN</td>\n",
       "      <td>Level</td>\n",
       "    </tr>\n",
       "    <tr>\n",
       "      <th>1</th>\n",
       "      <td>Ivysaur</td>\n",
       "      <td>Venusaur</td>\n",
       "      <td>32</td>\n",
       "      <td>NaN</td>\n",
       "      <td>Level</td>\n",
       "    </tr>\n",
       "    <tr>\n",
       "      <th>2</th>\n",
       "      <td>Charmander</td>\n",
       "      <td>Charmeleon</td>\n",
       "      <td>16</td>\n",
       "      <td>NaN</td>\n",
       "      <td>Level</td>\n",
       "    </tr>\n",
       "    <tr>\n",
       "      <th>3</th>\n",
       "      <td>Charmeleon</td>\n",
       "      <td>Charizard</td>\n",
       "      <td>36</td>\n",
       "      <td>NaN</td>\n",
       "      <td>Level</td>\n",
       "    </tr>\n",
       "    <tr>\n",
       "      <th>4</th>\n",
       "      <td>Squirtle</td>\n",
       "      <td>Wartortle</td>\n",
       "      <td>16</td>\n",
       "      <td>NaN</td>\n",
       "      <td>Level</td>\n",
       "    </tr>\n",
       "  </tbody>\n",
       "</table>\n",
       "</div>"
      ],
      "text/plain": [
       "  Evolving from Evolving to Level Condition Evolution Type\n",
       "0     Bulbasaur     Ivysaur    16       NaN          Level\n",
       "1       Ivysaur    Venusaur    32       NaN          Level\n",
       "2    Charmander  Charmeleon    16       NaN          Level\n",
       "3    Charmeleon   Charizard    36       NaN          Level\n",
       "4      Squirtle   Wartortle    16       NaN          Level"
      ]
     },
     "execution_count": 33,
     "metadata": {},
     "output_type": "execute_result"
    }
   ],
   "source": [
    "evolution = evolution.loc[(evolution[\"Evolving from\"].isin(pokemon[\"Name\"])) | \n",
    "                          (evolution[\"Evolving to\"].isin(pokemon[\"Name\"]))]\n",
    "evolution = evolution.drop_duplicates()\n",
    "evolution.head()"
   ]
  },
  {
   "cell_type": "markdown",
   "id": "ab2213f5",
   "metadata": {},
   "source": [
    "### Bring in information about what a Pokémon evolves from\n",
    "- Ensure that we have all 386 of our Pokémon, with nulls if they don't have a pre-evolved form or if they don't evolve"
   ]
  },
  {
   "cell_type": "code",
   "execution_count": 34,
   "id": "86c69d84",
   "metadata": {},
   "outputs": [
    {
     "data": {
      "text/plain": [
       "(398, 15)"
      ]
     },
     "execution_count": 34,
     "metadata": {},
     "output_type": "execute_result"
    }
   ],
   "source": [
    "pokemon = pokemon.merge(evolution, how=\"left\", left_on=\"Name\", right_on=\"Evolving from\")\n",
    "pokemon.shape"
   ]
  },
  {
   "cell_type": "markdown",
   "id": "8465c3eb",
   "metadata": {
    "scrolled": false
   },
   "source": [
    "### Finally, for Pokémon that have 3 evolutions, we want to know what the First Evolution is in their Evolution Group\n",
    "- Some duplication may have occurred with all our joins, ensure no 2 rows are exactly the same\n"
   ]
  },
  {
   "cell_type": "code",
   "execution_count": 35,
   "id": "13c20928",
   "metadata": {},
   "outputs": [
    {
     "data": {
      "text/plain": [
       "(398, 15)"
      ]
     },
     "execution_count": 35,
     "metadata": {},
     "output_type": "execute_result"
    }
   ],
   "source": [
    "pokemon = pokemon.drop_duplicates()\n",
    "pokemon.shape"
   ]
  },
  {
   "cell_type": "markdown",
   "id": "fbbf8b94",
   "metadata": {},
   "source": [
    "### Create a calculation for our Evolution Group\n",
    "- The Evolution Group will be named after the First Evolution e.g. in the above example, Bulbasaur is the name of the Evolution Group"
   ]
  },
  {
   "cell_type": "code",
   "execution_count": 36,
   "id": "6c7bd2bc",
   "metadata": {},
   "outputs": [
    {
     "data": {
      "text/html": [
       "<div>\n",
       "<style scoped>\n",
       "    .dataframe tbody tr th:only-of-type {\n",
       "        vertical-align: middle;\n",
       "    }\n",
       "\n",
       "    .dataframe tbody tr th {\n",
       "        vertical-align: top;\n",
       "    }\n",
       "\n",
       "    .dataframe thead th {\n",
       "        text-align: right;\n",
       "    }\n",
       "</style>\n",
       "<table border=\"1\" class=\"dataframe\">\n",
       "  <thead>\n",
       "    <tr style=\"text-align: right;\">\n",
       "      <th></th>\n",
       "      <th>Number</th>\n",
       "      <th>Name</th>\n",
       "      <th>Type</th>\n",
       "      <th>Total</th>\n",
       "      <th>HP</th>\n",
       "      <th>Attack</th>\n",
       "      <th>Defense</th>\n",
       "      <th>Special Attack</th>\n",
       "      <th>Special Defense</th>\n",
       "      <th>Speed</th>\n",
       "      <th>Evolving from</th>\n",
       "      <th>Evolving to</th>\n",
       "      <th>Level</th>\n",
       "      <th>Condition</th>\n",
       "      <th>Evolution Type</th>\n",
       "      <th>Evolution Group</th>\n",
       "    </tr>\n",
       "  </thead>\n",
       "  <tbody>\n",
       "    <tr>\n",
       "      <th>0</th>\n",
       "      <td>1</td>\n",
       "      <td>Bulbasaur</td>\n",
       "      <td>GRASS</td>\n",
       "      <td>318</td>\n",
       "      <td>45</td>\n",
       "      <td>49</td>\n",
       "      <td>49</td>\n",
       "      <td>65</td>\n",
       "      <td>65</td>\n",
       "      <td>45</td>\n",
       "      <td>Bulbasaur</td>\n",
       "      <td>Ivysaur</td>\n",
       "      <td>16</td>\n",
       "      <td>NaN</td>\n",
       "      <td>Level</td>\n",
       "      <td>Bulbasaur</td>\n",
       "    </tr>\n",
       "    <tr>\n",
       "      <th>1</th>\n",
       "      <td>2</td>\n",
       "      <td>Ivysaur</td>\n",
       "      <td>GRASS</td>\n",
       "      <td>405</td>\n",
       "      <td>60</td>\n",
       "      <td>62</td>\n",
       "      <td>63</td>\n",
       "      <td>80</td>\n",
       "      <td>80</td>\n",
       "      <td>60</td>\n",
       "      <td>Ivysaur</td>\n",
       "      <td>Venusaur</td>\n",
       "      <td>32</td>\n",
       "      <td>NaN</td>\n",
       "      <td>Level</td>\n",
       "      <td>Bulbasaur</td>\n",
       "    </tr>\n",
       "    <tr>\n",
       "      <th>2</th>\n",
       "      <td>3</td>\n",
       "      <td>Venusaur</td>\n",
       "      <td>GRASS</td>\n",
       "      <td>525</td>\n",
       "      <td>80</td>\n",
       "      <td>82</td>\n",
       "      <td>83</td>\n",
       "      <td>100</td>\n",
       "      <td>100</td>\n",
       "      <td>80</td>\n",
       "      <td>NaN</td>\n",
       "      <td>NaN</td>\n",
       "      <td>NaN</td>\n",
       "      <td>NaN</td>\n",
       "      <td>NaN</td>\n",
       "      <td>Bulbasaur</td>\n",
       "    </tr>\n",
       "    <tr>\n",
       "      <th>3</th>\n",
       "      <td>4</td>\n",
       "      <td>Charmander</td>\n",
       "      <td>FIRE</td>\n",
       "      <td>309</td>\n",
       "      <td>39</td>\n",
       "      <td>52</td>\n",
       "      <td>43</td>\n",
       "      <td>60</td>\n",
       "      <td>50</td>\n",
       "      <td>65</td>\n",
       "      <td>Charmander</td>\n",
       "      <td>Charmeleon</td>\n",
       "      <td>16</td>\n",
       "      <td>NaN</td>\n",
       "      <td>Level</td>\n",
       "      <td>Charmander</td>\n",
       "    </tr>\n",
       "    <tr>\n",
       "      <th>4</th>\n",
       "      <td>5</td>\n",
       "      <td>Charmeleon</td>\n",
       "      <td>FIRE</td>\n",
       "      <td>405</td>\n",
       "      <td>58</td>\n",
       "      <td>64</td>\n",
       "      <td>58</td>\n",
       "      <td>80</td>\n",
       "      <td>65</td>\n",
       "      <td>80</td>\n",
       "      <td>Charmeleon</td>\n",
       "      <td>Charizard</td>\n",
       "      <td>36</td>\n",
       "      <td>NaN</td>\n",
       "      <td>Level</td>\n",
       "      <td>Charmander</td>\n",
       "    </tr>\n",
       "  </tbody>\n",
       "</table>\n",
       "</div>"
      ],
      "text/plain": [
       "   Number        Name   Type Total  HP Attack Defense Special Attack  \\\n",
       "0       1   Bulbasaur  GRASS   318  45     49      49             65   \n",
       "1       2     Ivysaur  GRASS   405  60     62      63             80   \n",
       "2       3    Venusaur  GRASS   525  80     82      83            100   \n",
       "3       4  Charmander   FIRE   309  39     52      43             60   \n",
       "4       5  Charmeleon   FIRE   405  58     64      58             80   \n",
       "\n",
       "  Special Defense Speed Evolving from Evolving to Level Condition  \\\n",
       "0              65    45     Bulbasaur     Ivysaur    16       NaN   \n",
       "1              80    60       Ivysaur    Venusaur    32       NaN   \n",
       "2             100    80           NaN         NaN   NaN       NaN   \n",
       "3              50    65    Charmander  Charmeleon    16       NaN   \n",
       "4              65    80    Charmeleon   Charizard    36       NaN   \n",
       "\n",
       "  Evolution Type Evolution Group  \n",
       "0          Level       Bulbasaur  \n",
       "1          Level       Bulbasaur  \n",
       "2            NaN       Bulbasaur  \n",
       "3          Level      Charmander  \n",
       "4          Level      Charmander  "
      ]
     },
     "execution_count": 36,
     "metadata": {},
     "output_type": "execute_result"
    }
   ],
   "source": [
    "# Evolving group calculation (compare 3 rows in if statement)\n",
    "pokemon[\"Evolution Group\"] = pokemon[\"Name\"]\n",
    "\n",
    "for i in range(len(pokemon) - 2):\n",
    "    if pokemon.loc[i, \"Evolving to\"] == pokemon.loc[i+1, \"Name\"] and pokemon.loc[i+1, \"Evolving to\"] == pokemon.loc[i+2, \"Name\"] :\n",
    "        pokemon.loc[[i, i+1, i+2], \"Evolution Group\"] = pokemon.loc[i, \"Name\"]\n",
    "    else:\n",
    "        pass\n",
    "\n",
    "pokemon.head()"
   ]
  },
  {
   "cell_type": "code",
   "execution_count": 37,
   "id": "6b12fc7b",
   "metadata": {},
   "outputs": [
    {
     "data": {
      "text/html": [
       "<div>\n",
       "<style scoped>\n",
       "    .dataframe tbody tr th:only-of-type {\n",
       "        vertical-align: middle;\n",
       "    }\n",
       "\n",
       "    .dataframe tbody tr th {\n",
       "        vertical-align: top;\n",
       "    }\n",
       "\n",
       "    .dataframe thead th {\n",
       "        text-align: right;\n",
       "    }\n",
       "</style>\n",
       "<table border=\"1\" class=\"dataframe\">\n",
       "  <thead>\n",
       "    <tr style=\"text-align: right;\">\n",
       "      <th></th>\n",
       "      <th>Evolution Group</th>\n",
       "      <th>Number</th>\n",
       "      <th>Name</th>\n",
       "      <th>Total</th>\n",
       "      <th>HP</th>\n",
       "      <th>Attack</th>\n",
       "      <th>Defense</th>\n",
       "      <th>Special Attack</th>\n",
       "      <th>Special Defense</th>\n",
       "      <th>Speed</th>\n",
       "      <th>Evolving from</th>\n",
       "      <th>Evolving to</th>\n",
       "      <th>Level</th>\n",
       "      <th>Condition</th>\n",
       "      <th>Evolution Type</th>\n",
       "    </tr>\n",
       "  </thead>\n",
       "  <tbody>\n",
       "    <tr>\n",
       "      <th>0</th>\n",
       "      <td>Bulbasaur</td>\n",
       "      <td>1</td>\n",
       "      <td>Bulbasaur</td>\n",
       "      <td>318</td>\n",
       "      <td>45</td>\n",
       "      <td>49</td>\n",
       "      <td>49</td>\n",
       "      <td>65</td>\n",
       "      <td>65</td>\n",
       "      <td>45</td>\n",
       "      <td>Bulbasaur</td>\n",
       "      <td>Ivysaur</td>\n",
       "      <td>16</td>\n",
       "      <td>NaN</td>\n",
       "      <td>Level</td>\n",
       "    </tr>\n",
       "    <tr>\n",
       "      <th>1</th>\n",
       "      <td>Bulbasaur</td>\n",
       "      <td>2</td>\n",
       "      <td>Ivysaur</td>\n",
       "      <td>405</td>\n",
       "      <td>60</td>\n",
       "      <td>62</td>\n",
       "      <td>63</td>\n",
       "      <td>80</td>\n",
       "      <td>80</td>\n",
       "      <td>60</td>\n",
       "      <td>Ivysaur</td>\n",
       "      <td>Venusaur</td>\n",
       "      <td>32</td>\n",
       "      <td>NaN</td>\n",
       "      <td>Level</td>\n",
       "    </tr>\n",
       "    <tr>\n",
       "      <th>2</th>\n",
       "      <td>Bulbasaur</td>\n",
       "      <td>3</td>\n",
       "      <td>Venusaur</td>\n",
       "      <td>525</td>\n",
       "      <td>80</td>\n",
       "      <td>82</td>\n",
       "      <td>83</td>\n",
       "      <td>100</td>\n",
       "      <td>100</td>\n",
       "      <td>80</td>\n",
       "      <td>NaN</td>\n",
       "      <td>NaN</td>\n",
       "      <td>NaN</td>\n",
       "      <td>NaN</td>\n",
       "      <td>NaN</td>\n",
       "    </tr>\n",
       "    <tr>\n",
       "      <th>3</th>\n",
       "      <td>Charmander</td>\n",
       "      <td>4</td>\n",
       "      <td>Charmander</td>\n",
       "      <td>309</td>\n",
       "      <td>39</td>\n",
       "      <td>52</td>\n",
       "      <td>43</td>\n",
       "      <td>60</td>\n",
       "      <td>50</td>\n",
       "      <td>65</td>\n",
       "      <td>Charmander</td>\n",
       "      <td>Charmeleon</td>\n",
       "      <td>16</td>\n",
       "      <td>NaN</td>\n",
       "      <td>Level</td>\n",
       "    </tr>\n",
       "    <tr>\n",
       "      <th>4</th>\n",
       "      <td>Charmander</td>\n",
       "      <td>5</td>\n",
       "      <td>Charmeleon</td>\n",
       "      <td>405</td>\n",
       "      <td>58</td>\n",
       "      <td>64</td>\n",
       "      <td>58</td>\n",
       "      <td>80</td>\n",
       "      <td>65</td>\n",
       "      <td>80</td>\n",
       "      <td>Charmeleon</td>\n",
       "      <td>Charizard</td>\n",
       "      <td>36</td>\n",
       "      <td>NaN</td>\n",
       "      <td>Level</td>\n",
       "    </tr>\n",
       "  </tbody>\n",
       "</table>\n",
       "</div>"
      ],
      "text/plain": [
       "  Evolution Group  Number        Name Total  HP Attack Defense Special Attack  \\\n",
       "0       Bulbasaur       1   Bulbasaur   318  45     49      49             65   \n",
       "1       Bulbasaur       2     Ivysaur   405  60     62      63             80   \n",
       "2       Bulbasaur       3    Venusaur   525  80     82      83            100   \n",
       "3      Charmander       4  Charmander   309  39     52      43             60   \n",
       "4      Charmander       5  Charmeleon   405  58     64      58             80   \n",
       "\n",
       "  Special Defense Speed Evolving from Evolving to Level Condition  \\\n",
       "0              65    45     Bulbasaur     Ivysaur    16       NaN   \n",
       "1              80    60       Ivysaur    Venusaur    32       NaN   \n",
       "2             100    80           NaN         NaN   NaN       NaN   \n",
       "3              50    65    Charmander  Charmeleon    16       NaN   \n",
       "4              65    80    Charmeleon   Charizard    36       NaN   \n",
       "\n",
       "  Evolution Type  \n",
       "0          Level  \n",
       "1          Level  \n",
       "2            NaN  \n",
       "3          Level  \n",
       "4          Level  "
      ]
     },
     "execution_count": 37,
     "metadata": {},
     "output_type": "execute_result"
    }
   ],
   "source": [
    "pokemon = pokemon.loc[:, [\"Evolution Group\", \"Number\", \"Name\", \"Total\", \"HP\", \"Attack\", \"Defense\", \"Special Attack\",\n",
    "                          \"Special Defense\", \"Speed\", \"Evolving from\", \"Evolving to\", \"Level\", \"Condition\", \"Evolution Type\"]]\n",
    "pokemon.head()"
   ]
  },
  {
   "cell_type": "code",
   "execution_count": 38,
   "id": "019b2ccb",
   "metadata": {},
   "outputs": [],
   "source": [
    "pokemon.to_csv(\"./output/Week10_output.csv\")"
   ]
  }
 ],
 "metadata": {
  "kernelspec": {
   "display_name": "Python 3 (ipykernel)",
   "language": "python",
   "name": "python3"
  },
  "language_info": {
   "codemirror_mode": {
    "name": "ipython",
    "version": 3
   },
   "file_extension": ".py",
   "mimetype": "text/x-python",
   "name": "python",
   "nbconvert_exporter": "python",
   "pygments_lexer": "ipython3",
   "version": "3.7.2"
  }
 },
 "nbformat": 4,
 "nbformat_minor": 5
}
