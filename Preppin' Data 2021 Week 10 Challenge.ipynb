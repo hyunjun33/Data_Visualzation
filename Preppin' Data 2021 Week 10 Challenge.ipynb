{
 "cells": [
  {
   "cell_type": "markdown",
   "id": "58916a78",
   "metadata": {},
   "source": [
    "## 2021: Week 10 - Pokémon Hierarchies\n",
    "\n",
    "I can hear the hesitancy already surrounding this challenge. \"I know nothing about Pokémon, how can I participate?\" Well, rest assured, you don't need to understand the data in order to work with it and complete this challenge. In fact, I believe this challenge could help with most hierarchical data. \n",
    "\n",
    "The aim of this challenge is to group Pokémon into Evolution Groups. Why? So that when we select any Pokémon, we can see all the information about what they evolved from, what they will evolve to etc. In the example below, Bulbasaur evolves into Ivysaur, who then evolves into Venusaur. Choose another Pokémon like Flareon and we can see it evolves from Eevee, who has multiple evolution possibilities.\n",
    "\n",
    "How is this applicable to other hierarchical data? Well imagine that a Pokémon that has a null in the Evolves From field is similar to an employee at Work Level 1 in an organisation. Their manager would then sit in the Evolves To field. Our Evolution Group in this instance would be the Team the employee belongs to and it would give us the ability to type in any employee name and return information about which team they belong to and the structure of that team.\n",
    "\n",
    "Sure, I could have chosen to design this challenge to be working with employees, but I believe it's useful to work with data outside of your comfort zone every now and then to prove to yourself that your prep skills are applicable no matter what the dataset. Plus it's just more fun to work with Pokémon!\n",
    "\n",
    "### Input\n",
    "We have 2 inputs this week:\n",
    "1. Pokemon\n",
    "![img](https://1.bp.blogspot.com/-6yOamFdTm1o/YCVAm0FbdtI/AAAAAAAAAvY/zQNLQy8hjAAiGj0Od3q1d1b27Mxnkml8ACLcBGAsYHQ/w400-h188/2021W10%2BInput1.png)\n",
    "\n",
    "2. Evolution\n",
    "![img2](https://1.bp.blogspot.com/-G9styqz2ZcI/YCVAaVD6E9I/AAAAAAAAAvU/O7pXXAZJsnQ3uXp2sgkSsUW8py1p6GieACLcBGAsYHQ/s320/2021W10%2BInput2.png)\n",
    "\n",
    "### Requirment\n",
    "\n",
    "- Input the data\n",
    "- Our Pokémon dataset actually contains too many Pokémon: \n",
    "    - We're only interested in Pokémon up to Generation III, which is up to (and including) number 386\n",
    "    - This means we're also not interested in mega evolutions so we can filter Pokémon whose name start with \"Mega\"\n",
    "- Some Pokémon have more than one Type. We aren't interested in Types for this challenge so remove this field and ensure we have one row per Pokémon \n",
    "- Now we want to bring in information about what our Pokémon evolve to \n",
    "    - Warning!  In our Evolution dataset, we still have Pokémon beyond Gen III. You'll need to filter these out too, from both the evolved from and evolved to fields \n",
    "- Bring in information about what a Pokémon evolves from \n",
    "    - Ensure that we have all 386 of our Pokémon, with nulls if they don't have a pre-evolved form or if they don't evolve\n",
    "- Finally, for Pokémon that have 3 evolutions, we want to know what the First Evolution is in their Evolution Group\n",
    "- Some duplication may have occurred with all our joins, ensure no 2 rows are exactly the same\n",
    "- Create a calculation for our Evolution Group\n",
    "    - The Evolution Group will be named after the First Evolution e.g. in the above example, Bulbasaur is the name of the Evolution Group\n",
    "- Output the data\n",
    "\n",
    "### Output\n",
    "![img3](https://1.bp.blogspot.com/-GXFwV1UpiX4/YCVijXraHSI/AAAAAAAAAvs/b9oxjFsWaucSvhHncE64YWynxWiBIe9tACLcBGAsYHQ/w640-h158/2021W%25600%2BOujt.png)"
   ]
  },
  {
   "cell_type": "code",
   "execution_count": 2,
   "id": "d553e145",
   "metadata": {},
   "outputs": [],
   "source": [
    "import pandas as pd\n",
    "import numpy as np\n",
    "import matplotlib.pyplot as plt\n",
    "import seaborn as sns"
   ]
  },
  {
   "cell_type": "code",
   "execution_count": 7,
   "id": "e74366bf",
   "metadata": {},
   "outputs": [],
   "source": [
    "data = pd.read_excel(\"./data/Pokemon Input.xlsx\", sheet_name=[\"Pokemon\", \"Evolution\"], dtype=\"object\")"
   ]
  },
  {
   "cell_type": "code",
   "execution_count": 8,
   "id": "5b983d96",
   "metadata": {},
   "outputs": [],
   "source": [
    "pokemon = data[\"Pokemon\"].copy()\n",
    "evolution = data[\"Evolution\"].copy()"
   ]
  },
  {
   "cell_type": "code",
   "execution_count": 28,
   "id": "db51e313",
   "metadata": {},
   "outputs": [],
   "source": [
    "# Our Pokémon dataset actually contains too many Pokémon\n",
    "# We're only interested in Pokémon up to Generation III, which is up to (and including) number 386\n",
    "# This means we're also not interested in mega evolutions so we can filter Pokémon whose name start with \"Mega\"\n",
    "pokemon = pokemon.rename(columns={\"#\": \"Number\"})\n",
    "pokemon.Number = pokemon.Number.astype(float).astype(int)\n",
    "pokemon = pokemon.sort_values(by=\"Number\")\n",
    "pokemon = pokemon.loc[(pokemon[\"Number\"] <= 386)]\n",
    "\n",
    "mega = pokemon[\"Name\"].map(lambda x: x.startswith(\"Mega\"))\n",
    "pokemon = pokemon.loc[~mega, :]\n",
    "pokemon"
   ]
  },
  {
   "cell_type": "code",
   "execution_count": 55,
   "id": "c4cfba28",
   "metadata": {},
   "outputs": [
    {
     "data": {
      "text/plain": [
       "2      Aerodactyl\n",
       "3          Aggron\n",
       "6         Altaria\n",
       "8         Anorith\n",
       "11        Ariados\n",
       "          ...    \n",
       "379        Wooper\n",
       "382          Xatu\n",
       "383         Yanma\n",
       "385        Zapdos\n",
       "387         Zubat\n",
       "Name: Name, Length: 182, dtype: object"
      ]
     },
     "execution_count": 55,
     "metadata": {},
     "output_type": "execute_result"
    }
   ],
   "source": [
    "# Some Pokémon have more than one Type. \n",
    "# We aren't interested in Types for this challenge so remove this field and ensure we have one row per Pokémon\n",
    "more_than_one_type = pokemon.groupby([\"Name\"])[\"Type\"].nunique() != 1\n",
    "more_than_one_type = more_than_one_type.reset_index()\n",
    "more_than_one_type = more_than_one_type.loc[more_than_one_type[\"Type\"] == True, \"Name\"]\n",
    "pokemon[\"\"]"
   ]
  },
  {
   "cell_type": "code",
   "execution_count": null,
   "id": "b963f9a4",
   "metadata": {},
   "outputs": [],
   "source": [
    "pokemon.loc[more_than_one_type]"
   ]
  },
  {
   "cell_type": "code",
   "execution_count": 39,
   "id": "70faf81c",
   "metadata": {},
   "outputs": [
    {
     "data": {
      "text/plain": [
       "0      False\n",
       "1      False\n",
       "2      False\n",
       "3      False\n",
       "4      False\n",
       "       ...  \n",
       "615    False\n",
       "616    False\n",
       "617    False\n",
       "618    False\n",
       "619    False\n",
       "Name: Name, Length: 620, dtype: bool"
      ]
     },
     "execution_count": 39,
     "metadata": {},
     "output_type": "execute_result"
    }
   ],
   "source": []
  },
  {
   "cell_type": "code",
   "execution_count": null,
   "id": "951f7fb6",
   "metadata": {},
   "outputs": [],
   "source": []
  }
 ],
 "metadata": {
  "kernelspec": {
   "display_name": "Python 3 (ipykernel)",
   "language": "python",
   "name": "python3"
  },
  "language_info": {
   "codemirror_mode": {
    "name": "ipython",
    "version": 3
   },
   "file_extension": ".py",
   "mimetype": "text/x-python",
   "name": "python",
   "nbconvert_exporter": "python",
   "pygments_lexer": "ipython3",
   "version": "3.7.2"
  }
 },
 "nbformat": 4,
 "nbformat_minor": 5
}
