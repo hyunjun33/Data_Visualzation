{
 "cells": [
  {
   "cell_type": "markdown",
   "id": "ca9462ac",
   "metadata": {},
   "source": [
    "## 2021: Week 30 - Lift Your Spirits\n",
    "\n",
    "Inspiration for Preppin' challenges can come from anywhere. I've recently moved into a block of flats and let me tell you, I spend a lot of time waiting for a lift (or elevator if you're across the pond). It got me pondering whether the lift is operating optimally. Is it better to stay on the floor that you drop passengers until the next time someone calls a lift, or should the lift return to the most common starting floor?\n",
    "\n",
    "### Input\n",
    "There is one input this week, detailing the time of each trip the lift takes, including which floor the passengers enter the lift and which floor the passengers leave the lift. \n",
    "\n",
    "![img](https://1.bp.blogspot.com/-D_G-q9Ae5k8/YO3bDCzspiI/AAAAAAAAA2I/lYKXw8bKQ1g3Dg8o2h0i1rOTNtRudAnbwCLcBGAsYHQ/s0/2021W29%2BInput.png)\n",
    "\n",
    "For simplicity, assume that the lift does not stop mid-journey to pick up new passengers, but completes its current trip before starting a new one.\n",
    "\n",
    "### Requirements\n",
    "- Input the data\n",
    "- Create a TripID field based on the time of day\n",
    "    - Assume all trips took place on 12th July 2021\n",
    "- Calculate how many floors the lift has to travel between trips\n",
    "    - The order of floors is B, G, 1, 2, 3, etc.\n",
    "- Calculate which floor the majority of trips begin at - call this the Default Position\n",
    "- If every trip began from the same floor, how many floors would the lift need to travel to begin each journey?\n",
    "    - e.g. if the default position of the lift were floor 2 and the trip was starting from the 4th floor, this would be 2 floors that the lift would need to travel\n",
    "- How does the average floors travelled between trips compare to the average travel from the default position?\n",
    "- Output the data\n",
    "\n",
    "### Output\n",
    "![img](https://1.bp.blogspot.com/-SENWuTcDDMk/YO3d9WmSZ-I/AAAAAAAAA2U/23jgflhHGZMquBdFqRdTO4Fggrrys1hmgCLcBGAsYHQ/w400-h40/2021W29%2BOutput.png)\n",
    "\n",
    "- 4 fields\n",
    "    - Default Position\n",
    "    - Avg travel from default position\n",
    "    - Avg travel between trips currently\n",
    "    - Difference\n",
    "- 1 row (2 rows including headers)"
   ]
  },
  {
   "cell_type": "code",
   "execution_count": 1,
   "id": "62f897ca",
   "metadata": {},
   "outputs": [],
   "source": [
    "import pandas as pd\n",
    "import numpy as np\n",
    "import matplotlib.pyplot as plt\n",
    "import seaborn as sns"
   ]
  },
  {
   "cell_type": "code",
   "execution_count": 3,
   "id": "86f3c512",
   "metadata": {},
   "outputs": [
    {
     "data": {
      "text/plain": [
       "(1978, 4)"
      ]
     },
     "execution_count": 3,
     "metadata": {},
     "output_type": "execute_result"
    }
   ],
   "source": [
    "df = pd.read_csv(\"./data/2021W30.csv\")\n",
    "df.shape"
   ]
  },
  {
   "cell_type": "code",
   "execution_count": 4,
   "id": "26c50fe2",
   "metadata": {},
   "outputs": [
    {
     "name": "stdout",
     "output_type": "stream",
     "text": [
      "<class 'pandas.core.frame.DataFrame'>\n",
      "RangeIndex: 1978 entries, 0 to 1977\n",
      "Data columns (total 4 columns):\n",
      " #   Column  Non-Null Count  Dtype \n",
      "---  ------  --------------  ----- \n",
      " 0   Hour    1978 non-null   int64 \n",
      " 1   Minute  1978 non-null   int64 \n",
      " 2   From    1978 non-null   object\n",
      " 3   To      1978 non-null   object\n",
      "dtypes: int64(2), object(2)\n",
      "memory usage: 61.9+ KB\n"
     ]
    }
   ],
   "source": [
    "df.info()"
   ]
  }
 ],
 "metadata": {
  "kernelspec": {
   "display_name": "Python 3 (ipykernel)",
   "language": "python",
   "name": "python3"
  },
  "language_info": {
   "codemirror_mode": {
    "name": "ipython",
    "version": 3
   },
   "file_extension": ".py",
   "mimetype": "text/x-python",
   "name": "python",
   "nbconvert_exporter": "python",
   "pygments_lexer": "ipython3",
   "version": "3.7.2"
  }
 },
 "nbformat": 4,
 "nbformat_minor": 5
}
