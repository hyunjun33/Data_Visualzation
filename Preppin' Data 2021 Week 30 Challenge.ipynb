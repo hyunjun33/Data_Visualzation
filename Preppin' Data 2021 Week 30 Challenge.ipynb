{
 "cells": [
  {
   "cell_type": "markdown",
   "id": "2a493cd6",
   "metadata": {},
   "source": [
    "## 2021: Week 30 - Lift Your Spirits\n",
    "\n",
    "Inspiration for Preppin' challenges can come from anywhere. I've recently moved into a block of flats and let me tell you, I spend a lot of time waiting for a lift (or elevator if you're across the pond). It got me pondering whether the lift is operating optimally. Is it better to stay on the floor that you drop passengers until the next time someone calls a lift, or should the lift return to the most common starting floor?\n",
    "\n",
    "### Input\n",
    "There is one input this week, detailing the time of each trip the lift takes, including which floor the passengers enter the lift and which floor the passengers leave the lift. \n",
    "\n",
    "![img](https://1.bp.blogspot.com/-D_G-q9Ae5k8/YO3bDCzspiI/AAAAAAAAA2I/lYKXw8bKQ1g3Dg8o2h0i1rOTNtRudAnbwCLcBGAsYHQ/s0/2021W29%2BInput.png)\n",
    "\n",
    "For simplicity, assume that the lift does not stop mid-journey to pick up new passengers, but completes its current trip before starting a new one.\n",
    "\n",
    "### Requirements\n",
    "- Input the data\n",
    "- Create a TripID field based on the time of day\n",
    "    - Assume all trips took place on 12th July 2021\n",
    "- Calculate how many floors the lift has to travel between trips\n",
    "    - The order of floors is B, G, 1, 2, 3, etc.\n",
    "- Calculate which floor the majority of trips begin at - call this the Default Position\n",
    "- If every trip began from the same floor, how many floors would the lift need to travel to begin each journey?\n",
    "    - e.g. if the default position of the lift were floor 2 and the trip was starting from the 4th floor, this would be 2 floors that the lift would need to travel\n",
    "- How does the average floors travelled between trips compare to the average travel from the default position?\n",
    "- Output the data\n",
    "\n",
    "### Output\n"
   ]
  },
  {
   "cell_type": "code",
   "execution_count": null,
   "id": "3c15f6c3",
   "metadata": {},
   "outputs": [],
   "source": []
  }
 ],
 "metadata": {
  "kernelspec": {
   "display_name": "Python 3 (ipykernel)",
   "language": "python",
   "name": "python3"
  },
  "language_info": {
   "codemirror_mode": {
    "name": "ipython",
    "version": 3
   },
   "file_extension": ".py",
   "mimetype": "text/x-python",
   "name": "python",
   "nbconvert_exporter": "python",
   "pygments_lexer": "ipython3",
   "version": "3.7.2"
  }
 },
 "nbformat": 4,
 "nbformat_minor": 5
}
