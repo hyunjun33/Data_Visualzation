{
 "cells": [
  {
   "cell_type": "markdown",
   "id": "45a2748e",
   "metadata": {},
   "source": [
    "## 2021: Week 30 - Lift Your Spirits\n",
    "\n",
    "Inspiration for Preppin' challenges can come from anywhere. I've recently moved into a block of flats and let me tell you, I spend a lot of time waiting for a lift (or elevator if you're across the pond). It got me pondering whether the lift is operating optimally. Is it better to stay on the floor that you drop passengers until the next time someone calls a lift, or should the lift return to the most common starting floor?\n",
    "\n",
    "### Input\n",
    "There is one input this week, detailing the time of each trip the lift takes, including which floor the passengers enter the lift and which floor the passengers leave the lift. \n",
    "\n",
    "![img](https://1.bp.blogspot.com/-D_G-q9Ae5k8/YO3bDCzspiI/AAAAAAAAA2I/lYKXw8bKQ1g3Dg8o2h0i1rOTNtRudAnbwCLcBGAsYHQ/s0/2021W29%2BInput.png)\n",
    "\n",
    "For simplicity, assume that the lift does not stop mid-journey to pick up new passengers, but completes its current trip before starting a new one.\n",
    "\n",
    "### Requirements\n",
    "- Input the data\n",
    "- Create a TripID field based on the time of day\n",
    "    - Assume all trips took place on 12th July 2021\n",
    "- Calculate how many floors the lift has to travel between trips\n",
    "    - The order of floors is B, G, 1, 2, 3, etc.\n",
    "- Calculate which floor the majority of trips begin at - call this the Default Position\n",
    "- If every trip began from the same floor, how many floors would the lift need to travel to begin each journey?\n",
    "    - e.g. if the default position of the lift were floor 2 and the trip was starting from the 4th floor, this would be 2 floors that the lift would need to travel\n",
    "- How does the average floors travelled between trips compare to the average travel from the default position?\n",
    "- Output the data\n",
    "\n",
    "### Output\n",
    "![img](https://1.bp.blogspot.com/-SENWuTcDDMk/YO3d9WmSZ-I/AAAAAAAAA2U/23jgflhHGZMquBdFqRdTO4Fggrrys1hmgCLcBGAsYHQ/w400-h40/2021W29%2BOutput.png)\n",
    "\n",
    "- 4 fields\n",
    "    - Default Position\n",
    "    - Avg travel from default position\n",
    "    - Avg travel between trips currently\n",
    "    - Difference\n",
    "- 1 row (2 rows including headers)"
   ]
  },
  {
   "cell_type": "code",
   "execution_count": 305,
   "id": "fbab2e5f",
   "metadata": {},
   "outputs": [],
   "source": [
    "import pandas as pd\n",
    "import numpy as np\n",
    "import matplotlib.pyplot as plt\n",
    "import seaborn as sns"
   ]
  },
  {
   "cell_type": "code",
   "execution_count": 306,
   "id": "e81890d2",
   "metadata": {},
   "outputs": [
    {
     "data": {
      "text/plain": [
       "(1978, 4)"
      ]
     },
     "execution_count": 306,
     "metadata": {},
     "output_type": "execute_result"
    }
   ],
   "source": [
    "# Input the data\n",
    "df = pd.read_csv(\"./data/2021W30.csv\")\n",
    "df.shape"
   ]
  },
  {
   "cell_type": "code",
   "execution_count": 307,
   "id": "d6f058a0",
   "metadata": {},
   "outputs": [
    {
     "name": "stdout",
     "output_type": "stream",
     "text": [
      "<class 'pandas.core.frame.DataFrame'>\n",
      "RangeIndex: 1978 entries, 0 to 1977\n",
      "Data columns (total 4 columns):\n",
      " #   Column  Non-Null Count  Dtype \n",
      "---  ------  --------------  ----- \n",
      " 0   Hour    1978 non-null   int64 \n",
      " 1   Minute  1978 non-null   int64 \n",
      " 2   From    1978 non-null   object\n",
      " 3   To      1978 non-null   object\n",
      "dtypes: int64(2), object(2)\n",
      "memory usage: 61.9+ KB\n"
     ]
    }
   ],
   "source": [
    "df.info()"
   ]
  },
  {
   "cell_type": "code",
   "execution_count": 308,
   "id": "fe24bbc1",
   "metadata": {},
   "outputs": [
    {
     "data": {
      "text/html": [
       "<div>\n",
       "<style scoped>\n",
       "    .dataframe tbody tr th:only-of-type {\n",
       "        vertical-align: middle;\n",
       "    }\n",
       "\n",
       "    .dataframe tbody tr th {\n",
       "        vertical-align: top;\n",
       "    }\n",
       "\n",
       "    .dataframe thead th {\n",
       "        text-align: right;\n",
       "    }\n",
       "</style>\n",
       "<table border=\"1\" class=\"dataframe\">\n",
       "  <thead>\n",
       "    <tr style=\"text-align: right;\">\n",
       "      <th></th>\n",
       "      <th>Hour</th>\n",
       "      <th>Minute</th>\n",
       "      <th>From</th>\n",
       "      <th>To</th>\n",
       "    </tr>\n",
       "  </thead>\n",
       "  <tbody>\n",
       "    <tr>\n",
       "      <th>0</th>\n",
       "      <td>0</td>\n",
       "      <td>1</td>\n",
       "      <td>G</td>\n",
       "      <td>8</td>\n",
       "    </tr>\n",
       "    <tr>\n",
       "      <th>1</th>\n",
       "      <td>0</td>\n",
       "      <td>2</td>\n",
       "      <td>4</td>\n",
       "      <td>G</td>\n",
       "    </tr>\n",
       "    <tr>\n",
       "      <th>2</th>\n",
       "      <td>0</td>\n",
       "      <td>2</td>\n",
       "      <td>11</td>\n",
       "      <td>G</td>\n",
       "    </tr>\n",
       "    <tr>\n",
       "      <th>3</th>\n",
       "      <td>0</td>\n",
       "      <td>3</td>\n",
       "      <td>B</td>\n",
       "      <td>G</td>\n",
       "    </tr>\n",
       "    <tr>\n",
       "      <th>4</th>\n",
       "      <td>0</td>\n",
       "      <td>4</td>\n",
       "      <td>1</td>\n",
       "      <td>G</td>\n",
       "    </tr>\n",
       "  </tbody>\n",
       "</table>\n",
       "</div>"
      ],
      "text/plain": [
       "   Hour  Minute From To\n",
       "0     0       1    G  8\n",
       "1     0       2    4  G\n",
       "2     0       2   11  G\n",
       "3     0       3    B  G\n",
       "4     0       4    1  G"
      ]
     },
     "execution_count": 308,
     "metadata": {},
     "output_type": "execute_result"
    }
   ],
   "source": [
    "df.head()"
   ]
  },
  {
   "cell_type": "code",
   "execution_count": 309,
   "id": "658902e6",
   "metadata": {},
   "outputs": [
    {
     "data": {
      "text/plain": [
       "Index(['Hour', 'Minute', 'From', 'To'], dtype='object')"
      ]
     },
     "execution_count": 309,
     "metadata": {},
     "output_type": "execute_result"
    }
   ],
   "source": [
    "df.columns"
   ]
  },
  {
   "cell_type": "markdown",
   "id": "569dda40",
   "metadata": {},
   "source": [
    "### Create a TripID field based on the time of day"
   ]
  },
  {
   "cell_type": "code",
   "execution_count": 310,
   "id": "a3ff5dde",
   "metadata": {},
   "outputs": [
    {
     "data": {
      "text/plain": [
       "Timestamp('2021-07-12 00:01:00')"
      ]
     },
     "execution_count": 310,
     "metadata": {},
     "output_type": "execute_result"
    }
   ],
   "source": [
    "pd.Timestamp(year=2021, month=7, day=12, hour=df.loc[0, \"Hour\"], minute=df.loc[0, \"Minute\"])"
   ]
  },
  {
   "cell_type": "code",
   "execution_count": 311,
   "id": "611ee220",
   "metadata": {},
   "outputs": [],
   "source": [
    "def create_tripID(hour, minute):\n",
    "    return pd.Timestamp(year=2021, month=7, day=12, hour=hour, minute=minute)\n",
    "\n",
    "df[\"TripID\"] = df.apply(lambda x: create_tripID(x[\"Hour\"], x[\"Minute\"]), axis=1)"
   ]
  },
  {
   "cell_type": "markdown",
   "id": "79ecd60f",
   "metadata": {},
   "source": [
    "### Calculate how many floors the lift has to travel between trips"
   ]
  },
  {
   "cell_type": "code",
   "execution_count": 312,
   "id": "056bca52",
   "metadata": {},
   "outputs": [],
   "source": [
    "df[\"From\"] = df[\"From\"].str.replace(\"G\", \"0\").str.replace(\"B\", \"-1\")\n",
    "df[\"To\"] = df[\"To\"].str.replace(\"G\", \"0\").str.replace(\"B\", \"-1\")"
   ]
  },
  {
   "cell_type": "code",
   "execution_count": 313,
   "id": "1b2d1045",
   "metadata": {},
   "outputs": [],
   "source": [
    "df[\"From\"] = df[\"From\"].astype(int)\n",
    "df[\"To\"] = df[\"To\"].astype(int)"
   ]
  },
  {
   "cell_type": "code",
   "execution_count": 314,
   "id": "bab14810",
   "metadata": {},
   "outputs": [],
   "source": [
    "# df = df.drop_duplicates(subset=[\"TripID\"], keep=\"last\")\n",
    "# df = df.reset_index(drop=True)"
   ]
  },
  {
   "cell_type": "code",
   "execution_count": 315,
   "id": "02997458",
   "metadata": {},
   "outputs": [
    {
     "data": {
      "text/html": [
       "<div>\n",
       "<style scoped>\n",
       "    .dataframe tbody tr th:only-of-type {\n",
       "        vertical-align: middle;\n",
       "    }\n",
       "\n",
       "    .dataframe tbody tr th {\n",
       "        vertical-align: top;\n",
       "    }\n",
       "\n",
       "    .dataframe thead th {\n",
       "        text-align: right;\n",
       "    }\n",
       "</style>\n",
       "<table border=\"1\" class=\"dataframe\">\n",
       "  <thead>\n",
       "    <tr style=\"text-align: right;\">\n",
       "      <th></th>\n",
       "      <th>Hour</th>\n",
       "      <th>Minute</th>\n",
       "      <th>From</th>\n",
       "      <th>To</th>\n",
       "      <th>TripID</th>\n",
       "      <th>Difference</th>\n",
       "    </tr>\n",
       "  </thead>\n",
       "  <tbody>\n",
       "    <tr>\n",
       "      <th>0</th>\n",
       "      <td>0</td>\n",
       "      <td>1</td>\n",
       "      <td>0</td>\n",
       "      <td>8</td>\n",
       "      <td>2021-07-12 00:01:00</td>\n",
       "      <td>4</td>\n",
       "    </tr>\n",
       "    <tr>\n",
       "      <th>1</th>\n",
       "      <td>0</td>\n",
       "      <td>2</td>\n",
       "      <td>4</td>\n",
       "      <td>0</td>\n",
       "      <td>2021-07-12 00:02:00</td>\n",
       "      <td>11</td>\n",
       "    </tr>\n",
       "    <tr>\n",
       "      <th>2</th>\n",
       "      <td>0</td>\n",
       "      <td>2</td>\n",
       "      <td>11</td>\n",
       "      <td>0</td>\n",
       "      <td>2021-07-12 00:02:00</td>\n",
       "      <td>1</td>\n",
       "    </tr>\n",
       "    <tr>\n",
       "      <th>3</th>\n",
       "      <td>0</td>\n",
       "      <td>3</td>\n",
       "      <td>-1</td>\n",
       "      <td>0</td>\n",
       "      <td>2021-07-12 00:03:00</td>\n",
       "      <td>1</td>\n",
       "    </tr>\n",
       "    <tr>\n",
       "      <th>4</th>\n",
       "      <td>0</td>\n",
       "      <td>4</td>\n",
       "      <td>1</td>\n",
       "      <td>0</td>\n",
       "      <td>2021-07-12 00:04:00</td>\n",
       "      <td>10</td>\n",
       "    </tr>\n",
       "  </tbody>\n",
       "</table>\n",
       "</div>"
      ],
      "text/plain": [
       "   Hour  Minute  From  To              TripID  Difference\n",
       "0     0       1     0   8 2021-07-12 00:01:00           4\n",
       "1     0       2     4   0 2021-07-12 00:02:00          11\n",
       "2     0       2    11   0 2021-07-12 00:02:00           1\n",
       "3     0       3    -1   0 2021-07-12 00:03:00           1\n",
       "4     0       4     1   0 2021-07-12 00:04:00          10"
      ]
     },
     "execution_count": 315,
     "metadata": {},
     "output_type": "execute_result"
    }
   ],
   "source": [
    "differences = []\n",
    "last_row = df[\"From\"].index[-1]\n",
    "for i in range(df[\"From\"].shape[0]):\n",
    "    if i == last_row:\n",
    "        differences.append(0)\n",
    "    else :\n",
    "        diff = abs(df.iloc[i, -2] - df.iloc[i+1, -3])\n",
    "        differences.append(diff)\n",
    "df[\"Difference\"] = differences\n",
    "df.head()"
   ]
  },
  {
   "cell_type": "markdown",
   "id": "6f283587",
   "metadata": {},
   "source": [
    "### Calculate which floor the majority of trips begin at - call this the Default Position"
   ]
  },
  {
   "cell_type": "code",
   "execution_count": 316,
   "id": "2131919f",
   "metadata": {},
   "outputs": [
    {
     "data": {
      "text/plain": [
       " 0     665\n",
       " 8     120\n",
       " 4     119\n",
       " 1     119\n",
       " 11    118\n",
       " 2     115\n",
       " 7     108\n",
       " 9     108\n",
       " 10    107\n",
       " 6     107\n",
       " 5     104\n",
       "-1     100\n",
       " 3      88\n",
       "Name: From, dtype: int64"
      ]
     },
     "execution_count": 316,
     "metadata": {},
     "output_type": "execute_result"
    }
   ],
   "source": [
    "df[\"From\"].value_counts() # 0 Floor -> \"G\" Floor"
   ]
  },
  {
   "cell_type": "code",
   "execution_count": 317,
   "id": "b8ba9107",
   "metadata": {},
   "outputs": [
    {
     "data": {
      "text/html": [
       "<div>\n",
       "<style scoped>\n",
       "    .dataframe tbody tr th:only-of-type {\n",
       "        vertical-align: middle;\n",
       "    }\n",
       "\n",
       "    .dataframe tbody tr th {\n",
       "        vertical-align: top;\n",
       "    }\n",
       "\n",
       "    .dataframe thead th {\n",
       "        text-align: right;\n",
       "    }\n",
       "</style>\n",
       "<table border=\"1\" class=\"dataframe\">\n",
       "  <thead>\n",
       "    <tr style=\"text-align: right;\">\n",
       "      <th></th>\n",
       "      <th>Hour</th>\n",
       "      <th>Minute</th>\n",
       "      <th>From</th>\n",
       "      <th>To</th>\n",
       "      <th>TripID</th>\n",
       "      <th>Difference</th>\n",
       "      <th>Default Position</th>\n",
       "    </tr>\n",
       "  </thead>\n",
       "  <tbody>\n",
       "    <tr>\n",
       "      <th>0</th>\n",
       "      <td>0</td>\n",
       "      <td>1</td>\n",
       "      <td>0</td>\n",
       "      <td>8</td>\n",
       "      <td>2021-07-12 00:01:00</td>\n",
       "      <td>4</td>\n",
       "      <td>G</td>\n",
       "    </tr>\n",
       "    <tr>\n",
       "      <th>1</th>\n",
       "      <td>0</td>\n",
       "      <td>2</td>\n",
       "      <td>4</td>\n",
       "      <td>0</td>\n",
       "      <td>2021-07-12 00:02:00</td>\n",
       "      <td>11</td>\n",
       "      <td>G</td>\n",
       "    </tr>\n",
       "    <tr>\n",
       "      <th>2</th>\n",
       "      <td>0</td>\n",
       "      <td>2</td>\n",
       "      <td>11</td>\n",
       "      <td>0</td>\n",
       "      <td>2021-07-12 00:02:00</td>\n",
       "      <td>1</td>\n",
       "      <td>G</td>\n",
       "    </tr>\n",
       "    <tr>\n",
       "      <th>3</th>\n",
       "      <td>0</td>\n",
       "      <td>3</td>\n",
       "      <td>-1</td>\n",
       "      <td>0</td>\n",
       "      <td>2021-07-12 00:03:00</td>\n",
       "      <td>1</td>\n",
       "      <td>G</td>\n",
       "    </tr>\n",
       "    <tr>\n",
       "      <th>4</th>\n",
       "      <td>0</td>\n",
       "      <td>4</td>\n",
       "      <td>1</td>\n",
       "      <td>0</td>\n",
       "      <td>2021-07-12 00:04:00</td>\n",
       "      <td>10</td>\n",
       "      <td>G</td>\n",
       "    </tr>\n",
       "    <tr>\n",
       "      <th>...</th>\n",
       "      <td>...</td>\n",
       "      <td>...</td>\n",
       "      <td>...</td>\n",
       "      <td>...</td>\n",
       "      <td>...</td>\n",
       "      <td>...</td>\n",
       "      <td>...</td>\n",
       "    </tr>\n",
       "    <tr>\n",
       "      <th>1973</th>\n",
       "      <td>23</td>\n",
       "      <td>56</td>\n",
       "      <td>9</td>\n",
       "      <td>0</td>\n",
       "      <td>2021-07-12 23:56:00</td>\n",
       "      <td>0</td>\n",
       "      <td>G</td>\n",
       "    </tr>\n",
       "    <tr>\n",
       "      <th>1974</th>\n",
       "      <td>23</td>\n",
       "      <td>56</td>\n",
       "      <td>0</td>\n",
       "      <td>1</td>\n",
       "      <td>2021-07-12 23:56:00</td>\n",
       "      <td>1</td>\n",
       "      <td>G</td>\n",
       "    </tr>\n",
       "    <tr>\n",
       "      <th>1975</th>\n",
       "      <td>23</td>\n",
       "      <td>58</td>\n",
       "      <td>2</td>\n",
       "      <td>7</td>\n",
       "      <td>2021-07-12 23:58:00</td>\n",
       "      <td>3</td>\n",
       "      <td>G</td>\n",
       "    </tr>\n",
       "    <tr>\n",
       "      <th>1976</th>\n",
       "      <td>23</td>\n",
       "      <td>58</td>\n",
       "      <td>4</td>\n",
       "      <td>0</td>\n",
       "      <td>2021-07-12 23:58:00</td>\n",
       "      <td>0</td>\n",
       "      <td>G</td>\n",
       "    </tr>\n",
       "    <tr>\n",
       "      <th>1977</th>\n",
       "      <td>23</td>\n",
       "      <td>59</td>\n",
       "      <td>0</td>\n",
       "      <td>5</td>\n",
       "      <td>2021-07-12 23:59:00</td>\n",
       "      <td>0</td>\n",
       "      <td>G</td>\n",
       "    </tr>\n",
       "  </tbody>\n",
       "</table>\n",
       "<p>1978 rows × 7 columns</p>\n",
       "</div>"
      ],
      "text/plain": [
       "      Hour  Minute  From  To              TripID  Difference Default Position\n",
       "0        0       1     0   8 2021-07-12 00:01:00           4                G\n",
       "1        0       2     4   0 2021-07-12 00:02:00          11                G\n",
       "2        0       2    11   0 2021-07-12 00:02:00           1                G\n",
       "3        0       3    -1   0 2021-07-12 00:03:00           1                G\n",
       "4        0       4     1   0 2021-07-12 00:04:00          10                G\n",
       "...    ...     ...   ...  ..                 ...         ...              ...\n",
       "1973    23      56     9   0 2021-07-12 23:56:00           0                G\n",
       "1974    23      56     0   1 2021-07-12 23:56:00           1                G\n",
       "1975    23      58     2   7 2021-07-12 23:58:00           3                G\n",
       "1976    23      58     4   0 2021-07-12 23:58:00           0                G\n",
       "1977    23      59     0   5 2021-07-12 23:59:00           0                G\n",
       "\n",
       "[1978 rows x 7 columns]"
      ]
     },
     "execution_count": 317,
     "metadata": {},
     "output_type": "execute_result"
    }
   ],
   "source": [
    "df.loc[:, \"Default Position\"] = \"G\"\n",
    "df"
   ]
  },
  {
   "cell_type": "markdown",
   "id": "83487b6f",
   "metadata": {},
   "source": [
    "### If every trip began from the same floor, how many floors would the lift need to travel to begin each journey?\n",
    "- e.g. if the default position of the lift were floor 2 and the trip was starting from the 4th floor, this would be 2 floors that the lift would need to travel"
   ]
  },
  {
   "cell_type": "code",
   "execution_count": 318,
   "id": "5fc87500",
   "metadata": {},
   "outputs": [
    {
     "data": {
      "text/plain": [
       "3.74469160768453"
      ]
     },
     "execution_count": 318,
     "metadata": {},
     "output_type": "execute_result"
    }
   ],
   "source": [
    "# Avg Travel from default position\n",
    "avg_travel_default = abs(df[\"From\"]).mean()\n",
    "avg_travel_default"
   ]
  },
  {
   "cell_type": "code",
   "execution_count": 319,
   "id": "b7d9c030",
   "metadata": {},
   "outputs": [
    {
     "data": {
      "text/plain": [
       "4.361981799797776"
      ]
     },
     "execution_count": 319,
     "metadata": {},
     "output_type": "execute_result"
    }
   ],
   "source": [
    "# Avg Travel between trip currently\n",
    "avg_travel_current = df[\"Difference\"].mean()\n",
    "avg_travel_current"
   ]
  },
  {
   "cell_type": "code",
   "execution_count": 320,
   "id": "7f1638e6",
   "metadata": {},
   "outputs": [
    {
     "data": {
      "text/html": [
       "<div>\n",
       "<style scoped>\n",
       "    .dataframe tbody tr th:only-of-type {\n",
       "        vertical-align: middle;\n",
       "    }\n",
       "\n",
       "    .dataframe tbody tr th {\n",
       "        vertical-align: top;\n",
       "    }\n",
       "\n",
       "    .dataframe thead th {\n",
       "        text-align: right;\n",
       "    }\n",
       "</style>\n",
       "<table border=\"1\" class=\"dataframe\">\n",
       "  <thead>\n",
       "    <tr style=\"text-align: right;\">\n",
       "      <th></th>\n",
       "      <th>Hour</th>\n",
       "      <th>Minute</th>\n",
       "      <th>From</th>\n",
       "      <th>To</th>\n",
       "      <th>TripID</th>\n",
       "      <th>Difference</th>\n",
       "      <th>Default Position</th>\n",
       "    </tr>\n",
       "  </thead>\n",
       "  <tbody>\n",
       "    <tr>\n",
       "      <th>1973</th>\n",
       "      <td>23</td>\n",
       "      <td>56</td>\n",
       "      <td>9</td>\n",
       "      <td>0</td>\n",
       "      <td>2021-07-12 23:56:00</td>\n",
       "      <td>0</td>\n",
       "      <td>G</td>\n",
       "    </tr>\n",
       "    <tr>\n",
       "      <th>1974</th>\n",
       "      <td>23</td>\n",
       "      <td>56</td>\n",
       "      <td>0</td>\n",
       "      <td>1</td>\n",
       "      <td>2021-07-12 23:56:00</td>\n",
       "      <td>1</td>\n",
       "      <td>G</td>\n",
       "    </tr>\n",
       "    <tr>\n",
       "      <th>1975</th>\n",
       "      <td>23</td>\n",
       "      <td>58</td>\n",
       "      <td>2</td>\n",
       "      <td>7</td>\n",
       "      <td>2021-07-12 23:58:00</td>\n",
       "      <td>3</td>\n",
       "      <td>G</td>\n",
       "    </tr>\n",
       "    <tr>\n",
       "      <th>1976</th>\n",
       "      <td>23</td>\n",
       "      <td>58</td>\n",
       "      <td>4</td>\n",
       "      <td>0</td>\n",
       "      <td>2021-07-12 23:58:00</td>\n",
       "      <td>0</td>\n",
       "      <td>G</td>\n",
       "    </tr>\n",
       "    <tr>\n",
       "      <th>1977</th>\n",
       "      <td>23</td>\n",
       "      <td>59</td>\n",
       "      <td>0</td>\n",
       "      <td>5</td>\n",
       "      <td>2021-07-12 23:59:00</td>\n",
       "      <td>0</td>\n",
       "      <td>G</td>\n",
       "    </tr>\n",
       "  </tbody>\n",
       "</table>\n",
       "</div>"
      ],
      "text/plain": [
       "      Hour  Minute  From  To              TripID  Difference Default Position\n",
       "1973    23      56     9   0 2021-07-12 23:56:00           0                G\n",
       "1974    23      56     0   1 2021-07-12 23:56:00           1                G\n",
       "1975    23      58     2   7 2021-07-12 23:58:00           3                G\n",
       "1976    23      58     4   0 2021-07-12 23:58:00           0                G\n",
       "1977    23      59     0   5 2021-07-12 23:59:00           0                G"
      ]
     },
     "execution_count": 320,
     "metadata": {},
     "output_type": "execute_result"
    }
   ],
   "source": [
    "df.tail()"
   ]
  },
  {
   "cell_type": "markdown",
   "id": "78979c48",
   "metadata": {},
   "source": [
    "### How does the average floors travelled between trips compare to the average travel from the default position?"
   ]
  },
  {
   "cell_type": "code",
   "execution_count": 321,
   "id": "bcff55a7",
   "metadata": {},
   "outputs": [
    {
     "data": {
      "text/plain": [
       "-0.6172901921132459"
      ]
     },
     "execution_count": 321,
     "metadata": {},
     "output_type": "execute_result"
    }
   ],
   "source": [
    "# Difference between default and current\n",
    "difference = avg_travel_default - avg_travel_current\n",
    "difference"
   ]
  },
  {
   "cell_type": "code",
   "execution_count": 322,
   "id": "bc442db9",
   "metadata": {},
   "outputs": [
    {
     "data": {
      "text/html": [
       "<div>\n",
       "<style scoped>\n",
       "    .dataframe tbody tr th:only-of-type {\n",
       "        vertical-align: middle;\n",
       "    }\n",
       "\n",
       "    .dataframe tbody tr th {\n",
       "        vertical-align: top;\n",
       "    }\n",
       "\n",
       "    .dataframe thead th {\n",
       "        text-align: right;\n",
       "    }\n",
       "</style>\n",
       "<table border=\"1\" class=\"dataframe\">\n",
       "  <thead>\n",
       "    <tr style=\"text-align: right;\">\n",
       "      <th></th>\n",
       "      <th>Default Position</th>\n",
       "      <th>Avg travel from default position</th>\n",
       "      <th>Avg Travel between trips currently</th>\n",
       "      <th>Difference</th>\n",
       "    </tr>\n",
       "  </thead>\n",
       "  <tbody>\n",
       "    <tr>\n",
       "      <th>0</th>\n",
       "      <td>G</td>\n",
       "      <td>3.744692</td>\n",
       "      <td>4.361982</td>\n",
       "      <td>-0.61729</td>\n",
       "    </tr>\n",
       "  </tbody>\n",
       "</table>\n",
       "</div>"
      ],
      "text/plain": [
       "  Default Position Avg travel from default position  \\\n",
       "0                G                         3.744692   \n",
       "\n",
       "  Avg Travel between trips currently Difference  \n",
       "0                           4.361982   -0.61729  "
      ]
     },
     "execution_count": 322,
     "metadata": {},
     "output_type": "execute_result"
    }
   ],
   "source": [
    "result = pd.DataFrame([\"G\", avg_travel_default, avg_travel_current, difference],).T\n",
    "result.columns = [\"Default Position\", \"Avg travel from default position\", \"Avg Travel between trips currently\",\n",
    "                  \"Difference\"]\n",
    "result"
   ]
  },
  {
   "cell_type": "markdown",
   "id": "31b8b72e",
   "metadata": {},
   "source": [
    "### Output the data"
   ]
  },
  {
   "cell_type": "code",
   "execution_count": 323,
   "id": "3df5c1ee",
   "metadata": {},
   "outputs": [],
   "source": [
    "result.to_csv(\"./output/Week30_output.csv\")"
   ]
  }
 ],
 "metadata": {
  "kernelspec": {
   "display_name": "Python 3 (ipykernel)",
   "language": "python",
   "name": "python3"
  },
  "language_info": {
   "codemirror_mode": {
    "name": "ipython",
    "version": 3
   },
   "file_extension": ".py",
   "mimetype": "text/x-python",
   "name": "python",
   "nbconvert_exporter": "python",
   "pygments_lexer": "ipython3",
   "version": "3.7.2"
  }
 },
 "nbformat": 4,
 "nbformat_minor": 5
}
