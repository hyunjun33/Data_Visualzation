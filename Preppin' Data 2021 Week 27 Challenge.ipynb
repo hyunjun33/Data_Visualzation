{
 "cells": [
  {
   "cell_type": "markdown",
   "id": "0736b594",
   "metadata": {},
   "source": [
    "## 2021: Week 27 NBA Draft Lottery calculator\n",
    "\n",
    "Every now and then at Preppin' HQ when we are not busy running Chin & Beard Suds Co or Prep Air, talking about Jenny's obsession with Pokemon, we cook up a fiendish challenge. Occasionally those challenges make it into the weekly challenge. This is one of those times. Good luck!\n",
    "\n",
    "### Challenge\n",
    "We want you to calculate the results of the NBA draft lottery for 2021 (yes the lottery actually happened on 22nd June but I only thought of the challenge on that day and Jenny had some Pokemon challenges already booked in). The flow should be able to re-run to recalculate the results as if the lottery is done again with each run. \n",
    "\n",
    "The lottery gives teams the chance to land the best picks in the NBA draft. The NBA draft is where teams take it in turns to allocate the best young international and college players. \n",
    "\n",
    "The lottery odds are based on where you finish the season. The team with the worst record of wins and loses gets the best chance to earn the first pick. Once that team is selected, they are no longer in the lottery for other picks. \n",
    "\n",
    "Only the first 4 draft picks are chosen in the lottery. After the first four selections are made, the remaining teams are allocated their draft picks based on what position they finished in the league (in worst to best order). \n",
    "\n",
    "### Input\n",
    "One file that contains three data sets.\n",
    "\n",
    "The lottery odds are one of the inputs for the challenge this week but I'll let you format them how you want to with your Prep tool. The values in the table are for each team to land each spot. \n",
    "\n",
    "For example, for the 1st pick (column 1), each of the first 3 seeds have an even 14% chance on winning the first pick. The 14th team only has a 0.5% chance of winning the first pick. \n",
    "\n",
    "For the 2nd pick (column 2), the 13 teams who haven't won the 1st pick are then eligible to win the 2nd pick. The column has the relevant % chance of winning the pick. \n",
    "\n",
    "By the 5th pick, if the 1st seed hasn't successfully gained any of the previous picks, they would receive the 5th pick so for this challenge you don't need to worry about the odds below the 4th pick. \n",
    "\n",
    "![img](https://1.bp.blogspot.com/-o2cnmk6lErU/YOMwKHS9tdI/AAAAAAAACN4/gBbujcBC0KY7ZXmJXR5wwyWJUBHjzXlfQCLcBGAsYHQ/w640-h396/Screenshot%2B2021-07-05%2Bat%2B17.15.22.png)\n",
    "\n",
    "I've also added an additional two inputs to help formulate your answer:\n",
    "A scaffold that runs from 1 to 1000\n",
    "\n",
    "![img](https://1.bp.blogspot.com/-_9n-R-0QHkY/YOMwb4-pCeI/AAAAAAAACOA/tD6V3AUjYxsulqhXkTvBCEZD-WWT9EvxwCLcBGAsYHQ/s320/Screenshot%2B2021-07-05%2Bat%2B17.16.19.png)\n",
    "\n",
    "A list of the seeds 1 to 14. Houston has the best odds of landing the best draft pick, Golden State the worst. \n",
    "\n",
    "![img](https://1.bp.blogspot.com/--BM405FoNd8/YOMwv5-oHGI/AAAAAAAACOI/o4nFLKDWSAUe0v3YP2MNmnsEXc8GrznvgCLcBGAsYHQ/s320/Screenshot%2B2021-07-05%2Bat%2B17.17.16.png)\n",
    "\n",
    "### Requirement\n",
    "This is a challenge where I'm intrigued to see what you create as much as whether you can meet the challenge. \n",
    "\n",
    "The overall objective is to:\n",
    "1. Create a workflow that will allocate the draft picks in a random manner based on the odds for each team\n",
    "    1. The random function in Tableau Prep is random() \n",
    "2. The workflow should allocate each of the first 4 picks based on the lottery odds and then allocate all teams that didn't receive a slot to the remaining places in order\n",
    "\n",
    "### Output\n",
    "Your results are likely to differ as your lottery calculator should produce a different order for the first 4 picks than mine. \n",
    "\n",
    "In my draft lottery, Oklahoma won the draft with my beloved San Antonio staying where they are:\n",
    "\n",
    "![img](https://1.bp.blogspot.com/-rqkdeLHhkSE/YOb_kwh1kGI/AAAAAAAACOY/LxiERm3GKi84BY1sp1PGedCrf5N-KGTuwCLcBGAsYHQ/s320/Screenshot%2B2021-07-08%2Bat%2B14.37.00.png)\n",
    "\n",
    "Share your draft results to see who's fans you would have made very happy!\n",
    "\n",
    "You should have 3 data fields:\n",
    "- Actual Pick\n",
    "- Original \n",
    "- Team\n",
    "\n",
    "14 rows of data (15 including headers)"
   ]
  },
  {
   "cell_type": "code",
   "execution_count": 1,
   "id": "0db63509",
   "metadata": {},
   "outputs": [],
   "source": [
    "import pandas as pd\n",
    "import numpy as np\n",
    "import matplotlib.pyplot as plt\n",
    "import seaborn as sns"
   ]
  },
  {
   "cell_type": "code",
   "execution_count": 3,
   "id": "c1be34d5",
   "metadata": {},
   "outputs": [],
   "source": [
    "data = pd.read_excel(\"./data/PD 2021 Wk 27 Input.xlsx\", sheet_name=[\"Seeding\", \"Scaffold\", \"Teams\"])\n",
    "seeding = data[\"Seeding\"].copy()\n",
    "teams = data[\"Teams\"].copy()"
   ]
  },
  {
   "cell_type": "code",
   "execution_count": null,
   "id": "5dfe411e",
   "metadata": {},
   "outputs": [],
   "source": []
  }
 ],
 "metadata": {
  "kernelspec": {
   "display_name": "Python 3 (ipykernel)",
   "language": "python",
   "name": "python3"
  },
  "language_info": {
   "codemirror_mode": {
    "name": "ipython",
    "version": 3
   },
   "file_extension": ".py",
   "mimetype": "text/x-python",
   "name": "python",
   "nbconvert_exporter": "python",
   "pygments_lexer": "ipython3",
   "version": "3.7.2"
  }
 },
 "nbformat": 4,
 "nbformat_minor": 5
}
