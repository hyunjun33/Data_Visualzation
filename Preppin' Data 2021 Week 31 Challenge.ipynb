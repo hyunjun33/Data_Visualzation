{
 "cells": [
  {
   "cell_type": "markdown",
   "id": "2f054f0d",
   "metadata": {},
   "source": [
    "## 2021: Week 31 Excelling in Prep\n",
    "\n",
    "When you are working with data in most organisations, you will frequently come across requests from Excel users using Excel terms. This week's challenge looks at term that is ubiquitous with Excel - a pivot table. \n",
    "\n",
    "Pivot tables are often contain summarised data values, have totals and filter out certain parts of the data set. The challenge this week will be to take an input and create a pivot table. Pivot tables are likely to be structured differently to most of our analytical outputs.\n",
    "\n",
    "### Input\n",
    "The weekly sales of Bike Components from Preppin's bike store Allchains is what we are analysing. The returns are where the product has been deemed faulty before it's sold. \n",
    "\n",
    "![img](https://1.bp.blogspot.com/-dk0JLWbsnSc/YQl4-TLNElI/AAAAAAAACO4/4Rpsr-zZ5HoSqyYShmxv0pgfUwb-fgguwCLcBGAsYHQ/w640-h262/Screenshot%2B2021-08-03%2Bat%2B18.11.28.png)\n",
    "\n",
    "### Requirement\n",
    "- Input data\n",
    "- Remove the 'Return to Manufacturer' records\n",
    "- Create a total for each Store of all the items sold (help)\n",
    "- Aggregate the data to Store sales by Item\n",
    "- Output the data\n",
    "\n",
    "### Output\n",
    "![img](https://1.bp.blogspot.com/-zAcqRtDPLE0/YQl8uhM-dUI/AAAAAAAACPA/Q5_ORFfX0pI6KNOr5q4qAPPadn30PtRpgCLcBGAsYHQ/w640-h108/Screenshot%2B2021-08-03%2Bat%2B18.28.07.png)\n",
    "\n",
    "6 columns:\n",
    "- Items sold per store\n",
    "- Wheels\n",
    "- Tyres\n",
    "- Saddles\n",
    "- Brakes\n",
    "- Store\n",
    "\n",
    "4 rows of data (5 rows including header)"
   ]
  },
  {
   "cell_type": "code",
   "execution_count": 1,
   "id": "1ae488ee",
   "metadata": {},
   "outputs": [],
   "source": [
    "import pandas as pd\n",
    "import numpy as np\n",
    "import matplotlib.pyplot as plt\n",
    "import seaborn as sns"
   ]
  },
  {
   "cell_type": "markdown",
   "id": "b4e654c0",
   "metadata": {},
   "source": [
    "### Input data"
   ]
  },
  {
   "cell_type": "code",
   "execution_count": 3,
   "id": "ab0a3d07",
   "metadata": {},
   "outputs": [
    {
     "name": "stdout",
     "output_type": "stream",
     "text": [
      "<class 'pandas.core.frame.DataFrame'>\n",
      "RangeIndex: 71 entries, 0 to 70\n",
      "Data columns (total 5 columns):\n",
      " #   Column           Non-Null Count  Dtype \n",
      "---  ------           --------------  ----- \n",
      " 0   Date             71 non-null     object\n",
      " 1   Store            71 non-null     object\n",
      " 2   Item             71 non-null     object\n",
      " 3   Status           71 non-null     object\n",
      " 4   Number of Items  71 non-null     int64 \n",
      "dtypes: int64(1), object(4)\n",
      "memory usage: 2.9+ KB\n"
     ]
    }
   ],
   "source": [
    "df = pd.read_csv(\"./data/PD 2021 Wk 31 Input.csv\")\n",
    "df.info()"
   ]
  },
  {
   "cell_type": "code",
   "execution_count": 4,
   "id": "3ed2e00f",
   "metadata": {},
   "outputs": [
    {
     "data": {
      "text/html": [
       "<div>\n",
       "<style scoped>\n",
       "    .dataframe tbody tr th:only-of-type {\n",
       "        vertical-align: middle;\n",
       "    }\n",
       "\n",
       "    .dataframe tbody tr th {\n",
       "        vertical-align: top;\n",
       "    }\n",
       "\n",
       "    .dataframe thead th {\n",
       "        text-align: right;\n",
       "    }\n",
       "</style>\n",
       "<table border=\"1\" class=\"dataframe\">\n",
       "  <thead>\n",
       "    <tr style=\"text-align: right;\">\n",
       "      <th></th>\n",
       "      <th>Date</th>\n",
       "      <th>Store</th>\n",
       "      <th>Item</th>\n",
       "      <th>Status</th>\n",
       "      <th>Number of Items</th>\n",
       "    </tr>\n",
       "  </thead>\n",
       "  <tbody>\n",
       "    <tr>\n",
       "      <th>0</th>\n",
       "      <td>05/07/2021</td>\n",
       "      <td>Bristol</td>\n",
       "      <td>Saddles</td>\n",
       "      <td>Sold</td>\n",
       "      <td>3</td>\n",
       "    </tr>\n",
       "    <tr>\n",
       "      <th>1</th>\n",
       "      <td>05/07/2021</td>\n",
       "      <td>York</td>\n",
       "      <td>Saddles</td>\n",
       "      <td>Sold</td>\n",
       "      <td>3</td>\n",
       "    </tr>\n",
       "    <tr>\n",
       "      <th>2</th>\n",
       "      <td>05/07/2021</td>\n",
       "      <td>Wimbledon</td>\n",
       "      <td>Saddles</td>\n",
       "      <td>Sold</td>\n",
       "      <td>1</td>\n",
       "    </tr>\n",
       "    <tr>\n",
       "      <th>3</th>\n",
       "      <td>05/07/2021</td>\n",
       "      <td>Wimbledon</td>\n",
       "      <td>Saddles</td>\n",
       "      <td>Return to Manufacturer</td>\n",
       "      <td>1</td>\n",
       "    </tr>\n",
       "    <tr>\n",
       "      <th>4</th>\n",
       "      <td>05/07/2021</td>\n",
       "      <td>Stratford</td>\n",
       "      <td>Saddles</td>\n",
       "      <td>Sold</td>\n",
       "      <td>2</td>\n",
       "    </tr>\n",
       "  </tbody>\n",
       "</table>\n",
       "</div>"
      ],
      "text/plain": [
       "         Date      Store     Item                  Status  Number of Items\n",
       "0  05/07/2021    Bristol  Saddles                    Sold                3\n",
       "1  05/07/2021       York  Saddles                    Sold                3\n",
       "2  05/07/2021  Wimbledon  Saddles                    Sold                1\n",
       "3  05/07/2021  Wimbledon  Saddles  Return to Manufacturer                1\n",
       "4  05/07/2021  Stratford  Saddles                    Sold                2"
      ]
     },
     "execution_count": 4,
     "metadata": {},
     "output_type": "execute_result"
    }
   ],
   "source": [
    "df.head()"
   ]
  },
  {
   "cell_type": "markdown",
   "id": "8688cf74",
   "metadata": {},
   "source": [
    "### Remove the 'Return to Manufacturer' records"
   ]
  },
  {
   "cell_type": "code",
   "execution_count": 8,
   "id": "ae18f961",
   "metadata": {},
   "outputs": [
    {
     "data": {
      "text/plain": [
       "(64, 5)"
      ]
     },
     "execution_count": 8,
     "metadata": {},
     "output_type": "execute_result"
    }
   ],
   "source": [
    "return_to_manufac_idx = df.loc[df[\"Status\"] == \"Return to Manufacturer\"].index\n",
    "df = df.drop(return_to_manufac_idx, axis=0)\n",
    "df.shape"
   ]
  },
  {
   "cell_type": "markdown",
   "id": "ab205d79",
   "metadata": {},
   "source": [
    "### Create a total for each Store of all the items sold"
   ]
  },
  {
   "cell_type": "code",
   "execution_count": 15,
   "id": "63abc06f",
   "metadata": {},
   "outputs": [
    {
     "data": {
      "text/html": [
       "<div>\n",
       "<style scoped>\n",
       "    .dataframe tbody tr th:only-of-type {\n",
       "        vertical-align: middle;\n",
       "    }\n",
       "\n",
       "    .dataframe tbody tr th {\n",
       "        vertical-align: top;\n",
       "    }\n",
       "\n",
       "    .dataframe thead th {\n",
       "        text-align: right;\n",
       "    }\n",
       "</style>\n",
       "<table border=\"1\" class=\"dataframe\">\n",
       "  <thead>\n",
       "    <tr style=\"text-align: right;\">\n",
       "      <th></th>\n",
       "      <th>Store</th>\n",
       "      <th>Items sold per store</th>\n",
       "    </tr>\n",
       "  </thead>\n",
       "  <tbody>\n",
       "    <tr>\n",
       "      <th>0</th>\n",
       "      <td>Bristol</td>\n",
       "      <td>30</td>\n",
       "    </tr>\n",
       "    <tr>\n",
       "      <th>1</th>\n",
       "      <td>Stratford</td>\n",
       "      <td>29</td>\n",
       "    </tr>\n",
       "    <tr>\n",
       "      <th>2</th>\n",
       "      <td>Wimbledon</td>\n",
       "      <td>30</td>\n",
       "    </tr>\n",
       "    <tr>\n",
       "      <th>3</th>\n",
       "      <td>York</td>\n",
       "      <td>28</td>\n",
       "    </tr>\n",
       "  </tbody>\n",
       "</table>\n",
       "</div>"
      ],
      "text/plain": [
       "       Store  Items sold per store\n",
       "0    Bristol                    30\n",
       "1  Stratford                    29\n",
       "2  Wimbledon                    30\n",
       "3       York                    28"
      ]
     },
     "execution_count": 15,
     "metadata": {},
     "output_type": "execute_result"
    }
   ],
   "source": [
    "pivot_table = df.pivot_table(index=\"Store\", values=\"Number of Items\", aggfunc=\"sum\")\n",
    "pivot_table = pivot_table.reset_index()\n",
    "pivot_table = pivot_table.rename(columns={\"Number of Items\": \"Items sold per store\"})\n",
    "pivot_table"
   ]
  },
  {
   "cell_type": "markdown",
   "id": "7adda28c",
   "metadata": {},
   "source": [
    "### Aggregate the data to Store sales by Item"
   ]
  },
  {
   "cell_type": "code",
   "execution_count": 30,
   "id": "af5df320",
   "metadata": {},
   "outputs": [
    {
     "data": {
      "text/html": [
       "<div>\n",
       "<style scoped>\n",
       "    .dataframe tbody tr th:only-of-type {\n",
       "        vertical-align: middle;\n",
       "    }\n",
       "\n",
       "    .dataframe tbody tr th {\n",
       "        vertical-align: top;\n",
       "    }\n",
       "\n",
       "    .dataframe thead th {\n",
       "        text-align: right;\n",
       "    }\n",
       "</style>\n",
       "<table border=\"1\" class=\"dataframe\">\n",
       "  <thead>\n",
       "    <tr style=\"text-align: right;\">\n",
       "      <th></th>\n",
       "      <th>Store</th>\n",
       "      <th>Brakes</th>\n",
       "      <th>Saddles</th>\n",
       "      <th>Tyres</th>\n",
       "      <th>Wheels</th>\n",
       "    </tr>\n",
       "  </thead>\n",
       "  <tbody>\n",
       "    <tr>\n",
       "      <th>0</th>\n",
       "      <td>Bristol</td>\n",
       "      <td>7</td>\n",
       "      <td>6</td>\n",
       "      <td>9</td>\n",
       "      <td>8</td>\n",
       "    </tr>\n",
       "    <tr>\n",
       "      <th>1</th>\n",
       "      <td>Stratford</td>\n",
       "      <td>10</td>\n",
       "      <td>8</td>\n",
       "      <td>6</td>\n",
       "      <td>5</td>\n",
       "    </tr>\n",
       "    <tr>\n",
       "      <th>2</th>\n",
       "      <td>Wimbledon</td>\n",
       "      <td>10</td>\n",
       "      <td>5</td>\n",
       "      <td>8</td>\n",
       "      <td>7</td>\n",
       "    </tr>\n",
       "    <tr>\n",
       "      <th>3</th>\n",
       "      <td>York</td>\n",
       "      <td>6</td>\n",
       "      <td>9</td>\n",
       "      <td>6</td>\n",
       "      <td>7</td>\n",
       "    </tr>\n",
       "  </tbody>\n",
       "</table>\n",
       "</div>"
      ],
      "text/plain": [
       "       Store  Brakes  Saddles  Tyres  Wheels\n",
       "0    Bristol       7        6      9       8\n",
       "1  Stratford      10        8      6       5\n",
       "2  Wimbledon      10        5      8       7\n",
       "3       York       6        9      6       7"
      ]
     },
     "execution_count": 30,
     "metadata": {},
     "output_type": "execute_result"
    }
   ],
   "source": [
    "grouped = df.groupby([\"Store\", \"Item\"])[\"Number of Items\"].sum().unstack()\n",
    "grouped.columns.name = None\n",
    "grouped = grouped.reset_index()\n",
    "grouped"
   ]
  },
  {
   "cell_type": "code",
   "execution_count": 33,
   "id": "67fdd425",
   "metadata": {},
   "outputs": [
    {
     "data": {
      "text/html": [
       "<div>\n",
       "<style scoped>\n",
       "    .dataframe tbody tr th:only-of-type {\n",
       "        vertical-align: middle;\n",
       "    }\n",
       "\n",
       "    .dataframe tbody tr th {\n",
       "        vertical-align: top;\n",
       "    }\n",
       "\n",
       "    .dataframe thead th {\n",
       "        text-align: right;\n",
       "    }\n",
       "</style>\n",
       "<table border=\"1\" class=\"dataframe\">\n",
       "  <thead>\n",
       "    <tr style=\"text-align: right;\">\n",
       "      <th></th>\n",
       "      <th>Items sold per store</th>\n",
       "      <th>Wheels</th>\n",
       "      <th>Tyres</th>\n",
       "      <th>Saddles</th>\n",
       "      <th>Brakes</th>\n",
       "      <th>Store</th>\n",
       "    </tr>\n",
       "  </thead>\n",
       "  <tbody>\n",
       "    <tr>\n",
       "      <th>0</th>\n",
       "      <td>30</td>\n",
       "      <td>8</td>\n",
       "      <td>9</td>\n",
       "      <td>6</td>\n",
       "      <td>7</td>\n",
       "      <td>Bristol</td>\n",
       "    </tr>\n",
       "    <tr>\n",
       "      <th>1</th>\n",
       "      <td>29</td>\n",
       "      <td>5</td>\n",
       "      <td>6</td>\n",
       "      <td>8</td>\n",
       "      <td>10</td>\n",
       "      <td>Stratford</td>\n",
       "    </tr>\n",
       "    <tr>\n",
       "      <th>2</th>\n",
       "      <td>30</td>\n",
       "      <td>7</td>\n",
       "      <td>8</td>\n",
       "      <td>5</td>\n",
       "      <td>10</td>\n",
       "      <td>Wimbledon</td>\n",
       "    </tr>\n",
       "    <tr>\n",
       "      <th>3</th>\n",
       "      <td>28</td>\n",
       "      <td>7</td>\n",
       "      <td>6</td>\n",
       "      <td>9</td>\n",
       "      <td>6</td>\n",
       "      <td>York</td>\n",
       "    </tr>\n",
       "  </tbody>\n",
       "</table>\n",
       "</div>"
      ],
      "text/plain": [
       "   Items sold per store  Wheels  Tyres  Saddles  Brakes      Store\n",
       "0                    30       8      9        6       7    Bristol\n",
       "1                    29       5      6        8      10  Stratford\n",
       "2                    30       7      8        5      10  Wimbledon\n",
       "3                    28       7      6        9       6       York"
      ]
     },
     "execution_count": 33,
     "metadata": {},
     "output_type": "execute_result"
    }
   ],
   "source": [
    "output = pivot_table.merge(grouped, how=\"inner\", on=\"Store\")\n",
    "output = output.loc[:, [\"Items sold per store\", \"Wheels\", \"Tyres\", \"Saddles\", \"Brakes\", \"Store\"]]\n",
    "output"
   ]
  },
  {
   "cell_type": "markdown",
   "id": "c643ec1e",
   "metadata": {},
   "source": [
    "### Output the data"
   ]
  },
  {
   "cell_type": "code",
   "execution_count": 34,
   "id": "4aa7d61a",
   "metadata": {},
   "outputs": [],
   "source": [
    "output.to_csv(\"./output/Week31_output.csv\")"
   ]
  }
 ],
 "metadata": {
  "kernelspec": {
   "display_name": "Python 3 (ipykernel)",
   "language": "python",
   "name": "python3"
  },
  "language_info": {
   "codemirror_mode": {
    "name": "ipython",
    "version": 3
   },
   "file_extension": ".py",
   "mimetype": "text/x-python",
   "name": "python",
   "nbconvert_exporter": "python",
   "pygments_lexer": "ipython3",
   "version": "3.7.2"
  }
 },
 "nbformat": 4,
 "nbformat_minor": 5
}
