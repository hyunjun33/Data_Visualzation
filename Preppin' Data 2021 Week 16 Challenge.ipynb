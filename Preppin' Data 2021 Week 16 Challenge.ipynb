{
 "cells": [
  {
   "cell_type": "markdown",
   "id": "7daec5f1",
   "metadata": {},
   "source": [
    "## 2021: Week 16 - The Super League\n",
    "\n",
    "If you are a fan of football or have been following any of the latest news then you would have probably heard about the proposed new 'Super League' that was planned with a selection of European clubs. This would have involved a group of 12 teams playing in a competition each year without having to qualify or be relegated. The lack of  fair competition between other clubs has caused an uproar among fans, players, media outlets, football associations, and even the UK government! \n",
    "\n",
    "The 'big 6' English teams to propose the Super League were Arsenal, Chelsea, Liverpool, Manchester United, Manchester City, and Tottenham Hotspur.\n",
    "\n",
    "One of the ideas to try and discourage the clubs from proceeding with the new league, was to threaten the English teams with being expelled from the English Premier League. The challenge this week is to try and understand how the current league table would change if these clubs were to be 'kicked out'.\n",
    "\n",
    "### Input\n",
    "The input this week is a list of all of the fixtures from the 2020/21 season (up until 19/04/2021). \n",
    "\n",
    "### Requirement\n",
    "- Input the data\n",
    "- Calculate the Total Points for each team. The points are as follows: \n",
    "    - Win - 3 Points\n",
    "    - Draw - 1 Point\n",
    "    - Lose - 0 Points\n",
    "- Calculate the goal difference for each team. Goal difference is the difference between goals scored and goals conceded. \n",
    "- Calculate the current rank/position of each team. This is based on Total Points (high to low) and in a case of a tie then Goal Difference (high to low).\n",
    "- The current league table is our first output.\n",
    "\n",
    "- Assuming that the 'Big 6' didn't play any games this season, recalculate the league table.\n",
    "- After removing the 6 clubs, how has the position changed for the remaining clubs?\n",
    "- The updated league table is the second output.\n",
    "- Bonus - Think about features in Tableau Prep to make this repeatable process easier!\n",
    "\n",
    "### Output\n",
    "1. Current League Table\n",
    "    - 5 Fields, 20 Rows (21 including header)\n",
    "    - Position\n",
    "    - Team\n",
    "    - Total Games Played\n",
    "    - Total Points\n",
    "    - Goal Difference\n",
    "    \n",
    "    \n",
    "2. Updated League Table\n",
    "    - 5 Fields, 14 Rows (15 including header)\n",
    "    - Position\n",
    "    - Team\n",
    "    - Total Games Played\n",
    "    - Total Points\n",
    "    - Goal Difference"
   ]
  },
  {
   "cell_type": "code",
   "execution_count": 1,
   "id": "537d02d3",
   "metadata": {},
   "outputs": [],
   "source": [
    "import pandas as pd\n",
    "import numpy as np\n",
    "import matplotlib.pyplot as plt\n",
    "import seaborn as sns"
   ]
  },
  {
   "cell_type": "code",
   "execution_count": 5,
   "id": "2df22366",
   "metadata": {},
   "outputs": [
    {
     "data": {
      "text/html": [
       "<div>\n",
       "<style scoped>\n",
       "    .dataframe tbody tr th:only-of-type {\n",
       "        vertical-align: middle;\n",
       "    }\n",
       "\n",
       "    .dataframe tbody tr th {\n",
       "        vertical-align: top;\n",
       "    }\n",
       "\n",
       "    .dataframe thead th {\n",
       "        text-align: right;\n",
       "    }\n",
       "</style>\n",
       "<table border=\"1\" class=\"dataframe\">\n",
       "  <thead>\n",
       "    <tr style=\"text-align: right;\">\n",
       "      <th></th>\n",
       "      <th>Round Number</th>\n",
       "      <th>Date</th>\n",
       "      <th>Location</th>\n",
       "      <th>Home Team</th>\n",
       "      <th>Away Team</th>\n",
       "      <th>Result</th>\n",
       "    </tr>\n",
       "  </thead>\n",
       "  <tbody>\n",
       "    <tr>\n",
       "      <th>0</th>\n",
       "      <td>1</td>\n",
       "      <td>2020-12-09 12:30:00</td>\n",
       "      <td>Craven Cottage</td>\n",
       "      <td>Fulham</td>\n",
       "      <td>Arsenal</td>\n",
       "      <td>0 - 3</td>\n",
       "    </tr>\n",
       "    <tr>\n",
       "      <th>1</th>\n",
       "      <td>1</td>\n",
       "      <td>2020-12-09 15:00:00</td>\n",
       "      <td>Selhurst Park</td>\n",
       "      <td>Crystal Palace</td>\n",
       "      <td>Southampton</td>\n",
       "      <td>1 - 0</td>\n",
       "    </tr>\n",
       "    <tr>\n",
       "      <th>2</th>\n",
       "      <td>1</td>\n",
       "      <td>2020-12-09 17:30:00</td>\n",
       "      <td>Anfield</td>\n",
       "      <td>Liverpool</td>\n",
       "      <td>Leeds</td>\n",
       "      <td>4 - 3</td>\n",
       "    </tr>\n",
       "    <tr>\n",
       "      <th>3</th>\n",
       "      <td>1</td>\n",
       "      <td>2020-12-09 20:00:00</td>\n",
       "      <td>London Stadium</td>\n",
       "      <td>West Ham</td>\n",
       "      <td>Newcastle</td>\n",
       "      <td>0 - 2</td>\n",
       "    </tr>\n",
       "    <tr>\n",
       "      <th>4</th>\n",
       "      <td>1</td>\n",
       "      <td>2020-09-13 14:00:00</td>\n",
       "      <td>The Hawthorns</td>\n",
       "      <td>West Brom</td>\n",
       "      <td>Leicester</td>\n",
       "      <td>0 - 3</td>\n",
       "    </tr>\n",
       "  </tbody>\n",
       "</table>\n",
       "</div>"
      ],
      "text/plain": [
       "   Round Number                Date        Location       Home Team  \\\n",
       "0             1 2020-12-09 12:30:00  Craven Cottage          Fulham   \n",
       "1             1 2020-12-09 15:00:00   Selhurst Park  Crystal Palace   \n",
       "2             1 2020-12-09 17:30:00         Anfield       Liverpool   \n",
       "3             1 2020-12-09 20:00:00  London Stadium        West Ham   \n",
       "4             1 2020-09-13 14:00:00   The Hawthorns       West Brom   \n",
       "\n",
       "     Away Team Result  \n",
       "0      Arsenal  0 - 3  \n",
       "1  Southampton  1 - 0  \n",
       "2        Leeds  4 - 3  \n",
       "3    Newcastle  0 - 2  \n",
       "4    Leicester  0 - 3  "
      ]
     },
     "execution_count": 5,
     "metadata": {},
     "output_type": "execute_result"
    }
   ],
   "source": [
    "df = pd.read_csv(\"./data/PL Fixtures.csv\", parse_dates=[\"Date\"])\n",
    "df.head()"
   ]
  },
  {
   "cell_type": "code",
   "execution_count": 6,
   "id": "511c02ec",
   "metadata": {},
   "outputs": [
    {
     "name": "stdout",
     "output_type": "stream",
     "text": [
      "<class 'pandas.core.frame.DataFrame'>\n",
      "RangeIndex: 380 entries, 0 to 379\n",
      "Data columns (total 6 columns):\n",
      " #   Column        Non-Null Count  Dtype         \n",
      "---  ------        --------------  -----         \n",
      " 0   Round Number  380 non-null    int64         \n",
      " 1   Date          380 non-null    datetime64[ns]\n",
      " 2   Location      380 non-null    object        \n",
      " 3   Home Team     380 non-null    object        \n",
      " 4   Away Team     380 non-null    object        \n",
      " 5   Result        316 non-null    object        \n",
      "dtypes: datetime64[ns](1), int64(1), object(4)\n",
      "memory usage: 17.9+ KB\n"
     ]
    }
   ],
   "source": [
    "df.info()"
   ]
  },
  {
   "cell_type": "code",
   "execution_count": null,
   "id": "af356306",
   "metadata": {},
   "outputs": [],
   "source": []
  }
 ],
 "metadata": {
  "kernelspec": {
   "display_name": "Python 3 (ipykernel)",
   "language": "python",
   "name": "python3"
  },
  "language_info": {
   "codemirror_mode": {
    "name": "ipython",
    "version": 3
   },
   "file_extension": ".py",
   "mimetype": "text/x-python",
   "name": "python",
   "nbconvert_exporter": "python",
   "pygments_lexer": "ipython3",
   "version": "3.7.2"
  }
 },
 "nbformat": 4,
 "nbformat_minor": 5
}
