{
 "cells": [
  {
   "cell_type": "markdown",
   "id": "141bdf05",
   "metadata": {},
   "source": [
    "## 2021: Week 21 Getting Trolleyed\n",
    "\n",
    "Our final challenge for calculations month is all about the Analytical Calculations in Tableau Prep, Level of Detail calculations and Rankings. These calculations let you answer the questions your stakeholders have before you've even visualised anything. Sometimes all we need is the answer. If you're not using Prep for this challenge, I have hopefully made a challenge you can replicate too (you might just need to use a join). \n",
    "\n",
    "### Challenge\n",
    "With the Prep Air - New Trolley Inventory project finally delivered at the end of May, we want to analyse what are the products that we are now selling for a much higher amount than we did before the project. We want to analyse the top three products based on price rise per destination.\n",
    "\n",
    "### Input\n",
    "One spreadsheet with 10 sheets, one sheet per month (Jan is month 1, Feb is month 2 etc)\n",
    "\n",
    "![img](https://1.bp.blogspot.com/-KkflvnUjLZU/YKvdxeHrXVI/AAAAAAAACLU/c9omraL8U5AhyH8u6A-yFphCvXCxYvU9gCLcBGAsYHQ/w640-h150/Screenshot%2B2021-05-24%2Bat%2B18.09.04.png)\n",
    "\n",
    "### Requirements\n",
    "- Input data\n",
    "- Bring all the sheets together\n",
    "- Use the Day of Month and Table Names (sheet name in other tools) to form a date field for the purchase called 'Date'\n",
    "- Create 'New Trolley Inventory?' field to show whether the purchase was made on or after 1st June 2021 (the first date with the revised inventory after the project closed)\n",
    "- Remove lots of the detail of the product name:\n",
    "    - Only return any names before the '-' (hyphen)\n",
    "    - If a product doesn't have a hyphen return the full product name\n",
    "- Make price a numeric field\n",
    "- Work out the average selling price per product\n",
    "- Workout the Variance (difference) between the selling price and the average selling price\n",
    "- Rank the Variances (1 being the largest positive variance) per destination and whether the product was sold before or after the new trolley inventory project delivery\n",
    "- Return only ranks 1-5 \n",
    "- Output the data\n",
    "\n",
    "### Output\n",
    "We want to know which two products appeared more than once in the rankings and whether they were sold before or after the project delivery. Tweet us your answer!\n",
    "\n",
    "![img](https://1.bp.blogspot.com/-NTuxXrdAUSU/YKvjS3y9jBI/AAAAAAAACLc/5T643zvPbf8G7NeS3k24uXhCwtKGsGKfQCLcBGAsYHQ/w640-h122/Screenshot%2B2021-05-24%2Bat%2B18.32.40.png)\n",
    "\n",
    "One file:\n",
    "11 fields:\n",
    "- New Trolley Inventory\n",
    "- Variance Rank by Destination (remember this also factors in the pre / post project delivery)\n",
    "- Variance \n",
    "- Average Price per Product\n",
    "- Date\n",
    "- Product\n",
    "- First name\n",
    "- Last Name\n",
    "- Email\n",
    "- Price\n",
    "- Destination\n",
    "\n",
    "50 rows (51 rows including headers)"
   ]
  },
  {
   "cell_type": "code",
   "execution_count": 320,
   "id": "3e0179d6",
   "metadata": {},
   "outputs": [],
   "source": [
    "import pandas as pd\n",
    "import numpy as np\n",
    "import matplotlib.pyplot as plt\n",
    "import seaborn as sns"
   ]
  },
  {
   "cell_type": "markdown",
   "id": "a4bc62e5",
   "metadata": {},
   "source": [
    "### Input data"
   ]
  },
  {
   "cell_type": "code",
   "execution_count": 321,
   "id": "a1876936",
   "metadata": {},
   "outputs": [],
   "source": [
    "data = pd.read_excel(\"./data/PD 2021 Wk 21 Input.xlsx\", sheet_name=[\"Month 1\", \"Month 2\", \"Month 3\", \"Month 4\", \"Month 5\",\n",
    "                                                                    \"Month 6\", \"Month 7\", \"Month 8\", \"Month 9\", \"Month 10\"])"
   ]
  },
  {
   "cell_type": "markdown",
   "id": "88f89684",
   "metadata": {},
   "source": [
    "### Bring all the sheets together"
   ]
  },
  {
   "cell_type": "code",
   "execution_count": 323,
   "id": "c7479511",
   "metadata": {},
   "outputs": [],
   "source": [
    "files = []\n",
    "for i in range(1, 11):\n",
    "    file_name = \"Month \" + str(i)\n",
    "    file = data[file_name].copy()\n",
    "    files.append(file)"
   ]
  },
  {
   "cell_type": "markdown",
   "id": "bd1ccb4b",
   "metadata": {},
   "source": [
    "### Use the Day of Month and Table Names (sheet name in other tools) to form a date field for the purchase called 'Date'"
   ]
  },
  {
   "cell_type": "code",
   "execution_count": 324,
   "id": "ff3491bf",
   "metadata": {},
   "outputs": [],
   "source": [
    "for i in range(1, 11):\n",
    "    files[i-1].loc[:, \"Year\"] = 2021\n",
    "    files[i-1].loc[:, \"Month\"] = i\n",
    "    files[i-1].loc[:, \"Day of Month\"] = files[i-1].loc[:, \"Day of Month\"].astype(int)"
   ]
  },
  {
   "cell_type": "code",
   "execution_count": 325,
   "id": "1927bbf5",
   "metadata": {},
   "outputs": [],
   "source": [
    "for i in range(0, 10):\n",
    "    date = files[i].apply(lambda df_: str(df_[\"Year\"]) + \"/\" + str(df_[\"Month\"]) + \"/\" + str(df_[\"Day of Month\"]), axis=1)\n",
    "    files[i].loc[:, \"Date\"] = pd.to_datetime(date, format=\"%Y/%m/%d\")"
   ]
  },
  {
   "cell_type": "code",
   "execution_count": 326,
   "id": "44711347",
   "metadata": {},
   "outputs": [
    {
     "data": {
      "text/plain": [
       "(10000, 10)"
      ]
     },
     "execution_count": 326,
     "metadata": {},
     "output_type": "execute_result"
    }
   ],
   "source": [
    "df = pd.concat(files, axis=0)\n",
    "df.shape"
   ]
  },
  {
   "cell_type": "markdown",
   "id": "670c8f61",
   "metadata": {},
   "source": [
    "### Create 'New Trolley Inventory?' field to show whether the purchase was made on or after 1st June 2021 (the first date with the revised inventory after the project closed)"
   ]
  },
  {
   "cell_type": "code",
   "execution_count": 327,
   "id": "0f77ac3c",
   "metadata": {},
   "outputs": [],
   "source": [
    "df.loc[:, \"New Trolley Inventory?\"] = False\n",
    "df.loc[df[\"Date\"] >= \"2021-06-01\", \"New Trolley Inventory?\"] = True"
   ]
  },
  {
   "cell_type": "markdown",
   "id": "4ef17a93",
   "metadata": {},
   "source": [
    "### Remove lots of the detail of the product name:\n",
    "- Only return any names before the '-' (hyphen)\n",
    "- If a product doesn't have a hyphen return the full product name"
   ]
  },
  {
   "cell_type": "code",
   "execution_count": 328,
   "id": "7cdc2987",
   "metadata": {},
   "outputs": [
    {
     "data": {
      "text/html": [
       "<div>\n",
       "<style scoped>\n",
       "    .dataframe tbody tr th:only-of-type {\n",
       "        vertical-align: middle;\n",
       "    }\n",
       "\n",
       "    .dataframe tbody tr th {\n",
       "        vertical-align: top;\n",
       "    }\n",
       "\n",
       "    .dataframe thead th {\n",
       "        text-align: right;\n",
       "    }\n",
       "</style>\n",
       "<table border=\"1\" class=\"dataframe\">\n",
       "  <thead>\n",
       "    <tr style=\"text-align: right;\">\n",
       "      <th></th>\n",
       "      <th>Day of Month</th>\n",
       "      <th>first_name</th>\n",
       "      <th>last_name</th>\n",
       "      <th>email</th>\n",
       "      <th>Product</th>\n",
       "      <th>Price</th>\n",
       "      <th>Destination</th>\n",
       "      <th>Year</th>\n",
       "      <th>Month</th>\n",
       "      <th>Date</th>\n",
       "      <th>New Trolley Inventory?</th>\n",
       "    </tr>\n",
       "  </thead>\n",
       "  <tbody>\n",
       "    <tr>\n",
       "      <th>0</th>\n",
       "      <td>9</td>\n",
       "      <td>Daffie</td>\n",
       "      <td>Clemont</td>\n",
       "      <td>dclemont0@unc.edu</td>\n",
       "      <td>Emulsifier</td>\n",
       "      <td>$10.14</td>\n",
       "      <td>New York</td>\n",
       "      <td>2021</td>\n",
       "      <td>1</td>\n",
       "      <td>2021-01-09</td>\n",
       "      <td>False</td>\n",
       "    </tr>\n",
       "    <tr>\n",
       "      <th>1</th>\n",
       "      <td>19</td>\n",
       "      <td>Lucio</td>\n",
       "      <td>Muzzall</td>\n",
       "      <td>lmuzzall1@dell.com</td>\n",
       "      <td>Chambord Royal</td>\n",
       "      <td>$33.89</td>\n",
       "      <td>London</td>\n",
       "      <td>2021</td>\n",
       "      <td>1</td>\n",
       "      <td>2021-01-19</td>\n",
       "      <td>False</td>\n",
       "    </tr>\n",
       "    <tr>\n",
       "      <th>2</th>\n",
       "      <td>25</td>\n",
       "      <td>Corbie</td>\n",
       "      <td>Shrigley</td>\n",
       "      <td>cshrigley2@sourceforge.net</td>\n",
       "      <td>Apples - Sliced / Wedge</td>\n",
       "      <td>$1.64</td>\n",
       "      <td>Perth</td>\n",
       "      <td>2021</td>\n",
       "      <td>1</td>\n",
       "      <td>2021-01-25</td>\n",
       "      <td>False</td>\n",
       "    </tr>\n",
       "    <tr>\n",
       "      <th>3</th>\n",
       "      <td>9</td>\n",
       "      <td>Sioux</td>\n",
       "      <td>Couth</td>\n",
       "      <td>scouth3@bluehost.com</td>\n",
       "      <td>Vinegar - White Wine</td>\n",
       "      <td>$19.84</td>\n",
       "      <td>Paris</td>\n",
       "      <td>2021</td>\n",
       "      <td>1</td>\n",
       "      <td>2021-01-09</td>\n",
       "      <td>False</td>\n",
       "    </tr>\n",
       "    <tr>\n",
       "      <th>4</th>\n",
       "      <td>21</td>\n",
       "      <td>Almira</td>\n",
       "      <td>Rickards</td>\n",
       "      <td>arickards4@godaddy.com</td>\n",
       "      <td>Food Colouring - Pink</td>\n",
       "      <td>$20.15</td>\n",
       "      <td>Edinburgh</td>\n",
       "      <td>2021</td>\n",
       "      <td>1</td>\n",
       "      <td>2021-01-21</td>\n",
       "      <td>False</td>\n",
       "    </tr>\n",
       "  </tbody>\n",
       "</table>\n",
       "</div>"
      ],
      "text/plain": [
       "   Day of Month first_name last_name                       email  \\\n",
       "0             9     Daffie   Clemont           dclemont0@unc.edu   \n",
       "1            19      Lucio   Muzzall          lmuzzall1@dell.com   \n",
       "2            25     Corbie  Shrigley  cshrigley2@sourceforge.net   \n",
       "3             9      Sioux     Couth        scouth3@bluehost.com   \n",
       "4            21     Almira  Rickards      arickards4@godaddy.com   \n",
       "\n",
       "                   Product   Price Destination  Year  Month       Date  \\\n",
       "0               Emulsifier  $10.14  New York    2021      1 2021-01-09   \n",
       "1           Chambord Royal  $33.89      London  2021      1 2021-01-19   \n",
       "2  Apples - Sliced / Wedge   $1.64       Perth  2021      1 2021-01-25   \n",
       "3     Vinegar - White Wine  $19.84       Paris  2021      1 2021-01-09   \n",
       "4    Food Colouring - Pink  $20.15   Edinburgh  2021      1 2021-01-21   \n",
       "\n",
       "   New Trolley Inventory?  \n",
       "0                   False  \n",
       "1                   False  \n",
       "2                   False  \n",
       "3                   False  \n",
       "4                   False  "
      ]
     },
     "execution_count": 328,
     "metadata": {},
     "output_type": "execute_result"
    }
   ],
   "source": [
    "df.head()"
   ]
  },
  {
   "cell_type": "code",
   "execution_count": 329,
   "id": "ea4ac7c2",
   "metadata": {},
   "outputs": [],
   "source": [
    "import re\n",
    "def product_name_preprocessing(df_):\n",
    "    index_true = df_[\"Product\"].map(lambda x: bool(re.findall(r\"[-]+\", x)))\n",
    "    df_.loc[index_true, \"Product\"] = df_.loc[index_true, \"Product\"].map(lambda x: x.split(\"-\")[0])\n",
    "    return df_"
   ]
  },
  {
   "cell_type": "code",
   "execution_count": 330,
   "id": "34c2e4e9",
   "metadata": {},
   "outputs": [
    {
     "data": {
      "text/plain": [
       "Wine                        692\n",
       "Cheese                      296\n",
       "Bread                       265\n",
       "Soup                        194\n",
       "Beef                        179\n",
       "                           ... \n",
       "Soup Bowl Clear 8oz92008      1\n",
       "Ham Black Forest              1\n",
       "Iced Tea Concentrate          1\n",
       "Maple Syrup                   1\n",
       "Creme De Cacao Mcguines       1\n",
       "Name: Product, Length: 1028, dtype: int64"
      ]
     },
     "execution_count": 330,
     "metadata": {},
     "output_type": "execute_result"
    }
   ],
   "source": [
    "df = product_name_preprocessing(df)\n",
    "df[\"Product\"].value_counts().head()"
   ]
  },
  {
   "cell_type": "markdown",
   "id": "0a9ae25b",
   "metadata": {},
   "source": [
    "### Make price a numeric field"
   ]
  },
  {
   "cell_type": "code",
   "execution_count": 331,
   "id": "7797f640",
   "metadata": {},
   "outputs": [
    {
     "name": "stderr",
     "output_type": "stream",
     "text": [
      "C:\\Users\\HYUNJUN\\anaconda3\\envs\\deep-learning-gpu\\lib\\site-packages\\ipykernel_launcher.py:1: FutureWarning: The default value of regex will change from True to False in a future version. In addition, single character regular expressions will *not* be treated as literal strings when regex=True.\n",
      "  \"\"\"Entry point for launching an IPython kernel.\n"
     ]
    }
   ],
   "source": [
    "df[\"Price\"] = df[\"Price\"].str.replace(\"$\", \"\").astype(float)"
   ]
  },
  {
   "cell_type": "markdown",
   "id": "14556168",
   "metadata": {},
   "source": [
    "### Work out the average selling price per product"
   ]
  },
  {
   "cell_type": "code",
   "execution_count": 332,
   "id": "55f5e1b1",
   "metadata": {},
   "outputs": [
    {
     "data": {
      "text/plain": [
       "Product\n",
       "7up Diet, 355 Ml      27.690000\n",
       "Absolut Citron        23.888000\n",
       "Alize Gold Passion    18.872000\n",
       "Alize Red Passion     27.090000\n",
       "Alize Sunset          19.880000\n",
       "                        ...    \n",
       "Yoplait               29.397500\n",
       "Yoplait Drink         15.756667\n",
       "Yucca                 19.820000\n",
       "Yukon Jack            26.597500\n",
       "Zucchini              24.514444\n",
       "Name: Price, Length: 1028, dtype: float64"
      ]
     },
     "execution_count": 332,
     "metadata": {},
     "output_type": "execute_result"
    }
   ],
   "source": [
    "group_avg = df.groupby([\"Product\"])[\"Price\"].mean()\n",
    "group_avg.head()"
   ]
  },
  {
   "cell_type": "markdown",
   "id": "7527e150",
   "metadata": {},
   "source": [
    "### Workout the Variance (difference) between the selling price and the average selling price"
   ]
  },
  {
   "cell_type": "code",
   "execution_count": 333,
   "id": "c544b0e6",
   "metadata": {},
   "outputs": [
    {
     "data": {
      "text/html": [
       "<div>\n",
       "<style scoped>\n",
       "    .dataframe tbody tr th:only-of-type {\n",
       "        vertical-align: middle;\n",
       "    }\n",
       "\n",
       "    .dataframe tbody tr th {\n",
       "        vertical-align: top;\n",
       "    }\n",
       "\n",
       "    .dataframe thead th {\n",
       "        text-align: right;\n",
       "    }\n",
       "</style>\n",
       "<table border=\"1\" class=\"dataframe\">\n",
       "  <thead>\n",
       "    <tr style=\"text-align: right;\">\n",
       "      <th></th>\n",
       "      <th>Day of Month</th>\n",
       "      <th>first_name</th>\n",
       "      <th>last_name</th>\n",
       "      <th>email</th>\n",
       "      <th>Product</th>\n",
       "      <th>Price</th>\n",
       "      <th>Destination</th>\n",
       "      <th>Year</th>\n",
       "      <th>Month</th>\n",
       "      <th>Date</th>\n",
       "      <th>New Trolley Inventory?</th>\n",
       "      <th>Avg Price per Product</th>\n",
       "      <th>Variance</th>\n",
       "    </tr>\n",
       "  </thead>\n",
       "  <tbody>\n",
       "    <tr>\n",
       "      <th>0</th>\n",
       "      <td>9</td>\n",
       "      <td>Daffie</td>\n",
       "      <td>Clemont</td>\n",
       "      <td>dclemont0@unc.edu</td>\n",
       "      <td>Emulsifier</td>\n",
       "      <td>10.14</td>\n",
       "      <td>New York</td>\n",
       "      <td>2021</td>\n",
       "      <td>1</td>\n",
       "      <td>2021-01-09</td>\n",
       "      <td>False</td>\n",
       "      <td>21.600000</td>\n",
       "      <td>11.460000</td>\n",
       "    </tr>\n",
       "    <tr>\n",
       "      <th>1</th>\n",
       "      <td>19</td>\n",
       "      <td>Lucio</td>\n",
       "      <td>Muzzall</td>\n",
       "      <td>lmuzzall1@dell.com</td>\n",
       "      <td>Chambord Royal</td>\n",
       "      <td>33.89</td>\n",
       "      <td>London</td>\n",
       "      <td>2021</td>\n",
       "      <td>1</td>\n",
       "      <td>2021-01-19</td>\n",
       "      <td>False</td>\n",
       "      <td>16.034000</td>\n",
       "      <td>17.856000</td>\n",
       "    </tr>\n",
       "    <tr>\n",
       "      <th>2</th>\n",
       "      <td>25</td>\n",
       "      <td>Corbie</td>\n",
       "      <td>Shrigley</td>\n",
       "      <td>cshrigley2@sourceforge.net</td>\n",
       "      <td>Apples</td>\n",
       "      <td>1.64</td>\n",
       "      <td>Perth</td>\n",
       "      <td>2021</td>\n",
       "      <td>1</td>\n",
       "      <td>2021-01-25</td>\n",
       "      <td>False</td>\n",
       "      <td>19.782000</td>\n",
       "      <td>18.142000</td>\n",
       "    </tr>\n",
       "    <tr>\n",
       "      <th>3</th>\n",
       "      <td>9</td>\n",
       "      <td>Sioux</td>\n",
       "      <td>Couth</td>\n",
       "      <td>scouth3@bluehost.com</td>\n",
       "      <td>Vinegar</td>\n",
       "      <td>19.84</td>\n",
       "      <td>Paris</td>\n",
       "      <td>2021</td>\n",
       "      <td>1</td>\n",
       "      <td>2021-01-09</td>\n",
       "      <td>False</td>\n",
       "      <td>23.054821</td>\n",
       "      <td>3.214821</td>\n",
       "    </tr>\n",
       "    <tr>\n",
       "      <th>4</th>\n",
       "      <td>21</td>\n",
       "      <td>Almira</td>\n",
       "      <td>Rickards</td>\n",
       "      <td>arickards4@godaddy.com</td>\n",
       "      <td>Food Colouring</td>\n",
       "      <td>20.15</td>\n",
       "      <td>Edinburgh</td>\n",
       "      <td>2021</td>\n",
       "      <td>1</td>\n",
       "      <td>2021-01-21</td>\n",
       "      <td>False</td>\n",
       "      <td>26.033333</td>\n",
       "      <td>5.883333</td>\n",
       "    </tr>\n",
       "  </tbody>\n",
       "</table>\n",
       "</div>"
      ],
      "text/plain": [
       "   Day of Month first_name last_name                       email  \\\n",
       "0             9     Daffie   Clemont           dclemont0@unc.edu   \n",
       "1            19      Lucio   Muzzall          lmuzzall1@dell.com   \n",
       "2            25     Corbie  Shrigley  cshrigley2@sourceforge.net   \n",
       "3             9      Sioux     Couth        scouth3@bluehost.com   \n",
       "4            21     Almira  Rickards      arickards4@godaddy.com   \n",
       "\n",
       "           Product  Price Destination  Year  Month       Date  \\\n",
       "0       Emulsifier  10.14  New York    2021      1 2021-01-09   \n",
       "1   Chambord Royal  33.89      London  2021      1 2021-01-19   \n",
       "2          Apples    1.64       Perth  2021      1 2021-01-25   \n",
       "3         Vinegar   19.84       Paris  2021      1 2021-01-09   \n",
       "4  Food Colouring   20.15   Edinburgh  2021      1 2021-01-21   \n",
       "\n",
       "   New Trolley Inventory?  Avg Price per Product   Variance  \n",
       "0                   False              21.600000  11.460000  \n",
       "1                   False              16.034000  17.856000  \n",
       "2                   False              19.782000  18.142000  \n",
       "3                   False              23.054821   3.214821  \n",
       "4                   False              26.033333   5.883333  "
      ]
     },
     "execution_count": 333,
     "metadata": {},
     "output_type": "execute_result"
    }
   ],
   "source": [
    "df = df.merge(group_avg, how=\"left\", left_on=\"Product\", right_on=group_avg.index).rename(columns={\"Price_x\" : \"Price\",\n",
    "                                                                                                  \"Price_y\" : \"Avg Price per Product\"})\n",
    "df[\"Variance\"] = abs(df[\"Price\"] - df[\"Avg Price per Product\"])\n",
    "df.head()"
   ]
  },
  {
   "cell_type": "markdown",
   "id": "0604bde3",
   "metadata": {},
   "source": [
    "### Rank the Variances (1 being the largest positive variance) per destination and whether the product was sold before or after the new trolley inventory project delivery"
   ]
  },
  {
   "cell_type": "code",
   "execution_count": 334,
   "id": "c10a4a2e",
   "metadata": {},
   "outputs": [],
   "source": [
    "df[\"Destination\"] = df[\"Destination\"].str.strip()\n",
    "rank = df.groupby([\"Destination\", \"New Trolley Inventory?\"])[\"Variance\"].rank(method=\"dense\", ascending=False).astype(int)\n",
    "df[\"Rank\"] = rank"
   ]
  },
  {
   "cell_type": "markdown",
   "id": "5fd404f6",
   "metadata": {},
   "source": [
    "### Return only ranks 1-5 "
   ]
  },
  {
   "cell_type": "code",
   "execution_count": 335,
   "id": "44204c1a",
   "metadata": {
    "scrolled": false
   },
   "outputs": [
    {
     "data": {
      "text/plain": [
       "(50, 14)"
      ]
     },
     "execution_count": 335,
     "metadata": {},
     "output_type": "execute_result"
    }
   ],
   "source": [
    "output = df[df[\"Rank\"].isin([1, 2, 3, 4, 5])]\n",
    "output = output.reset_index(drop=True)\n",
    "output.shape"
   ]
  },
  {
   "cell_type": "markdown",
   "id": "c63fafa6",
   "metadata": {},
   "source": [
    "### Output the data"
   ]
  },
  {
   "cell_type": "code",
   "execution_count": 336,
   "id": "e357f4b2",
   "metadata": {},
   "outputs": [
    {
     "data": {
      "text/html": [
       "<div>\n",
       "<style scoped>\n",
       "    .dataframe tbody tr th:only-of-type {\n",
       "        vertical-align: middle;\n",
       "    }\n",
       "\n",
       "    .dataframe tbody tr th {\n",
       "        vertical-align: top;\n",
       "    }\n",
       "\n",
       "    .dataframe thead th {\n",
       "        text-align: right;\n",
       "    }\n",
       "</style>\n",
       "<table border=\"1\" class=\"dataframe\">\n",
       "  <thead>\n",
       "    <tr style=\"text-align: right;\">\n",
       "      <th></th>\n",
       "      <th>first_name</th>\n",
       "      <th>last_name</th>\n",
       "      <th>email</th>\n",
       "      <th>Product</th>\n",
       "      <th>Price</th>\n",
       "      <th>Destination</th>\n",
       "      <th>Date</th>\n",
       "      <th>New Trolley Inventory?</th>\n",
       "      <th>Avg Price per Product</th>\n",
       "      <th>Variance</th>\n",
       "      <th>Variance Rank by Destination</th>\n",
       "    </tr>\n",
       "  </thead>\n",
       "  <tbody>\n",
       "    <tr>\n",
       "      <th>0</th>\n",
       "      <td>Kizzie</td>\n",
       "      <td>Bruggeman</td>\n",
       "      <td>kbruggemanq@thetimes.co.uk</td>\n",
       "      <td>Foil Wrap</td>\n",
       "      <td>0.91</td>\n",
       "      <td>New York</td>\n",
       "      <td>2021-01-09</td>\n",
       "      <td>False</td>\n",
       "      <td>42.611667</td>\n",
       "      <td>41.701667</td>\n",
       "      <td>1</td>\n",
       "    </tr>\n",
       "    <tr>\n",
       "      <th>1</th>\n",
       "      <td>Leslie</td>\n",
       "      <td>Streight</td>\n",
       "      <td>lstreight22@ed.gov</td>\n",
       "      <td>Hot Choc Vending</td>\n",
       "      <td>1.08</td>\n",
       "      <td>Perth</td>\n",
       "      <td>2021-01-19</td>\n",
       "      <td>False</td>\n",
       "      <td>29.518000</td>\n",
       "      <td>28.438000</td>\n",
       "      <td>3</td>\n",
       "    </tr>\n",
       "    <tr>\n",
       "      <th>2</th>\n",
       "      <td>Ingemar</td>\n",
       "      <td>Burgiss</td>\n",
       "      <td>iburgissbp@howstuffworks.com</td>\n",
       "      <td>Black Currants</td>\n",
       "      <td>2.91</td>\n",
       "      <td>Paris</td>\n",
       "      <td>2021-01-07</td>\n",
       "      <td>False</td>\n",
       "      <td>40.902500</td>\n",
       "      <td>37.992500</td>\n",
       "      <td>1</td>\n",
       "    </tr>\n",
       "    <tr>\n",
       "      <th>3</th>\n",
       "      <td>Catherina</td>\n",
       "      <td>Eymer</td>\n",
       "      <td>ceymere6@facebook.com</td>\n",
       "      <td>Eggplant Italian</td>\n",
       "      <td>3.73</td>\n",
       "      <td>Paris</td>\n",
       "      <td>2021-01-23</td>\n",
       "      <td>False</td>\n",
       "      <td>35.298333</td>\n",
       "      <td>31.568333</td>\n",
       "      <td>2</td>\n",
       "    </tr>\n",
       "    <tr>\n",
       "      <th>4</th>\n",
       "      <td>Fairfax</td>\n",
       "      <td>Raikes</td>\n",
       "      <td>fraikesox@twitpic.com</td>\n",
       "      <td>Rabbit</td>\n",
       "      <td>1.15</td>\n",
       "      <td>Edinburgh</td>\n",
       "      <td>2021-01-22</td>\n",
       "      <td>False</td>\n",
       "      <td>26.529565</td>\n",
       "      <td>25.379565</td>\n",
       "      <td>3</td>\n",
       "    </tr>\n",
       "  </tbody>\n",
       "</table>\n",
       "</div>"
      ],
      "text/plain": [
       "  first_name  last_name                         email           Product  \\\n",
       "0     Kizzie  Bruggeman    kbruggemanq@thetimes.co.uk         Foil Wrap   \n",
       "1     Leslie   Streight            lstreight22@ed.gov  Hot Choc Vending   \n",
       "2    Ingemar    Burgiss  iburgissbp@howstuffworks.com    Black Currants   \n",
       "3  Catherina      Eymer         ceymere6@facebook.com  Eggplant Italian   \n",
       "4    Fairfax     Raikes         fraikesox@twitpic.com           Rabbit    \n",
       "\n",
       "   Price Destination       Date  New Trolley Inventory?  \\\n",
       "0   0.91    New York 2021-01-09                   False   \n",
       "1   1.08       Perth 2021-01-19                   False   \n",
       "2   2.91       Paris 2021-01-07                   False   \n",
       "3   3.73       Paris 2021-01-23                   False   \n",
       "4   1.15   Edinburgh 2021-01-22                   False   \n",
       "\n",
       "   Avg Price per Product   Variance  Variance Rank by Destination  \n",
       "0              42.611667  41.701667                             1  \n",
       "1              29.518000  28.438000                             3  \n",
       "2              40.902500  37.992500                             1  \n",
       "3              35.298333  31.568333                             2  \n",
       "4              26.529565  25.379565                             3  "
      ]
     },
     "execution_count": 336,
     "metadata": {},
     "output_type": "execute_result"
    }
   ],
   "source": [
    "output = output.drop([\"Day of Month\", \"Year\", \"Month\"], axis=1)\n",
    "output = output.rename(columns={\"Rank\" : \"Variance Rank by Destination\"})\n",
    "output.head()"
   ]
  },
  {
   "cell_type": "code",
   "execution_count": 337,
   "id": "2d9536fe",
   "metadata": {},
   "outputs": [],
   "source": [
    "output.to_csv(\"./output/Week21_output.csv\")"
   ]
  }
 ],
 "metadata": {
  "kernelspec": {
   "display_name": "Python 3 (ipykernel)",
   "language": "python",
   "name": "python3"
  },
  "language_info": {
   "codemirror_mode": {
    "name": "ipython",
    "version": 3
   },
   "file_extension": ".py",
   "mimetype": "text/x-python",
   "name": "python",
   "nbconvert_exporter": "python",
   "pygments_lexer": "ipython3",
   "version": "3.7.2"
  }
 },
 "nbformat": 4,
 "nbformat_minor": 5
}
