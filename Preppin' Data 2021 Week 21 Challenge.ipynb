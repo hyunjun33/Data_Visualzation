{
 "cells": [
  {
   "cell_type": "markdown",
   "id": "8bc0fb8d",
   "metadata": {},
   "source": [
    "## 2021: Week 21 Getting Trolleyed\n",
    "\n",
    "Our final challenge for calculations month is all about the Analytical Calculations in Tableau Prep, Level of Detail calculations and Rankings. These calculations let you answer the questions your stakeholders have before you've even visualised anything. Sometimes all we need is the answer. If you're not using Prep for this challenge, I have hopefully made a challenge you can replicate too (you might just need to use a join). \n",
    "\n",
    "### Challenge\n",
    "With the Prep Air - New Trolley Inventory project finally delivered at the end of May, we want to analyse what are the products that we are now selling for a much higher amount than we did before the project. We want to analyse the top three products based on price rise per destination.\n",
    "\n",
    "### Input\n",
    "One spreadsheet with 10 sheets, one sheet per month (Jan is month 1, Feb is month 2 etc)\n",
    "\n",
    "![img](https://1.bp.blogspot.com/-KkflvnUjLZU/YKvdxeHrXVI/AAAAAAAACLU/c9omraL8U5AhyH8u6A-yFphCvXCxYvU9gCLcBGAsYHQ/w640-h150/Screenshot%2B2021-05-24%2Bat%2B18.09.04.png)\n",
    "\n",
    "### Requirements\n",
    "- Input data\n",
    "- Bring all the sheets together\n",
    "- Use the Day of Month and Table Names (sheet name in other tools) to form a date field for the purchase called 'Date'\n",
    "- Create 'New Trolley Inventory?' field to show whether the purchase was made on or after 1st June 2021 (the first date with the revised inventory after the project closed)\n",
    "- Remove lots of the detail of the product name:\n",
    "    - Only return any names before the '-' (hyphen)\n",
    "    - If a product doesn't have a hyphen return the full product name\n",
    "- Make price a numeric field\n",
    "- Work out the average selling price per product\n",
    "- Workout the Variance (difference) between the selling price and the average selling price\n",
    "- Rank the Variances (1 being the largest positive variance) per destination and whether the product was sold before or after the new trolley inventory project delivery\n",
    "- Return only ranks 1-5 \n",
    "- Output the data\n",
    "\n",
    "### Output\n",
    "We want to know which two products appeared more than once in the rankings and whether they were sold before or after the project delivery. Tweet us your answer!\n",
    "\n",
    "![img](https://1.bp.blogspot.com/-NTuxXrdAUSU/YKvjS3y9jBI/AAAAAAAACLc/5T643zvPbf8G7NeS3k24uXhCwtKGsGKfQCLcBGAsYHQ/w640-h122/Screenshot%2B2021-05-24%2Bat%2B18.32.40.png)\n",
    "\n",
    "One file:\n",
    "11 fields:\n",
    "- New Trolley Inventory\n",
    "- Variance Rank by Destination (remember this also factors in the pre / post project delivery)\n",
    "- Variance \n",
    "- Average Price per Product\n",
    "- Date\n",
    "- Product\n",
    "- First name\n",
    "- Last Name\n",
    "- Email\n",
    "- Price\n",
    "- Destination\n",
    "\n",
    "50 rows (51 rows including headers)"
   ]
  },
  {
   "cell_type": "code",
   "execution_count": 28,
   "id": "d1de9363",
   "metadata": {},
   "outputs": [],
   "source": [
    "import pandas as pd\n",
    "import numpy as np\n",
    "import matplotlib.pyplot as plt\n",
    "import seaborn as sns"
   ]
  },
  {
   "cell_type": "code",
   "execution_count": 29,
   "id": "068cf83a",
   "metadata": {},
   "outputs": [],
   "source": [
    "### Input data"
   ]
  },
  {
   "cell_type": "code",
   "execution_count": 30,
   "id": "3de6762e",
   "metadata": {},
   "outputs": [],
   "source": [
    "data = pd.read_excel(\"./data/PD 2021 Wk 21 Input.xlsx\", sheet_name=[\"Month 1\", \"Month 2\", \"Month 3\", \"Month 4\", \"Month 5\",\n",
    "                                                                    \"Month 6\", \"Month 7\", \"Month 8\", \"Month 9\", \"Month 10\"])"
   ]
  },
  {
   "cell_type": "code",
   "execution_count": 31,
   "id": "a293a437",
   "metadata": {},
   "outputs": [],
   "source": [
    "### Bring all the sheets together"
   ]
  },
  {
   "cell_type": "code",
   "execution_count": 32,
   "id": "95ba4be2",
   "metadata": {},
   "outputs": [],
   "source": [
    "files = []\n",
    "for i in range(1, 11):\n",
    "    file_name = \"Month \" + str(i)\n",
    "    file = data[file_name].copy()\n",
    "    files.append(file)"
   ]
  },
  {
   "cell_type": "code",
   "execution_count": 33,
   "id": "b5f1a54f",
   "metadata": {
    "scrolled": true
   },
   "outputs": [],
   "source": [
    "### Use the Day of Month and Table Names (sheet name in other tools) to form a date field for the purchase called 'Date'"
   ]
  },
  {
   "cell_type": "code",
   "execution_count": 34,
   "id": "e624eade",
   "metadata": {},
   "outputs": [],
   "source": [
    "for i in range(1, 11):\n",
    "    files[i-1].loc[:, \"Year\"] = 2021\n",
    "    files[i-1].loc[:, \"Month\"] = i\n",
    "    files[i-1].loc[:, \"Day of Month\"] = files[i-1].loc[:, \"Day of Month\"].astype(int)"
   ]
  },
  {
   "cell_type": "code",
   "execution_count": 45,
   "id": "b4153fa8",
   "metadata": {},
   "outputs": [],
   "source": [
    "for i in range(0, 10):\n",
    "    date = files[i].apply(lambda df_: str(df_[\"Year\"]) + \"/\" + str(df_[\"Month\"]) + \"/\" + str(df_[\"Day of Month\"]), axis=1)\n",
    "    files[i].loc[:, \"Date\"] = pd.to_datetime(date, format=\"%Y/%m/%d\")"
   ]
  },
  {
   "cell_type": "code",
   "execution_count": 47,
   "id": "e5be5d2c",
   "metadata": {},
   "outputs": [
    {
     "name": "stdout",
     "output_type": "stream",
     "text": [
      "<class 'pandas.core.frame.DataFrame'>\n",
      "RangeIndex: 1000 entries, 0 to 999\n",
      "Data columns (total 10 columns):\n",
      " #   Column        Non-Null Count  Dtype         \n",
      "---  ------        --------------  -----         \n",
      " 0   Day of Month  1000 non-null   int32         \n",
      " 1   first_name    1000 non-null   object        \n",
      " 2   last_name     1000 non-null   object        \n",
      " 3   email         1000 non-null   object        \n",
      " 4   Product       1000 non-null   object        \n",
      " 5   Price         1000 non-null   object        \n",
      " 6   Destination   1000 non-null   object        \n",
      " 7   Year          1000 non-null   int64         \n",
      " 8   Month         1000 non-null   int64         \n",
      " 9   Date          1000 non-null   datetime64[ns]\n",
      "dtypes: datetime64[ns](1), int32(1), int64(2), object(6)\n",
      "memory usage: 74.3+ KB\n"
     ]
    }
   ],
   "source": [
    "files[0].info()"
   ]
  },
  {
   "cell_type": "code",
   "execution_count": 42,
   "id": "7e808904",
   "metadata": {},
   "outputs": [
    {
     "data": {
      "text/plain": [
       "0       2021/1/9\n",
       "1      2021/1/19\n",
       "2      2021/1/25\n",
       "3       2021/1/9\n",
       "4      2021/1/21\n",
       "         ...    \n",
       "995     2021/1/2\n",
       "996    2021/1/28\n",
       "997    2021/1/11\n",
       "998    2021/1/19\n",
       "999     2021/1/3\n",
       "Length: 1000, dtype: object"
      ]
     },
     "execution_count": 42,
     "metadata": {},
     "output_type": "execute_result"
    }
   ],
   "source": []
  },
  {
   "cell_type": "code",
   "execution_count": null,
   "id": "53870c79",
   "metadata": {},
   "outputs": [],
   "source": []
  }
 ],
 "metadata": {
  "kernelspec": {
   "display_name": "Python 3 (ipykernel)",
   "language": "python",
   "name": "python3"
  },
  "language_info": {
   "codemirror_mode": {
    "name": "ipython",
    "version": 3
   },
   "file_extension": ".py",
   "mimetype": "text/x-python",
   "name": "python",
   "nbconvert_exporter": "python",
   "pygments_lexer": "ipython3",
   "version": "3.7.2"
  }
 },
 "nbformat": 4,
 "nbformat_minor": 5
}
