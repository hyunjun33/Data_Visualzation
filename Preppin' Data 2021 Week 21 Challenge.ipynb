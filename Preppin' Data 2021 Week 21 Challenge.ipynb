{
 "cells": [
  {
   "cell_type": "markdown",
   "id": "e1b90ae2",
   "metadata": {},
   "source": [
    "## 2021: Week 21 Getting Trolleyed\n",
    "\n",
    "Our final challenge for calculations month is all about the Analytical Calculations in Tableau Prep, Level of Detail calculations and Rankings. These calculations let you answer the questions your stakeholders have before you've even visualised anything. Sometimes all we need is the answer. If you're not using Prep for this challenge, I have hopefully made a challenge you can replicate too (you might just need to use a join). \n",
    "\n",
    "### Challenge\n",
    "With the Prep Air - New Trolley Inventory project finally delivered at the end of May, we want to analyse what are the products that we are now selling for a much higher amount than we did before the project. We want to analyse the top three products based on price rise per destination.\n",
    "\n",
    "### Input\n",
    "One spreadsheet with 10 sheets, one sheet per month (Jan is month 1, Feb is month 2 etc)\n",
    "\n",
    "![img](https://1.bp.blogspot.com/-KkflvnUjLZU/YKvdxeHrXVI/AAAAAAAACLU/c9omraL8U5AhyH8u6A-yFphCvXCxYvU9gCLcBGAsYHQ/w640-h150/Screenshot%2B2021-05-24%2Bat%2B18.09.04.png)\n",
    "\n",
    "### Requirements\n",
    "- Input data\n",
    "- Bring all the sheets together\n",
    "- Use the Day of Month and Table Names (sheet name in other tools) to form a date field for the purchase called 'Date'\n",
    "- Create 'New Trolley Inventory?' field to show whether the purchase was made on or after 1st June 2021 (the first date with the revised inventory after the project closed)\n",
    "- Remove lots of the detail of the product name:\n",
    "    - Only return any names before the '-' (hyphen)\n",
    "    - If a product doesn't have a hyphen return the full product name\n",
    "- Make price a numeric field\n",
    "- Work out the average selling price per product\n",
    "- Workout the Variance (difference) between the selling price and the average selling price\n",
    "- Rank the Variances (1 being the largest positive variance) per destination and whether the product was sold before or after the new trolley inventory project delivery\n",
    "- Return only ranks 1-5 \n",
    "- Output the data\n",
    "\n",
    "### Output\n",
    "We want to know which two products appeared more than once in the rankings and whether they were sold before or after the project delivery. Tweet us your answer!\n",
    "\n",
    "![img](https://1.bp.blogspot.com/-NTuxXrdAUSU/YKvjS3y9jBI/AAAAAAAACLc/5T643zvPbf8G7NeS3k24uXhCwtKGsGKfQCLcBGAsYHQ/w640-h122/Screenshot%2B2021-05-24%2Bat%2B18.32.40.png)\n",
    "\n",
    "One file:\n",
    "11 fields:\n",
    "- New Trolley Inventory\n",
    "- Variance Rank by Destination (remember this also factors in the pre / post project delivery)\n",
    "- Variance \n",
    "- Average Price per Product\n",
    "- Date\n",
    "- Product\n",
    "- First name\n",
    "- Last Name\n",
    "- Email\n",
    "- Price\n",
    "- Destination\n",
    "\n",
    "50 rows (51 rows including headers)"
   ]
  },
  {
   "cell_type": "code",
   "execution_count": 135,
   "id": "7f29de94",
   "metadata": {},
   "outputs": [],
   "source": [
    "import pandas as pd\n",
    "import numpy as np\n",
    "import matplotlib.pyplot as plt\n",
    "import seaborn as sns"
   ]
  },
  {
   "cell_type": "code",
   "execution_count": 136,
   "id": "18db68e5",
   "metadata": {},
   "outputs": [],
   "source": [
    "### Input data"
   ]
  },
  {
   "cell_type": "code",
   "execution_count": 137,
   "id": "40ad98e9",
   "metadata": {},
   "outputs": [],
   "source": [
    "data = pd.read_excel(\"./data/PD 2021 Wk 21 Input.xlsx\", sheet_name=[\"Month 1\", \"Month 2\", \"Month 3\", \"Month 4\", \"Month 5\",\n",
    "                                                                    \"Month 6\", \"Month 7\", \"Month 8\", \"Month 9\", \"Month 10\"])"
   ]
  },
  {
   "cell_type": "code",
   "execution_count": 138,
   "id": "0d82496f",
   "metadata": {},
   "outputs": [],
   "source": [
    "### Bring all the sheets together"
   ]
  },
  {
   "cell_type": "code",
   "execution_count": 139,
   "id": "27c37906",
   "metadata": {},
   "outputs": [],
   "source": [
    "files = []\n",
    "for i in range(1, 11):\n",
    "    file_name = \"Month \" + str(i)\n",
    "    file = data[file_name].copy()\n",
    "    files.append(file)"
   ]
  },
  {
   "cell_type": "code",
   "execution_count": 140,
   "id": "9c9352bb",
   "metadata": {
    "scrolled": true
   },
   "outputs": [],
   "source": [
    "### Use the Day of Month and Table Names (sheet name in other tools) to form a date field for the purchase called 'Date'"
   ]
  },
  {
   "cell_type": "code",
   "execution_count": 141,
   "id": "de4d522d",
   "metadata": {},
   "outputs": [],
   "source": [
    "for i in range(1, 11):\n",
    "    files[i-1].loc[:, \"Year\"] = 2021\n",
    "    files[i-1].loc[:, \"Month\"] = i\n",
    "    files[i-1].loc[:, \"Day of Month\"] = files[i-1].loc[:, \"Day of Month\"].astype(int)"
   ]
  },
  {
   "cell_type": "code",
   "execution_count": 142,
   "id": "c7feae1e",
   "metadata": {},
   "outputs": [],
   "source": [
    "for i in range(0, 10):\n",
    "    date = files[i].apply(lambda df_: str(df_[\"Year\"]) + \"/\" + str(df_[\"Month\"]) + \"/\" + str(df_[\"Day of Month\"]), axis=1)\n",
    "    files[i].loc[:, \"Date\"] = pd.to_datetime(date, format=\"%Y/%m/%d\")"
   ]
  },
  {
   "cell_type": "code",
   "execution_count": 143,
   "id": "e5dcf283",
   "metadata": {},
   "outputs": [
    {
     "data": {
      "text/plain": [
       "(10000, 10)"
      ]
     },
     "execution_count": 143,
     "metadata": {},
     "output_type": "execute_result"
    }
   ],
   "source": [
    "df = pd.concat(files, axis=0)\n",
    "df.shape"
   ]
  },
  {
   "cell_type": "code",
   "execution_count": 144,
   "id": "782bd4a6",
   "metadata": {},
   "outputs": [],
   "source": [
    "### Create 'New Trolley Inventory?' field to show whether the purchase was made on or after 1st June 2021 (the first date with the revised inventory after the project closed)"
   ]
  },
  {
   "cell_type": "code",
   "execution_count": 145,
   "id": "030cc09d",
   "metadata": {},
   "outputs": [],
   "source": [
    "df.loc[:, \"New Trolley Inventory?\"] = False\n",
    "df.loc[df[\"Date\"] >= \"2021-06-01\", \"New Trolley Inventory?\"] = True"
   ]
  },
  {
   "cell_type": "markdown",
   "id": "1fc38ea3",
   "metadata": {},
   "source": [
    "### Remove lots of the detail of the product name:\n",
    "- Only return any names before the '-' (hyphen)\n",
    "- If a product doesn't have a hyphen return the full product name"
   ]
  },
  {
   "cell_type": "code",
   "execution_count": 146,
   "id": "2adbfad8",
   "metadata": {},
   "outputs": [
    {
     "data": {
      "text/html": [
       "<div>\n",
       "<style scoped>\n",
       "    .dataframe tbody tr th:only-of-type {\n",
       "        vertical-align: middle;\n",
       "    }\n",
       "\n",
       "    .dataframe tbody tr th {\n",
       "        vertical-align: top;\n",
       "    }\n",
       "\n",
       "    .dataframe thead th {\n",
       "        text-align: right;\n",
       "    }\n",
       "</style>\n",
       "<table border=\"1\" class=\"dataframe\">\n",
       "  <thead>\n",
       "    <tr style=\"text-align: right;\">\n",
       "      <th></th>\n",
       "      <th>Day of Month</th>\n",
       "      <th>first_name</th>\n",
       "      <th>last_name</th>\n",
       "      <th>email</th>\n",
       "      <th>Product</th>\n",
       "      <th>Price</th>\n",
       "      <th>Destination</th>\n",
       "      <th>Year</th>\n",
       "      <th>Month</th>\n",
       "      <th>Date</th>\n",
       "      <th>New Trolley Inventory?</th>\n",
       "    </tr>\n",
       "  </thead>\n",
       "  <tbody>\n",
       "    <tr>\n",
       "      <th>0</th>\n",
       "      <td>9</td>\n",
       "      <td>Daffie</td>\n",
       "      <td>Clemont</td>\n",
       "      <td>dclemont0@unc.edu</td>\n",
       "      <td>Emulsifier</td>\n",
       "      <td>$10.14</td>\n",
       "      <td>New York</td>\n",
       "      <td>2021</td>\n",
       "      <td>1</td>\n",
       "      <td>2021-01-09</td>\n",
       "      <td>False</td>\n",
       "    </tr>\n",
       "    <tr>\n",
       "      <th>1</th>\n",
       "      <td>19</td>\n",
       "      <td>Lucio</td>\n",
       "      <td>Muzzall</td>\n",
       "      <td>lmuzzall1@dell.com</td>\n",
       "      <td>Chambord Royal</td>\n",
       "      <td>$33.89</td>\n",
       "      <td>London</td>\n",
       "      <td>2021</td>\n",
       "      <td>1</td>\n",
       "      <td>2021-01-19</td>\n",
       "      <td>False</td>\n",
       "    </tr>\n",
       "    <tr>\n",
       "      <th>2</th>\n",
       "      <td>25</td>\n",
       "      <td>Corbie</td>\n",
       "      <td>Shrigley</td>\n",
       "      <td>cshrigley2@sourceforge.net</td>\n",
       "      <td>Apples - Sliced / Wedge</td>\n",
       "      <td>$1.64</td>\n",
       "      <td>Perth</td>\n",
       "      <td>2021</td>\n",
       "      <td>1</td>\n",
       "      <td>2021-01-25</td>\n",
       "      <td>False</td>\n",
       "    </tr>\n",
       "    <tr>\n",
       "      <th>3</th>\n",
       "      <td>9</td>\n",
       "      <td>Sioux</td>\n",
       "      <td>Couth</td>\n",
       "      <td>scouth3@bluehost.com</td>\n",
       "      <td>Vinegar - White Wine</td>\n",
       "      <td>$19.84</td>\n",
       "      <td>Paris</td>\n",
       "      <td>2021</td>\n",
       "      <td>1</td>\n",
       "      <td>2021-01-09</td>\n",
       "      <td>False</td>\n",
       "    </tr>\n",
       "    <tr>\n",
       "      <th>4</th>\n",
       "      <td>21</td>\n",
       "      <td>Almira</td>\n",
       "      <td>Rickards</td>\n",
       "      <td>arickards4@godaddy.com</td>\n",
       "      <td>Food Colouring - Pink</td>\n",
       "      <td>$20.15</td>\n",
       "      <td>Edinburgh</td>\n",
       "      <td>2021</td>\n",
       "      <td>1</td>\n",
       "      <td>2021-01-21</td>\n",
       "      <td>False</td>\n",
       "    </tr>\n",
       "  </tbody>\n",
       "</table>\n",
       "</div>"
      ],
      "text/plain": [
       "   Day of Month first_name last_name                       email  \\\n",
       "0             9     Daffie   Clemont           dclemont0@unc.edu   \n",
       "1            19      Lucio   Muzzall          lmuzzall1@dell.com   \n",
       "2            25     Corbie  Shrigley  cshrigley2@sourceforge.net   \n",
       "3             9      Sioux     Couth        scouth3@bluehost.com   \n",
       "4            21     Almira  Rickards      arickards4@godaddy.com   \n",
       "\n",
       "                   Product   Price Destination  Year  Month       Date  \\\n",
       "0               Emulsifier  $10.14  New York    2021      1 2021-01-09   \n",
       "1           Chambord Royal  $33.89      London  2021      1 2021-01-19   \n",
       "2  Apples - Sliced / Wedge   $1.64       Perth  2021      1 2021-01-25   \n",
       "3     Vinegar - White Wine  $19.84       Paris  2021      1 2021-01-09   \n",
       "4    Food Colouring - Pink  $20.15   Edinburgh  2021      1 2021-01-21   \n",
       "\n",
       "   New Trolley Inventory?  \n",
       "0                   False  \n",
       "1                   False  \n",
       "2                   False  \n",
       "3                   False  \n",
       "4                   False  "
      ]
     },
     "execution_count": 146,
     "metadata": {},
     "output_type": "execute_result"
    }
   ],
   "source": [
    "df.head()"
   ]
  },
  {
   "cell_type": "code",
   "execution_count": 168,
   "id": "d0dec1f9",
   "metadata": {},
   "outputs": [],
   "source": [
    "import re\n",
    "def product_name_preprocessing(df_):\n",
    "    index_true = df_[\"Product\"].map(lambda x: bool(re.findall(r\"[-]+\", x)))\n",
    "    df_.loc[index_true, \"Product\"] = df_.loc[index_true, \"Product\"].map(lambda x: x.split(\"-\")[0])\n",
    "    return df_"
   ]
  },
  {
   "cell_type": "code",
   "execution_count": 170,
   "id": "c783c3bb",
   "metadata": {},
   "outputs": [
    {
     "data": {
      "text/plain": [
       "Wine                        692\n",
       "Cheese                      296\n",
       "Bread                       265\n",
       "Soup                        194\n",
       "Beef                        179\n",
       "                           ... \n",
       "Soup Bowl Clear 8oz92008      1\n",
       "Ham Black Forest              1\n",
       "Iced Tea Concentrate          1\n",
       "Maple Syrup                   1\n",
       "Creme De Cacao Mcguines       1\n",
       "Name: Product, Length: 1028, dtype: int64"
      ]
     },
     "execution_count": 170,
     "metadata": {},
     "output_type": "execute_result"
    }
   ],
   "source": [
    "df_test = product_name_preprocessing(df)\n",
    "df_test[\"Product\"].value_counts()"
   ]
  },
  {
   "cell_type": "code",
   "execution_count": null,
   "id": "f9a2edf3",
   "metadata": {},
   "outputs": [],
   "source": []
  }
 ],
 "metadata": {
  "kernelspec": {
   "display_name": "Python 3 (ipykernel)",
   "language": "python",
   "name": "python3"
  },
  "language_info": {
   "codemirror_mode": {
    "name": "ipython",
    "version": 3
   },
   "file_extension": ".py",
   "mimetype": "text/x-python",
   "name": "python",
   "nbconvert_exporter": "python",
   "pygments_lexer": "ipython3",
   "version": "3.7.2"
  }
 },
 "nbformat": 4,
 "nbformat_minor": 5
}
