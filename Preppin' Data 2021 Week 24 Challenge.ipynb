{
 "cells": [
  {
   "cell_type": "markdown",
   "id": "59906095",
   "metadata": {},
   "source": [
    "## June 16, 2021\n",
    "\n",
    "Chin & Beard Suds Co is just like any other company, people have unscheduled time off. Whilst this is expected in organisations, it can be difficult to manage. At C&BS Co, we have had a rough start to our financial year with lots of people being off for illness or sickness. How bad has it been and do we have people off every single day?\n",
    "\n",
    "This analysis can be tough in BI tools to look at the day-to-day reality when days off are recorded with just a start date and the number of days taken off. This week's challenge is producing a simple data set that will give us this view. \n",
    "\n",
    "We are analysing the period 1st April to 31st May 2021.\n",
    "\n",
    "### Input\n",
    "One Excel workbook, two sheets:\n",
    "\n",
    "1. Absence Table\n",
    "\n",
    "![img](https://1.bp.blogspot.com/-FkXnQjO2k3s/YK-4ZBBpaWI/AAAAAAAACMQ/kgqvxAft_9IRE5mjJgLRlkVa-MSltYYYwCLcBGAsYHQ/s320/Screenshot%2B2021-05-27%2Bat%2B16.18.44.png)\n",
    "\n",
    "2. Scaffold\n",
    "\n",
    "![img](https://1.bp.blogspot.com/-cKnP_N19TVY/YK-4p6oCTCI/AAAAAAAACMY/QOLP0Bf44OImwaearNzbMAbBsmSyysbAgCLcBGAsYHQ/s320/Screenshot%2B2021-05-27%2Bat%2B16.19.55.png)\n",
    "\n",
    "### Requirement\n",
    "- Input data\n",
    "- Build a data set that has each date listed out between 1st April to 31st May 2021\n",
    "- Build a data set containing each date someone will be off work\n",
    "- Merge these two data sets together \n",
    "- Workout the number of people off each day\n",
    "- Output the data\n",
    "\n",
    "### Output\n",
    "Can you answer:\n",
    "1. What date had the most people off?\n",
    "2. How many days does no-one have time off on?\n",
    "\n",
    "![img](https://1.bp.blogspot.com/-EyRwPwV4hj4/YK-67lR2lKI/AAAAAAAACMg/-O3jOctb2aIwHeB6JAQ1FouUTo9-Q-WrACLcBGAsYHQ/w400-h194/Screenshot%2B2021-05-27%2Bat%2B16.29.28.png)\n",
    "\n",
    "One table:\n",
    "\n",
    "\n",
    "Two data fields:\n",
    "- Date\n",
    "- Number of people off each day\n",
    "\n",
    "61 rows (62 including headers)"
   ]
  },
  {
   "cell_type": "code",
   "execution_count": 69,
   "id": "7a7b484c",
   "metadata": {},
   "outputs": [],
   "source": [
    "import pandas as pd\n",
    "import numpy as np\n",
    "import matplotlib.pyplot as plt\n",
    "import seaborn as sns"
   ]
  },
  {
   "cell_type": "markdown",
   "id": "53f19a4e",
   "metadata": {},
   "source": [
    "### Input data"
   ]
  },
  {
   "cell_type": "code",
   "execution_count": 70,
   "id": "aae39f74",
   "metadata": {},
   "outputs": [],
   "source": [
    "data = pd.read_excel(\"./data/Absenteeism Scaffold.xlsx\", sheet_name=[\"Reasons\", \"Scaffold\"])\n",
    "reasons = data[\"Reasons\"].copy()\n",
    "scaffold = data[\"Scaffold\"].copy()"
   ]
  },
  {
   "cell_type": "code",
   "execution_count": 71,
   "id": "a0771786",
   "metadata": {},
   "outputs": [
    {
     "data": {
      "text/html": [
       "<div>\n",
       "<style scoped>\n",
       "    .dataframe tbody tr th:only-of-type {\n",
       "        vertical-align: middle;\n",
       "    }\n",
       "\n",
       "    .dataframe tbody tr th {\n",
       "        vertical-align: top;\n",
       "    }\n",
       "\n",
       "    .dataframe thead th {\n",
       "        text-align: right;\n",
       "    }\n",
       "</style>\n",
       "<table border=\"1\" class=\"dataframe\">\n",
       "  <thead>\n",
       "    <tr style=\"text-align: right;\">\n",
       "      <th></th>\n",
       "      <th>Name</th>\n",
       "      <th>Start Date</th>\n",
       "      <th>Days Off</th>\n",
       "      <th>Reason</th>\n",
       "    </tr>\n",
       "  </thead>\n",
       "  <tbody>\n",
       "    <tr>\n",
       "      <th>0</th>\n",
       "      <td>Andy</td>\n",
       "      <td>2021-04-01</td>\n",
       "      <td>4.0</td>\n",
       "      <td>Illness</td>\n",
       "    </tr>\n",
       "    <tr>\n",
       "      <th>1</th>\n",
       "      <td>Carl</td>\n",
       "      <td>2021-04-04</td>\n",
       "      <td>5.0</td>\n",
       "      <td>Illness</td>\n",
       "    </tr>\n",
       "    <tr>\n",
       "      <th>2</th>\n",
       "      <td>Luke</td>\n",
       "      <td>2021-04-05</td>\n",
       "      <td>7.0</td>\n",
       "      <td>Accident</td>\n",
       "    </tr>\n",
       "    <tr>\n",
       "      <th>3</th>\n",
       "      <td>Tom</td>\n",
       "      <td>2021-04-07</td>\n",
       "      <td>2.0</td>\n",
       "      <td>Illness</td>\n",
       "    </tr>\n",
       "    <tr>\n",
       "      <th>4</th>\n",
       "      <td>Craig</td>\n",
       "      <td>2021-04-08</td>\n",
       "      <td>3.0</td>\n",
       "      <td>Accident</td>\n",
       "    </tr>\n",
       "    <tr>\n",
       "      <th>5</th>\n",
       "      <td>Lorna</td>\n",
       "      <td>2021-04-10</td>\n",
       "      <td>5.0</td>\n",
       "      <td>Accident</td>\n",
       "    </tr>\n",
       "    <tr>\n",
       "      <th>6</th>\n",
       "      <td>Pat</td>\n",
       "      <td>2021-05-11</td>\n",
       "      <td>10.0</td>\n",
       "      <td>Illness</td>\n",
       "    </tr>\n",
       "    <tr>\n",
       "      <th>7</th>\n",
       "      <td>Jenny</td>\n",
       "      <td>2021-05-14</td>\n",
       "      <td>3.0</td>\n",
       "      <td>Illness</td>\n",
       "    </tr>\n",
       "    <tr>\n",
       "      <th>8</th>\n",
       "      <td>Tom</td>\n",
       "      <td>2021-05-18</td>\n",
       "      <td>5.0</td>\n",
       "      <td>Accident</td>\n",
       "    </tr>\n",
       "  </tbody>\n",
       "</table>\n",
       "</div>"
      ],
      "text/plain": [
       "    Name Start Date  Days Off    Reason\n",
       "0   Andy 2021-04-01       4.0   Illness\n",
       "1   Carl 2021-04-04       5.0   Illness\n",
       "2   Luke 2021-04-05       7.0  Accident\n",
       "3    Tom 2021-04-07       2.0   Illness\n",
       "4  Craig 2021-04-08       3.0  Accident\n",
       "5  Lorna 2021-04-10       5.0  Accident\n",
       "6    Pat 2021-05-11      10.0   Illness\n",
       "7  Jenny 2021-05-14       3.0   Illness\n",
       "8    Tom 2021-05-18       5.0  Accident"
      ]
     },
     "execution_count": 71,
     "metadata": {},
     "output_type": "execute_result"
    }
   ],
   "source": [
    "reasons"
   ]
  },
  {
   "cell_type": "code",
   "execution_count": 72,
   "id": "867aecdd",
   "metadata": {},
   "outputs": [
    {
     "data": {
      "text/html": [
       "<div>\n",
       "<style scoped>\n",
       "    .dataframe tbody tr th:only-of-type {\n",
       "        vertical-align: middle;\n",
       "    }\n",
       "\n",
       "    .dataframe tbody tr th {\n",
       "        vertical-align: top;\n",
       "    }\n",
       "\n",
       "    .dataframe thead th {\n",
       "        text-align: right;\n",
       "    }\n",
       "</style>\n",
       "<table border=\"1\" class=\"dataframe\">\n",
       "  <thead>\n",
       "    <tr style=\"text-align: right;\">\n",
       "      <th></th>\n",
       "      <th>Scaffold</th>\n",
       "    </tr>\n",
       "  </thead>\n",
       "  <tbody>\n",
       "    <tr>\n",
       "      <th>0</th>\n",
       "      <td>0.0</td>\n",
       "    </tr>\n",
       "    <tr>\n",
       "      <th>1</th>\n",
       "      <td>1.0</td>\n",
       "    </tr>\n",
       "    <tr>\n",
       "      <th>2</th>\n",
       "      <td>2.0</td>\n",
       "    </tr>\n",
       "    <tr>\n",
       "      <th>3</th>\n",
       "      <td>3.0</td>\n",
       "    </tr>\n",
       "    <tr>\n",
       "      <th>4</th>\n",
       "      <td>4.0</td>\n",
       "    </tr>\n",
       "  </tbody>\n",
       "</table>\n",
       "</div>"
      ],
      "text/plain": [
       "   Scaffold\n",
       "0       0.0\n",
       "1       1.0\n",
       "2       2.0\n",
       "3       3.0\n",
       "4       4.0"
      ]
     },
     "execution_count": 72,
     "metadata": {},
     "output_type": "execute_result"
    }
   ],
   "source": [
    "scaffold.head()"
   ]
  },
  {
   "cell_type": "markdown",
   "id": "ae9731e8",
   "metadata": {},
   "source": [
    "### Build a data set that has each date listed out between 1st April to 31st May 2021"
   ]
  },
  {
   "cell_type": "code",
   "execution_count": 73,
   "id": "2dcd8655",
   "metadata": {},
   "outputs": [
    {
     "data": {
      "text/html": [
       "<div>\n",
       "<style scoped>\n",
       "    .dataframe tbody tr th:only-of-type {\n",
       "        vertical-align: middle;\n",
       "    }\n",
       "\n",
       "    .dataframe tbody tr th {\n",
       "        vertical-align: top;\n",
       "    }\n",
       "\n",
       "    .dataframe thead th {\n",
       "        text-align: right;\n",
       "    }\n",
       "</style>\n",
       "<table border=\"1\" class=\"dataframe\">\n",
       "  <thead>\n",
       "    <tr style=\"text-align: right;\">\n",
       "      <th></th>\n",
       "      <th>Date</th>\n",
       "    </tr>\n",
       "  </thead>\n",
       "  <tbody>\n",
       "    <tr>\n",
       "      <th>0</th>\n",
       "      <td>2021-04-01</td>\n",
       "    </tr>\n",
       "    <tr>\n",
       "      <th>1</th>\n",
       "      <td>2021-04-02</td>\n",
       "    </tr>\n",
       "    <tr>\n",
       "      <th>2</th>\n",
       "      <td>2021-04-03</td>\n",
       "    </tr>\n",
       "    <tr>\n",
       "      <th>3</th>\n",
       "      <td>2021-04-04</td>\n",
       "    </tr>\n",
       "    <tr>\n",
       "      <th>4</th>\n",
       "      <td>2021-04-05</td>\n",
       "    </tr>\n",
       "  </tbody>\n",
       "</table>\n",
       "</div>"
      ],
      "text/plain": [
       "        Date\n",
       "0 2021-04-01\n",
       "1 2021-04-02\n",
       "2 2021-04-03\n",
       "3 2021-04-04\n",
       "4 2021-04-05"
      ]
     },
     "execution_count": 73,
     "metadata": {},
     "output_type": "execute_result"
    }
   ],
   "source": [
    "date = pd.DataFrame(pd.date_range(start=\"2021-04-01\", freq=\"D\", end=\"2021-05-31\"))\n",
    "date = date.rename(columns={0: \"Date\"})\n",
    "date.head()"
   ]
  },
  {
   "cell_type": "markdown",
   "id": "093b9195",
   "metadata": {},
   "source": [
    "### Build a data set containing each date someone will be off work"
   ]
  },
  {
   "cell_type": "code",
   "execution_count": 74,
   "id": "d853d96b",
   "metadata": {},
   "outputs": [
    {
     "data": {
      "text/html": [
       "<div>\n",
       "<style scoped>\n",
       "    .dataframe tbody tr th:only-of-type {\n",
       "        vertical-align: middle;\n",
       "    }\n",
       "\n",
       "    .dataframe tbody tr th {\n",
       "        vertical-align: top;\n",
       "    }\n",
       "\n",
       "    .dataframe thead th {\n",
       "        text-align: right;\n",
       "    }\n",
       "</style>\n",
       "<table border=\"1\" class=\"dataframe\">\n",
       "  <thead>\n",
       "    <tr style=\"text-align: right;\">\n",
       "      <th></th>\n",
       "      <th>Name</th>\n",
       "      <th>Start Date</th>\n",
       "      <th>Days Off</th>\n",
       "      <th>Reason</th>\n",
       "    </tr>\n",
       "  </thead>\n",
       "  <tbody>\n",
       "    <tr>\n",
       "      <th>0</th>\n",
       "      <td>Andy</td>\n",
       "      <td>2021-04-01</td>\n",
       "      <td>4.0</td>\n",
       "      <td>Illness</td>\n",
       "    </tr>\n",
       "    <tr>\n",
       "      <th>1</th>\n",
       "      <td>Carl</td>\n",
       "      <td>2021-04-04</td>\n",
       "      <td>5.0</td>\n",
       "      <td>Illness</td>\n",
       "    </tr>\n",
       "    <tr>\n",
       "      <th>2</th>\n",
       "      <td>Luke</td>\n",
       "      <td>2021-04-05</td>\n",
       "      <td>7.0</td>\n",
       "      <td>Accident</td>\n",
       "    </tr>\n",
       "    <tr>\n",
       "      <th>3</th>\n",
       "      <td>Tom</td>\n",
       "      <td>2021-04-07</td>\n",
       "      <td>2.0</td>\n",
       "      <td>Illness</td>\n",
       "    </tr>\n",
       "    <tr>\n",
       "      <th>4</th>\n",
       "      <td>Craig</td>\n",
       "      <td>2021-04-08</td>\n",
       "      <td>3.0</td>\n",
       "      <td>Accident</td>\n",
       "    </tr>\n",
       "    <tr>\n",
       "      <th>5</th>\n",
       "      <td>Lorna</td>\n",
       "      <td>2021-04-10</td>\n",
       "      <td>5.0</td>\n",
       "      <td>Accident</td>\n",
       "    </tr>\n",
       "    <tr>\n",
       "      <th>6</th>\n",
       "      <td>Pat</td>\n",
       "      <td>2021-05-11</td>\n",
       "      <td>10.0</td>\n",
       "      <td>Illness</td>\n",
       "    </tr>\n",
       "    <tr>\n",
       "      <th>7</th>\n",
       "      <td>Jenny</td>\n",
       "      <td>2021-05-14</td>\n",
       "      <td>3.0</td>\n",
       "      <td>Illness</td>\n",
       "    </tr>\n",
       "    <tr>\n",
       "      <th>8</th>\n",
       "      <td>Tom</td>\n",
       "      <td>2021-05-18</td>\n",
       "      <td>5.0</td>\n",
       "      <td>Accident</td>\n",
       "    </tr>\n",
       "  </tbody>\n",
       "</table>\n",
       "</div>"
      ],
      "text/plain": [
       "    Name Start Date  Days Off    Reason\n",
       "0   Andy 2021-04-01       4.0   Illness\n",
       "1   Carl 2021-04-04       5.0   Illness\n",
       "2   Luke 2021-04-05       7.0  Accident\n",
       "3    Tom 2021-04-07       2.0   Illness\n",
       "4  Craig 2021-04-08       3.0  Accident\n",
       "5  Lorna 2021-04-10       5.0  Accident\n",
       "6    Pat 2021-05-11      10.0   Illness\n",
       "7  Jenny 2021-05-14       3.0   Illness\n",
       "8    Tom 2021-05-18       5.0  Accident"
      ]
     },
     "execution_count": 74,
     "metadata": {},
     "output_type": "execute_result"
    }
   ],
   "source": [
    "reasons"
   ]
  },
  {
   "cell_type": "code",
   "execution_count": 75,
   "id": "87725ae3",
   "metadata": {},
   "outputs": [
    {
     "data": {
      "text/html": [
       "<div>\n",
       "<style scoped>\n",
       "    .dataframe tbody tr th:only-of-type {\n",
       "        vertical-align: middle;\n",
       "    }\n",
       "\n",
       "    .dataframe tbody tr th {\n",
       "        vertical-align: top;\n",
       "    }\n",
       "\n",
       "    .dataframe thead th {\n",
       "        text-align: right;\n",
       "    }\n",
       "</style>\n",
       "<table border=\"1\" class=\"dataframe\">\n",
       "  <thead>\n",
       "    <tr style=\"text-align: right;\">\n",
       "      <th></th>\n",
       "      <th>Days Off</th>\n",
       "    </tr>\n",
       "  </thead>\n",
       "  <tbody>\n",
       "    <tr>\n",
       "      <th>2021-04-01</th>\n",
       "      <td>1</td>\n",
       "    </tr>\n",
       "    <tr>\n",
       "      <th>2021-04-02</th>\n",
       "      <td>1</td>\n",
       "    </tr>\n",
       "    <tr>\n",
       "      <th>2021-04-03</th>\n",
       "      <td>1</td>\n",
       "    </tr>\n",
       "    <tr>\n",
       "      <th>2021-04-04</th>\n",
       "      <td>1</td>\n",
       "    </tr>\n",
       "  </tbody>\n",
       "</table>\n",
       "</div>"
      ],
      "text/plain": [
       "            Days Off\n",
       "2021-04-01         1\n",
       "2021-04-02         1\n",
       "2021-04-03         1\n",
       "2021-04-04         1"
      ]
     },
     "execution_count": 75,
     "metadata": {},
     "output_type": "execute_result"
    }
   ],
   "source": [
    "tmp = pd.DataFrame(pd.date_range(start=reasons[\"Start Date\"][0], periods=reasons[\"Days Off\"][0]).to_frame())\n",
    "tmp = tmp.rename(columns={0: \"Days Off\"})\n",
    "tmp.loc[:,\"Days Off\"] = 1\n",
    "tmp"
   ]
  },
  {
   "cell_type": "code",
   "execution_count": 76,
   "id": "426971bd",
   "metadata": {},
   "outputs": [],
   "source": [
    "results = []\n",
    "for i in range(9):\n",
    "    tmp = pd.DataFrame(pd.date_range(start=reasons[\"Start Date\"][i],\n",
    "                                     periods=reasons[\"Days Off\"][i]).to_frame())\n",
    "    tmp = tmp.rename(columns={0: \"Days Off\"})\n",
    "    tmp.loc[:, \"Days Off\"] = 1\n",
    "    results.append(tmp)"
   ]
  },
  {
   "cell_type": "code",
   "execution_count": 77,
   "id": "ee55817e",
   "metadata": {},
   "outputs": [],
   "source": [
    "days_off = pd.concat(results, axis=1).fillna(0).astype(int)\n",
    "days_off = days_off.sum(axis=1)\n",
    "days_off.name = \"Days Off\""
   ]
  },
  {
   "cell_type": "code",
   "execution_count": 78,
   "id": "e2643a59",
   "metadata": {},
   "outputs": [
    {
     "data": {
      "text/plain": [
       "2021-04-01    1\n",
       "2021-04-02    1\n",
       "2021-04-03    1\n",
       "2021-04-04    2\n",
       "2021-04-05    2\n",
       "2021-04-06    2\n",
       "2021-04-07    3\n",
       "2021-04-08    4\n",
       "2021-04-09    2\n",
       "2021-04-10    3\n",
       "2021-04-11    2\n",
       "2021-04-12    1\n",
       "2021-04-13    1\n",
       "2021-04-14    1\n",
       "2021-05-11    1\n",
       "2021-05-12    1\n",
       "2021-05-13    1\n",
       "2021-05-14    2\n",
       "2021-05-15    2\n",
       "2021-05-16    2\n",
       "2021-05-17    1\n",
       "2021-05-18    2\n",
       "2021-05-19    2\n",
       "2021-05-20    2\n",
       "2021-05-21    1\n",
       "2021-05-22    1\n",
       "Name: Days Off, dtype: int64"
      ]
     },
     "execution_count": 78,
     "metadata": {},
     "output_type": "execute_result"
    }
   ],
   "source": [
    "days_off"
   ]
  },
  {
   "cell_type": "markdown",
   "id": "a3e4e50b",
   "metadata": {},
   "source": [
    "### Merge these two data sets together \n",
    "- Workout the number of people off each day"
   ]
  },
  {
   "cell_type": "code",
   "execution_count": 79,
   "id": "46d20eb3",
   "metadata": {},
   "outputs": [
    {
     "data": {
      "text/html": [
       "<div>\n",
       "<style scoped>\n",
       "    .dataframe tbody tr th:only-of-type {\n",
       "        vertical-align: middle;\n",
       "    }\n",
       "\n",
       "    .dataframe tbody tr th {\n",
       "        vertical-align: top;\n",
       "    }\n",
       "\n",
       "    .dataframe thead th {\n",
       "        text-align: right;\n",
       "    }\n",
       "</style>\n",
       "<table border=\"1\" class=\"dataframe\">\n",
       "  <thead>\n",
       "    <tr style=\"text-align: right;\">\n",
       "      <th></th>\n",
       "      <th>Number of people off each day</th>\n",
       "    </tr>\n",
       "    <tr>\n",
       "      <th>Date</th>\n",
       "      <th></th>\n",
       "    </tr>\n",
       "  </thead>\n",
       "  <tbody>\n",
       "    <tr>\n",
       "      <th>2021-04-01</th>\n",
       "      <td>1</td>\n",
       "    </tr>\n",
       "    <tr>\n",
       "      <th>2021-04-02</th>\n",
       "      <td>1</td>\n",
       "    </tr>\n",
       "    <tr>\n",
       "      <th>2021-04-03</th>\n",
       "      <td>1</td>\n",
       "    </tr>\n",
       "    <tr>\n",
       "      <th>2021-04-04</th>\n",
       "      <td>2</td>\n",
       "    </tr>\n",
       "    <tr>\n",
       "      <th>2021-04-05</th>\n",
       "      <td>2</td>\n",
       "    </tr>\n",
       "    <tr>\n",
       "      <th>...</th>\n",
       "      <td>...</td>\n",
       "    </tr>\n",
       "    <tr>\n",
       "      <th>2021-05-27</th>\n",
       "      <td>0</td>\n",
       "    </tr>\n",
       "    <tr>\n",
       "      <th>2021-05-28</th>\n",
       "      <td>0</td>\n",
       "    </tr>\n",
       "    <tr>\n",
       "      <th>2021-05-29</th>\n",
       "      <td>0</td>\n",
       "    </tr>\n",
       "    <tr>\n",
       "      <th>2021-05-30</th>\n",
       "      <td>0</td>\n",
       "    </tr>\n",
       "    <tr>\n",
       "      <th>2021-05-31</th>\n",
       "      <td>0</td>\n",
       "    </tr>\n",
       "  </tbody>\n",
       "</table>\n",
       "<p>61 rows × 1 columns</p>\n",
       "</div>"
      ],
      "text/plain": [
       "            Number of people off each day\n",
       "Date                                     \n",
       "2021-04-01                              1\n",
       "2021-04-02                              1\n",
       "2021-04-03                              1\n",
       "2021-04-04                              2\n",
       "2021-04-05                              2\n",
       "...                                   ...\n",
       "2021-05-27                              0\n",
       "2021-05-28                              0\n",
       "2021-05-29                              0\n",
       "2021-05-30                              0\n",
       "2021-05-31                              0\n",
       "\n",
       "[61 rows x 1 columns]"
      ]
     },
     "execution_count": 79,
     "metadata": {},
     "output_type": "execute_result"
    }
   ],
   "source": [
    "date = date.set_index(\"Date\").join(days_off).fillna(0).astype(int)\n",
    "date = date.rename(columns={\"Days Off\" : \"Number of people off each day\"})\n",
    "date"
   ]
  },
  {
   "cell_type": "markdown",
   "id": "9b78c73e",
   "metadata": {},
   "source": [
    "### Question1 : What date had the most people off?"
   ]
  },
  {
   "cell_type": "code",
   "execution_count": 82,
   "id": "f14299d3",
   "metadata": {},
   "outputs": [
    {
     "data": {
      "text/html": [
       "<div>\n",
       "<style scoped>\n",
       "    .dataframe tbody tr th:only-of-type {\n",
       "        vertical-align: middle;\n",
       "    }\n",
       "\n",
       "    .dataframe tbody tr th {\n",
       "        vertical-align: top;\n",
       "    }\n",
       "\n",
       "    .dataframe thead th {\n",
       "        text-align: right;\n",
       "    }\n",
       "</style>\n",
       "<table border=\"1\" class=\"dataframe\">\n",
       "  <thead>\n",
       "    <tr style=\"text-align: right;\">\n",
       "      <th></th>\n",
       "      <th>Number of people off each day</th>\n",
       "    </tr>\n",
       "    <tr>\n",
       "      <th>Date</th>\n",
       "      <th></th>\n",
       "    </tr>\n",
       "  </thead>\n",
       "  <tbody>\n",
       "    <tr>\n",
       "      <th>2021-04-08</th>\n",
       "      <td>4</td>\n",
       "    </tr>\n",
       "  </tbody>\n",
       "</table>\n",
       "</div>"
      ],
      "text/plain": [
       "            Number of people off each day\n",
       "Date                                     \n",
       "2021-04-08                              4"
      ]
     },
     "execution_count": 82,
     "metadata": {},
     "output_type": "execute_result"
    }
   ],
   "source": [
    "date.sort_values(by=\"Number of people off each day\", ascending=False).head(1)"
   ]
  },
  {
   "cell_type": "markdown",
   "id": "01510ff9",
   "metadata": {},
   "source": [
    "### Question2 : How many days does no-one have time off on?"
   ]
  },
  {
   "cell_type": "code",
   "execution_count": 91,
   "id": "7c208133",
   "metadata": {},
   "outputs": [
    {
     "name": "stdout",
     "output_type": "stream",
     "text": [
      "35 Days\n"
     ]
    }
   ],
   "source": [
    "print(\"{} Days\".format(date.loc[date[\"Number of people off each day\"] == 0, :].shape[0]))"
   ]
  },
  {
   "cell_type": "code",
   "execution_count": 93,
   "id": "a388b074",
   "metadata": {},
   "outputs": [],
   "source": [
    "date.to_csv(\"./output/Week24_output.csv\")"
   ]
  }
 ],
 "metadata": {
  "kernelspec": {
   "display_name": "Python 3 (ipykernel)",
   "language": "python",
   "name": "python3"
  },
  "language_info": {
   "codemirror_mode": {
    "name": "ipython",
    "version": 3
   },
   "file_extension": ".py",
   "mimetype": "text/x-python",
   "name": "python",
   "nbconvert_exporter": "python",
   "pygments_lexer": "ipython3",
   "version": "3.7.2"
  }
 },
 "nbformat": 4,
 "nbformat_minor": 5
}
