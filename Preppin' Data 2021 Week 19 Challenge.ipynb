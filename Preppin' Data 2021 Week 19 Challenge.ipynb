{
 "cells": [
  {
   "cell_type": "markdown",
   "id": "92f8ce39",
   "metadata": {},
   "source": [
    "## 2021: Week 19 Prep Air Project Details\n",
    "\n",
    "Continuing on our fundamental skills theme in May, this week's challenge is all about string calculations. If you want to know more about what String data is and how you might want to work with it, you might want to check out our how to... deal with strings post. Pay particular attention to split, right, mid and find if you're getting stuck with this challenge! I've written another guide to the common functions that you might find use when working with Strings in Tableau. \n",
    "\n",
    "### The Challenge\n",
    "This week we are trying to find out more detail on what is going on with the project over runs in Prep Air (every data prepper's favourite airline). To get more detail than just what was shared last week we've uncovered the commentary log that sits behind our project management system. Like any system that holds the detail shown on the programme's interface in a log file, it has great detail but held in an unfriendly way. \n",
    "\n",
    "We need your help to get stuck into the messy data and extract out the useful details.\n",
    "\n",
    "### Input\n",
    "One Excel file with 5 sheets of data.\n",
    "\n",
    "![img](https://1.bp.blogspot.com/-_RJxcg2g448/YJUmTjDio2I/AAAAAAAACKg/yS9RP61aW5kT_ns68lqarxS17Bc15u03QCLcBGAsYHQ/w640-h126/Screenshot%2B2021-05-07%2Bat%2B12.36.27.png)\n",
    "\n",
    "There is one main page of data with four lookup tables that will help you change some abbreviations and codes to be full words.\n",
    "\n",
    "### Requirement\n",
    "- Input the data\n",
    "\n",
    "There are lots of different ways you can do this challenge so rather than a step-by-step set of requirements, feel free to create each of these data fields in whatever order you like:\n",
    "\n",
    "- 'Week' with the word week and week number together 'Week x' \n",
    "- 'Project' with the full project name\n",
    "- 'Sub-Project' with the full sub-project name\n",
    "- 'Task' with the full type of task\n",
    "- 'Name' with the owner of the task's full name (Week 18's output can help you check these if needed) \n",
    "- 'Days Noted' some fields have comments that say how many days tasks might take. This field should note the number of days mentioned if said in the comment otherwise leave as a null. \n",
    "- 'Detail' the description from the system output with the project details in the [ ] \n",
    "- Output the file\n",
    "\n",
    "### Output\n",
    "\n",
    "![img](https://1.bp.blogspot.com/-0kJkW2UFz6c/YJVDcvzWB_I/AAAAAAAACKo/7bPo-kni-agXtQhj5a7noeGeri2oDCo_wCLcBGAsYHQ/w640-h136/Screenshot%2B2021-05-07%2Bat%2B14.40.44.png)\n",
    "\n",
    "One file\n",
    "- 7 data fields:\n",
    "    - Week\n",
    "    - Project\n",
    "    - Sub-Project\n",
    "    - Task\n",
    "    - Name\n",
    "    - Days Needed\n",
    "    - Detail\n",
    "\n",
    "18 rows of data (19 including headers)\n"
   ]
  },
  {
   "cell_type": "code",
   "execution_count": 1,
   "id": "ec884dfc",
   "metadata": {},
   "outputs": [],
   "source": [
    "import pandas as pd\n",
    "import numpy as np\n",
    "import matplotlib.pyplot as plt\n",
    "import seaborn as sns"
   ]
  },
  {
   "cell_type": "code",
   "execution_count": 2,
   "id": "b258e2e5",
   "metadata": {},
   "outputs": [],
   "source": [
    "### Input the data\n",
    "data = pd.read_excel(\"./data/PD 2021 Week 19 Input.xlsx\", \n",
    "                     sheet_name=[\"Project Schedule Updates\", \"Project Lookup Table\", \"Sub-Project Lookup Table\",\n",
    "                                 \"Task Lookup Table\", \"Owner Lookup Table\"])"
   ]
  },
  {
   "cell_type": "code",
   "execution_count": 4,
   "id": "e9f488aa",
   "metadata": {},
   "outputs": [
    {
     "data": {
      "text/html": [
       "<div>\n",
       "<style scoped>\n",
       "    .dataframe tbody tr th:only-of-type {\n",
       "        vertical-align: middle;\n",
       "    }\n",
       "\n",
       "    .dataframe tbody tr th {\n",
       "        vertical-align: top;\n",
       "    }\n",
       "\n",
       "    .dataframe thead th {\n",
       "        text-align: right;\n",
       "    }\n",
       "</style>\n",
       "<table border=\"1\" class=\"dataframe\">\n",
       "  <thead>\n",
       "    <tr style=\"text-align: right;\">\n",
       "      <th></th>\n",
       "      <th>Week</th>\n",
       "      <th>Commentary</th>\n",
       "    </tr>\n",
       "  </thead>\n",
       "  <tbody>\n",
       "    <tr>\n",
       "      <th>0</th>\n",
       "      <td>16.0</td>\n",
       "      <td>[NLS/Op-Sc] Delivered scope for the project. R...</td>\n",
       "    </tr>\n",
       "    <tr>\n",
       "      <th>1</th>\n",
       "      <td>17.0</td>\n",
       "      <td>[NLS/Op-Bu] Build kickoff but long project. je...</td>\n",
       "    </tr>\n",
       "    <tr>\n",
       "      <th>2</th>\n",
       "      <td>18.0</td>\n",
       "      <td>[NLS/Op-De] Long delivery process has begun at...</td>\n",
       "    </tr>\n",
       "    <tr>\n",
       "      <th>3</th>\n",
       "      <td>19.0</td>\n",
       "      <td>[NTI/Mar-Bu] Project build commences. Will be ...</td>\n",
       "    </tr>\n",
       "    <tr>\n",
       "      <th>4</th>\n",
       "      <td>20.0</td>\n",
       "      <td>[NTI/Mar-De] Delivery next week around 8 days....</td>\n",
       "    </tr>\n",
       "  </tbody>\n",
       "</table>\n",
       "</div>"
      ],
      "text/plain": [
       "   Week                                         Commentary\n",
       "0  16.0  [NLS/Op-Sc] Delivered scope for the project. R...\n",
       "1  17.0  [NLS/Op-Bu] Build kickoff but long project. je...\n",
       "2  18.0  [NLS/Op-De] Long delivery process has begun at...\n",
       "3  19.0  [NTI/Mar-Bu] Project build commences. Will be ...\n",
       "4  20.0  [NTI/Mar-De] Delivery next week around 8 days...."
      ]
     },
     "execution_count": 4,
     "metadata": {},
     "output_type": "execute_result"
    }
   ],
   "source": [
    "project_schedule = data[\"Project Schedule Updates\"].copy()\n",
    "project_schedule"
   ]
  },
  {
   "cell_type": "code",
   "execution_count": 11,
   "id": "616431b8",
   "metadata": {},
   "outputs": [],
   "source": [
    "project_schedule[\"Week\"] = project_schedule[\"Week\"].astype(int).astype(str)"
   ]
  },
  {
   "cell_type": "code",
   "execution_count": 18,
   "id": "3ac0e0e3",
   "metadata": {},
   "outputs": [
    {
     "data": {
      "text/html": [
       "<div>\n",
       "<style scoped>\n",
       "    .dataframe tbody tr th:only-of-type {\n",
       "        vertical-align: middle;\n",
       "    }\n",
       "\n",
       "    .dataframe tbody tr th {\n",
       "        vertical-align: top;\n",
       "    }\n",
       "\n",
       "    .dataframe thead th {\n",
       "        text-align: right;\n",
       "    }\n",
       "</style>\n",
       "<table border=\"1\" class=\"dataframe\">\n",
       "  <thead>\n",
       "    <tr style=\"text-align: right;\">\n",
       "      <th></th>\n",
       "      <th>Week</th>\n",
       "      <th>Commentary</th>\n",
       "    </tr>\n",
       "  </thead>\n",
       "  <tbody>\n",
       "    <tr>\n",
       "      <th>0</th>\n",
       "      <td>Week 16</td>\n",
       "      <td>[NLS/Op-Sc] Delivered scope for the project. R...</td>\n",
       "    </tr>\n",
       "    <tr>\n",
       "      <th>1</th>\n",
       "      <td>Week 17</td>\n",
       "      <td>[NLS/Op-Bu] Build kickoff but long project. je...</td>\n",
       "    </tr>\n",
       "    <tr>\n",
       "      <th>2</th>\n",
       "      <td>Week 18</td>\n",
       "      <td>[NLS/Op-De] Long delivery process has begun at...</td>\n",
       "    </tr>\n",
       "    <tr>\n",
       "      <th>3</th>\n",
       "      <td>Week 19</td>\n",
       "      <td>[NTI/Mar-Bu] Project build commences. Will be ...</td>\n",
       "    </tr>\n",
       "    <tr>\n",
       "      <th>4</th>\n",
       "      <td>Week 20</td>\n",
       "      <td>[NTI/Mar-De] Delivery next week around 8 days....</td>\n",
       "    </tr>\n",
       "  </tbody>\n",
       "</table>\n",
       "</div>"
      ],
      "text/plain": [
       "      Week                                         Commentary\n",
       "0  Week 16  [NLS/Op-Sc] Delivered scope for the project. R...\n",
       "1  Week 17  [NLS/Op-Bu] Build kickoff but long project. je...\n",
       "2  Week 18  [NLS/Op-De] Long delivery process has begun at...\n",
       "3  Week 19  [NTI/Mar-Bu] Project build commences. Will be ...\n",
       "4  Week 20  [NTI/Mar-De] Delivery next week around 8 days...."
      ]
     },
     "execution_count": 18,
     "metadata": {},
     "output_type": "execute_result"
    }
   ],
   "source": [
    "project_schedule[\"Week\"] = \"Week \" + project_schedule[\"Week\"]\n",
    "project_schedule"
   ]
  },
  {
   "cell_type": "code",
   "execution_count": null,
   "id": "42d6acc6",
   "metadata": {},
   "outputs": [],
   "source": []
  }
 ],
 "metadata": {
  "kernelspec": {
   "display_name": "Python 3 (ipykernel)",
   "language": "python",
   "name": "python3"
  },
  "language_info": {
   "codemirror_mode": {
    "name": "ipython",
    "version": 3
   },
   "file_extension": ".py",
   "mimetype": "text/x-python",
   "name": "python",
   "nbconvert_exporter": "python",
   "pygments_lexer": "ipython3",
   "version": "3.7.2"
  }
 },
 "nbformat": 4,
 "nbformat_minor": 5
}
