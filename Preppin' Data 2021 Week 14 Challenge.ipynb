{
 "cells": [
  {
   "cell_type": "markdown",
   "id": "c1fd9098",
   "metadata": {},
   "source": [
    "## 2021: Week 14 - Prep Air In-Flight Purchases\n",
    "\n",
    "We are revisiting our Prep Air Airline this week by looking at some flight details and trying to provide some data driven answers. As part of running an airline we are always interested in how successful the in-flight service is and if we can make any improvements to try to boost sales. \n",
    "\n",
    "For this week's challenge we have been provided with a selection of different data sources and we want to combine them to answer some questions that will help us to understand some purchasing patterns on the flights. \n",
    "\n",
    "### Input\n",
    "\n",
    "- Passenger List\n",
    "\n",
    "    A list of all the passengers from a selection of flights. This includes their name, a passenger number, the flight number and the total they purchased whilst on the flight. Note, not all flights are full and can hold a maximum of 120 passengers.\n",
    "\n",
    "\n",
    "- Seat List\n",
    "\n",
    "    A mapping of where each passenger sits within each flight. This is the same for all flights across our fleet and includes the row number and seat letter within each row.\n",
    "\n",
    "\n",
    "- Flight Details\n",
    "\n",
    "    These are details about the flight number, departure and arrival times.\n",
    "\n",
    "\n",
    "- Plane Details\n",
    "\n",
    "    This documents where the business class section is on each of the planes. We provide free in-flight purchases for Business Class passengers.\n",
    "\n",
    "### Requirement\n",
    "- Input the Data\n",
    "- Assign a label for where each seat is located. \n",
    "- They are assigned as follows:\n",
    "    - A & F - Window Seats\n",
    "    - B & E - Middle Seats\n",
    "    - C & D - Aisle Seats \n",
    "- Combine the Seat List and Passenger List tables. \n",
    "\n",
    "- Parse the Flight Details so that they are in separate fields \n",
    "\n",
    "- Calculate the time of day for each flight.\n",
    "- They are assigned as follows: \n",
    "    - Morning - Before 12:00 \n",
    "    - Afternoon - Between 12:00 - 18:00\n",
    "    - Evening - After 18:00\n",
    "\n",
    "- Join the Flight Details & Plane Details to the Passenger & Seat tables. We should be able to identify what rows are Business or Economy Class for each flight. \n",
    "\n",
    "- Answer the following questions: \n",
    "    1. What time of day were the most purchases made? We want to take a look at the average for the flights within each time period. \n",
    "    2. What seat position had the highest purchase amount? Is the aisle seat the highest earner because it's closest to the trolley?\n",
    "    3. As Business Class purchases are free, how much is this costing us? \n",
    "\n",
    "- Bonus: If you have Tableau Prep 2021.1 or later, you can now output to Excel files. Can you combine all of the outputs into a single Excel workbook, with a different sheet for each output?\n",
    "\n",
    "### Output\n",
    "\n",
    "1. What time of day were the most purchases made? (Avg per flight)\n",
    "2. What seat position had the highest purchase amount?\n",
    "3. Business class purchases are free. How much is this costing us?"
   ]
  },
  {
   "cell_type": "code",
   "execution_count": null,
   "id": "4d8c408a",
   "metadata": {},
   "outputs": [],
   "source": []
  }
 ],
 "metadata": {
  "kernelspec": {
   "display_name": "Python 3 (ipykernel)",
   "language": "python",
   "name": "python3"
  },
  "language_info": {
   "codemirror_mode": {
    "name": "ipython",
    "version": 3
   },
   "file_extension": ".py",
   "mimetype": "text/x-python",
   "name": "python",
   "nbconvert_exporter": "python",
   "pygments_lexer": "ipython3",
   "version": "3.7.2"
  }
 },
 "nbformat": 4,
 "nbformat_minor": 5
}
