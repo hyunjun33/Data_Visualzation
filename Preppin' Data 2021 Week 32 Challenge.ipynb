{
 "cells": [
  {
   "cell_type": "markdown",
   "id": "ade9ac51",
   "metadata": {},
   "source": [
    "## 2021: Week 32 Excelling through aggregation\n",
    "\n",
    "My partner is an amazing Excel user as are many of her colleagues. When in a pub, a frequent getting to know you question was \"What's your favourite Excel function?\". As a SQL / Tableau user, after my first meeting I knew I had to up my game. SUMIFS became my go to answer and that is one of the functions we will look to replicate in Prep this week. \n",
    "\n",
    "SUMIF, or SUMIFS if you have multiple conditions, allows you to scan a data set and summarise the values that match any condition you create. When working with large tables with multiple entries per category, this is a great way to create some totals to help you analyse the data set. Whilst SUMIF doesn't exist within Prep, the IF function and aggregation step can be used to create the same effect. \n",
    "\n",
    "Excel allows for lots of different types of aggregations so whilst SUMIF was my go-to answer: average, minimum, count etc are all possible too. \n",
    "\n",
    "The challenge this week is forming the logic in Prep to replicate SUMIFS and AVERAGEIFS.\n",
    "\n",
    "### Input\n",
    "Daily ticket sales for each flight for six months.\n",
    "![img](https://1.bp.blogspot.com/-WhxHHlosk1c/YRIqRHZT3gI/AAAAAAAACPI/AeYzSx7Fy_EbMjT0krNuS9oPjd8hS5JuwCLcBGAsYHQ/w640-h196/Screenshot%2B2021-08-10%2Bat%2B08.26.42.png)\n",
    "\n",
    "### Requirement\n",
    "- Input data\n",
    "- Form Flight name\n",
    "- Workout how many days between the sale and the flight departing\n",
    "- Classify daily sales of a flight as:\n",
    "    - Less than 7 days before departure\n",
    "    - 7 or more days before departure\n",
    "- Mimic the SUMIFS and AverageIFS functions by aggregating the previous requirements fields by each Flight and Class\n",
    "- Round all data to zero decimal places\n",
    "- Output the data\n",
    "\n",
    "### Output\n",
    "![img](https://1.bp.blogspot.com/-C6WFeDTp2IQ/YRJfOw3MMJI/AAAAAAAACPQ/07jL6a59TsY9HPSlmlVc_W-iB5wjZT2zQCLcBGAsYHQ/w640-h122/Screenshot%2B2021-08-10%2Bat%2B12.12.39.png)\n",
    "\n",
    "One file containing:\n",
    "6 data fields:\n",
    "- Flight\n",
    "- Class\n",
    "- Avg. daily sales 7 days of more until the flight\n",
    "- Avg. daily sales less than 7 days until the flight\n",
    "- Sales 7 days of more until the flight\n",
    "- Sales less than 7 days until the flight"
   ]
  },
  {
   "cell_type": "code",
   "execution_count": null,
   "id": "719ab383",
   "metadata": {},
   "outputs": [],
   "source": []
  }
 ],
 "metadata": {
  "kernelspec": {
   "display_name": "Python 3 (ipykernel)",
   "language": "python",
   "name": "python3"
  },
  "language_info": {
   "codemirror_mode": {
    "name": "ipython",
    "version": 3
   },
   "file_extension": ".py",
   "mimetype": "text/x-python",
   "name": "python",
   "nbconvert_exporter": "python",
   "pygments_lexer": "ipython3",
   "version": "3.7.2"
  }
 },
 "nbformat": 4,
 "nbformat_minor": 5
}
