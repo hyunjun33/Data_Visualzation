{
 "cells": [
  {
   "cell_type": "markdown",
   "id": "a78c5eb1",
   "metadata": {},
   "source": [
    "## 2021: Week 32 Excelling through aggregation\n",
    "\n",
    "My partner is an amazing Excel user as are many of her colleagues. When in a pub, a frequent getting to know you question was \"What's your favourite Excel function?\". As a SQL / Tableau user, after my first meeting I knew I had to up my game. SUMIFS became my go to answer and that is one of the functions we will look to replicate in Prep this week. \n",
    "\n",
    "SUMIF, or SUMIFS if you have multiple conditions, allows you to scan a data set and summarise the values that match any condition you create. When working with large tables with multiple entries per category, this is a great way to create some totals to help you analyse the data set. Whilst SUMIF doesn't exist within Prep, the IF function and aggregation step can be used to create the same effect. \n",
    "\n",
    "Excel allows for lots of different types of aggregations so whilst SUMIF was my go-to answer: average, minimum, count etc are all possible too. \n",
    "\n",
    "The challenge this week is forming the logic in Prep to replicate SUMIFS and AVERAGEIFS.\n",
    "\n",
    "### Input\n",
    "Daily ticket sales for each flight for six months.\n",
    "![img](https://1.bp.blogspot.com/-WhxHHlosk1c/YRIqRHZT3gI/AAAAAAAACPI/AeYzSx7Fy_EbMjT0krNuS9oPjd8hS5JuwCLcBGAsYHQ/w640-h196/Screenshot%2B2021-08-10%2Bat%2B08.26.42.png)\n",
    "\n",
    "### Requirement\n",
    "- Input data\n",
    "- Form Flight name\n",
    "- Workout how many days between the sale and the flight departing\n",
    "- Classify daily sales of a flight as:\n",
    "    - Less than 7 days before departure\n",
    "    - 7 or more days before departure\n",
    "- Mimic the SUMIFS and AverageIFS functions by aggregating the previous requirements fields by each Flight and Class\n",
    "- Round all data to zero decimal places\n",
    "- Output the data\n",
    "\n",
    "### Output\n",
    "![img](https://1.bp.blogspot.com/-C6WFeDTp2IQ/YRJfOw3MMJI/AAAAAAAACPQ/07jL6a59TsY9HPSlmlVc_W-iB5wjZT2zQCLcBGAsYHQ/w640-h122/Screenshot%2B2021-08-10%2Bat%2B12.12.39.png)\n",
    "\n",
    "One file containing:\n",
    "6 data fields:\n",
    "- Flight\n",
    "- Class\n",
    "- Avg. daily sales 7 days of more until the flight\n",
    "- Avg. daily sales less than 7 days until the flight\n",
    "- Sales 7 days of more until the flight\n",
    "- Sales less than 7 days until the flight"
   ]
  },
  {
   "cell_type": "code",
   "execution_count": 1,
   "id": "e9242aa0",
   "metadata": {},
   "outputs": [],
   "source": [
    "import pandas as pd\n",
    "import numpy as np\n",
    "import matplotlib.pyplot as plt\n",
    "import seaborn as sns"
   ]
  },
  {
   "cell_type": "code",
   "execution_count": null,
   "id": "9ea9bc7a",
   "metadata": {},
   "outputs": [],
   "source": [
    "# Input the data"
   ]
  },
  {
   "cell_type": "code",
   "execution_count": 4,
   "id": "ae29e27f",
   "metadata": {},
   "outputs": [
    {
     "data": {
      "text/html": [
       "<div>\n",
       "<style scoped>\n",
       "    .dataframe tbody tr th:only-of-type {\n",
       "        vertical-align: middle;\n",
       "    }\n",
       "\n",
       "    .dataframe tbody tr th {\n",
       "        vertical-align: top;\n",
       "    }\n",
       "\n",
       "    .dataframe thead th {\n",
       "        text-align: right;\n",
       "    }\n",
       "</style>\n",
       "<table border=\"1\" class=\"dataframe\">\n",
       "  <thead>\n",
       "    <tr style=\"text-align: right;\">\n",
       "      <th></th>\n",
       "      <th>Departure</th>\n",
       "      <th>Destination</th>\n",
       "      <th>Date</th>\n",
       "      <th>Class</th>\n",
       "      <th>Date of Flight</th>\n",
       "      <th>Ticket Sales</th>\n",
       "    </tr>\n",
       "  </thead>\n",
       "  <tbody>\n",
       "    <tr>\n",
       "      <th>0</th>\n",
       "      <td>London</td>\n",
       "      <td>Perth</td>\n",
       "      <td>01/01/2021</td>\n",
       "      <td>Economy</td>\n",
       "      <td>31/01/2021</td>\n",
       "      <td>572</td>\n",
       "    </tr>\n",
       "    <tr>\n",
       "      <th>1</th>\n",
       "      <td>London</td>\n",
       "      <td>Perth</td>\n",
       "      <td>02/01/2021</td>\n",
       "      <td>Economy</td>\n",
       "      <td>31/01/2021</td>\n",
       "      <td>1111</td>\n",
       "    </tr>\n",
       "    <tr>\n",
       "      <th>2</th>\n",
       "      <td>London</td>\n",
       "      <td>Perth</td>\n",
       "      <td>03/01/2021</td>\n",
       "      <td>Economy</td>\n",
       "      <td>31/01/2021</td>\n",
       "      <td>845</td>\n",
       "    </tr>\n",
       "    <tr>\n",
       "      <th>3</th>\n",
       "      <td>London</td>\n",
       "      <td>Perth</td>\n",
       "      <td>04/01/2021</td>\n",
       "      <td>Economy</td>\n",
       "      <td>31/01/2021</td>\n",
       "      <td>862</td>\n",
       "    </tr>\n",
       "    <tr>\n",
       "      <th>4</th>\n",
       "      <td>London</td>\n",
       "      <td>Perth</td>\n",
       "      <td>05/01/2021</td>\n",
       "      <td>Economy</td>\n",
       "      <td>31/01/2021</td>\n",
       "      <td>1087</td>\n",
       "    </tr>\n",
       "  </tbody>\n",
       "</table>\n",
       "</div>"
      ],
      "text/plain": [
       "  Departure Destination        Date    Class Date of Flight  Ticket Sales\n",
       "0    London       Perth  01/01/2021  Economy     31/01/2021           572\n",
       "1    London       Perth  02/01/2021  Economy     31/01/2021          1111\n",
       "2    London       Perth  03/01/2021  Economy     31/01/2021           845\n",
       "3    London       Perth  04/01/2021  Economy     31/01/2021           862\n",
       "4    London       Perth  05/01/2021  Economy     31/01/2021          1087"
      ]
     },
     "execution_count": 4,
     "metadata": {},
     "output_type": "execute_result"
    }
   ],
   "source": [
    "df = pd.read_csv(\"./data/PD 2021 Wk 32 Input - Data.csv\")\n",
    "df.head()"
   ]
  },
  {
   "cell_type": "code",
   "execution_count": 5,
   "id": "e6cafd2e",
   "metadata": {},
   "outputs": [
    {
     "name": "stdout",
     "output_type": "stream",
     "text": [
      "<class 'pandas.core.frame.DataFrame'>\n",
      "RangeIndex: 1448 entries, 0 to 1447\n",
      "Data columns (total 6 columns):\n",
      " #   Column          Non-Null Count  Dtype \n",
      "---  ------          --------------  ----- \n",
      " 0   Departure       1448 non-null   object\n",
      " 1   Destination     1448 non-null   object\n",
      " 2   Date            1448 non-null   object\n",
      " 3   Class           1448 non-null   object\n",
      " 4   Date of Flight  1448 non-null   object\n",
      " 5   Ticket Sales    1448 non-null   int64 \n",
      "dtypes: int64(1), object(5)\n",
      "memory usage: 68.0+ KB\n"
     ]
    }
   ],
   "source": [
    "df.info()"
   ]
  },
  {
   "cell_type": "code",
   "execution_count": null,
   "id": "1bf27325",
   "metadata": {},
   "outputs": [],
   "source": [
    "# Form Flight name"
   ]
  },
  {
   "cell_type": "code",
   "execution_count": 9,
   "id": "2d8737cf",
   "metadata": {},
   "outputs": [
    {
     "data": {
      "text/plain": [
       "London to Perth    362\n",
       "Perth to London    362\n",
       "London to Paris    362\n",
       "Paris to London    362\n",
       "Name: Flight, dtype: int64"
      ]
     },
     "execution_count": 9,
     "metadata": {},
     "output_type": "execute_result"
    }
   ],
   "source": [
    "df[\"Flight\"] = df[\"Departure\"] + \" to \" + df[\"Destination\"]\n",
    "df[\"Flight\"].value_counts()"
   ]
  },
  {
   "cell_type": "code",
   "execution_count": null,
   "id": "61f02790",
   "metadata": {},
   "outputs": [],
   "source": [
    "# Workout how many days between the sale and the flight departing"
   ]
  },
  {
   "cell_type": "code",
   "execution_count": 14,
   "id": "be46a640",
   "metadata": {},
   "outputs": [],
   "source": [
    "df[\"Date\"] = pd.to_datetime(df[\"Date\"], format=\"%d/%m/%Y\")\n",
    "df[\"Date of Flight\"] = pd.to_datetime(df[\"Date of Flight\"], format=\"%d/%m/%Y\")"
   ]
  },
  {
   "cell_type": "code",
   "execution_count": 17,
   "id": "951bf06d",
   "metadata": {},
   "outputs": [
    {
     "data": {
      "text/plain": [
       "15 days    48\n",
       "14 days    48\n",
       "1 days     48\n",
       "2 days     48\n",
       "3 days     48\n",
       "4 days     48\n",
       "5 days     48\n",
       "6 days     48\n",
       "7 days     48\n",
       "8 days     48\n",
       "9 days     48\n",
       "10 days    48\n",
       "11 days    48\n",
       "12 days    48\n",
       "13 days    48\n",
       "0 days     48\n",
       "16 days    48\n",
       "17 days    48\n",
       "18 days    48\n",
       "19 days    48\n",
       "20 days    48\n",
       "21 days    48\n",
       "22 days    48\n",
       "23 days    48\n",
       "24 days    48\n",
       "25 days    48\n",
       "26 days    48\n",
       "27 days    48\n",
       "29 days    40\n",
       "28 days    40\n",
       "30 days    24\n",
       "Name: Sales days, dtype: int64"
      ]
     },
     "execution_count": 17,
     "metadata": {},
     "output_type": "execute_result"
    }
   ],
   "source": [
    "df[\"Sales days\"] = df[\"Date of Flight\"] - df[\"Date\"]\n",
    "df[\"Sales days\"].value_counts()"
   ]
  },
  {
   "cell_type": "code",
   "execution_count": null,
   "id": "be184af5",
   "metadata": {},
   "outputs": [],
   "source": []
  }
 ],
 "metadata": {
  "kernelspec": {
   "display_name": "Python 3 (ipykernel)",
   "language": "python",
   "name": "python3"
  },
  "language_info": {
   "codemirror_mode": {
    "name": "ipython",
    "version": 3
   },
   "file_extension": ".py",
   "mimetype": "text/x-python",
   "name": "python",
   "nbconvert_exporter": "python",
   "pygments_lexer": "ipython3",
   "version": "3.7.2"
  }
 },
 "nbformat": 4,
 "nbformat_minor": 5
}
